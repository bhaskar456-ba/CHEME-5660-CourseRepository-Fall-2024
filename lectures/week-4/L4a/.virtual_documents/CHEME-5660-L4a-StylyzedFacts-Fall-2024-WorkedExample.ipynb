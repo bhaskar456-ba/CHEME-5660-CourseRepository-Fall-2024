





include("Include.jl")





original_dataset = MyMarketDataSet() |> x-> x["dataset"];





maximum_number_trading_days = original_dataset["AAPL"] |> nrow;





dataset = Dict{String,DataFrame}();
for (ticker, data) ∈ original_dataset
    if (nrow(data) == maximum_number_trading_days)
        dataset[ticker] = data;
    end
end
dataset





list_of_all_tickers = keys(dataset) |> collect |> sort;





Δt = (1/252);





all_firms_growth_matrix = log_growth_matrix(dataset, list_of_all_tickers, Δt = Δt);





ticker_to_visualize = "MET";


let
    μ = findfirst(ticker -> ticker == ticker_to_visualize,list_of_all_tickers) |> i -> all_firms_growth_matrix[:,i];
    density(μ, c=:red, lw=2)

    # fit a Normal, and plot that -
    d = fit_mle(Normal, μ);
    plot!(d, c=:skyblue1, lw = 2, ls = :dash)
end





return_classification_dictionary = Dict{String, Symbol}();
p_value_cutoff = 0.00001;
for i ∈ eachindex(list_of_all_tickers)
    
    ticker = list_of_all_tickers[i];
    samples = all_firms_growth_matrix[:,i] |> x -> unique(x);
    
    d_normal = fit_mle(Normal, samples)
    d_laplace = fit_mle(Laplace, samples)

    AD_test_result = OneSampleADTest(samples,d_normal) |> pvalue
    if (AD_test_result > p_value_cutoff) # support H0
        return_classification_dictionary[ticker] = :normal
    else
        KS_test_result_laplace = ExactOneSampleKSTest(samples, d_laplace) |> pvalue
        AD_test_result_laplace = OneSampleADTest(samples,d_laplace) |> pvalue
        if (KS_test_result_laplace > p_value_cutoff && AD_test_result_laplace > p_value_cutoff)
            return_classification_dictionary[ticker] = :laplace
        else
            return_classification_dictionary[ticker] = :undefined
        end
    end
end
return_classification_dictionary;





fraction_normal = findall(x->x==:normal, return_classification_dictionary) |> length |> 
    x -> x/length(list_of_all_tickers) |> x-> round(x,digits=3) |> x-> *(x,100.0)
println("Approximately $(fraction_normal)% of the firms in the dataset have Normally distributed returns")


fraction_laplace = findall(x->x==:laplace, return_classification_dictionary) |> length |> 
    x -> x/length(list_of_all_tickers) |> x-> round(x,digits=3) |> x-> *(x,100.0)
println("Approximately $(fraction_laplace)% of the firms in the dataset have Laplace distributed returns")


fraction_undefined = findall(x->x==:undefined, return_classification_dictionary) |> length |> 
    x -> x/length(list_of_all_tickers) |> x-> round(x,digits=3) |> x-> *(x,100.0)
println("Approximately $(fraction_undefined)% of the firms in the dataset have undefined returned distributions")








let

    # generate a random index -
    i = findfirst(ticker -> ticker == ticker_to_visualize,list_of_all_tickers);
    number_of_steps = maximum_number_trading_days - 1;
    X = all_firms_growth_matrix[:,i];
    
    plot(autocor(X, (1:(number_of_steps - 1) |> collect)), label="Observed $(ticker_to_visualize)", lw=2, c=:red, 
        bg="gray95", background_color_outside="white", framestyle = :box, fg_legend = :transparent, linetype=:steppost)
    
    LINE = (2.576/sqrt(number_of_steps))*ones(number_of_steps-1);
    plot!(LINE, label="99% confidence", lw=2, c=:black, ls=:dash)
    plot!(-LINE, label="", lw=2, c=:black, ls=:dash)
    xlabel!("Lag (trading day)", fontsize=18)
    ylabel!("Autocorrelation Growth Rate", fontsize=18)

    # uncomment me to save to file -
    # savefig(joinpath(_PATH_TO_FIGS, "Fig-Autocorrelation-HMM-GenModel-$(ticker).pdf"));
end









