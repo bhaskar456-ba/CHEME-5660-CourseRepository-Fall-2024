{
 "cells": [
  {
   "cell_type": "markdown",
   "id": "7b0c6512-9157-4fcc-85f5-e8c2bdd7cc18",
   "metadata": {},
   "source": [
    "# Example: Develop a Lattice Model of Interest Rates\n",
    "In this example, we construct a lattice model of interest rates where the $(u,d,p)$ lattice parameters are estimated from a Treasury Bill dataset. First, we check the model values against a known example to verify our implementation. Then, once verified, we use the model to simulate future interest rate values and compare the model simulations against observed market values. \n",
    "\n",
    "### Learning objectives\n",
    "This example will familiarize students with working with lattice interest rate models and estimating the $(u,p,d)$ lattice parameters from data. It will also give the students insight into the data's potential buy or sell signals.\n",
    "* __Prerequisite__: Before we begin, we'll load the Treasury data we will use and set up some other stuff required for the subsequent calculations.\n",
    "* __Task 1__: Build a Lattice Model and look at its properties. In this task, we'll build a lattice model, look at its properties, and compare our calculations with [an online example lattice](https://martin-haugh.github.io/files/FoundationsFE/lattice_models.pdf) to check our implementation.\n",
    "* __Task 2__: Simulate the Lattice Model using the Treasury Data. In this task, we'll estimate values for the $(u,d,p)$ lattice model parameters by analyzing the values in the Treasury dataset and then simulate potential future interest rates. Finally, we'll compare the simulated and observed values and discuss the similarities and differences."
   ]
  },
  {
   "cell_type": "markdown",
   "id": "00fc78cd-2d50-43fc-b41a-9eb3383b197d",
   "metadata": {},
   "source": [
    "## Setup\n",
    "Set up the computational environment by including the `Include.jl` file. The `Include.jl` file loads external packages, various functions we will use in the exercise, and custom types to model the components of our example problem.\n",
    "* For additional information on functions and types used in this material, see the [Julia programming language documentation](https://docs.julialang.org/en/v1/) and the [VLQuantitativeFinancePackage.jl documentation](https://github.com/varnerlab/VLQuantitativeFinancePackage.jl). "
   ]
  },
  {
   "cell_type": "code",
   "execution_count": 3,
   "id": "3d528ecc-f1d4-4019-bc2f-0ef0e2f14fe4",
   "metadata": {},
   "outputs": [
    {
     "name": "stderr",
     "output_type": "stream",
     "text": [
      "\u001b[32m\u001b[1m    Updating\u001b[22m\u001b[39m git-repo `https://github.com/varnerlab/VLQuantitativeFinancePackage.jl.git`\n",
      "\u001b[32m\u001b[1m    Updating\u001b[22m\u001b[39m registry at `~/.julia/registries/General.toml`\n",
      "\u001b[32m\u001b[1m   Resolving\u001b[22m\u001b[39m package versions...\n",
      "\u001b[32m\u001b[1m   Installed\u001b[22m\u001b[39m LLVMOpenMP_jll ─ v18.1.7+0\n",
      "\u001b[32m\u001b[1m   Installed\u001b[22m\u001b[39m LLVMExtra_jll ── v0.0.34+0\n",
      "\u001b[32m\u001b[1m   Installed\u001b[22m\u001b[39m LLVM ─────────── v9.1.2\n",
      "\u001b[32m\u001b[1m   Installed\u001b[22m\u001b[39m ChainRules ───── v1.70.0\n",
      "\u001b[32m\u001b[1m    Updating\u001b[22m\u001b[39m `~/Desktop/julia_work/CHEME-5660-CourseRepository-Fall-2024/lectures/week-3/L3a/Project.toml`\n",
      "  \u001b[90m[336ed68f] \u001b[39m\u001b[92m+ CSV v0.10.14\u001b[39m\n",
      "  \u001b[90m[5ae59095] \u001b[39m\u001b[92m+ Colors v0.12.11\u001b[39m\n",
      "  \u001b[90m[a93c6f00] \u001b[39m\u001b[92m+ DataFrames v1.6.1\u001b[39m\n",
      "  \u001b[90m[864edb3b] \u001b[39m\u001b[92m+ DataStructures v0.18.20\u001b[39m\n",
      "  \u001b[90m[31c24e10] \u001b[39m\u001b[92m+ Distributions v0.25.111\u001b[39m\n",
      "  \u001b[90m[5789e2e9] \u001b[39m\u001b[92m+ FileIO v1.16.3\u001b[39m\n",
      "  \u001b[90m[587475ba] \u001b[39m\u001b[92m+ Flux v0.14.19\u001b[39m\n",
      "\u001b[32m⌃\u001b[39m \u001b[90m[033835bb] \u001b[39m\u001b[92m+ JLD2 v0.4.53\u001b[39m\n",
      "  \u001b[90m[2fda8390] \u001b[39m\u001b[92m+ LsqFit v0.15.0\u001b[39m\n",
      "  \u001b[90m[b8f27783] \u001b[39m\u001b[92m+ MathOptInterface v1.31.2\u001b[39m\n",
      "  \u001b[90m[0b1bfda6] \u001b[39m\u001b[92m+ OneHotArrays v0.2.5\u001b[39m\n",
      "  \u001b[90m[91a5bcdd] \u001b[39m\u001b[92m+ Plots v1.40.8\u001b[39m\n",
      "  \u001b[90m[08abe8d2] \u001b[39m\u001b[92m+ PrettyTables v2.3.2\u001b[39m\n",
      "  \u001b[90m[2913bbd2] \u001b[39m\u001b[92m+ StatsBase v0.34.3\u001b[39m\n",
      "  \u001b[90m[f3b207a7] \u001b[39m\u001b[92m+ StatsPlots v0.15.7\u001b[39m\n",
      "  \u001b[90m[4119e0bf] \u001b[39m\u001b[92m+ VLQuantitativeFinancePackage v1.0.0-DEV `https://github.com/varnerlab/VLQuantitativeFinancePackage.jl.git#main`\u001b[39m\n",
      "  \u001b[90m[10745b16] \u001b[39m\u001b[93m~ Statistics ⇒ v1.10.0\u001b[39m\n",
      "\u001b[32m\u001b[1m    Updating\u001b[22m\u001b[39m `~/Desktop/julia_work/CHEME-5660-CourseRepository-Fall-2024/lectures/week-3/L3a/Manifest.toml`\n",
      "  \u001b[90m[621f4979] \u001b[39m\u001b[92m+ AbstractFFTs v1.5.0\u001b[39m\n",
      "  \u001b[90m[7d9f7c33] \u001b[39m\u001b[92m+ Accessors v0.1.37\u001b[39m\n",
      "  \u001b[90m[79e6a3ab] \u001b[39m\u001b[92m+ Adapt v4.0.4\u001b[39m\n",
      "  \u001b[90m[66dad0bd] \u001b[39m\u001b[92m+ AliasTables v1.1.3\u001b[39m\n",
      "  \u001b[90m[dce04be8] \u001b[39m\u001b[92m+ ArgCheck v2.3.0\u001b[39m\n",
      "  \u001b[90m[7d9fca2a] \u001b[39m\u001b[92m+ Arpack v0.5.4\u001b[39m\n",
      "  \u001b[90m[4fba245c] \u001b[39m\u001b[92m+ ArrayInterface v7.16.0\u001b[39m\n",
      "  \u001b[90m[a9b6321e] \u001b[39m\u001b[92m+ Atomix v0.1.0\u001b[39m\n",
      "  \u001b[90m[13072b0f] \u001b[39m\u001b[92m+ AxisAlgorithms v1.1.0\u001b[39m\n",
      "  \u001b[90m[198e06fe] \u001b[39m\u001b[92m+ BangBang v0.4.3\u001b[39m\n",
      "  \u001b[90m[9718e550] \u001b[39m\u001b[92m+ Baselet v0.1.1\u001b[39m\n",
      "  \u001b[90m[6e4b80f9] \u001b[39m\u001b[92m+ BenchmarkTools v1.5.0\u001b[39m\n",
      "  \u001b[90m[d1d4a3ce] \u001b[39m\u001b[92m+ BitFlags v0.1.9\u001b[39m\n",
      "  \u001b[90m[fa961155] \u001b[39m\u001b[92m+ CEnum v0.5.0\u001b[39m\n",
      "  \u001b[90m[336ed68f] \u001b[39m\u001b[92m+ CSV v0.10.14\u001b[39m\n",
      "  \u001b[90m[082447d4] \u001b[39m\u001b[92m+ ChainRules v1.70.0\u001b[39m\n",
      "  \u001b[90m[d360d2e6] \u001b[39m\u001b[92m+ ChainRulesCore v1.24.0\u001b[39m\n",
      "  \u001b[90m[aaaa29a8] \u001b[39m\u001b[92m+ Clustering v0.15.7\u001b[39m\n",
      "  \u001b[90m[523fee87] \u001b[39m\u001b[92m+ CodecBzip2 v0.8.4\u001b[39m\n",
      "  \u001b[90m[944b1d66] \u001b[39m\u001b[92m+ CodecZlib v0.7.6\u001b[39m\n",
      "  \u001b[90m[35d6a980] \u001b[39m\u001b[92m+ ColorSchemes v3.26.0\u001b[39m\n",
      "  \u001b[90m[3da002f7] \u001b[39m\u001b[92m+ ColorTypes v0.11.5\u001b[39m\n",
      "  \u001b[90m[c3611d14] \u001b[39m\u001b[92m+ ColorVectorSpace v0.10.0\u001b[39m\n",
      "  \u001b[90m[5ae59095] \u001b[39m\u001b[92m+ Colors v0.12.11\u001b[39m\n",
      "  \u001b[90m[bbf7d656] \u001b[39m\u001b[92m+ CommonSubexpressions v0.3.1\u001b[39m\n",
      "  \u001b[90m[34da2185] \u001b[39m\u001b[92m+ Compat v4.16.0\u001b[39m\n",
      "  \u001b[90m[a33af91c] \u001b[39m\u001b[92m+ CompositionsBase v0.1.2\u001b[39m\n",
      "  \u001b[90m[f0e56b4a] \u001b[39m\u001b[92m+ ConcurrentUtilities v2.4.2\u001b[39m\n",
      "  \u001b[90m[187b0558] \u001b[39m\u001b[92m+ ConstructionBase v1.5.8\u001b[39m\n",
      "  \u001b[90m[6add18c4] \u001b[39m\u001b[92m+ ContextVariablesX v0.1.3\u001b[39m\n",
      "  \u001b[90m[d38c429a] \u001b[39m\u001b[92m+ Contour v0.6.3\u001b[39m\n",
      "  \u001b[90m[a8cc5b0e] \u001b[39m\u001b[92m+ Crayons v4.1.1\u001b[39m\n",
      "  \u001b[90m[9a962f9c] \u001b[39m\u001b[92m+ DataAPI v1.16.0\u001b[39m\n",
      "  \u001b[90m[a93c6f00] \u001b[39m\u001b[92m+ DataFrames v1.6.1\u001b[39m\n",
      "  \u001b[90m[864edb3b] \u001b[39m\u001b[92m+ DataStructures v0.18.20\u001b[39m\n",
      "  \u001b[90m[e2d170a0] \u001b[39m\u001b[92m+ DataValueInterfaces v1.0.0\u001b[39m\n",
      "  \u001b[90m[244e2a9f] \u001b[39m\u001b[92m+ DefineSingletons v0.1.2\u001b[39m\n",
      "  \u001b[90m[8bb1440f] \u001b[39m\u001b[92m+ DelimitedFiles v1.9.1\u001b[39m\n",
      "  \u001b[90m[163ba53b] \u001b[39m\u001b[92m+ DiffResults v1.1.0\u001b[39m\n",
      "  \u001b[90m[b552c78f] \u001b[39m\u001b[92m+ DiffRules v1.15.1\u001b[39m\n",
      "  \u001b[90m[b4f34e82] \u001b[39m\u001b[92m+ Distances v0.10.11\u001b[39m\n",
      "  \u001b[90m[31c24e10] \u001b[39m\u001b[92m+ Distributions v0.25.111\u001b[39m\n",
      "  \u001b[90m[ffbed154] \u001b[39m\u001b[92m+ DocStringExtensions v0.9.3\u001b[39m\n",
      "  \u001b[90m[460bff9d] \u001b[39m\u001b[92m+ ExceptionUnwrapping v0.1.10\u001b[39m\n",
      "  \u001b[90m[e2ba6199] \u001b[39m\u001b[92m+ ExprTools v0.1.10\u001b[39m\n",
      "  \u001b[90m[c87230d0] \u001b[39m\u001b[92m+ FFMPEG v0.4.1\u001b[39m\n",
      "  \u001b[90m[7a1cc6ca] \u001b[39m\u001b[92m+ FFTW v1.8.0\u001b[39m\n",
      "  \u001b[90m[cc61a311] \u001b[39m\u001b[92m+ FLoops v0.2.2\u001b[39m\n",
      "  \u001b[90m[b9860ae5] \u001b[39m\u001b[92m+ FLoopsBase v0.1.1\u001b[39m\n",
      "  \u001b[90m[9aa1b823] \u001b[39m\u001b[92m+ FastClosures v0.3.2\u001b[39m\n",
      "  \u001b[90m[5789e2e9] \u001b[39m\u001b[92m+ FileIO v1.16.3\u001b[39m\n",
      "  \u001b[90m[48062228] \u001b[39m\u001b[92m+ FilePathsBase v0.9.22\u001b[39m\n",
      "  \u001b[90m[1a297f60] \u001b[39m\u001b[92m+ FillArrays v1.13.0\u001b[39m\n",
      "  \u001b[90m[6a86dc24] \u001b[39m\u001b[92m+ FiniteDiff v2.24.0\u001b[39m\n",
      "  \u001b[90m[53c48c17] \u001b[39m\u001b[92m+ FixedPointNumbers v0.8.5\u001b[39m\n",
      "  \u001b[90m[587475ba] \u001b[39m\u001b[92m+ Flux v0.14.19\u001b[39m\n",
      "  \u001b[90m[1fa38f19] \u001b[39m\u001b[92m+ Format v1.3.7\u001b[39m\n",
      "  \u001b[90m[f6369f11] \u001b[39m\u001b[92m+ ForwardDiff v0.10.36\u001b[39m\n",
      "  \u001b[90m[d9f16b24] \u001b[39m\u001b[92m+ Functors v0.4.12\u001b[39m\n",
      "  \u001b[90m[0c68f7d7] \u001b[39m\u001b[92m+ GPUArrays v10.3.1\u001b[39m\n",
      "  \u001b[90m[46192b85] \u001b[39m\u001b[92m+ GPUArraysCore v0.1.6\u001b[39m\n",
      "  \u001b[90m[28b8d3ca] \u001b[39m\u001b[92m+ GR v0.73.7\u001b[39m\n",
      "  \u001b[90m[42e2da0e] \u001b[39m\u001b[92m+ Grisu v1.0.2\u001b[39m\n",
      "  \u001b[90m[cd3eb016] \u001b[39m\u001b[92m+ HTTP v1.10.8\u001b[39m\n",
      "  \u001b[90m[34004b35] \u001b[39m\u001b[92m+ HypergeometricFunctions v0.3.24\u001b[39m\n",
      "  \u001b[90m[7869d1d1] \u001b[39m\u001b[92m+ IRTools v0.4.14\u001b[39m\n",
      "  \u001b[90m[22cec73e] \u001b[39m\u001b[92m+ InitialValues v0.3.1\u001b[39m\n",
      "  \u001b[90m[842dd82b] \u001b[39m\u001b[92m+ InlineStrings v1.4.2\u001b[39m\n",
      "  \u001b[90m[a98d9a8b] \u001b[39m\u001b[92m+ Interpolations v0.15.1\u001b[39m\n",
      "  \u001b[90m[3587e190] \u001b[39m\u001b[92m+ InverseFunctions v0.1.16\u001b[39m\n",
      "  \u001b[90m[41ab1584] \u001b[39m\u001b[92m+ InvertedIndices v1.3.0\u001b[39m\n",
      "  \u001b[90m[92d709cd] \u001b[39m\u001b[92m+ IrrationalConstants v0.2.2\u001b[39m\n",
      "  \u001b[90m[82899510] \u001b[39m\u001b[92m+ IteratorInterfaceExtensions v1.0.0\u001b[39m\n",
      "\u001b[32m⌃\u001b[39m \u001b[90m[033835bb] \u001b[39m\u001b[92m+ JLD2 v0.4.53\u001b[39m\n",
      "  \u001b[90m[1019f520] \u001b[39m\u001b[92m+ JLFzf v0.1.8\u001b[39m\n",
      "  \u001b[90m[692b3bcd] \u001b[39m\u001b[92m+ JLLWrappers v1.6.0\u001b[39m\n",
      "  \u001b[90m[682c06a0] \u001b[39m\u001b[92m+ JSON v0.21.4\u001b[39m\n",
      "  \u001b[90m[4076af6c] \u001b[39m\u001b[92m+ JuMP v1.23.1\u001b[39m\n",
      "  \u001b[90m[b14d175d] \u001b[39m\u001b[92m+ JuliaVariables v0.2.4\u001b[39m\n",
      "  \u001b[90m[63c18a36] \u001b[39m\u001b[92m+ KernelAbstractions v0.9.25\u001b[39m\n",
      "  \u001b[90m[5ab0869b] \u001b[39m\u001b[92m+ KernelDensity v0.6.9\u001b[39m\n",
      "  \u001b[90m[929cbde3] \u001b[39m\u001b[92m+ LLVM v9.1.2\u001b[39m\n",
      "  \u001b[90m[b964fa9f] \u001b[39m\u001b[92m+ LaTeXStrings v1.3.1\u001b[39m\n",
      "  \u001b[90m[23fbe1c1] \u001b[39m\u001b[92m+ Latexify v0.16.5\u001b[39m\n",
      "  \u001b[90m[d3d80556] \u001b[39m\u001b[92m+ LineSearches v7.3.0\u001b[39m\n",
      "  \u001b[90m[5c8ed15e] \u001b[39m\u001b[92m+ LinearOperators v2.8.0\u001b[39m\n",
      "  \u001b[90m[2ab3a3ac] \u001b[39m\u001b[92m+ LogExpFunctions v0.3.28\u001b[39m\n",
      "  \u001b[90m[e6f89c97] \u001b[39m\u001b[92m+ LoggingExtras v1.0.3\u001b[39m\n",
      "  \u001b[90m[2fda8390] \u001b[39m\u001b[92m+ LsqFit v0.15.0\u001b[39m\n",
      "  \u001b[90m[d8e11817] \u001b[39m\u001b[92m+ MLStyle v0.4.17\u001b[39m\n",
      "  \u001b[90m[f1d291b0] \u001b[39m\u001b[92m+ MLUtils v0.4.4\u001b[39m\n",
      "  \u001b[90m[1914dd2f] \u001b[39m\u001b[92m+ MacroTools v0.5.13\u001b[39m\n",
      "\u001b[32m⌃\u001b[39m \u001b[90m[2621e9c9] \u001b[39m\u001b[92m+ MadNLP v0.7.0\u001b[39m\n",
      "  \u001b[90m[b8f27783] \u001b[39m\u001b[92m+ MathOptInterface v1.31.2\u001b[39m\n",
      "  \u001b[90m[739be429] \u001b[39m\u001b[92m+ MbedTLS v1.1.9\u001b[39m\n",
      "  \u001b[90m[442fdcdd] \u001b[39m\u001b[92m+ Measures v0.3.2\u001b[39m\n",
      "  \u001b[90m[128add7d] \u001b[39m\u001b[92m+ MicroCollections v0.2.0\u001b[39m\n",
      "  \u001b[90m[e1d29d7a] \u001b[39m\u001b[92m+ Missings v1.2.0\u001b[39m\n",
      "  \u001b[90m[6f286f6a] \u001b[39m\u001b[92m+ MultivariateStats v0.10.3\u001b[39m\n",
      "  \u001b[90m[d8a4904e] \u001b[39m\u001b[92m+ MutableArithmetics v1.4.6\u001b[39m\n",
      "\u001b[33m⌅\u001b[39m \u001b[90m[a4795742] \u001b[39m\u001b[92m+ NLPModels v0.20.0\u001b[39m\n",
      "  \u001b[90m[d41bc354] \u001b[39m\u001b[92m+ NLSolversBase v7.8.3\u001b[39m\n",
      "  \u001b[90m[872c559c] \u001b[39m\u001b[92m+ NNlib v0.9.23\u001b[39m\n",
      "  \u001b[90m[77ba4419] \u001b[39m\u001b[92m+ NaNMath v1.0.2\u001b[39m\n",
      "  \u001b[90m[71a1bf82] \u001b[39m\u001b[92m+ NameResolution v0.1.5\u001b[39m\n",
      "  \u001b[90m[b8a86587] \u001b[39m\u001b[92m+ NearestNeighbors v0.4.18\u001b[39m\n",
      "  \u001b[90m[510215fc] \u001b[39m\u001b[92m+ Observables v0.5.5\u001b[39m\n",
      "  \u001b[90m[6fe1bfb0] \u001b[39m\u001b[92m+ OffsetArrays v1.14.1\u001b[39m\n",
      "  \u001b[90m[0b1bfda6] \u001b[39m\u001b[92m+ OneHotArrays v0.2.5\u001b[39m\n",
      "  \u001b[90m[4d8831e6] \u001b[39m\u001b[92m+ OpenSSL v1.4.3\u001b[39m\n",
      "  \u001b[90m[429524aa] \u001b[39m\u001b[92m+ Optim v1.9.4\u001b[39m\n",
      "  \u001b[90m[3bd65402] \u001b[39m\u001b[92m+ Optimisers v0.3.3\u001b[39m\n",
      "  \u001b[90m[bac558e1] \u001b[39m\u001b[92m+ OrderedCollections v1.6.3\u001b[39m\n",
      "  \u001b[90m[90014a1f] \u001b[39m\u001b[92m+ PDMats v0.11.31\u001b[39m\n",
      "  \u001b[90m[d96e819e] \u001b[39m\u001b[92m+ Parameters v0.12.3\u001b[39m\n",
      "  \u001b[90m[69de0a69] \u001b[39m\u001b[92m+ Parsers v2.8.1\u001b[39m\n",
      "  \u001b[90m[b98c9c47] \u001b[39m\u001b[92m+ Pipe v1.3.0\u001b[39m\n",
      "  \u001b[90m[ccf2f8ad] \u001b[39m\u001b[92m+ PlotThemes v3.2.0\u001b[39m\n",
      "  \u001b[90m[995b91a9] \u001b[39m\u001b[92m+ PlotUtils v1.4.1\u001b[39m\n",
      "  \u001b[90m[91a5bcdd] \u001b[39m\u001b[92m+ Plots v1.40.8\u001b[39m\n",
      "  \u001b[90m[2dfb63ee] \u001b[39m\u001b[92m+ PooledArrays v1.4.3\u001b[39m\n",
      "  \u001b[90m[85a6dd25] \u001b[39m\u001b[92m+ PositiveFactorizations v0.2.4\u001b[39m\n",
      "  \u001b[90m[aea7be01] \u001b[39m\u001b[92m+ PrecompileTools v1.2.1\u001b[39m\n",
      "  \u001b[90m[21216c6a] \u001b[39m\u001b[92m+ Preferences v1.4.3\u001b[39m\n",
      "  \u001b[90m[8162dcfd] \u001b[39m\u001b[92m+ PrettyPrint v0.2.0\u001b[39m\n",
      "  \u001b[90m[08abe8d2] \u001b[39m\u001b[92m+ PrettyTables v2.3.2\u001b[39m\n",
      "  \u001b[90m[33c8b6b6] \u001b[39m\u001b[92m+ ProgressLogging v0.1.4\u001b[39m\n",
      "  \u001b[90m[43287f4e] \u001b[39m\u001b[92m+ PtrArrays v1.2.1\u001b[39m\n",
      "  \u001b[90m[1fd47b50] \u001b[39m\u001b[92m+ QuadGK v2.11.0\u001b[39m\n",
      "  \u001b[90m[c84ed2f1] \u001b[39m\u001b[92m+ Ratios v0.4.5\u001b[39m\n",
      "  \u001b[90m[c1ae055f] \u001b[39m\u001b[92m+ RealDot v0.1.0\u001b[39m\n",
      "  \u001b[90m[3cdcf5f2] \u001b[39m\u001b[92m+ RecipesBase v1.3.4\u001b[39m\n",
      "  \u001b[90m[01d81517] \u001b[39m\u001b[92m+ RecipesPipeline v0.6.12\u001b[39m\n",
      "  \u001b[90m[189a3867] \u001b[39m\u001b[92m+ Reexport v1.2.2\u001b[39m\n",
      "  \u001b[90m[05181044] \u001b[39m\u001b[92m+ RelocatableFolders v1.0.1\u001b[39m\n",
      "  \u001b[90m[ae029012] \u001b[39m\u001b[92m+ Requires v1.3.0\u001b[39m\n",
      "\u001b[33m⌅\u001b[39m \u001b[90m[79098fc4] \u001b[39m\u001b[92m+ Rmath v0.7.1\u001b[39m\n",
      "  \u001b[90m[6c6a2e73] \u001b[39m\u001b[92m+ Scratch v1.2.1\u001b[39m\n",
      "  \u001b[90m[91c51154] \u001b[39m\u001b[92m+ SentinelArrays v1.4.5\u001b[39m\n",
      "  \u001b[90m[efcf1570] \u001b[39m\u001b[92m+ Setfield v1.1.1\u001b[39m\n",
      "  \u001b[90m[605ecd9f] \u001b[39m\u001b[92m+ ShowCases v0.1.0\u001b[39m\n",
      "  \u001b[90m[992d4aef] \u001b[39m\u001b[92m+ Showoff v1.0.3\u001b[39m\n",
      "  \u001b[90m[777ac1f9] \u001b[39m\u001b[92m+ SimpleBufferStream v1.1.0\u001b[39m\n",
      "  \u001b[90m[699a6c99] \u001b[39m\u001b[92m+ SimpleTraits v0.9.4\u001b[39m\n",
      "  \u001b[90m[ff4d7338] \u001b[39m\u001b[92m+ SolverCore v0.3.8\u001b[39m\n",
      "  \u001b[90m[a2af1166] \u001b[39m\u001b[92m+ SortingAlgorithms v1.2.1\u001b[39m\n",
      "  \u001b[90m[dc90abb0] \u001b[39m\u001b[92m+ SparseInverseSubset v0.1.2\u001b[39m\n",
      "  \u001b[90m[276daf66] \u001b[39m\u001b[92m+ SpecialFunctions v2.4.0\u001b[39m\n",
      "  \u001b[90m[171d559e] \u001b[39m\u001b[92m+ SplittablesBase v0.1.15\u001b[39m\n",
      "  \u001b[90m[90137ffa] \u001b[39m\u001b[92m+ StaticArrays v1.9.7\u001b[39m\n",
      "  \u001b[90m[1e83bf80] \u001b[39m\u001b[92m+ StaticArraysCore v1.4.3\u001b[39m\n",
      "  \u001b[90m[82ae8749] \u001b[39m\u001b[92m+ StatsAPI v1.7.0\u001b[39m\n",
      "  \u001b[90m[2913bbd2] \u001b[39m\u001b[92m+ StatsBase v0.34.3\u001b[39m\n",
      "  \u001b[90m[4c63d2b9] \u001b[39m\u001b[92m+ StatsFuns v1.3.1\u001b[39m\n",
      "  \u001b[90m[f3b207a7] \u001b[39m\u001b[92m+ StatsPlots v0.15.7\u001b[39m\n",
      "  \u001b[90m[892a3eda] \u001b[39m\u001b[92m+ StringManipulation v0.3.4\u001b[39m\n",
      "  \u001b[90m[09ab397b] \u001b[39m\u001b[92m+ StructArrays v0.6.18\u001b[39m\n",
      "  \u001b[90m[ab02a1b2] \u001b[39m\u001b[92m+ TableOperations v1.2.0\u001b[39m\n",
      "  \u001b[90m[3783bdb8] \u001b[39m\u001b[92m+ TableTraits v1.0.1\u001b[39m\n",
      "  \u001b[90m[bd369af6] \u001b[39m\u001b[92m+ Tables v1.12.0\u001b[39m\n",
      "  \u001b[90m[62fd8b95] \u001b[39m\u001b[92m+ TensorCore v0.1.1\u001b[39m\n",
      "  \u001b[90m[a759f4b9] \u001b[39m\u001b[92m+ TimerOutputs v0.5.24\u001b[39m\n",
      "  \u001b[90m[3bb67fe8] \u001b[39m\u001b[92m+ TranscodingStreams v0.11.2\u001b[39m\n",
      "  \u001b[90m[28d57a85] \u001b[39m\u001b[92m+ Transducers v0.4.82\u001b[39m\n",
      "  \u001b[90m[5c2747f8] \u001b[39m\u001b[92m+ URIs v1.5.1\u001b[39m\n",
      "  \u001b[90m[3a884ed6] \u001b[39m\u001b[92m+ UnPack v1.0.2\u001b[39m\n",
      "  \u001b[90m[1cfade01] \u001b[39m\u001b[92m+ UnicodeFun v0.4.1\u001b[39m\n",
      "  \u001b[90m[1986cc42] \u001b[39m\u001b[92m+ Unitful v1.21.0\u001b[39m\n",
      "  \u001b[90m[45397f5d] \u001b[39m\u001b[92m+ UnitfulLatexify v1.6.4\u001b[39m\n",
      "  \u001b[90m[013be700] \u001b[39m\u001b[92m+ UnsafeAtomics v0.2.1\u001b[39m\n",
      "  \u001b[90m[d80eeb9a] \u001b[39m\u001b[92m+ UnsafeAtomicsLLVM v0.2.1\u001b[39m\n",
      "  \u001b[90m[41fe7b60] \u001b[39m\u001b[92m+ Unzip v0.2.0\u001b[39m\n",
      "  \u001b[90m[4119e0bf] \u001b[39m\u001b[92m+ VLQuantitativeFinancePackage v1.0.0-DEV `https://github.com/varnerlab/VLQuantitativeFinancePackage.jl.git#main`\u001b[39m\n",
      "  \u001b[90m[ea10d353] \u001b[39m\u001b[92m+ WeakRefStrings v1.4.2\u001b[39m\n",
      "  \u001b[90m[cc8bc4a8] \u001b[39m\u001b[92m+ Widgets v0.6.6\u001b[39m\n",
      "  \u001b[90m[efce3f68] \u001b[39m\u001b[92m+ WoodburyMatrices v1.0.0\u001b[39m\n",
      "  \u001b[90m[76eceee3] \u001b[39m\u001b[92m+ WorkerUtilities v1.6.1\u001b[39m\n",
      "  \u001b[90m[e88e6eb3] \u001b[39m\u001b[92m+ Zygote v0.6.70\u001b[39m\n",
      "  \u001b[90m[700de1a5] \u001b[39m\u001b[92m+ ZygoteRules v0.2.5\u001b[39m\n",
      "\u001b[33m⌅\u001b[39m \u001b[90m[68821587] \u001b[39m\u001b[92m+ Arpack_jll v3.5.1+1\u001b[39m\n",
      "  \u001b[90m[6e34b625] \u001b[39m\u001b[92m+ Bzip2_jll v1.0.8+1\u001b[39m\n",
      "  \u001b[90m[83423d85] \u001b[39m\u001b[92m+ Cairo_jll v1.18.0+2\u001b[39m\n",
      "  \u001b[90m[ee1fde0b] \u001b[39m\u001b[92m+ Dbus_jll v1.14.10+0\u001b[39m\n",
      "  \u001b[90m[2702e6a9] \u001b[39m\u001b[92m+ EpollShim_jll v0.0.20230411+0\u001b[39m\n",
      "  \u001b[90m[2e619515] \u001b[39m\u001b[92m+ Expat_jll v2.6.2+0\u001b[39m\n",
      "\u001b[33m⌅\u001b[39m \u001b[90m[b22a6f82] \u001b[39m\u001b[92m+ FFMPEG_jll v4.4.4+1\u001b[39m\n",
      "  \u001b[90m[f5851436] \u001b[39m\u001b[92m+ FFTW_jll v3.3.10+0\u001b[39m\n",
      "  \u001b[90m[a3f928ae] \u001b[39m\u001b[92m+ Fontconfig_jll v2.13.96+0\u001b[39m\n",
      "  \u001b[90m[d7e528f0] \u001b[39m\u001b[92m+ FreeType2_jll v2.13.2+0\u001b[39m\n",
      "  \u001b[90m[559328eb] \u001b[39m\u001b[92m+ FriBidi_jll v1.0.14+0\u001b[39m\n",
      "  \u001b[90m[0656b61e] \u001b[39m\u001b[92m+ GLFW_jll v3.4.0+1\u001b[39m\n",
      "  \u001b[90m[d2c73de3] \u001b[39m\u001b[92m+ GR_jll v0.73.7+0\u001b[39m\n",
      "  \u001b[90m[78b55507] \u001b[39m\u001b[92m+ Gettext_jll v0.21.0+0\u001b[39m\n",
      "  \u001b[90m[7746bdde] \u001b[39m\u001b[92m+ Glib_jll v2.80.2+0\u001b[39m\n",
      "  \u001b[90m[3b182d85] \u001b[39m\u001b[92m+ Graphite2_jll v1.3.14+0\u001b[39m\n",
      "  \u001b[90m[2e76f6c2] \u001b[39m\u001b[92m+ HarfBuzz_jll v8.3.1+0\u001b[39m\n",
      "  \u001b[90m[1d5cc7b8] \u001b[39m\u001b[92m+ IntelOpenMP_jll v2024.2.1+0\u001b[39m\n",
      "  \u001b[90m[aacddb02] \u001b[39m\u001b[92m+ JpegTurbo_jll v3.0.3+0\u001b[39m\n",
      "  \u001b[90m[c1c5ebd0] \u001b[39m\u001b[92m+ LAME_jll v3.100.2+0\u001b[39m\n",
      "\u001b[33m⌅\u001b[39m \u001b[90m[88015f11] \u001b[39m\u001b[92m+ LERC_jll v3.0.0+1\u001b[39m\n",
      "  \u001b[90m[dad2f222] \u001b[39m\u001b[92m+ LLVMExtra_jll v0.0.34+0\u001b[39m\n",
      "  \u001b[90m[1d63c593] \u001b[39m\u001b[92m+ LLVMOpenMP_jll v18.1.7+0\u001b[39m\n",
      "  \u001b[90m[dd4b983a] \u001b[39m\u001b[92m+ LZO_jll v2.10.2+0\u001b[39m\n",
      "\u001b[33m⌅\u001b[39m \u001b[90m[e9f186c6] \u001b[39m\u001b[92m+ Libffi_jll v3.2.2+1\u001b[39m\n",
      "  \u001b[90m[d4300ac3] \u001b[39m\u001b[92m+ Libgcrypt_jll v1.8.11+0\u001b[39m\n",
      "  \u001b[90m[7e76a0d4] \u001b[39m\u001b[92m+ Libglvnd_jll v1.6.0+0\u001b[39m\n",
      "  \u001b[90m[7add5ba3] \u001b[39m\u001b[92m+ Libgpg_error_jll v1.49.0+0\u001b[39m\n",
      "  \u001b[90m[94ce4f54] \u001b[39m\u001b[92m+ Libiconv_jll v1.17.0+0\u001b[39m\n",
      "  \u001b[90m[4b2f31a3] \u001b[39m\u001b[92m+ Libmount_jll v2.40.1+0\u001b[39m\n",
      "\u001b[33m⌅\u001b[39m \u001b[90m[89763e89] \u001b[39m\u001b[92m+ Libtiff_jll v4.5.1+1\u001b[39m\n",
      "  \u001b[90m[38a345b3] \u001b[39m\u001b[92m+ Libuuid_jll v2.40.1+0\u001b[39m\n",
      "  \u001b[90m[856f044c] \u001b[39m\u001b[92m+ MKL_jll v2024.2.0+0\u001b[39m\n",
      "  \u001b[90m[e7412a2a] \u001b[39m\u001b[92m+ Ogg_jll v1.3.5+1\u001b[39m\n",
      "  \u001b[90m[458c3c95] \u001b[39m\u001b[92m+ OpenSSL_jll v3.0.15+0\u001b[39m\n",
      "  \u001b[90m[efe28fd5] \u001b[39m\u001b[92m+ OpenSpecFun_jll v0.5.5+0\u001b[39m\n",
      "  \u001b[90m[91d4177d] \u001b[39m\u001b[92m+ Opus_jll v1.3.3+0\u001b[39m\n",
      "  \u001b[90m[36c8627f] \u001b[39m\u001b[92m+ Pango_jll v1.54.1+0\u001b[39m\n",
      "  \u001b[90m[30392449] \u001b[39m\u001b[92m+ Pixman_jll v0.43.4+0\u001b[39m\n",
      "  \u001b[90m[c0090381] \u001b[39m\u001b[92m+ Qt6Base_jll v6.7.1+1\u001b[39m\n",
      "  \u001b[90m[629bc702] \u001b[39m\u001b[92m+ Qt6Declarative_jll v6.7.1+2\u001b[39m\n",
      "  \u001b[90m[ce943373] \u001b[39m\u001b[92m+ Qt6ShaderTools_jll v6.7.1+1\u001b[39m\n",
      "  \u001b[90m[e99dba38] \u001b[39m\u001b[92m+ Qt6Wayland_jll v6.7.1+1\u001b[39m\n",
      "\u001b[33m⌅\u001b[39m \u001b[90m[f50d1b31] \u001b[39m\u001b[92m+ Rmath_jll v0.4.3+0\u001b[39m\n",
      "  \u001b[90m[a44049a8] \u001b[39m\u001b[92m+ Vulkan_Loader_jll v1.3.243+0\u001b[39m\n",
      "  \u001b[90m[a2964d1f] \u001b[39m\u001b[92m+ Wayland_jll v1.21.0+1\u001b[39m\n",
      "  \u001b[90m[2381bf8a] \u001b[39m\u001b[92m+ Wayland_protocols_jll v1.31.0+0\u001b[39m\n",
      "  \u001b[90m[02c8fc9c] \u001b[39m\u001b[92m+ XML2_jll v2.13.3+0\u001b[39m\n",
      "  \u001b[90m[aed1982a] \u001b[39m\u001b[92m+ XSLT_jll v1.1.41+0\u001b[39m\n",
      "  \u001b[90m[ffd25f8a] \u001b[39m\u001b[92m+ XZ_jll v5.4.6+0\u001b[39m\n",
      "  \u001b[90m[f67eecfb] \u001b[39m\u001b[92m+ Xorg_libICE_jll v1.1.1+0\u001b[39m\n",
      "  \u001b[90m[c834827a] \u001b[39m\u001b[92m+ Xorg_libSM_jll v1.2.4+0\u001b[39m\n",
      "  \u001b[90m[4f6342f7] \u001b[39m\u001b[92m+ Xorg_libX11_jll v1.8.6+0\u001b[39m\n",
      "  \u001b[90m[0c0b7dd1] \u001b[39m\u001b[92m+ Xorg_libXau_jll v1.0.11+0\u001b[39m\n",
      "  \u001b[90m[935fb764] \u001b[39m\u001b[92m+ Xorg_libXcursor_jll v1.2.0+4\u001b[39m\n",
      "  \u001b[90m[a3789734] \u001b[39m\u001b[92m+ Xorg_libXdmcp_jll v1.1.4+0\u001b[39m\n",
      "  \u001b[90m[1082639a] \u001b[39m\u001b[92m+ Xorg_libXext_jll v1.3.6+0\u001b[39m\n",
      "  \u001b[90m[d091e8ba] \u001b[39m\u001b[92m+ Xorg_libXfixes_jll v5.0.3+4\u001b[39m\n",
      "  \u001b[90m[a51aa0fd] \u001b[39m\u001b[92m+ Xorg_libXi_jll v1.7.10+4\u001b[39m\n",
      "  \u001b[90m[d1454406] \u001b[39m\u001b[92m+ Xorg_libXinerama_jll v1.1.4+4\u001b[39m\n",
      "  \u001b[90m[ec84b674] \u001b[39m\u001b[92m+ Xorg_libXrandr_jll v1.5.2+4\u001b[39m\n",
      "  \u001b[90m[ea2f1a96] \u001b[39m\u001b[92m+ Xorg_libXrender_jll v0.9.11+0\u001b[39m\n",
      "  \u001b[90m[14d82f49] \u001b[39m\u001b[92m+ Xorg_libpthread_stubs_jll v0.1.1+0\u001b[39m\n",
      "  \u001b[90m[c7cfdc94] \u001b[39m\u001b[92m+ Xorg_libxcb_jll v1.17.0+0\u001b[39m\n",
      "  \u001b[90m[cc61e674] \u001b[39m\u001b[92m+ Xorg_libxkbfile_jll v1.1.2+0\u001b[39m\n",
      "  \u001b[90m[e920d4aa] \u001b[39m\u001b[92m+ Xorg_xcb_util_cursor_jll v0.1.4+0\u001b[39m\n",
      "  \u001b[90m[12413925] \u001b[39m\u001b[92m+ Xorg_xcb_util_image_jll v0.4.0+1\u001b[39m\n",
      "  \u001b[90m[2def613f] \u001b[39m\u001b[92m+ Xorg_xcb_util_jll v0.4.0+1\u001b[39m\n",
      "  \u001b[90m[975044d2] \u001b[39m\u001b[92m+ Xorg_xcb_util_keysyms_jll v0.4.0+1\u001b[39m\n",
      "  \u001b[90m[0d47668e] \u001b[39m\u001b[92m+ Xorg_xcb_util_renderutil_jll v0.3.9+1\u001b[39m\n",
      "  \u001b[90m[c22f9ab0] \u001b[39m\u001b[92m+ Xorg_xcb_util_wm_jll v0.4.1+1\u001b[39m\n",
      "  \u001b[90m[35661453] \u001b[39m\u001b[92m+ Xorg_xkbcomp_jll v1.4.6+0\u001b[39m\n",
      "  \u001b[90m[33bec58e] \u001b[39m\u001b[92m+ Xorg_xkeyboard_config_jll v2.39.0+0\u001b[39m\n",
      "  \u001b[90m[c5fb5394] \u001b[39m\u001b[92m+ Xorg_xtrans_jll v1.5.0+0\u001b[39m\n",
      "  \u001b[90m[3161d3a3] \u001b[39m\u001b[92m+ Zstd_jll v1.5.6+0\u001b[39m\n",
      "  \u001b[90m[35ca27e7] \u001b[39m\u001b[92m+ eudev_jll v3.2.9+0\u001b[39m\n",
      "  \u001b[90m[214eeab7] \u001b[39m\u001b[92m+ fzf_jll v0.53.0+0\u001b[39m\n",
      "  \u001b[90m[1a1c6b14] \u001b[39m\u001b[92m+ gperf_jll v3.1.1+0\u001b[39m\n",
      "  \u001b[90m[a4ae2306] \u001b[39m\u001b[92m+ libaom_jll v3.9.0+0\u001b[39m\n",
      "  \u001b[90m[0ac62f75] \u001b[39m\u001b[92m+ libass_jll v0.15.2+0\u001b[39m\n",
      "  \u001b[90m[1183f4f0] \u001b[39m\u001b[92m+ libdecor_jll v0.2.2+0\u001b[39m\n",
      "  \u001b[90m[2db6ffa8] \u001b[39m\u001b[92m+ libevdev_jll v1.11.0+0\u001b[39m\n",
      "  \u001b[90m[f638f0a6] \u001b[39m\u001b[92m+ libfdk_aac_jll v2.0.3+0\u001b[39m\n",
      "  \u001b[90m[36db933b] \u001b[39m\u001b[92m+ libinput_jll v1.18.0+0\u001b[39m\n",
      "  \u001b[90m[b53b4c65] \u001b[39m\u001b[92m+ libpng_jll v1.6.43+1\u001b[39m\n",
      "  \u001b[90m[f27f6e37] \u001b[39m\u001b[92m+ libvorbis_jll v1.3.7+2\u001b[39m\n",
      "  \u001b[90m[009596ad] \u001b[39m\u001b[92m+ mtdev_jll v1.1.6+0\u001b[39m\n",
      "  \u001b[90m[1317d2d5] \u001b[39m\u001b[92m+ oneTBB_jll v2021.12.0+0\u001b[39m\n",
      "\u001b[33m⌅\u001b[39m \u001b[90m[1270edf5] \u001b[39m\u001b[92m+ x264_jll v2021.5.5+0\u001b[39m\n",
      "\u001b[33m⌅\u001b[39m \u001b[90m[dfaa095f] \u001b[39m\u001b[92m+ x265_jll v3.5.0+0\u001b[39m\n",
      "  \u001b[90m[d8fb68d0] \u001b[39m\u001b[92m+ xkbcommon_jll v1.4.1+1\u001b[39m\n",
      "  \u001b[90m[0dad84c5] \u001b[39m\u001b[92m+ ArgTools v1.1.1\u001b[39m\n",
      "  \u001b[90m[56f22d72] \u001b[39m\u001b[92m+ Artifacts\u001b[39m\n",
      "  \u001b[90m[2a0f44e3] \u001b[39m\u001b[92m+ Base64\u001b[39m\n",
      "  \u001b[90m[ade2ca70] \u001b[39m\u001b[92m+ Dates\u001b[39m\n",
      "  \u001b[90m[8ba89e20] \u001b[39m\u001b[92m+ Distributed\u001b[39m\n",
      "  \u001b[90m[f43a241f] \u001b[39m\u001b[92m+ Downloads v1.6.0\u001b[39m\n",
      "  \u001b[90m[7b1f6079] \u001b[39m\u001b[92m+ FileWatching\u001b[39m\n",
      "  \u001b[90m[9fa8497b] \u001b[39m\u001b[92m+ Future\u001b[39m\n",
      "  \u001b[90m[b77e0a4c] \u001b[39m\u001b[92m+ InteractiveUtils\u001b[39m\n",
      "  \u001b[90m[4af54fe1] \u001b[39m\u001b[92m+ LazyArtifacts\u001b[39m\n",
      "  \u001b[90m[b27032c2] \u001b[39m\u001b[92m+ LibCURL v0.6.4\u001b[39m\n",
      "  \u001b[90m[76f85450] \u001b[39m\u001b[92m+ LibGit2\u001b[39m\n",
      "  \u001b[90m[8f399da3] \u001b[39m\u001b[92m+ Libdl\u001b[39m\n",
      "  \u001b[90m[37e2e46d] \u001b[39m\u001b[92m+ LinearAlgebra\u001b[39m\n",
      "  \u001b[90m[56ddb016] \u001b[39m\u001b[92m+ Logging\u001b[39m\n",
      "  \u001b[90m[d6f4376e] \u001b[39m\u001b[92m+ Markdown\u001b[39m\n",
      "  \u001b[90m[a63ad114] \u001b[39m\u001b[92m+ Mmap\u001b[39m\n",
      "  \u001b[90m[ca575930] \u001b[39m\u001b[92m+ NetworkOptions v1.2.0\u001b[39m\n",
      "  \u001b[90m[44cfe95a] \u001b[39m\u001b[92m+ Pkg v1.10.0\u001b[39m\n",
      "  \u001b[90m[de0858da] \u001b[39m\u001b[92m+ Printf\u001b[39m\n",
      "  \u001b[90m[9abbd945] \u001b[39m\u001b[92m+ Profile\u001b[39m\n",
      "  \u001b[90m[3fa0cd96] \u001b[39m\u001b[92m+ REPL\u001b[39m\n",
      "  \u001b[90m[9a3f8284] \u001b[39m\u001b[92m+ Random\u001b[39m\n",
      "  \u001b[90m[ea8e919c] \u001b[39m\u001b[92m+ SHA v0.7.0\u001b[39m\n",
      "  \u001b[90m[9e88b42a] \u001b[39m\u001b[92m+ Serialization\u001b[39m\n",
      "  \u001b[90m[1a1011a3] \u001b[39m\u001b[92m+ SharedArrays\u001b[39m\n",
      "  \u001b[90m[6462fe0b] \u001b[39m\u001b[92m+ Sockets\u001b[39m\n",
      "  \u001b[90m[2f01184e] \u001b[39m\u001b[92m+ SparseArrays v1.10.0\u001b[39m\n",
      "  \u001b[90m[10745b16] \u001b[39m\u001b[92m+ Statistics v1.10.0\u001b[39m\n",
      "  \u001b[90m[4607b0f0] \u001b[39m\u001b[92m+ SuiteSparse\u001b[39m\n",
      "  \u001b[90m[fa267f1f] \u001b[39m\u001b[92m+ TOML v1.0.3\u001b[39m\n",
      "  \u001b[90m[a4e569a6] \u001b[39m\u001b[92m+ Tar v1.10.0\u001b[39m\n",
      "  \u001b[90m[8dfed614] \u001b[39m\u001b[92m+ Test\u001b[39m\n",
      "  \u001b[90m[cf7118a7] \u001b[39m\u001b[92m+ UUIDs\u001b[39m\n",
      "  \u001b[90m[4ec0a83e] \u001b[39m\u001b[92m+ Unicode\u001b[39m\n",
      "  \u001b[90m[e66e0078] \u001b[39m\u001b[92m+ CompilerSupportLibraries_jll v1.1.1+0\u001b[39m\n",
      "  \u001b[90m[deac9b47] \u001b[39m\u001b[92m+ LibCURL_jll v8.4.0+0\u001b[39m\n",
      "  \u001b[90m[e37daf67] \u001b[39m\u001b[92m+ LibGit2_jll v1.6.4+0\u001b[39m\n",
      "  \u001b[90m[29816b5a] \u001b[39m\u001b[92m+ LibSSH2_jll v1.11.0+1\u001b[39m\n",
      "  \u001b[90m[c8ffd9c3] \u001b[39m\u001b[92m+ MbedTLS_jll v2.28.2+1\u001b[39m\n",
      "  \u001b[90m[14a3606d] \u001b[39m\u001b[92m+ MozillaCACerts_jll v2023.1.10\u001b[39m\n",
      "  \u001b[90m[4536629a] \u001b[39m\u001b[92m+ OpenBLAS_jll v0.3.23+4\u001b[39m\n",
      "  \u001b[90m[05823500] \u001b[39m\u001b[92m+ OpenLibm_jll v0.8.1+2\u001b[39m\n",
      "  \u001b[90m[efcefdf7] \u001b[39m\u001b[92m+ PCRE2_jll v10.42.0+1\u001b[39m\n",
      "  \u001b[90m[bea87d4a] \u001b[39m\u001b[92m+ SuiteSparse_jll v7.2.1+1\u001b[39m\n",
      "  \u001b[90m[83775a58] \u001b[39m\u001b[92m+ Zlib_jll v1.2.13+1\u001b[39m\n",
      "  \u001b[90m[8e850b90] \u001b[39m\u001b[92m+ libblastrampoline_jll v5.11.0+0\u001b[39m\n",
      "  \u001b[90m[8e850ede] \u001b[39m\u001b[92m+ nghttp2_jll v1.52.0+1\u001b[39m\n",
      "  \u001b[90m[3f19e933] \u001b[39m\u001b[92m+ p7zip_jll v17.4.0+2\u001b[39m\n",
      "\u001b[36m\u001b[1m        Info\u001b[22m\u001b[39m Packages marked with \u001b[32m⌃\u001b[39m and \u001b[33m⌅\u001b[39m have new versions available. Those with \u001b[32m⌃\u001b[39m may be upgradable, but those with \u001b[33m⌅\u001b[39m are restricted by compatibility constraints from upgrading. To see why use `status --outdated -m`\n",
      "\u001b[32m\u001b[1mPrecompiling\u001b[22m\u001b[39m project...\n",
      "\u001b[32m  ✓ \u001b[39m\u001b[90mLLVMOpenMP_jll\u001b[39m\n",
      "\u001b[32m  ✓ \u001b[39m\u001b[90mLLVMExtra_jll\u001b[39m\n",
      "\u001b[32m  ✓ \u001b[39m\u001b[90mPixman_jll\u001b[39m\n",
      "\u001b[32m  ✓ \u001b[39m\u001b[90mCairo_jll\u001b[39m\n",
      "\u001b[32m  ✓ \u001b[39m\u001b[90mHarfBuzz_jll\u001b[39m\n",
      "\u001b[32m  ✓ \u001b[39m\u001b[90mChainRules\u001b[39m\n",
      "\u001b[32m  ✓ \u001b[39m\u001b[90mlibass_jll\u001b[39m\n",
      "\u001b[32m  ✓ \u001b[39m\u001b[90mPango_jll\u001b[39m\n",
      "\u001b[32m  ✓ \u001b[39m\u001b[90mArrayInterface → ArrayInterfaceChainRulesExt\u001b[39m\n",
      "\u001b[32m  ✓ \u001b[39m\u001b[90mLLVM\u001b[39m\n",
      "\u001b[32m  ✓ \u001b[39m\u001b[90mFFMPEG_jll\u001b[39m\n",
      "\u001b[32m  ✓ \u001b[39m\u001b[90mFFMPEG\u001b[39m\n",
      "\u001b[32m  ✓ \u001b[39m\u001b[90mGR_jll\u001b[39m\n",
      "\u001b[32m  ✓ \u001b[39m\u001b[90mUnsafeAtomicsLLVM\u001b[39m\n",
      "\u001b[32m  ✓ \u001b[39m\u001b[90mGPUArrays\u001b[39m\n",
      "\u001b[32m  ✓ \u001b[39mVLQuantitativeFinancePackage\n",
      "\u001b[32m  ✓ \u001b[39m\u001b[90mGR\u001b[39m\n",
      "\u001b[32m  ✓ \u001b[39m\u001b[90mKernelAbstractions\u001b[39m\n",
      "\u001b[32m  ✓ \u001b[39m\u001b[90mKernelAbstractions → LinearAlgebraExt\u001b[39m\n",
      "\u001b[32m  ✓ \u001b[39m\u001b[90mKernelAbstractions → SparseArraysExt\u001b[39m\n",
      "\u001b[32m  ✓ \u001b[39m\u001b[90mNNlib\u001b[39m\n",
      "\u001b[32m  ✓ \u001b[39m\u001b[90mNNlib → NNlibForwardDiffExt\u001b[39m\n",
      "\u001b[32m  ✓ \u001b[39m\u001b[90mNNlib → NNlibFFTWExt\u001b[39m\n",
      "\u001b[32m  ✓ \u001b[39mOneHotArrays\n",
      "\u001b[32m  ✓ \u001b[39m\u001b[90mMLUtils\u001b[39m\n",
      "\u001b[32m  ✓ \u001b[39m\u001b[90mZygote\u001b[39m\n",
      "\u001b[32m  ✓ \u001b[39m\u001b[90mZygote → ZygoteColorsExt\u001b[39m\n",
      "\u001b[32m  ✓ \u001b[39m\u001b[90mZygote → ZygoteDistancesExt\u001b[39m\n",
      "\u001b[32m  ✓ \u001b[39mFlux\n",
      "\u001b[32m  ✓ \u001b[39mPlots\n",
      "\u001b[32m  ✓ \u001b[39m\u001b[90mPlots → UnitfulExt\u001b[39m\n",
      "\u001b[32m  ✓ \u001b[39m\u001b[90mPlots → FileIOExt\u001b[39m\n",
      "\u001b[32m  ✓ \u001b[39mStatsPlots\n",
      "  33 dependencies successfully precompiled in 38 seconds. 314 already precompiled.\n",
      "\u001b[32m\u001b[1m  Activating\u001b[22m\u001b[39m project at `~/Desktop/julia_work/CHEME-5660-CourseRepository-Fall-2024/lectures/week-3/L3a`\n",
      "\u001b[32m\u001b[1m  No Changes\u001b[22m\u001b[39m to `~/Desktop/julia_work/CHEME-5660-CourseRepository-Fall-2024/lectures/week-3/L3a/Project.toml`\n",
      "\u001b[32m\u001b[1m  No Changes\u001b[22m\u001b[39m to `~/Desktop/julia_work/CHEME-5660-CourseRepository-Fall-2024/lectures/week-3/L3a/Manifest.toml`\n",
      "\u001b[32m\u001b[1m    Updating\u001b[22m\u001b[39m registry at `~/.julia/registries/General.toml`\n",
      "\u001b[32m\u001b[1m    Updating\u001b[22m\u001b[39m git-repo `https://github.com/varnerlab/VLQuantitativeFinancePackage.jl.git`\n",
      "\u001b[32m\u001b[1m  No Changes\u001b[22m\u001b[39m to `~/Desktop/julia_work/CHEME-5660-CourseRepository-Fall-2024/lectures/week-3/L3a/Project.toml`\n",
      "\u001b[32m\u001b[1m  No Changes\u001b[22m\u001b[39m to `~/Desktop/julia_work/CHEME-5660-CourseRepository-Fall-2024/lectures/week-3/L3a/Manifest.toml`\n",
      "\u001b[36m\u001b[1m[ \u001b[22m\u001b[39m\u001b[36m\u001b[1mInfo: \u001b[22m\u001b[39mPrecompiling VLQuantitativeFinancePackage [4119e0bf-20d0-4785-913e-5ebdb0caa218]\n",
      "\u001b[36m\u001b[1m[ \u001b[22m\u001b[39m\u001b[36m\u001b[1mInfo: \u001b[22m\u001b[39mPrecompiling Plots [91a5bcdd-55d7-5caf-9e0b-520d859cae80]\n",
      "\u001b[32m\u001b[1mPrecompiling\u001b[22m\u001b[39m FileIOExt\n",
      "\u001b[32m  ✓ \u001b[39m\u001b[90mPango_jll\u001b[39m\n",
      "\u001b[32m  ✓ \u001b[39m\u001b[90mPlots → UnitfulExt\u001b[39m\n",
      "\u001b[32m  ✓ \u001b[39m\u001b[90mPlots → FileIOExt\u001b[39m\n",
      "  3 dependencies successfully precompiled in 35 seconds. 182 already precompiled.\n",
      "\u001b[36m\u001b[1m[ \u001b[22m\u001b[39m\u001b[36m\u001b[1mInfo: \u001b[22m\u001b[39mPrecompiling FileIOExt [f5f51d8f-5827-5d2e-939b-192fcd6ec70c]\n",
      "\u001b[33m\u001b[1m┌ \u001b[22m\u001b[39m\u001b[33m\u001b[1mWarning: \u001b[22m\u001b[39mModule Plots with build ID fafbfcfd-513d-9ac3-0000-895a04eef445 is missing from the cache.\n",
      "\u001b[33m\u001b[1m│ \u001b[22m\u001b[39mThis may mean Plots [91a5bcdd-55d7-5caf-9e0b-520d859cae80] does not support precompilation but is imported by a module that does.\n",
      "\u001b[33m\u001b[1m└ \u001b[22m\u001b[39m\u001b[90m@ Base loading.jl:1948\u001b[39m\n",
      "\u001b[36m\u001b[1m[ \u001b[22m\u001b[39m\u001b[36m\u001b[1mInfo: \u001b[22m\u001b[39mSkipping precompilation since __precompile__(false). Importing FileIOExt [f5f51d8f-5827-5d2e-939b-192fcd6ec70c].\n",
      "\u001b[36m\u001b[1m[ \u001b[22m\u001b[39m\u001b[36m\u001b[1mInfo: \u001b[22m\u001b[39mPrecompiling IJuliaExt [2f4121a4-3b3a-5ce6-9c5e-1f2673ce168a]\n",
      "\u001b[33m\u001b[1m┌ \u001b[22m\u001b[39m\u001b[33m\u001b[1mWarning: \u001b[22m\u001b[39mModule Plots with build ID fafbfcfd-513d-9ac3-0000-895a04eef445 is missing from the cache.\n",
      "\u001b[33m\u001b[1m│ \u001b[22m\u001b[39mThis may mean Plots [91a5bcdd-55d7-5caf-9e0b-520d859cae80] does not support precompilation but is imported by a module that does.\n",
      "\u001b[33m\u001b[1m└ \u001b[22m\u001b[39m\u001b[90m@ Base loading.jl:1948\u001b[39m\n",
      "\u001b[36m\u001b[1m[ \u001b[22m\u001b[39m\u001b[36m\u001b[1mInfo: \u001b[22m\u001b[39mSkipping precompilation since __precompile__(false). Importing IJuliaExt [2f4121a4-3b3a-5ce6-9c5e-1f2673ce168a].\n",
      "\u001b[32m\u001b[1mPrecompiling\u001b[22m\u001b[39m StatsPlots\n",
      "\u001b[32m  ✓ \u001b[39mStatsPlots\n",
      "  1 dependency successfully precompiled in 2 seconds. 241 already precompiled.\n",
      "\u001b[36m\u001b[1m[ \u001b[22m\u001b[39m\u001b[36m\u001b[1mInfo: \u001b[22m\u001b[39mPrecompiling StatsPlots [f3b207a7-027a-5e70-b257-86293d7955fd]\n",
      "\u001b[33m\u001b[1m┌ \u001b[22m\u001b[39m\u001b[33m\u001b[1mWarning: \u001b[22m\u001b[39mModule Plots with build ID fafbfcfd-513d-9ac3-0000-895a04eef445 is missing from the cache.\n",
      "\u001b[33m\u001b[1m│ \u001b[22m\u001b[39mThis may mean Plots [91a5bcdd-55d7-5caf-9e0b-520d859cae80] does not support precompilation but is imported by a module that does.\n",
      "\u001b[33m\u001b[1m└ \u001b[22m\u001b[39m\u001b[90m@ Base loading.jl:1948\u001b[39m\n",
      "\u001b[36m\u001b[1m[ \u001b[22m\u001b[39m\u001b[36m\u001b[1mInfo: \u001b[22m\u001b[39mSkipping precompilation since __precompile__(false). Importing StatsPlots [f3b207a7-027a-5e70-b257-86293d7955fd].\n",
      "\u001b[36m\u001b[1m[ \u001b[22m\u001b[39m\u001b[36m\u001b[1mInfo: \u001b[22m\u001b[39mPrecompiling Flux [587475ba-b771-5e3f-ad9e-33799f191a9c]\n",
      "\u001b[32m\u001b[1mPrecompiling\u001b[22m\u001b[39m NNlibFFTWExt\n",
      "\u001b[32m  ✓ \u001b[39m\u001b[90mNNlib → NNlibFFTWExt\u001b[39m\n",
      "  1 dependency successfully precompiled in 11 seconds. 40 already precompiled.\n",
      "\u001b[36m\u001b[1m[ \u001b[22m\u001b[39m\u001b[36m\u001b[1mInfo: \u001b[22m\u001b[39mPrecompiling NNlibFFTWExt [96386cae-6b62-59ad-b532-a94eae05753e]\n",
      "\u001b[33m\u001b[1m┌ \u001b[22m\u001b[39m\u001b[33m\u001b[1mWarning: \u001b[22m\u001b[39mModule NNlib with build ID fafbfcfd-0885-03de-0000-896b8beaffcd is missing from the cache.\n",
      "\u001b[33m\u001b[1m│ \u001b[22m\u001b[39mThis may mean NNlib [872c559c-99b0-510c-b3b7-b6c96a88d5cd] does not support precompilation but is imported by a module that does.\n",
      "\u001b[33m\u001b[1m└ \u001b[22m\u001b[39m\u001b[90m@ Base loading.jl:1948\u001b[39m\n",
      "\u001b[36m\u001b[1m[ \u001b[22m\u001b[39m\u001b[36m\u001b[1mInfo: \u001b[22m\u001b[39mSkipping precompilation since __precompile__(false). Importing NNlibFFTWExt [96386cae-6b62-59ad-b532-a94eae05753e].\n",
      "\u001b[32m\u001b[1mPrecompiling\u001b[22m\u001b[39m ZygoteDistancesExt\n",
      "\u001b[32m  ✓ \u001b[39m\u001b[90mGPUArrays\u001b[39m\n",
      "\u001b[32m  ✓ \u001b[39m\u001b[90mZygote → ZygoteDistancesExt\u001b[39m\n",
      "  2 dependencies successfully precompiled in 14 seconds. 78 already precompiled.\n",
      "\u001b[36m\u001b[1m[ \u001b[22m\u001b[39m\u001b[36m\u001b[1mInfo: \u001b[22m\u001b[39mPrecompiling ZygoteDistancesExt [5865c103-18d1-586a-9b11-010bbc2260a8]\n",
      "\u001b[33m\u001b[1m┌ \u001b[22m\u001b[39m\u001b[33m\u001b[1mWarning: \u001b[22m\u001b[39mModule Zygote with build ID fafbfcfd-0628-a8b6-0000-896eece0bcd3 is missing from the cache.\n",
      "\u001b[33m\u001b[1m│ \u001b[22m\u001b[39mThis may mean Zygote [e88e6eb3-aa80-5325-afca-941959d7151f] does not support precompilation but is imported by a module that does.\n",
      "\u001b[33m\u001b[1m└ \u001b[22m\u001b[39m\u001b[90m@ Base loading.jl:1948\u001b[39m\n",
      "\u001b[36m\u001b[1m[ \u001b[22m\u001b[39m\u001b[36m\u001b[1mInfo: \u001b[22m\u001b[39mSkipping precompilation since __precompile__(false). Importing ZygoteDistancesExt [5865c103-18d1-586a-9b11-010bbc2260a8].\n",
      "\u001b[32m\u001b[1mPrecompiling\u001b[22m\u001b[39m ZygoteColorsExt\n",
      "\u001b[32m  ✓ \u001b[39m\u001b[90mZygote → ZygoteColorsExt\u001b[39m\n",
      "  1 dependency successfully precompiled in 1 seconds. 78 already precompiled.\n",
      "\u001b[36m\u001b[1m[ \u001b[22m\u001b[39m\u001b[36m\u001b[1mInfo: \u001b[22m\u001b[39mPrecompiling ZygoteColorsExt [e68c091a-8ea5-5ca7-be4f-380657d4ad79]\n",
      "\u001b[33m\u001b[1m┌ \u001b[22m\u001b[39m\u001b[33m\u001b[1mWarning: \u001b[22m\u001b[39mModule Zygote with build ID fafbfcfd-0628-a8b6-0000-896eece0bcd3 is missing from the cache.\n",
      "\u001b[33m\u001b[1m│ \u001b[22m\u001b[39mThis may mean Zygote [e88e6eb3-aa80-5325-afca-941959d7151f] does not support precompilation but is imported by a module that does.\n",
      "\u001b[33m\u001b[1m└ \u001b[22m\u001b[39m\u001b[90m@ Base loading.jl:1948\u001b[39m\n",
      "\u001b[36m\u001b[1m[ \u001b[22m\u001b[39m\u001b[36m\u001b[1mInfo: \u001b[22m\u001b[39mSkipping precompilation since __precompile__(false). Importing ZygoteColorsExt [e68c091a-8ea5-5ca7-be4f-380657d4ad79].\n"
     ]
    }
   ],
   "source": [
    "include(\"Include.jl\");"
   ]
  },
  {
   "cell_type": "markdown",
   "id": "b57eaf72-f676-4215-ab12-54372116489c",
   "metadata": {},
   "source": [
    "## Prerequisite: Load the Treasury Rates Dataset\n",
    "In this section, we'll load the data we will use below and set up some other stuff required for the subsequent calculations. The interest rate data is available from the [United States Treasury](https://home.treasury.gov/policy-issues/financing-the-government/interest-rate-statistics) in a [`CSV` flat-file format](https://en.wikipedia.org/wiki/Comma-separated_values). We've already downloaded several years' worth of data and saved it in the `<root>/data` directory. To load the data, we use [the `read(...)` exported by the CSV.jl package](https://github.com/JuliaData/CSV.jl) and save the data in the `tbill_rates_dataset::DataFrame` variable.\n",
    "* What is going on in the [`read(...)` method call](https://csv.juliadata.org/stable/reading.html#CSV.read)? This method requires a path to the data file, specified [using the Julia `joinpath(...)` method](https://docs.julialang.org/en/v1/base/file/#Base.Filesystem.joinpath), and a type to load the data into, specified as a [`DataFrame` type exported by the DataFrames.jl package](https://github.com/JuliaData/DataFrames.jl). We use [the Julia pipe `|>` operator](https://docs.julialang.org/en/v1/manual/functions/#Function-composition-and-piping) in combination with the [Julia `reverse(...)` method](https://docs.julialang.org/en/v1/base/arrays/#Base.reverse-Tuple{AbstractVector}) to put the Treasury Bill data into date-ascending order."
   ]
  },
  {
   "cell_type": "code",
   "execution_count": 5,
   "id": "1fae89d7-255c-499f-aa6b-ed3cf584378c",
   "metadata": {},
   "outputs": [
    {
     "data": {
      "text/html": [
       "<div><div style = \"float: left;\"><span>173×13 DataFrame</span></div><div style = \"float: right;\"><span style = \"font-style: italic;\">148 rows omitted</span></div><div style = \"clear: both;\"></div></div><div class = \"data-frame\" style = \"overflow-x: scroll;\"><table class = \"data-frame\" style = \"margin-bottom: 6px;\"><thead><tr class = \"header\"><th class = \"rowNumber\" style = \"font-weight: bold; text-align: right;\">Row</th><th style = \"text-align: left;\">Date</th><th style = \"text-align: left;\">4 WEEKS BANK DISCOUNT</th><th style = \"text-align: left;\">4 WEEKS COUPON EQUIVALENT</th><th style = \"text-align: left;\">8 WEEKS BANK DISCOUNT</th><th style = \"text-align: left;\">8 WEEKS COUPON EQUIVALENT</th><th style = \"text-align: left;\">13 WEEKS BANK DISCOUNT</th><th style = \"text-align: left;\">13 WEEKS COUPON EQUIVALENT</th><th style = \"text-align: left;\">17 WEEKS BANK DISCOUNT</th><th style = \"text-align: left;\">17 WEEKS COUPON EQUIVALENT</th><th style = \"text-align: left;\">26 WEEKS BANK DISCOUNT</th><th style = \"text-align: left;\">26 WEEKS COUPON EQUIVALENT</th><th style = \"text-align: left;\">52 WEEKS BANK DISCOUNT</th><th style = \"text-align: left;\">52 WEEKS COUPON EQUIVALENT</th></tr><tr class = \"subheader headerLastRow\"><th class = \"rowNumber\" style = \"font-weight: bold; text-align: right;\"></th><th title = \"String15\" style = \"text-align: left;\">String15</th><th title = \"Float64\" style = \"text-align: left;\">Float64</th><th title = \"Float64\" style = \"text-align: left;\">Float64</th><th title = \"Float64\" style = \"text-align: left;\">Float64</th><th title = \"Float64\" style = \"text-align: left;\">Float64</th><th title = \"Float64\" style = \"text-align: left;\">Float64</th><th title = \"Float64\" style = \"text-align: left;\">Float64</th><th title = \"Float64\" style = \"text-align: left;\">Float64</th><th title = \"Float64\" style = \"text-align: left;\">Float64</th><th title = \"Float64\" style = \"text-align: left;\">Float64</th><th title = \"Float64\" style = \"text-align: left;\">Float64</th><th title = \"Float64\" style = \"text-align: left;\">Float64</th><th title = \"Float64\" style = \"text-align: left;\">Float64</th></tr></thead><tbody><tr><td class = \"rowNumber\" style = \"font-weight: bold; text-align: right;\">1</td><td style = \"text-align: left;\">01/02/2024</td><td style = \"text-align: right;\">5.28</td><td style = \"text-align: right;\">5.39</td><td style = \"text-align: right;\">5.28</td><td style = \"text-align: right;\">5.41</td><td style = \"text-align: right;\">5.22</td><td style = \"text-align: right;\">5.38</td><td style = \"text-align: right;\">5.21</td><td style = \"text-align: right;\">5.39</td><td style = \"text-align: right;\">5.04</td><td style = \"text-align: right;\">5.26</td><td style = \"text-align: right;\">4.57</td><td style = \"text-align: right;\">4.81</td></tr><tr><td class = \"rowNumber\" style = \"font-weight: bold; text-align: right;\">2</td><td style = \"text-align: left;\">01/03/2024</td><td style = \"text-align: right;\">5.27</td><td style = \"text-align: right;\">5.38</td><td style = \"text-align: right;\">5.28</td><td style = \"text-align: right;\">5.41</td><td style = \"text-align: right;\">5.24</td><td style = \"text-align: right;\">5.4</td><td style = \"text-align: right;\">5.21</td><td style = \"text-align: right;\">5.39</td><td style = \"text-align: right;\">5.06</td><td style = \"text-align: right;\">5.28</td><td style = \"text-align: right;\">4.58</td><td style = \"text-align: right;\">4.82</td></tr><tr><td class = \"rowNumber\" style = \"font-weight: bold; text-align: right;\">3</td><td style = \"text-align: left;\">01/04/2024</td><td style = \"text-align: right;\">5.29</td><td style = \"text-align: right;\">5.4</td><td style = \"text-align: right;\">5.28</td><td style = \"text-align: right;\">5.41</td><td style = \"text-align: right;\">5.24</td><td style = \"text-align: right;\">5.4</td><td style = \"text-align: right;\">5.21</td><td style = \"text-align: right;\">5.39</td><td style = \"text-align: right;\">5.06</td><td style = \"text-align: right;\">5.28</td><td style = \"text-align: right;\">4.61</td><td style = \"text-align: right;\">4.85</td></tr><tr><td class = \"rowNumber\" style = \"font-weight: bold; text-align: right;\">4</td><td style = \"text-align: left;\">01/05/2024</td><td style = \"text-align: right;\">5.28</td><td style = \"text-align: right;\">5.39</td><td style = \"text-align: right;\">5.27</td><td style = \"text-align: right;\">5.4</td><td style = \"text-align: right;\">5.24</td><td style = \"text-align: right;\">5.4</td><td style = \"text-align: right;\">5.2</td><td style = \"text-align: right;\">5.38</td><td style = \"text-align: right;\">5.05</td><td style = \"text-align: right;\">5.27</td><td style = \"text-align: right;\">4.61</td><td style = \"text-align: right;\">4.85</td></tr><tr><td class = \"rowNumber\" style = \"font-weight: bold; text-align: right;\">5</td><td style = \"text-align: left;\">01/08/2024</td><td style = \"text-align: right;\">5.28</td><td style = \"text-align: right;\">5.39</td><td style = \"text-align: right;\">5.28</td><td style = \"text-align: right;\">5.41</td><td style = \"text-align: right;\">5.25</td><td style = \"text-align: right;\">5.41</td><td style = \"text-align: right;\">5.19</td><td style = \"text-align: right;\">5.37</td><td style = \"text-align: right;\">5.04</td><td style = \"text-align: right;\">5.26</td><td style = \"text-align: right;\">4.59</td><td style = \"text-align: right;\">4.83</td></tr><tr><td class = \"rowNumber\" style = \"font-weight: bold; text-align: right;\">6</td><td style = \"text-align: left;\">01/09/2024</td><td style = \"text-align: right;\">5.28</td><td style = \"text-align: right;\">5.39</td><td style = \"text-align: right;\">5.26</td><td style = \"text-align: right;\">5.39</td><td style = \"text-align: right;\">5.24</td><td style = \"text-align: right;\">5.4</td><td style = \"text-align: right;\">5.19</td><td style = \"text-align: right;\">5.37</td><td style = \"text-align: right;\">5.04</td><td style = \"text-align: right;\">5.26</td><td style = \"text-align: right;\">4.6</td><td style = \"text-align: right;\">4.84</td></tr><tr><td class = \"rowNumber\" style = \"font-weight: bold; text-align: right;\">7</td><td style = \"text-align: left;\">01/10/2024</td><td style = \"text-align: right;\">5.27</td><td style = \"text-align: right;\">5.38</td><td style = \"text-align: right;\">5.26</td><td style = \"text-align: right;\">5.39</td><td style = \"text-align: right;\">5.23</td><td style = \"text-align: right;\">5.39</td><td style = \"text-align: right;\">5.19</td><td style = \"text-align: right;\">5.37</td><td style = \"text-align: right;\">5.04</td><td style = \"text-align: right;\">5.26</td><td style = \"text-align: right;\">4.6</td><td style = \"text-align: right;\">4.84</td></tr><tr><td class = \"rowNumber\" style = \"font-weight: bold; text-align: right;\">8</td><td style = \"text-align: left;\">01/11/2024</td><td style = \"text-align: right;\">5.28</td><td style = \"text-align: right;\">5.39</td><td style = \"text-align: right;\">5.27</td><td style = \"text-align: right;\">5.4</td><td style = \"text-align: right;\">5.23</td><td style = \"text-align: right;\">5.39</td><td style = \"text-align: right;\">5.18</td><td style = \"text-align: right;\">5.36</td><td style = \"text-align: right;\">5.03</td><td style = \"text-align: right;\">5.25</td><td style = \"text-align: right;\">4.54</td><td style = \"text-align: right;\">4.77</td></tr><tr><td class = \"rowNumber\" style = \"font-weight: bold; text-align: right;\">9</td><td style = \"text-align: left;\">01/12/2024</td><td style = \"text-align: right;\">5.28</td><td style = \"text-align: right;\">5.39</td><td style = \"text-align: right;\">5.27</td><td style = \"text-align: right;\">5.4</td><td style = \"text-align: right;\">5.22</td><td style = \"text-align: right;\">5.37</td><td style = \"text-align: right;\">5.17</td><td style = \"text-align: right;\">5.35</td><td style = \"text-align: right;\">4.98</td><td style = \"text-align: right;\">5.19</td><td style = \"text-align: right;\">4.45</td><td style = \"text-align: right;\">4.67</td></tr><tr><td class = \"rowNumber\" style = \"font-weight: bold; text-align: right;\">10</td><td style = \"text-align: left;\">01/16/2024</td><td style = \"text-align: right;\">5.29</td><td style = \"text-align: right;\">5.4</td><td style = \"text-align: right;\">5.28</td><td style = \"text-align: right;\">5.41</td><td style = \"text-align: right;\">5.22</td><td style = \"text-align: right;\">5.38</td><td style = \"text-align: right;\">5.18</td><td style = \"text-align: right;\">5.36</td><td style = \"text-align: right;\">4.99</td><td style = \"text-align: right;\">5.2</td><td style = \"text-align: right;\">4.51</td><td style = \"text-align: right;\">4.74</td></tr><tr><td class = \"rowNumber\" style = \"font-weight: bold; text-align: right;\">11</td><td style = \"text-align: left;\">01/17/2024</td><td style = \"text-align: right;\">5.29</td><td style = \"text-align: right;\">5.4</td><td style = \"text-align: right;\">5.27</td><td style = \"text-align: right;\">5.4</td><td style = \"text-align: right;\">5.24</td><td style = \"text-align: right;\">5.4</td><td style = \"text-align: right;\">5.19</td><td style = \"text-align: right;\">5.37</td><td style = \"text-align: right;\">5.01</td><td style = \"text-align: right;\">5.23</td><td style = \"text-align: right;\">4.59</td><td style = \"text-align: right;\">4.83</td></tr><tr><td class = \"rowNumber\" style = \"font-weight: bold; text-align: right;\">12</td><td style = \"text-align: left;\">01/18/2024</td><td style = \"text-align: right;\">5.26</td><td style = \"text-align: right;\">5.37</td><td style = \"text-align: right;\">5.28</td><td style = \"text-align: right;\">5.41</td><td style = \"text-align: right;\">5.22</td><td style = \"text-align: right;\">5.38</td><td style = \"text-align: right;\">5.18</td><td style = \"text-align: right;\">5.36</td><td style = \"text-align: right;\">5.01</td><td style = \"text-align: right;\">5.23</td><td style = \"text-align: right;\">4.6</td><td style = \"text-align: right;\">4.84</td></tr><tr><td class = \"rowNumber\" style = \"font-weight: bold; text-align: right;\">13</td><td style = \"text-align: left;\">01/19/2024</td><td style = \"text-align: right;\">5.28</td><td style = \"text-align: right;\">5.39</td><td style = \"text-align: right;\">5.27</td><td style = \"text-align: right;\">5.4</td><td style = \"text-align: right;\">5.22</td><td style = \"text-align: right;\">5.37</td><td style = \"text-align: right;\">5.19</td><td style = \"text-align: right;\">5.37</td><td style = \"text-align: right;\">5.03</td><td style = \"text-align: right;\">5.24</td><td style = \"text-align: right;\">4.64</td><td style = \"text-align: right;\">4.88</td></tr><tr><td style = \"text-align: right;\">&vellip;</td><td style = \"text-align: right;\">&vellip;</td><td style = \"text-align: right;\">&vellip;</td><td style = \"text-align: right;\">&vellip;</td><td style = \"text-align: right;\">&vellip;</td><td style = \"text-align: right;\">&vellip;</td><td style = \"text-align: right;\">&vellip;</td><td style = \"text-align: right;\">&vellip;</td><td style = \"text-align: right;\">&vellip;</td><td style = \"text-align: right;\">&vellip;</td><td style = \"text-align: right;\">&vellip;</td><td style = \"text-align: right;\">&vellip;</td><td style = \"text-align: right;\">&vellip;</td><td style = \"text-align: right;\">&vellip;</td></tr><tr><td class = \"rowNumber\" style = \"font-weight: bold; text-align: right;\">162</td><td style = \"text-align: left;\">08/22/2024</td><td style = \"text-align: right;\">5.24</td><td style = \"text-align: right;\">5.33</td><td style = \"text-align: right;\">5.13</td><td style = \"text-align: right;\">5.24</td><td style = \"text-align: right;\">5.04</td><td style = \"text-align: right;\">5.18</td><td style = \"text-align: right;\">4.93</td><td style = \"text-align: right;\">5.08</td><td style = \"text-align: right;\">4.74</td><td style = \"text-align: right;\">4.92</td><td style = \"text-align: right;\">4.26</td><td style = \"text-align: right;\">4.46</td></tr><tr><td class = \"rowNumber\" style = \"font-weight: bold; text-align: right;\">163</td><td style = \"text-align: left;\">08/23/2024</td><td style = \"text-align: right;\">5.25</td><td style = \"text-align: right;\">5.34</td><td style = \"text-align: right;\">5.13</td><td style = \"text-align: right;\">5.24</td><td style = \"text-align: right;\">5.01</td><td style = \"text-align: right;\">5.14</td><td style = \"text-align: right;\">4.92</td><td style = \"text-align: right;\">5.07</td><td style = \"text-align: right;\">4.71</td><td style = \"text-align: right;\">4.89</td><td style = \"text-align: right;\">4.19</td><td style = \"text-align: right;\">4.38</td></tr><tr><td class = \"rowNumber\" style = \"font-weight: bold; text-align: right;\">164</td><td style = \"text-align: left;\">08/26/2024</td><td style = \"text-align: right;\">5.24</td><td style = \"text-align: right;\">5.33</td><td style = \"text-align: right;\">5.14</td><td style = \"text-align: right;\">5.25</td><td style = \"text-align: right;\">4.98</td><td style = \"text-align: right;\">5.11</td><td style = \"text-align: right;\">4.93</td><td style = \"text-align: right;\">5.08</td><td style = \"text-align: right;\">4.69</td><td style = \"text-align: right;\">4.87</td><td style = \"text-align: right;\">4.22</td><td style = \"text-align: right;\">4.41</td></tr><tr><td class = \"rowNumber\" style = \"font-weight: bold; text-align: right;\">165</td><td style = \"text-align: left;\">08/27/2024</td><td style = \"text-align: right;\">5.24</td><td style = \"text-align: right;\">5.33</td><td style = \"text-align: right;\">5.13</td><td style = \"text-align: right;\">5.24</td><td style = \"text-align: right;\">4.98</td><td style = \"text-align: right;\">5.11</td><td style = \"text-align: right;\">4.92</td><td style = \"text-align: right;\">5.07</td><td style = \"text-align: right;\">4.67</td><td style = \"text-align: right;\">4.85</td><td style = \"text-align: right;\">4.19</td><td style = \"text-align: right;\">4.38</td></tr><tr><td class = \"rowNumber\" style = \"font-weight: bold; text-align: right;\">166</td><td style = \"text-align: left;\">08/28/2024</td><td style = \"text-align: right;\">5.23</td><td style = \"text-align: right;\">5.32</td><td style = \"text-align: right;\">5.13</td><td style = \"text-align: right;\">5.24</td><td style = \"text-align: right;\">4.96</td><td style = \"text-align: right;\">5.09</td><td style = \"text-align: right;\">4.88</td><td style = \"text-align: right;\">5.03</td><td style = \"text-align: right;\">4.66</td><td style = \"text-align: right;\">4.84</td><td style = \"text-align: right;\">4.21</td><td style = \"text-align: right;\">4.4</td></tr><tr><td class = \"rowNumber\" style = \"font-weight: bold; text-align: right;\">167</td><td style = \"text-align: left;\">08/29/2024</td><td style = \"text-align: right;\">5.18</td><td style = \"text-align: right;\">5.27</td><td style = \"text-align: right;\">5.1</td><td style = \"text-align: right;\">5.21</td><td style = \"text-align: right;\">4.98</td><td style = \"text-align: right;\">5.11</td><td style = \"text-align: right;\">4.88</td><td style = \"text-align: right;\">5.03</td><td style = \"text-align: right;\">4.68</td><td style = \"text-align: right;\">4.86</td><td style = \"text-align: right;\">4.23</td><td style = \"text-align: right;\">4.42</td></tr><tr><td class = \"rowNumber\" style = \"font-weight: bold; text-align: right;\">168</td><td style = \"text-align: left;\">08/30/2024</td><td style = \"text-align: right;\">5.18</td><td style = \"text-align: right;\">5.27</td><td style = \"text-align: right;\">5.11</td><td style = \"text-align: right;\">5.22</td><td style = \"text-align: right;\">4.98</td><td style = \"text-align: right;\">5.11</td><td style = \"text-align: right;\">4.88</td><td style = \"text-align: right;\">5.03</td><td style = \"text-align: right;\">4.69</td><td style = \"text-align: right;\">4.87</td><td style = \"text-align: right;\">4.23</td><td style = \"text-align: right;\">4.42</td></tr><tr><td class = \"rowNumber\" style = \"font-weight: bold; text-align: right;\">169</td><td style = \"text-align: left;\">09/03/2024</td><td style = \"text-align: right;\">5.16</td><td style = \"text-align: right;\">5.25</td><td style = \"text-align: right;\">5.1</td><td style = \"text-align: right;\">5.21</td><td style = \"text-align: right;\">4.97</td><td style = \"text-align: right;\">5.1</td><td style = \"text-align: right;\">4.88</td><td style = \"text-align: right;\">5.03</td><td style = \"text-align: right;\">4.65</td><td style = \"text-align: right;\">4.83</td><td style = \"text-align: right;\">4.15</td><td style = \"text-align: right;\">4.34</td></tr><tr><td class = \"rowNumber\" style = \"font-weight: bold; text-align: right;\">170</td><td style = \"text-align: left;\">09/04/2024</td><td style = \"text-align: right;\">5.11</td><td style = \"text-align: right;\">5.2</td><td style = \"text-align: right;\">5.08</td><td style = \"text-align: right;\">5.19</td><td style = \"text-align: right;\">4.96</td><td style = \"text-align: right;\">5.09</td><td style = \"text-align: right;\">4.81</td><td style = \"text-align: right;\">4.96</td><td style = \"text-align: right;\">4.6</td><td style = \"text-align: right;\">4.77</td><td style = \"text-align: right;\">4.04</td><td style = \"text-align: right;\">4.23</td></tr><tr><td class = \"rowNumber\" style = \"font-weight: bold; text-align: right;\">171</td><td style = \"text-align: left;\">09/05/2024</td><td style = \"text-align: right;\">5.08</td><td style = \"text-align: right;\">5.17</td><td style = \"text-align: right;\">5.04</td><td style = \"text-align: right;\">5.15</td><td style = \"text-align: right;\">4.94</td><td style = \"text-align: right;\">5.07</td><td style = \"text-align: right;\">4.8</td><td style = \"text-align: right;\">4.95</td><td style = \"text-align: right;\">4.59</td><td style = \"text-align: right;\">4.76</td><td style = \"text-align: right;\">4.02</td><td style = \"text-align: right;\">4.2</td></tr><tr><td class = \"rowNumber\" style = \"font-weight: bold; text-align: right;\">172</td><td style = \"text-align: left;\">09/06/2024</td><td style = \"text-align: right;\">5.06</td><td style = \"text-align: right;\">5.15</td><td style = \"text-align: right;\">5.04</td><td style = \"text-align: right;\">5.15</td><td style = \"text-align: right;\">4.93</td><td style = \"text-align: right;\">5.06</td><td style = \"text-align: right;\">4.79</td><td style = \"text-align: right;\">4.93</td><td style = \"text-align: right;\">4.56</td><td style = \"text-align: right;\">4.73</td><td style = \"text-align: right;\">3.93</td><td style = \"text-align: right;\">4.11</td></tr><tr><td class = \"rowNumber\" style = \"font-weight: bold; text-align: right;\">173</td><td style = \"text-align: left;\">09/09/2024</td><td style = \"text-align: right;\">5.03</td><td style = \"text-align: right;\">5.12</td><td style = \"text-align: right;\">5.02</td><td style = \"text-align: right;\">5.13</td><td style = \"text-align: right;\">4.89</td><td style = \"text-align: right;\">5.02</td><td style = \"text-align: right;\">4.78</td><td style = \"text-align: right;\">4.92</td><td style = \"text-align: right;\">4.53</td><td style = \"text-align: right;\">4.7</td><td style = \"text-align: right;\">3.95</td><td style = \"text-align: right;\">4.13</td></tr></tbody></table></div>"
      ],
      "text/latex": [
       "\\begin{tabular}{r|ccccc}\n",
       "\t& Date & 4 WEEKS BANK DISCOUNT & 4 WEEKS COUPON EQUIVALENT & 8 WEEKS BANK DISCOUNT & \\\\\n",
       "\t\\hline\n",
       "\t& String15 & Float64 & Float64 & Float64 & \\\\\n",
       "\t\\hline\n",
       "\t1 & 01/02/2024 & 5.28 & 5.39 & 5.28 & $\\dots$ \\\\\n",
       "\t2 & 01/03/2024 & 5.27 & 5.38 & 5.28 & $\\dots$ \\\\\n",
       "\t3 & 01/04/2024 & 5.29 & 5.4 & 5.28 & $\\dots$ \\\\\n",
       "\t4 & 01/05/2024 & 5.28 & 5.39 & 5.27 & $\\dots$ \\\\\n",
       "\t5 & 01/08/2024 & 5.28 & 5.39 & 5.28 & $\\dots$ \\\\\n",
       "\t6 & 01/09/2024 & 5.28 & 5.39 & 5.26 & $\\dots$ \\\\\n",
       "\t7 & 01/10/2024 & 5.27 & 5.38 & 5.26 & $\\dots$ \\\\\n",
       "\t8 & 01/11/2024 & 5.28 & 5.39 & 5.27 & $\\dots$ \\\\\n",
       "\t9 & 01/12/2024 & 5.28 & 5.39 & 5.27 & $\\dots$ \\\\\n",
       "\t10 & 01/16/2024 & 5.29 & 5.4 & 5.28 & $\\dots$ \\\\\n",
       "\t11 & 01/17/2024 & 5.29 & 5.4 & 5.27 & $\\dots$ \\\\\n",
       "\t12 & 01/18/2024 & 5.26 & 5.37 & 5.28 & $\\dots$ \\\\\n",
       "\t13 & 01/19/2024 & 5.28 & 5.39 & 5.27 & $\\dots$ \\\\\n",
       "\t14 & 01/22/2024 & 5.27 & 5.38 & 5.27 & $\\dots$ \\\\\n",
       "\t15 & 01/23/2024 & 5.28 & 5.39 & 5.26 & $\\dots$ \\\\\n",
       "\t16 & 01/24/2024 & 5.27 & 5.38 & 5.25 & $\\dots$ \\\\\n",
       "\t17 & 01/25/2024 & 5.28 & 5.39 & 5.28 & $\\dots$ \\\\\n",
       "\t18 & 01/26/2024 & 5.27 & 5.38 & 5.25 & $\\dots$ \\\\\n",
       "\t19 & 01/29/2024 & 5.27 & 5.38 & 5.27 & $\\dots$ \\\\\n",
       "\t20 & 01/30/2024 & 5.27 & 5.38 & 5.27 & $\\dots$ \\\\\n",
       "\t21 & 01/31/2024 & 5.27 & 5.38 & 5.27 & $\\dots$ \\\\\n",
       "\t22 & 02/01/2024 & 5.28 & 5.39 & 5.28 & $\\dots$ \\\\\n",
       "\t23 & 02/02/2024 & 5.28 & 5.39 & 5.27 & $\\dots$ \\\\\n",
       "\t24 & 02/05/2024 & 5.28 & 5.39 & 5.27 & $\\dots$ \\\\\n",
       "\t25 & 02/06/2024 & 5.27 & 5.38 & 5.28 & $\\dots$ \\\\\n",
       "\t26 & 02/07/2024 & 5.26 & 5.37 & 5.27 & $\\dots$ \\\\\n",
       "\t27 & 02/08/2024 & 5.28 & 5.39 & 5.27 & $\\dots$ \\\\\n",
       "\t28 & 02/09/2024 & 5.28 & 5.39 & 5.27 & $\\dots$ \\\\\n",
       "\t29 & 02/12/2024 & 5.28 & 5.39 & 5.28 & $\\dots$ \\\\\n",
       "\t30 & 02/13/2024 & 5.27 & 5.38 & 5.29 & $\\dots$ \\\\\n",
       "\t$\\dots$ & $\\dots$ & $\\dots$ & $\\dots$ & $\\dots$ &  \\\\\n",
       "\\end{tabular}\n"
      ],
      "text/plain": [
       "\u001b[1m173×13 DataFrame\u001b[0m\n",
       "\u001b[1m Row \u001b[0m│\u001b[1m Date       \u001b[0m\u001b[1m 4 WEEKS BANK DISCOUNT \u001b[0m\u001b[1m 4 WEEKS COUPON EQUIVALENT \u001b[0m\u001b[1m 8 WEEKS B\u001b[0m ⋯\n",
       "     │\u001b[90m String15   \u001b[0m\u001b[90m Float64               \u001b[0m\u001b[90m Float64                   \u001b[0m\u001b[90m Float64  \u001b[0m ⋯\n",
       "─────┼──────────────────────────────────────────────────────────────────────────\n",
       "   1 │ 01/02/2024                   5.28                       5.39            ⋯\n",
       "   2 │ 01/03/2024                   5.27                       5.38\n",
       "   3 │ 01/04/2024                   5.29                       5.4\n",
       "   4 │ 01/05/2024                   5.28                       5.39\n",
       "   5 │ 01/08/2024                   5.28                       5.39            ⋯\n",
       "   6 │ 01/09/2024                   5.28                       5.39\n",
       "   7 │ 01/10/2024                   5.27                       5.38\n",
       "   8 │ 01/11/2024                   5.28                       5.39\n",
       "   9 │ 01/12/2024                   5.28                       5.39            ⋯\n",
       "  10 │ 01/16/2024                   5.29                       5.4\n",
       "  11 │ 01/17/2024                   5.29                       5.4\n",
       "  ⋮  │     ⋮                 ⋮                        ⋮                        ⋱\n",
       " 164 │ 08/26/2024                   5.24                       5.33\n",
       " 165 │ 08/27/2024                   5.24                       5.33            ⋯\n",
       " 166 │ 08/28/2024                   5.23                       5.32\n",
       " 167 │ 08/29/2024                   5.18                       5.27\n",
       " 168 │ 08/30/2024                   5.18                       5.27\n",
       " 169 │ 09/03/2024                   5.16                       5.25            ⋯\n",
       " 170 │ 09/04/2024                   5.11                       5.2\n",
       " 171 │ 09/05/2024                   5.08                       5.17\n",
       " 172 │ 09/06/2024                   5.06                       5.15\n",
       " 173 │ 09/09/2024                   5.03                       5.12            ⋯\n",
       "\u001b[36m                                                 10 columns and 152 rows omitted\u001b[0m"
      ]
     },
     "execution_count": 5,
     "metadata": {},
     "output_type": "execute_result"
    }
   ],
   "source": [
    "tbill_rates_dataset = CSV.read(joinpath(_PATH_TO_DATA, \"UST-Daily-TBill-Rates-2024.csv\"), DataFrame) |> reverse"
   ]
  },
  {
   "cell_type": "markdown",
   "id": "c1dfbc81-dac8-4619-adc2-4123e475c4ab",
   "metadata": {},
   "source": [
    "Given that we are using daily data, the time step is `1-day` in units of trading years, i.e., a year consisting of approximately 252 trading days. Alternatively, we could use a calendar `365-day` year. Given the model development below, both choices will give equal results. Set the time step in the `Δt::Float64` variable."
   ]
  },
  {
   "cell_type": "code",
   "execution_count": 7,
   "id": "601ca3a3-7db2-4880-9bf5-d62430a80c79",
   "metadata": {},
   "outputs": [],
   "source": [
    "Δt = (1/365); "
   ]
  },
  {
   "cell_type": "markdown",
   "id": "44f89a30-74e0-4f58-8e5c-5d370772c453",
   "metadata": {},
   "source": [
    "## Task 1: Build a Lattice Model and look at its properties\n",
    "In this task, we'll build a lattice model, look at its properties, and compare our calculations with [an online example lattice](https://martin-haugh.github.io/files/FoundationsFE/lattice_models.pdf) to check our implementation. First, we specify values for the probability of an `up` move $p$, the `up` factor $u$, the `down` factor $d$, the number of levels `T,` and the root value `rₒ.` Then, we populate the tree and look at its fields (so we understand what is in the tree model and how the data is stored)."
   ]
  },
  {
   "cell_type": "code",
   "execution_count": 9,
   "id": "c7dfbcc4-5dab-4891-aebb-c4d22c36cd46",
   "metadata": {},
   "outputs": [],
   "source": [
    "# parameters were chosen to mimic Haugh term structure notes, see https://martin-haugh.github.io/teaching/foundations-fe/\n",
    "p = 0.50;  # probability of an up move\n",
    "u = 1.25;  # up factor\n",
    "d = 0.9;   # down factor\n",
    "T = 5;     # number of levels excluding root in the tree => zero-based, so this will give T + 1 levels\n",
    "rₒ = 0.06; # initial value of rate at the root node"
   ]
  },
  {
   "cell_type": "markdown",
   "id": "520f52d3-942e-49fc-8f22-3f8f67b13610",
   "metadata": {},
   "source": [
    "Next, we construct a [`MySymmetricBinaryInterestRateLatticeModel` instance](https://varnerlab.github.io/VLQuantitativeFinancePackage.jl/dev/fixed/#VLQuantitativeFinancePackage.MySymmetricBinaryInterestRateLatticeModel), which holds the data for the lattice model, using [a custom `build(...)` method](https://varnerlab.github.io/VLQuantitativeFinancePackage.jl/dev/fixed/#VLQuantitativeFinancePackage.build-Tuple{Type{MySymmetricBinaryInterestRateLatticeModel},%20NamedTuple}). The [`build(...)` method](https://varnerlab.github.io/VLQuantitativeFinancePackage.jl/dev/fixed/#VLQuantitativeFinancePackage.build-Tuple{Type{MySymmetricBinaryInterestRateLatticeModel},%20NamedTuple}) takes two arguments and returns a partially populate tree model. \n",
    "* The first argument is the type of model that we want to build, i.e., [a `MySymmetricBinaryInterestRateLatticeModel` type](https://varnerlab.github.io/VLQuantitativeFinancePackage.jl/dev/fixed/#VLQuantitativeFinancePackage.MySymmetricBinaryInterestRateLatticeModel). In contrast, the second argument is the data required for the tree passed in [using a Julia `NamedTuple`](https://docs.julialang.org/en/v1/base/base/#Core.NamedTuple). The [`build(...)` method](https://varnerlab.github.io/VLQuantitativeFinancePackage.jl/dev/fixed/#VLQuantitativeFinancePackage.build-Tuple{Type{MySymmetricBinaryInterestRateLatticeModel},%20NamedTuple}) returns a partially initialized tree model where the computed properties are _not set_.\n",
    "* To populate the computed properties, we pass the partially initialized model to [the `populate(...)` method](https://varnerlab.github.io/VLQuantitativeFinancePackage.jl/dev/fixed/#VLQuantitativeFinancePackage.populate-Tuple{MySymmetricBinaryInterestRateLatticeModel}) which completes the set up of the lattice model using [the Julia pipe `|>` operator](https://docs.julialang.org/en/v1/manual/functions/#Function-composition-and-piping)."
   ]
  },
  {
   "cell_type": "code",
   "execution_count": 11,
   "id": "7ee54b0a-b88e-4455-a4fb-720cc6b1b9f6",
   "metadata": {},
   "outputs": [],
   "source": [
    "my_lattice_tree_model = build(MySymmetricBinaryInterestRateLatticeModel, (\n",
    "    p = p, u = u, d = d, T = T, rₒ = rₒ\n",
    ")) |> populate;"
   ]
  },
  {
   "cell_type": "markdown",
   "id": "e5420721-a18b-4f02-8be1-47f736e64da7",
   "metadata": {},
   "source": [
    "The data for each node in the tree model is contained in [a `MyBinaryInterestRateLatticeNodeModel` instance](https://varnerlab.github.io/VLQuantitativeFinancePackage.jl/dev/fixed/#VLQuantitativeFinancePackage.MyBinaryInterestRateLatticeNodeModel), which can be accessed through the `data` dictionary field. The key of the `data` dictionary is the node index, while the value is [a `MyBinaryInterestRateLatticeNodeModel` instance](https://varnerlab.github.io/VLQuantitativeFinancePackage.jl/dev/fixed/#VLQuantitativeFinancePackage.MyBinaryInterestRateLatticeNodeModel)."
   ]
  },
  {
   "cell_type": "code",
   "execution_count": 13,
   "id": "0ea57c7b-ccaa-4d9f-892e-c35237201b52",
   "metadata": {},
   "outputs": [
    {
     "data": {
      "text/plain": [
       "Dict{Int64, MyBinaryInterestRateLatticeNodeModel} with 21 entries:\n",
       "  5  => MyBinaryInterestRateLatticeNodeModel(0.25, 0.0486, 0.0)\n",
       "  16 => MyBinaryInterestRateLatticeNodeModel(0.15625, 0.131836, 6.73214e-314)\n",
       "  20 => MyBinaryInterestRateLatticeNodeModel(0.03125, 0.0354294, 2.3458e-314)\n",
       "  12 => MyBinaryInterestRateLatticeNodeModel(0.375, 0.0759375, 6.68044e-314)\n",
       "  8  => MyBinaryInterestRateLatticeNodeModel(0.375, 0.06075, 0.0)\n",
       "  17 => MyBinaryInterestRateLatticeNodeModel(0.3125, 0.0949219, 2.24199e-314)\n",
       "  1  => MyBinaryInterestRateLatticeNodeModel(0.5, 0.075, 6.68044e-314)\n",
       "  19 => MyBinaryInterestRateLatticeNodeModel(0.15625, 0.0492075, 2.38005e-314)\n",
       "  0  => MyBinaryInterestRateLatticeNodeModel(1.0, 0.06, 6.68044e-314)\n",
       "  6  => MyBinaryInterestRateLatticeNodeModel(0.125, 0.117188, 1.11261e-306)\n",
       "  11 => MyBinaryInterestRateLatticeNodeModel(0.25, 0.105469, 6.68044e-314)\n",
       "  9  => MyBinaryInterestRateLatticeNodeModel(0.125, 0.04374, 2.12573e-314)\n",
       "  14 => MyBinaryInterestRateLatticeNodeModel(0.0625, 0.039366, 5.0e-324)\n",
       "  3  => MyBinaryInterestRateLatticeNodeModel(0.25, 0.09375, 2.37763e-314)\n",
       "  7  => MyBinaryInterestRateLatticeNodeModel(0.375, 0.084375, 2.37765e-314)\n",
       "  4  => MyBinaryInterestRateLatticeNodeModel(0.5, 0.0675, 2.37765e-314)\n",
       "  13 => MyBinaryInterestRateLatticeNodeModel(0.25, 0.054675, 2.38598e-314)\n",
       "  15 => MyBinaryInterestRateLatticeNodeModel(0.03125, 0.183105, 0.0)\n",
       "  2  => MyBinaryInterestRateLatticeNodeModel(0.5, 0.054, 6.68044e-314)\n",
       "  10 => MyBinaryInterestRateLatticeNodeModel(0.0625, 0.146484, 0.0)\n",
       "  18 => MyBinaryInterestRateLatticeNodeModel(0.3125, 0.0683438, 6.68044e-314)"
      ]
     },
     "execution_count": 13,
     "metadata": {},
     "output_type": "execute_result"
    }
   ],
   "source": [
    "my_lattice_tree_model.data"
   ]
  },
  {
   "cell_type": "markdown",
   "id": "3a941dde-68c2-48e8-b5ca-b2e312daee77",
   "metadata": {},
   "source": [
    "The `connectivity::Dict{Int64, Vector{Int64}}` dictionary holds information about the connectivity of the tree model. The keys of the `connectivity::Dict{Int64, Vector{Int64}}` dictionary are the node indices, while the values are arrays holding the children indices of each node."
   ]
  },
  {
   "cell_type": "code",
   "execution_count": 15,
   "id": "ab84bf64-5e61-45fa-aaf9-c213197d8b57",
   "metadata": {},
   "outputs": [
    {
     "data": {
      "text/plain": [
       "Dict{Int64, Vector{Int64}} with 15 entries:\n",
       "  5  => [8, 9]\n",
       "  12 => [17, 18]\n",
       "  8  => [12, 13]\n",
       "  1  => [3, 4]\n",
       "  0  => [1, 2]\n",
       "  6  => [10, 11]\n",
       "  11 => [16, 17]\n",
       "  9  => [13, 14]\n",
       "  14 => [19, 20]\n",
       "  3  => [6, 7]\n",
       "  7  => [11, 12]\n",
       "  4  => [7, 8]\n",
       "  13 => [18, 19]\n",
       "  2  => [4, 5]\n",
       "  10 => [15, 16]"
      ]
     },
     "execution_count": 15,
     "metadata": {},
     "output_type": "execute_result"
    }
   ],
   "source": [
    "my_lattice_tree_model.connectivity"
   ]
  },
  {
   "cell_type": "markdown",
   "id": "b693fa34-6029-4b34-a380-505f2cab8c01",
   "metadata": {},
   "source": [
    "The `levels::Dict{Int64, Vector{Int64}}` dictionary holds information about the nodes on each level of the tree model. The keys of the `levels::Dict{Int64, Vector{Int64}}` dictionary are the index of the level, while the values array holds the node indices on the level."
   ]
  },
  {
   "cell_type": "code",
   "execution_count": 17,
   "id": "10726312-627d-4462-a0c0-bfc9396c0a52",
   "metadata": {},
   "outputs": [
    {
     "data": {
      "text/plain": [
       "Dict{Int64, Vector{Int64}} with 6 entries:\n",
       "  0 => [0]\n",
       "  4 => [10, 11, 12, 13, 14]\n",
       "  5 => [15, 16, 17, 18, 19, 20]\n",
       "  2 => [3, 4, 5]\n",
       "  3 => [6, 7, 8, 9]\n",
       "  1 => [1, 2]"
      ]
     },
     "execution_count": 17,
     "metadata": {},
     "output_type": "execute_result"
    }
   ],
   "source": [
    "my_lattice_tree_model.levels"
   ]
  },
  {
   "cell_type": "markdown",
   "id": "4311a902-b8c9-4319-8bc0-7755d0b8e105",
   "metadata": {},
   "source": [
    "### Check: Compare the values in the tree against Haugh\n",
    "Let's compare our rate values against [the Haugh course notes example](https://martin-haugh.github.io/teaching/foundations-fe/) to see if they are the same. The Haugh values will be stored in the `haugh_node_dictionary::Dict{Int64, Float64}` dictionary, where the keys will be the node index, and the values will be the interest rates. We'll particularly look at the leaves of the tree, i.e., level `5` in our nomenclature."
   ]
  },
  {
   "cell_type": "code",
   "execution_count": 19,
   "id": "9cc7f55d-5f4b-4d99-aa38-5072b1e6f475",
   "metadata": {},
   "outputs": [],
   "source": [
    "haugh_node_dictionary = Dict{Int64,Float64}();\n",
    "haugh_node_dictionary[15] = 0.183;\n",
    "haugh_node_dictionary[16] = 0.132;\n",
    "haugh_node_dictionary[17] = 0.095;\n",
    "haugh_node_dictionary[18] = 0.068;\n",
    "haugh_node_dictionary[19] = 0.049;\n",
    "haugh_node_dictionary[20] = 0.035;"
   ]
  },
  {
   "cell_type": "markdown",
   "id": "b905cab6-01b0-419f-b164-3661c6c1533d",
   "metadata": {},
   "source": [
    "We'll compare the values by iterating over the `haugh_node_dictionary` dictionary, where `k` denotes the key and `v` represents the value. We access the `data` field on `my_lattice_tree_model,` access the rate value on the node at `key = k,` and then round the rate value for comparison [using the `round(...)` method](https://docs.julialang.org/en/v1/base/math/#Base.round-Tuple{Type,%20Any}).\n",
    "* For the comparison, we use the [Julia @assert macro](https://docs.julialang.org/en/v1/base/base/#Base.@assert) where we compare our rate with the Haugh value, i.e., `r == v.` If this comparison fails, [an AssertError is thrown](https://docs.julialang.org/en/v1/base/base/#Core.AssertionError)."
   ]
  },
  {
   "cell_type": "code",
   "execution_count": 21,
   "id": "dfed0077-aad3-4e35-8c81-7d2f7787d93f",
   "metadata": {},
   "outputs": [],
   "source": [
    "for (k,v) ∈ haugh_node_dictionary\n",
    "    r = my_lattice_tree_model.data[k].rate |> x -> round(x, digits = 3); # our value rounded for comparison\n",
    "    @assert r == v\n",
    "end"
   ]
  },
  {
   "cell_type": "markdown",
   "id": "b74b47fa-dfbb-4bc0-90e5-39d3c58b81cc",
   "metadata": {},
   "source": [
    "## Task 2: Simulate the Lattice Model using the Treasury Data\n",
    "In this task, we'll estimate values for the $(u,d,p)$ lattice model parameters by analyzing the values in the `tbill_rates_dataset::DataFrame` dataset and then simulate potential future interest rates. However, before we can do this, we must specify which maturity Treasury Bill we will explore. Let's specify this in the `key_column_name::String` variable."
   ]
  },
  {
   "cell_type": "code",
   "execution_count": 23,
   "id": "6977f954-d0b3-46ad-841c-e1a60d8a8c23",
   "metadata": {},
   "outputs": [],
   "source": [
    "key_column_name = \"52 WEEKS COUPON EQUIVALENT\"; # you can select any col, but let's pick the 1-year T-bill"
   ]
  },
  {
   "cell_type": "markdown",
   "id": "5ec2c790-7960-4fad-b088-2c059bab4a3d",
   "metadata": {},
   "source": [
    "### TODO: Analysis of the Interest Growth Rate\n",
    "We'll estimate values for $(u,d,p)$ lattice parameters by analyzing the reported interest rate data. Suppose the interest rates were continuously compounded such that:\n",
    "$$\n",
    "\\begin{equation}\n",
    "r_{j} = r_{i-1}\\cdot\\exp\\left(\\mu_{j,j-1}\\cdot\\Delta{t}\\right)\n",
    "\\end{equation}\n",
    "$$\n",
    "where $r_{\\star}$ denotes the rate at time index $\\star$, $\\mu_{j,j-1}$ denotes the annual growth rate of $r$ between time index $j-1\\rightarrow{j}$, and $\\Delta{t}$ denotes the time difference between time index $j - 1\\rightarrow{j}$ (units: years). We can rearrange and estimate growth rate values:\n",
    "$$\n",
    "\\mu_{j,j-1} = \\left(\\frac{1}{\\Delta{t}}\\right)\\cdot\\log\\left(\\frac{r_{j}}{r_{i-1}}\\right)\n",
    "$$\n",
    "for each time interval $j - 1\\rightarrow{j}$ in the data. Let's implement this logic in the code block below.\n",
    "* First, we compute the number of days of data we have in the `tbill_rates_dataset::DataFrame` by accessing the data associated with the `key_column_name::String` and then using the [Julia `length(...)` method](https://docs.julialang.org/en/v1/base/arrays/#Base.length-Tuple{AbstractArray}) in combination with [the `|>` pipe operator](https://docs.julialang.org/en/v1/manual/functions/#Function-composition-and-piping). We save this value in the `number_of_values::Int64` variable. Finally, we initialize some storage for the growth rate values in the `rates_return_array::Array{Float64,1}` array, which will have `number_of_values - 1` entries.\n",
    "* Next, we iterate through the days of data, i.e., from the day `2` $\\rightarrow$ `number_of_values` using a [Julia `for-loop`](https://docs.julialang.org/en/v1/base/base/#for). For each day (index `i`), we get the $r_{j-1}$ and $r_{j}$ values from the `tbill_rates_dataset::DataFrame,` then compute the growth rate value and store it in the `rates_return_array::Array{Float64,1}` array. Note: the data is in percentages, so we convert it to decimal for the growth rate calculations."
   ]
  },
  {
   "cell_type": "code",
   "execution_count": 25,
   "id": "adb234eb-dc40-45df-ae41-2977cd995be3",
   "metadata": {},
   "outputs": [],
   "source": [
    "# number_of_values = tbill_rates_dataset[:,key_column_name] |> length;\n",
    "number_of_values = 120; # what we had before 153\n",
    "rates_return_array = Array{Float64,1}(undef, number_of_values - 1);\n",
    "for i ∈ 2:number_of_values\n",
    "    rᵢ = tbill_rates_dataset[i-1,key_column_name] |> x-> x/100.0;\n",
    "    r₂ = tbill_rates_dataset[i,key_column_name] |> x-> x/100.0;\n",
    "    rates_return_array[i-1] = (1/Δt)*log(r₂/rᵢ)\n",
    "end"
   ]
  },
  {
   "cell_type": "markdown",
   "id": "903d269c-1308-415d-9386-cdeffeceda69",
   "metadata": {},
   "source": [
    "#### Estimate the `up` factor $u$\n",
    "We estimate the `up` factor $u$ by finding the indexes of all instances of up moves in the `rates_return_array::Array{Float64,1}` array using the [Julia `findall(...)` method](https://docs.julialang.org/en/v1/base/arrays/#Base.findall-Tuple{Function,%20Any}), where the `x -> x ≥ 0` is a [Julia Anonymous function](https://docs.julialang.org/en/v1/manual/functions/#man-anonymous-functions) that check for entries in the `rates_return_array::Array{Float64,1}` array that are non-negative. We save the index vector corresponding to non-negative values in the `i` variable.\n",
    "* To estimate the `up` factor $u$, we pass the index vector `i` to the `rates_return_array::Array{Float64,1}` array, which selects the non-negative values, we then compute the mean, and finally compute the `up` factor $u$. We save this value in the `u::Float64` variable."
   ]
  },
  {
   "cell_type": "code",
   "execution_count": 27,
   "id": "5ae7900f-c15f-40ce-a18d-d5f4c1fea319",
   "metadata": {},
   "outputs": [
    {
     "name": "stdout",
     "output_type": "stream",
     "text": [
      "Estimated mean up factor u = 1.0055014010378496\n"
     ]
    }
   ],
   "source": [
    "i = findall(x -> x ≥ 0, rates_return_array); # strictly positive, or non-negative?\n",
    "u = rates_return_array[i] |> mean |> μ̄ -> exp(μ̄*Δt); # mean increase per day\n",
    "println(\"Estimated mean up factor u = $(u)\")"
   ]
  },
  {
   "cell_type": "markdown",
   "id": "6c16cd89-37af-4e0d-9a7a-0f1e33ddb574",
   "metadata": {},
   "source": [
    "#### Estimate the `down` factor $d$\n",
    "We estimate the `down` factor $d$ by finding the indexes of all instances of down moves in the `rates_return_array::Array{Float64,1}` array using the [Julia `findall(...)` method](https://docs.julialang.org/en/v1/base/arrays/#Base.findall-Tuple{Function,%20Any}), where the `x -> x < 0` is a [Julia Anonymous function](https://docs.julialang.org/en/v1/manual/functions/#man-anonymous-functions) that checks for entries in the `rates_return_array::Array{Float64,1}` array that are negative. We save the index vector corresponding to non-negative values in the `j` variable.\n",
    "* To estimate the `down` factor $d$, we pass the index vector `j` to the `rates_return_array::Array{Float64,1}` array, which selects the negative values; we then compute the mean and finally compute the `down` factor $d$. We save this value in the `d::Float64` variable."
   ]
  },
  {
   "cell_type": "code",
   "execution_count": 29,
   "id": "4d9e76bc-15f4-4aaa-a90e-42c9990264c0",
   "metadata": {},
   "outputs": [
    {
     "name": "stdout",
     "output_type": "stream",
     "text": [
      "Estimated mean down factor d = 0.993889964514726\n"
     ]
    }
   ],
   "source": [
    "j = findall(x-> x < 0, rates_return_array);\n",
    "d = rates_return_array[j] |> mean |> μ̄ -> exp(μ̄*Δt); # average decrease per day\n",
    "println(\"Estimated mean down factor d = $(d)\")"
   ]
  },
  {
   "cell_type": "markdown",
   "id": "94551564-e8f4-4ab4-b3cf-80e93e7367b3",
   "metadata": {},
   "source": [
    "#### Estimate the probability of an `up` move $p$\n",
    "Finally, we can estimate the probability of observing an `up` move by dividing the number of up moves that we observed, computed by calculating the length of the `i` index vector using the [Julia `length(...)` method](https://docs.julialang.org/en/v1/base/arrays/#Base.length-Tuple{AbstractArray}), and dividing it by the total number of occurrences, i.e., `number_of_values - 1`. We save the probability $p$ in the `p::Float64` variable."
   ]
  },
  {
   "cell_type": "code",
   "execution_count": 31,
   "id": "038aeb3b-a40d-4445-b524-bd9d50c9acd0",
   "metadata": {},
   "outputs": [
    {
     "name": "stdout",
     "output_type": "stream",
     "text": [
      "Estimated probability of up move p = 0.5714285714285714\n"
     ]
    }
   ],
   "source": [
    "p = length(i)/(number_of_values - 1); # count the number of moves/all moves\n",
    "println(\"Estimated probability of up move p = $(p)\")"
   ]
  },
  {
   "cell_type": "markdown",
   "id": "469f1d6f-ba2b-4628-9bda-2a4203af36c8",
   "metadata": {},
   "source": [
    "### Check: Are the `up` and `down` moves symmetrical?\n",
    "Later on (when dealing with another type of lattice model), we make the assumption that the `up` and `down` moves are symmetrical, i.e., $u = d^{-1}$. Is this relationship observed in the data? Toward this question, let's compute the percentage error $\\epsilon$:\n",
    "$$\n",
    "\\begin{equation}\n",
    "\\epsilon \\equiv 100\\cdot\\left|u\\cdot{d} - 1\\right|\n",
    "\\end{equation}\n",
    "$$\n",
    "and see how close the values are. Using the default setup in this example $\\epsilon<1\\%$. Thus, the assumption of symmetry is a pretty good approximation of reality."
   ]
  },
  {
   "cell_type": "code",
   "execution_count": 33,
   "id": "d625c90e-689b-4b2c-84df-91fb92c3b913",
   "metadata": {},
   "outputs": [
    {
     "name": "stdout",
     "output_type": "stream",
     "text": [
      "û = 1.0061475975242966, u = 1.0055014010378496 and ϵ = 0.0642248202984419%\n"
     ]
    }
   ],
   "source": [
    "let\n",
    "    û = 1/d;\n",
    "    ϵ = 100*abs(u*d - 1)\n",
    "    println(\"û = $(û), u = $(u) and ϵ = $(ϵ)%\")\n",
    "end"
   ]
  },
  {
   "cell_type": "markdown",
   "id": "0e868cf4-90a6-4406-b01b-55cb0c2c3427",
   "metadata": {},
   "source": [
    "### TODO: Simulate the future interest rates\n",
    "Now that we have constructed (and checked) the interest rate tree and estimated the $(u,d,p)$ parameters from data, we can use this approach to simulate possible future interest rates. Let's specify how many days we want to simulate and the initial rate value at the tree's root to do this. "
   ]
  },
  {
   "cell_type": "code",
   "execution_count": 35,
   "id": "1bf6e557-9335-4bb6-856f-6de05bac30ec",
   "metadata": {},
   "outputs": [],
   "source": [
    "startindex = 1; # where do we start\n",
    "T = 172; # zero based, we will have T + 1 levels\n",
    "rₒ = tbill_rates_dataset[startindex, key_column_name]*(1/100); # value corresponding to startindex root value"
   ]
  },
  {
   "cell_type": "markdown",
   "id": "5c62ab92-714b-4a02-b798-811dfdf1e868",
   "metadata": {},
   "source": [
    "Now, update the tree model fields with the estimated $(u,d,p)$ values, the new `T` value, and the root interest rate, and repopulate the tree with new data by calling [the `populate(...)` method](https://varnerlab.github.io/VLQuantitativeFinancePackage.jl/dev/fixed/#VLQuantitativeFinancePackage.populate-Tuple{MySymmetricBinaryInterestRateLatticeModel})"
   ]
  },
  {
   "cell_type": "code",
   "execution_count": 37,
   "id": "5f4daddd-9709-40cf-b78e-e15e5cf66f5c",
   "metadata": {},
   "outputs": [],
   "source": [
    "my_lattice_tree_model.p = p;\n",
    "my_lattice_tree_model.u = u;\n",
    "my_lattice_tree_model.d = d;\n",
    "my_lattice_tree_model.T = T;\n",
    "my_lattice_tree_model.rₒ = rₒ;\n",
    "my_lattice_tree_model = my_lattice_tree_model |> populate;"
   ]
  },
  {
   "cell_type": "markdown",
   "id": "01e1aa08-2c2d-4fdd-8e37-8c4620d8d808",
   "metadata": {},
   "source": [
    "Finally, we compute the expectation and variance of the rates in the tree using [the `expectation(...)`](https://varnerlab.github.io/VLQuantitativeFinancePackage.jl/dev/fixed/#VLQuantitativeFinancePackage.expectation-Tuple{MySymmetricBinaryInterestRateLatticeModel}) and [`variance(...)`](https://varnerlab.github.io/VLQuantitativeFinancePackage.jl/dev/fixed/#VLQuantitativeFinancePackage.variance-Tuple{MySymmetricBinaryInterestRateLatticeModel}) methods, respectively. Each method takes the `my_lattice_tree_model` instance as its only argument and returns a dictionary with the expected values (or the variance) for each tree level. The keys of each dictionary are the level indexes, while the values are the expected values or the variance for that level."
   ]
  },
  {
   "cell_type": "code",
   "execution_count": 39,
   "id": "05a97362-c2dc-4296-a4a7-ac8ec596adb0",
   "metadata": {},
   "outputs": [
    {
     "data": {
      "text/plain": [
       "Dict{Int64, Float64} with 173 entries:\n",
       "  56  => 4.53635e-6\n",
       "  35  => 2.77243e-6\n",
       "  60  => 4.88115e-6\n",
       "  67  => 5.49146e-6\n",
       "  73  => 6.02163e-6\n",
       "  115 => 9.92065e-6\n",
       "  112 => 9.63099e-6\n",
       "  86  => 7.19301e-6\n",
       "  168 => 1.53355e-5\n",
       "  12  => 9.27519e-7\n",
       "  75  => 6.19982e-6\n",
       "  23  => 1.79872e-6\n",
       "  111 => 9.53483e-6\n",
       "  41  => 3.26855e-6\n",
       "  68  => 5.57937e-6\n",
       "  82  => 6.82926e-6\n",
       "  130 => 1.13955e-5\n",
       "  125 => 1.08989e-5\n",
       "  77  => 6.37874e-6\n",
       "  172 => 1.57677e-5\n",
       "  71  => 5.84418e-6\n",
       "  66  => 5.40373e-6\n",
       "  103 => 8.77248e-6\n",
       "  59  => 4.79468e-6\n",
       "  26  => 2.03985e-6\n",
       "  ⋮   => ⋮"
      ]
     },
     "execution_count": 39,
     "metadata": {},
     "output_type": "execute_result"
    }
   ],
   "source": [
    "lattice_rate_expectation = expectation(my_lattice_tree_model);\n",
    "lattice_rate_variance = variance(my_lattice_tree_model)"
   ]
  },
  {
   "cell_type": "markdown",
   "id": "6b90aa39-7409-486d-b0db-6aef251e3f57",
   "metadata": {},
   "source": [
    "#### Visualize lattice simulations\n",
    "`Unhide` the code block below to see how we plotted the expected spot rate (blue line), the uncertainty cone (light blue region), and the observed spot rate (red line) for the `key_column_name` T-bill data. We used values for the $(u,d,p)$ lattice parameters estimated from data.\n",
    "* __Summary__: The expected value of the spot rate, calculated using the lattice, closely matches the observed spot rate for around 20 days (given the default `startindex` value). However, after this period, the observed spot rate exceeds the simulated expected value.\n",
    "* So what?: Since the lattice parameters are derived from data, we can consider the expected spot rate as a fundamental estimate. Therefore, if the observed spot rate is higher than the simulated expected spot rate, we may interpret this as a signal to __buy__, especially if we believe that the spot rate tends to revert to its mean. "
   ]
  },
  {
   "cell_type": "code",
   "execution_count": 41,
   "id": "d3068e30-dfb0-434e-8383-2c9220e370dd",
   "metadata": {},
   "outputs": [
    {
     "data": {
      "image/svg+xml": [
       "<?xml version=\"1.0\" encoding=\"utf-8\"?>\n",
       "<svg xmlns=\"http://www.w3.org/2000/svg\" xmlns:xlink=\"http://www.w3.org/1999/xlink\" width=\"600\" height=\"400\" viewBox=\"0 0 2400 1600\">\n",
       "<defs>\n",
       "  <clipPath id=\"clip820\">\n",
       "    <rect x=\"0\" y=\"0\" width=\"2400\" height=\"1600\"/>\n",
       "  </clipPath>\n",
       "</defs>\n",
       "<path clip-path=\"url(#clip820)\" d=\"M0 1600 L2400 1600 L2400 8.88178e-14 L0 8.88178e-14  Z\" fill=\"#ffffff\" fill-rule=\"evenodd\" fill-opacity=\"1\"/>\n",
       "<defs>\n",
       "  <clipPath id=\"clip821\">\n",
       "    <rect x=\"480\" y=\"0\" width=\"1681\" height=\"1600\"/>\n",
       "  </clipPath>\n",
       "</defs>\n",
       "<path clip-path=\"url(#clip820)\" d=\"M250.352 1423.18 L2352.76 1423.18 L2352.76 47.2441 L250.352 47.2441  Z\" fill=\"#f2f2f2\" fill-rule=\"evenodd\" fill-opacity=\"1\"/>\n",
       "<defs>\n",
       "  <clipPath id=\"clip822\">\n",
       "    <rect x=\"250\" y=\"47\" width=\"2103\" height=\"1377\"/>\n",
       "  </clipPath>\n",
       "</defs>\n",
       "<polyline clip-path=\"url(#clip822)\" style=\"stroke:#000000; stroke-linecap:round; stroke-linejoin:round; stroke-width:2; stroke-opacity:0.1; fill:none\" points=\"298.323,1423.18 298.323,47.2441 \"/>\n",
       "<polyline clip-path=\"url(#clip822)\" style=\"stroke:#000000; stroke-linecap:round; stroke-linejoin:round; stroke-width:2; stroke-opacity:0.1; fill:none\" points=\"874.892,1423.18 874.892,47.2441 \"/>\n",
       "<polyline clip-path=\"url(#clip822)\" style=\"stroke:#000000; stroke-linecap:round; stroke-linejoin:round; stroke-width:2; stroke-opacity:0.1; fill:none\" points=\"1451.46,1423.18 1451.46,47.2441 \"/>\n",
       "<polyline clip-path=\"url(#clip822)\" style=\"stroke:#000000; stroke-linecap:round; stroke-linejoin:round; stroke-width:2; stroke-opacity:0.1; fill:none\" points=\"2028.03,1423.18 2028.03,47.2441 \"/>\n",
       "<polyline clip-path=\"url(#clip822)\" style=\"stroke:#000000; stroke-linecap:round; stroke-linejoin:round; stroke-width:2; stroke-opacity:0.1; fill:none\" points=\"298.323,1423.18 298.323,47.2441 \"/>\n",
       "<polyline clip-path=\"url(#clip822)\" style=\"stroke:#000000; stroke-linecap:round; stroke-linejoin:round; stroke-width:2; stroke-opacity:0.1; fill:none\" points=\"874.892,1423.18 874.892,47.2441 \"/>\n",
       "<polyline clip-path=\"url(#clip822)\" style=\"stroke:#000000; stroke-linecap:round; stroke-linejoin:round; stroke-width:2; stroke-opacity:0.1; fill:none\" points=\"1451.46,1423.18 1451.46,47.2441 \"/>\n",
       "<polyline clip-path=\"url(#clip822)\" style=\"stroke:#000000; stroke-linecap:round; stroke-linejoin:round; stroke-width:2; stroke-opacity:0.1; fill:none\" points=\"2028.03,1423.18 2028.03,47.2441 \"/>\n",
       "<polyline clip-path=\"url(#clip822)\" style=\"stroke:#000000; stroke-linecap:round; stroke-linejoin:round; stroke-width:2; stroke-opacity:0.1; fill:none\" points=\"250.352,1267.11 2352.76,1267.11 \"/>\n",
       "<polyline clip-path=\"url(#clip822)\" style=\"stroke:#000000; stroke-linecap:round; stroke-linejoin:round; stroke-width:2; stroke-opacity:0.1; fill:none\" points=\"250.352,1057.96 2352.76,1057.96 \"/>\n",
       "<polyline clip-path=\"url(#clip822)\" style=\"stroke:#000000; stroke-linecap:round; stroke-linejoin:round; stroke-width:2; stroke-opacity:0.1; fill:none\" points=\"250.352,848.815 2352.76,848.815 \"/>\n",
       "<polyline clip-path=\"url(#clip822)\" style=\"stroke:#000000; stroke-linecap:round; stroke-linejoin:round; stroke-width:2; stroke-opacity:0.1; fill:none\" points=\"250.352,639.665 2352.76,639.665 \"/>\n",
       "<polyline clip-path=\"url(#clip822)\" style=\"stroke:#000000; stroke-linecap:round; stroke-linejoin:round; stroke-width:2; stroke-opacity:0.1; fill:none\" points=\"250.352,430.515 2352.76,430.515 \"/>\n",
       "<polyline clip-path=\"url(#clip822)\" style=\"stroke:#000000; stroke-linecap:round; stroke-linejoin:round; stroke-width:2; stroke-opacity:0.1; fill:none\" points=\"250.352,221.366 2352.76,221.366 \"/>\n",
       "<polyline clip-path=\"url(#clip822)\" style=\"stroke:#000000; stroke-linecap:round; stroke-linejoin:round; stroke-width:2; stroke-opacity:0.1; fill:none\" points=\"250.352,1267.11 2352.76,1267.11 \"/>\n",
       "<polyline clip-path=\"url(#clip822)\" style=\"stroke:#000000; stroke-linecap:round; stroke-linejoin:round; stroke-width:2; stroke-opacity:0.1; fill:none\" points=\"250.352,1057.96 2352.76,1057.96 \"/>\n",
       "<polyline clip-path=\"url(#clip822)\" style=\"stroke:#000000; stroke-linecap:round; stroke-linejoin:round; stroke-width:2; stroke-opacity:0.1; fill:none\" points=\"250.352,848.815 2352.76,848.815 \"/>\n",
       "<polyline clip-path=\"url(#clip822)\" style=\"stroke:#000000; stroke-linecap:round; stroke-linejoin:round; stroke-width:2; stroke-opacity:0.1; fill:none\" points=\"250.352,639.665 2352.76,639.665 \"/>\n",
       "<polyline clip-path=\"url(#clip822)\" style=\"stroke:#000000; stroke-linecap:round; stroke-linejoin:round; stroke-width:2; stroke-opacity:0.1; fill:none\" points=\"250.352,430.515 2352.76,430.515 \"/>\n",
       "<polyline clip-path=\"url(#clip822)\" style=\"stroke:#000000; stroke-linecap:round; stroke-linejoin:round; stroke-width:2; stroke-opacity:0.1; fill:none\" points=\"250.352,221.366 2352.76,221.366 \"/>\n",
       "<polyline clip-path=\"url(#clip820)\" style=\"stroke:#000000; stroke-linecap:round; stroke-linejoin:round; stroke-width:4; stroke-opacity:1; fill:none\" points=\"250.352,1423.18 2352.76,1423.18 \"/>\n",
       "<polyline clip-path=\"url(#clip820)\" style=\"stroke:#000000; stroke-linecap:round; stroke-linejoin:round; stroke-width:4; stroke-opacity:1; fill:none\" points=\"250.352,47.2441 2352.76,47.2441 \"/>\n",
       "<polyline clip-path=\"url(#clip820)\" style=\"stroke:#000000; stroke-linecap:round; stroke-linejoin:round; stroke-width:4; stroke-opacity:1; fill:none\" points=\"298.323,1423.18 298.323,1404.28 \"/>\n",
       "<polyline clip-path=\"url(#clip820)\" style=\"stroke:#000000; stroke-linecap:round; stroke-linejoin:round; stroke-width:4; stroke-opacity:1; fill:none\" points=\"874.892,1423.18 874.892,1404.28 \"/>\n",
       "<polyline clip-path=\"url(#clip820)\" style=\"stroke:#000000; stroke-linecap:round; stroke-linejoin:round; stroke-width:4; stroke-opacity:1; fill:none\" points=\"1451.46,1423.18 1451.46,1404.28 \"/>\n",
       "<polyline clip-path=\"url(#clip820)\" style=\"stroke:#000000; stroke-linecap:round; stroke-linejoin:round; stroke-width:4; stroke-opacity:1; fill:none\" points=\"2028.03,1423.18 2028.03,1404.28 \"/>\n",
       "<polyline clip-path=\"url(#clip820)\" style=\"stroke:#000000; stroke-linecap:round; stroke-linejoin:round; stroke-width:4; stroke-opacity:1; fill:none\" points=\"298.323,47.2441 298.323,66.1417 \"/>\n",
       "<polyline clip-path=\"url(#clip820)\" style=\"stroke:#000000; stroke-linecap:round; stroke-linejoin:round; stroke-width:4; stroke-opacity:1; fill:none\" points=\"874.892,47.2441 874.892,66.1417 \"/>\n",
       "<polyline clip-path=\"url(#clip820)\" style=\"stroke:#000000; stroke-linecap:round; stroke-linejoin:round; stroke-width:4; stroke-opacity:1; fill:none\" points=\"1451.46,47.2441 1451.46,66.1417 \"/>\n",
       "<polyline clip-path=\"url(#clip820)\" style=\"stroke:#000000; stroke-linecap:round; stroke-linejoin:round; stroke-width:4; stroke-opacity:1; fill:none\" points=\"2028.03,47.2441 2028.03,66.1417 \"/>\n",
       "<path clip-path=\"url(#clip820)\" d=\"M298.323 1454.1 Q294.712 1454.1 292.883 1457.66 Q291.077 1461.2 291.077 1468.33 Q291.077 1475.44 292.883 1479.01 Q294.712 1482.55 298.323 1482.55 Q301.957 1482.55 303.763 1479.01 Q305.591 1475.44 305.591 1468.33 Q305.591 1461.2 303.763 1457.66 Q301.957 1454.1 298.323 1454.1 M298.323 1450.39 Q304.133 1450.39 307.189 1455 Q310.267 1459.58 310.267 1468.33 Q310.267 1477.06 307.189 1481.67 Q304.133 1486.25 298.323 1486.25 Q292.513 1486.25 289.434 1481.67 Q286.378 1477.06 286.378 1468.33 Q286.378 1459.58 289.434 1455 Q292.513 1450.39 298.323 1450.39 Z\" fill=\"#000000\" fill-rule=\"nonzero\" fill-opacity=\"1\" /><path clip-path=\"url(#clip820)\" d=\"M849.592 1451.02 L867.948 1451.02 L867.948 1454.96 L853.874 1454.96 L853.874 1463.43 Q854.893 1463.08 855.911 1462.92 Q856.93 1462.73 857.948 1462.73 Q863.735 1462.73 867.115 1465.9 Q870.494 1469.08 870.494 1474.49 Q870.494 1480.07 867.022 1483.17 Q863.55 1486.25 857.231 1486.25 Q855.055 1486.25 852.786 1485.88 Q850.541 1485.51 848.133 1484.77 L848.133 1480.07 Q850.217 1481.2 852.439 1481.76 Q854.661 1482.32 857.138 1482.32 Q861.143 1482.32 863.481 1480.21 Q865.818 1478.1 865.818 1474.49 Q865.818 1470.88 863.481 1468.77 Q861.143 1466.67 857.138 1466.67 Q855.263 1466.67 853.388 1467.08 Q851.536 1467.5 849.592 1468.38 L849.592 1451.02 Z\" fill=\"#000000\" fill-rule=\"nonzero\" fill-opacity=\"1\" /><path clip-path=\"url(#clip820)\" d=\"M889.707 1454.1 Q886.096 1454.1 884.267 1457.66 Q882.462 1461.2 882.462 1468.33 Q882.462 1475.44 884.267 1479.01 Q886.096 1482.55 889.707 1482.55 Q893.341 1482.55 895.147 1479.01 Q896.976 1475.44 896.976 1468.33 Q896.976 1461.2 895.147 1457.66 Q893.341 1454.1 889.707 1454.1 M889.707 1450.39 Q895.517 1450.39 898.573 1455 Q901.652 1459.58 901.652 1468.33 Q901.652 1477.06 898.573 1481.67 Q895.517 1486.25 889.707 1486.25 Q883.897 1486.25 880.818 1481.67 Q877.763 1477.06 877.763 1468.33 Q877.763 1459.58 880.818 1455 Q883.897 1450.39 889.707 1450.39 Z\" fill=\"#000000\" fill-rule=\"nonzero\" fill-opacity=\"1\" /><path clip-path=\"url(#clip820)\" d=\"M1411.07 1481.64 L1418.71 1481.64 L1418.71 1455.28 L1410.4 1456.95 L1410.4 1452.69 L1418.66 1451.02 L1423.34 1451.02 L1423.34 1481.64 L1430.98 1481.64 L1430.98 1485.58 L1411.07 1485.58 L1411.07 1481.64 Z\" fill=\"#000000\" fill-rule=\"nonzero\" fill-opacity=\"1\" /><path clip-path=\"url(#clip820)\" d=\"M1450.42 1454.1 Q1446.81 1454.1 1444.98 1457.66 Q1443.18 1461.2 1443.18 1468.33 Q1443.18 1475.44 1444.98 1479.01 Q1446.81 1482.55 1450.42 1482.55 Q1454.05 1482.55 1455.86 1479.01 Q1457.69 1475.44 1457.69 1468.33 Q1457.69 1461.2 1455.86 1457.66 Q1454.05 1454.1 1450.42 1454.1 M1450.42 1450.39 Q1456.23 1450.39 1459.29 1455 Q1462.36 1459.58 1462.36 1468.33 Q1462.36 1477.06 1459.29 1481.67 Q1456.23 1486.25 1450.42 1486.25 Q1444.61 1486.25 1441.53 1481.67 Q1438.48 1477.06 1438.48 1468.33 Q1438.48 1459.58 1441.53 1455 Q1444.61 1450.39 1450.42 1450.39 Z\" fill=\"#000000\" fill-rule=\"nonzero\" fill-opacity=\"1\" /><path clip-path=\"url(#clip820)\" d=\"M1480.58 1454.1 Q1476.97 1454.1 1475.14 1457.66 Q1473.34 1461.2 1473.34 1468.33 Q1473.34 1475.44 1475.14 1479.01 Q1476.97 1482.55 1480.58 1482.55 Q1484.22 1482.55 1486.02 1479.01 Q1487.85 1475.44 1487.85 1468.33 Q1487.85 1461.2 1486.02 1457.66 Q1484.22 1454.1 1480.58 1454.1 M1480.58 1450.39 Q1486.39 1450.39 1489.45 1455 Q1492.53 1459.58 1492.53 1468.33 Q1492.53 1477.06 1489.45 1481.67 Q1486.39 1486.25 1480.58 1486.25 Q1474.77 1486.25 1471.69 1481.67 Q1468.64 1477.06 1468.64 1468.33 Q1468.64 1459.58 1471.69 1455 Q1474.77 1450.39 1480.58 1450.39 Z\" fill=\"#000000\" fill-rule=\"nonzero\" fill-opacity=\"1\" /><path clip-path=\"url(#clip820)\" d=\"M1987.64 1481.64 L1995.28 1481.64 L1995.28 1455.28 L1986.97 1456.95 L1986.97 1452.69 L1995.23 1451.02 L1999.91 1451.02 L1999.91 1481.64 L2007.55 1481.64 L2007.55 1485.58 L1987.64 1485.58 L1987.64 1481.64 Z\" fill=\"#000000\" fill-rule=\"nonzero\" fill-opacity=\"1\" /><path clip-path=\"url(#clip820)\" d=\"M2017.04 1451.02 L2035.39 1451.02 L2035.39 1454.96 L2021.32 1454.96 L2021.32 1463.43 Q2022.34 1463.08 2023.36 1462.92 Q2024.37 1462.73 2025.39 1462.73 Q2031.18 1462.73 2034.56 1465.9 Q2037.94 1469.08 2037.94 1474.49 Q2037.94 1480.07 2034.47 1483.17 Q2030.99 1486.25 2024.68 1486.25 Q2022.5 1486.25 2020.23 1485.88 Q2017.99 1485.51 2015.58 1484.77 L2015.58 1480.07 Q2017.66 1481.2 2019.88 1481.76 Q2022.11 1482.32 2024.58 1482.32 Q2028.59 1482.32 2030.93 1480.21 Q2033.26 1478.1 2033.26 1474.49 Q2033.26 1470.88 2030.93 1468.77 Q2028.59 1466.67 2024.58 1466.67 Q2022.71 1466.67 2020.83 1467.08 Q2018.98 1467.5 2017.04 1468.38 L2017.04 1451.02 Z\" fill=\"#000000\" fill-rule=\"nonzero\" fill-opacity=\"1\" /><path clip-path=\"url(#clip820)\" d=\"M2057.15 1454.1 Q2053.54 1454.1 2051.71 1457.66 Q2049.91 1461.2 2049.91 1468.33 Q2049.91 1475.44 2051.71 1479.01 Q2053.54 1482.55 2057.15 1482.55 Q2060.79 1482.55 2062.59 1479.01 Q2064.42 1475.44 2064.42 1468.33 Q2064.42 1461.2 2062.59 1457.66 Q2060.79 1454.1 2057.15 1454.1 M2057.15 1450.39 Q2062.96 1450.39 2066.02 1455 Q2069.1 1459.58 2069.1 1468.33 Q2069.1 1477.06 2066.02 1481.67 Q2062.96 1486.25 2057.15 1486.25 Q2051.34 1486.25 2048.26 1481.67 Q2045.21 1477.06 2045.21 1468.33 Q2045.21 1459.58 2048.26 1455 Q2051.34 1450.39 2057.15 1450.39 Z\" fill=\"#000000\" fill-rule=\"nonzero\" fill-opacity=\"1\" /><path clip-path=\"url(#clip820)\" d=\"M825.176 1545.35 L825.176 1562.76 L835.489 1562.76 Q840.677 1562.76 843.16 1560.63 Q845.674 1558.46 845.674 1554.04 Q845.674 1549.58 843.16 1547.48 Q840.677 1545.35 835.489 1545.35 L825.176 1545.35 M825.176 1525.81 L825.176 1540.13 L834.693 1540.13 Q839.404 1540.13 841.695 1538.38 Q844.019 1536.6 844.019 1532.97 Q844.019 1529.37 841.695 1527.59 Q839.404 1525.81 834.693 1525.81 L825.176 1525.81 M818.747 1520.52 L835.171 1520.52 Q842.523 1520.52 846.502 1523.58 Q850.48 1526.63 850.48 1532.27 Q850.48 1536.63 848.443 1539.21 Q846.406 1541.79 842.459 1542.42 Q847.202 1543.44 849.812 1546.69 Q852.453 1549.9 852.453 1554.74 Q852.453 1561.11 848.125 1564.57 Q843.796 1568.04 835.807 1568.04 L818.747 1568.04 L818.747 1520.52 Z\" fill=\"#000000\" fill-rule=\"nonzero\" fill-opacity=\"1\" /><path clip-path=\"url(#clip820)\" d=\"M862.607 1553.98 L862.607 1532.4 L868.463 1532.4 L868.463 1553.75 Q868.463 1558.81 870.437 1561.36 Q872.41 1563.87 876.357 1563.87 Q881.099 1563.87 883.836 1560.85 Q886.605 1557.83 886.605 1552.61 L886.605 1532.4 L892.462 1532.4 L892.462 1568.04 L886.605 1568.04 L886.605 1562.57 Q884.473 1565.82 881.64 1567.41 Q878.839 1568.97 875.115 1568.97 Q868.972 1568.97 865.79 1565.15 Q862.607 1561.33 862.607 1553.98 M877.343 1531.54 L877.343 1531.54 Z\" fill=\"#000000\" fill-rule=\"nonzero\" fill-opacity=\"1\" /><path clip-path=\"url(#clip820)\" d=\"M927.251 1533.45 L927.251 1538.98 Q924.768 1537.71 922.094 1537.07 Q919.421 1536.44 916.556 1536.44 Q912.196 1536.44 909.999 1537.77 Q907.835 1539.11 907.835 1541.79 Q907.835 1543.82 909.395 1545 Q910.954 1546.15 915.665 1547.2 L917.67 1547.64 Q923.909 1548.98 926.518 1551.43 Q929.16 1553.85 929.16 1558.21 Q929.16 1563.17 925.213 1566.07 Q921.299 1568.97 914.424 1568.97 Q911.559 1568.97 908.44 1568.39 Q905.352 1567.85 901.915 1566.74 L901.915 1560.69 Q905.162 1562.38 908.313 1563.24 Q911.464 1564.07 914.551 1564.07 Q918.689 1564.07 920.917 1562.66 Q923.145 1561.23 923.145 1558.65 Q923.145 1556.27 921.521 1554.99 Q919.93 1553.72 914.487 1552.54 L912.45 1552.07 Q907.008 1550.92 904.589 1548.56 Q902.17 1546.18 902.17 1542.04 Q902.17 1537.01 905.734 1534.27 Q909.299 1531.54 915.856 1531.54 Q919.102 1531.54 921.967 1532.01 Q924.832 1532.49 927.251 1533.45 Z\" fill=\"#000000\" fill-rule=\"nonzero\" fill-opacity=\"1\" /><path clip-path=\"url(#clip820)\" d=\"M938.486 1532.4 L944.342 1532.4 L944.342 1568.04 L938.486 1568.04 L938.486 1532.4 M938.486 1518.52 L944.342 1518.52 L944.342 1525.93 L938.486 1525.93 L938.486 1518.52 Z\" fill=\"#000000\" fill-rule=\"nonzero\" fill-opacity=\"1\" /><path clip-path=\"url(#clip820)\" d=\"M986.229 1546.53 L986.229 1568.04 L980.372 1568.04 L980.372 1546.72 Q980.372 1541.66 978.399 1539.14 Q976.426 1536.63 972.479 1536.63 Q967.736 1536.63 964.999 1539.65 Q962.262 1542.68 962.262 1547.9 L962.262 1568.04 L956.374 1568.04 L956.374 1532.4 L962.262 1532.4 L962.262 1537.93 Q964.363 1534.72 967.195 1533.13 Q970.06 1531.54 973.784 1531.54 Q979.927 1531.54 983.078 1535.36 Q986.229 1539.14 986.229 1546.53 Z\" fill=\"#000000\" fill-rule=\"nonzero\" fill-opacity=\"1\" /><path clip-path=\"url(#clip820)\" d=\"M1028.4 1548.76 L1028.4 1551.62 L1001.47 1551.62 Q1001.86 1557.67 1005.1 1560.85 Q1008.38 1564 1014.21 1564 Q1017.58 1564 1020.73 1563.17 Q1023.91 1562.35 1027.03 1560.69 L1027.03 1566.23 Q1023.88 1567.57 1020.57 1568.27 Q1017.26 1568.97 1013.86 1568.97 Q1005.33 1568.97 1000.33 1564 Q995.364 1559.04 995.364 1550.57 Q995.364 1541.82 1000.07 1536.69 Q1004.82 1531.54 1012.84 1531.54 Q1020.03 1531.54 1024.2 1536.18 Q1028.4 1540.8 1028.4 1548.76 M1022.55 1547.04 Q1022.48 1542.23 1019.84 1539.37 Q1017.23 1536.5 1012.9 1536.5 Q1008 1536.5 1005.04 1539.27 Q1002.11 1542.04 1001.67 1547.07 L1022.55 1547.04 Z\" fill=\"#000000\" fill-rule=\"nonzero\" fill-opacity=\"1\" /><path clip-path=\"url(#clip820)\" d=\"M1060.74 1533.45 L1060.74 1538.98 Q1058.26 1537.71 1055.58 1537.07 Q1052.91 1536.44 1050.04 1536.44 Q1045.68 1536.44 1043.49 1537.77 Q1041.32 1539.11 1041.32 1541.79 Q1041.32 1543.82 1042.88 1545 Q1044.44 1546.15 1049.15 1547.2 L1051.16 1547.64 Q1057.4 1548.98 1060.01 1551.43 Q1062.65 1553.85 1062.65 1558.21 Q1062.65 1563.17 1058.7 1566.07 Q1054.79 1568.97 1047.91 1568.97 Q1045.05 1568.97 1041.93 1568.39 Q1038.84 1567.85 1035.4 1566.74 L1035.4 1560.69 Q1038.65 1562.38 1041.8 1563.24 Q1044.95 1564.07 1048.04 1564.07 Q1052.18 1564.07 1054.41 1562.66 Q1056.63 1561.23 1056.63 1558.65 Q1056.63 1556.27 1055.01 1554.99 Q1053.42 1553.72 1047.98 1552.54 L1045.94 1552.07 Q1040.5 1550.92 1038.08 1548.56 Q1035.66 1546.18 1035.66 1542.04 Q1035.66 1537.01 1039.22 1534.27 Q1042.79 1531.54 1049.34 1531.54 Q1052.59 1531.54 1055.46 1532.01 Q1058.32 1532.49 1060.74 1533.45 Z\" fill=\"#000000\" fill-rule=\"nonzero\" fill-opacity=\"1\" /><path clip-path=\"url(#clip820)\" d=\"M1094.7 1533.45 L1094.7 1538.98 Q1092.22 1537.71 1089.54 1537.07 Q1086.87 1536.44 1084.01 1536.44 Q1079.65 1536.44 1077.45 1537.77 Q1075.29 1539.11 1075.29 1541.79 Q1075.29 1543.82 1076.84 1545 Q1078.4 1546.15 1083.11 1547.2 L1085.12 1547.64 Q1091.36 1548.98 1093.97 1551.43 Q1096.61 1553.85 1096.61 1558.21 Q1096.61 1563.17 1092.66 1566.07 Q1088.75 1568.97 1081.87 1568.97 Q1079.01 1568.97 1075.89 1568.39 Q1072.8 1567.85 1069.36 1566.74 L1069.36 1560.69 Q1072.61 1562.38 1075.76 1563.24 Q1078.91 1564.07 1082 1564.07 Q1086.14 1564.07 1088.37 1562.66 Q1090.59 1561.23 1090.59 1558.65 Q1090.59 1556.27 1088.97 1554.99 Q1087.38 1553.72 1081.94 1552.54 L1079.9 1552.07 Q1074.46 1550.92 1072.04 1548.56 Q1069.62 1546.18 1069.62 1542.04 Q1069.62 1537.01 1073.18 1534.27 Q1076.75 1531.54 1083.31 1531.54 Q1086.55 1531.54 1089.42 1532.01 Q1092.28 1532.49 1094.7 1533.45 Z\" fill=\"#000000\" fill-rule=\"nonzero\" fill-opacity=\"1\" /><path clip-path=\"url(#clip820)\" d=\"M1150.11 1537.81 L1150.11 1518.52 L1155.97 1518.52 L1155.97 1568.04 L1150.11 1568.04 L1150.11 1562.7 Q1148.27 1565.88 1145.44 1567.44 Q1142.63 1568.97 1138.69 1568.97 Q1132.23 1568.97 1128.15 1563.81 Q1124.11 1558.65 1124.11 1550.25 Q1124.11 1541.85 1128.15 1536.69 Q1132.23 1531.54 1138.69 1531.54 Q1142.63 1531.54 1145.44 1533.1 Q1148.27 1534.62 1150.11 1537.81 M1130.16 1550.25 Q1130.16 1556.71 1132.8 1560.4 Q1135.47 1564.07 1140.12 1564.07 Q1144.77 1564.07 1147.44 1560.4 Q1150.11 1556.71 1150.11 1550.25 Q1150.11 1543.79 1147.44 1540.13 Q1144.77 1536.44 1140.12 1536.44 Q1135.47 1536.44 1132.8 1540.13 Q1130.16 1543.79 1130.16 1550.25 Z\" fill=\"#000000\" fill-rule=\"nonzero\" fill-opacity=\"1\" /><path clip-path=\"url(#clip820)\" d=\"M1184.23 1550.12 Q1177.14 1550.12 1174.4 1551.75 Q1171.66 1553.37 1171.66 1557.29 Q1171.66 1560.4 1173.7 1562.25 Q1175.77 1564.07 1179.3 1564.07 Q1184.17 1564.07 1187.1 1560.63 Q1190.06 1557.16 1190.06 1551.43 L1190.06 1550.12 L1184.23 1550.12 M1195.92 1547.71 L1195.92 1568.04 L1190.06 1568.04 L1190.06 1562.63 Q1188.05 1565.88 1185.06 1567.44 Q1182.07 1568.97 1177.74 1568.97 Q1172.27 1568.97 1169.02 1565.91 Q1165.81 1562.82 1165.81 1557.67 Q1165.81 1551.65 1169.82 1548.6 Q1173.86 1545.54 1181.85 1545.54 L1190.06 1545.54 L1190.06 1544.97 Q1190.06 1540.93 1187.39 1538.73 Q1184.74 1536.5 1179.94 1536.5 Q1176.88 1536.5 1173.99 1537.23 Q1171.09 1537.97 1168.42 1539.43 L1168.42 1534.02 Q1171.63 1532.78 1174.65 1532.17 Q1177.68 1531.54 1180.54 1531.54 Q1188.28 1531.54 1192.1 1535.55 Q1195.92 1539.56 1195.92 1547.71 Z\" fill=\"#000000\" fill-rule=\"nonzero\" fill-opacity=\"1\" /><path clip-path=\"url(#clip820)\" d=\"M1222.81 1571.35 Q1220.33 1577.72 1217.97 1579.66 Q1215.62 1581.6 1211.67 1581.6 L1206.99 1581.6 L1206.99 1576.7 L1210.43 1576.7 Q1212.85 1576.7 1214.18 1575.56 Q1215.52 1574.41 1217.14 1570.14 L1218.2 1567.47 L1203.78 1532.4 L1209.98 1532.4 L1221.12 1560.28 L1232.26 1532.4 L1238.47 1532.4 L1222.81 1571.35 Z\" fill=\"#000000\" fill-rule=\"nonzero\" fill-opacity=\"1\" /><path clip-path=\"url(#clip820)\" d=\"M1267.27 1532.4 L1273.13 1532.4 L1273.13 1568.04 L1267.27 1568.04 L1267.27 1532.4 M1267.27 1518.52 L1273.13 1518.52 L1273.13 1525.93 L1267.27 1525.93 L1267.27 1518.52 Z\" fill=\"#000000\" fill-rule=\"nonzero\" fill-opacity=\"1\" /><path clip-path=\"url(#clip820)\" d=\"M1315.02 1546.53 L1315.02 1568.04 L1309.16 1568.04 L1309.16 1546.72 Q1309.16 1541.66 1307.19 1539.14 Q1305.21 1536.63 1301.27 1536.63 Q1296.53 1536.63 1293.79 1539.65 Q1291.05 1542.68 1291.05 1547.9 L1291.05 1568.04 L1285.16 1568.04 L1285.16 1532.4 L1291.05 1532.4 L1291.05 1537.93 Q1293.15 1534.72 1295.98 1533.13 Q1298.85 1531.54 1302.57 1531.54 Q1308.72 1531.54 1311.87 1535.36 Q1315.02 1539.14 1315.02 1546.53 Z\" fill=\"#000000\" fill-rule=\"nonzero\" fill-opacity=\"1\" /><path clip-path=\"url(#clip820)\" d=\"M1350.16 1537.81 L1350.16 1518.52 L1356.01 1518.52 L1356.01 1568.04 L1350.16 1568.04 L1350.16 1562.7 Q1348.31 1565.88 1345.48 1567.44 Q1342.68 1568.97 1338.73 1568.97 Q1332.27 1568.97 1328.19 1563.81 Q1324.15 1558.65 1324.15 1550.25 Q1324.15 1541.85 1328.19 1536.69 Q1332.27 1531.54 1338.73 1531.54 Q1342.68 1531.54 1345.48 1533.1 Q1348.31 1534.62 1350.16 1537.81 M1330.2 1550.25 Q1330.2 1556.71 1332.84 1560.4 Q1335.52 1564.07 1340.16 1564.07 Q1344.81 1564.07 1347.48 1560.4 Q1350.16 1556.71 1350.16 1550.25 Q1350.16 1543.79 1347.48 1540.13 Q1344.81 1536.44 1340.16 1536.44 Q1335.52 1536.44 1332.84 1540.13 Q1330.2 1543.79 1330.2 1550.25 Z\" fill=\"#000000\" fill-rule=\"nonzero\" fill-opacity=\"1\" /><path clip-path=\"url(#clip820)\" d=\"M1398.57 1548.76 L1398.57 1551.62 L1371.64 1551.62 Q1372.02 1557.67 1375.27 1560.85 Q1378.55 1564 1384.37 1564 Q1387.75 1564 1390.9 1563.17 Q1394.08 1562.35 1397.2 1560.69 L1397.2 1566.23 Q1394.05 1567.57 1390.74 1568.27 Q1387.43 1568.97 1384.02 1568.97 Q1375.49 1568.97 1370.49 1564 Q1365.53 1559.04 1365.53 1550.57 Q1365.53 1541.82 1370.24 1536.69 Q1374.98 1531.54 1383 1531.54 Q1390.2 1531.54 1394.37 1536.18 Q1398.57 1540.8 1398.57 1548.76 M1392.71 1547.04 Q1392.65 1542.23 1390.01 1539.37 Q1387.4 1536.5 1383.07 1536.5 Q1378.17 1536.5 1375.21 1539.27 Q1372.28 1542.04 1371.83 1547.07 L1392.71 1547.04 Z\" fill=\"#000000\" fill-rule=\"nonzero\" fill-opacity=\"1\" /><path clip-path=\"url(#clip820)\" d=\"M1436.67 1532.4 L1423.78 1549.74 L1437.33 1568.04 L1430.43 1568.04 L1420.05 1554.04 L1409.68 1568.04 L1402.77 1568.04 L1416.61 1549.39 L1403.95 1532.4 L1410.85 1532.4 L1420.31 1545.1 L1429.76 1532.4 L1436.67 1532.4 Z\" fill=\"#000000\" fill-rule=\"nonzero\" fill-opacity=\"1\" /><path clip-path=\"url(#clip820)\" d=\"M1472.7 1562.63 L1495.14 1562.63 L1495.14 1568.04 L1464.96 1568.04 L1464.96 1562.63 Q1468.62 1558.85 1474.92 1552.48 Q1481.26 1546.08 1482.88 1544.24 Q1485.97 1540.77 1487.18 1538.38 Q1488.42 1535.96 1488.42 1533.64 Q1488.42 1529.85 1485.75 1527.46 Q1483.1 1525.08 1478.84 1525.08 Q1475.82 1525.08 1472.44 1526.13 Q1469.1 1527.18 1465.28 1529.31 L1465.28 1522.82 Q1469.16 1521.26 1472.54 1520.46 Q1475.91 1519.66 1478.71 1519.66 Q1486.1 1519.66 1490.49 1523.36 Q1494.88 1527.05 1494.88 1533.22 Q1494.88 1536.15 1493.77 1538.79 Q1492.68 1541.4 1489.79 1544.97 Q1488.99 1545.89 1484.73 1550.32 Q1480.46 1554.71 1472.7 1562.63 Z\" fill=\"#000000\" fill-rule=\"nonzero\" fill-opacity=\"1\" /><path clip-path=\"url(#clip820)\" d=\"M1522.38 1524.76 Q1517.42 1524.76 1514.9 1529.66 Q1512.42 1534.53 1512.42 1544.33 Q1512.42 1554.1 1514.9 1559 Q1517.42 1563.87 1522.38 1563.87 Q1527.38 1563.87 1529.86 1559 Q1532.37 1554.1 1532.37 1544.33 Q1532.37 1534.53 1529.86 1529.66 Q1527.38 1524.76 1522.38 1524.76 M1522.38 1519.66 Q1530.37 1519.66 1534.57 1526 Q1538.8 1532.3 1538.8 1544.33 Q1538.8 1556.33 1534.57 1562.66 Q1530.37 1568.97 1522.38 1568.97 Q1514.39 1568.97 1510.16 1562.66 Q1505.96 1556.33 1505.96 1544.33 Q1505.96 1532.3 1510.16 1526 Q1514.39 1519.66 1522.38 1519.66 Z\" fill=\"#000000\" fill-rule=\"nonzero\" fill-opacity=\"1\" /><path clip-path=\"url(#clip820)\" d=\"M1555.64 1562.63 L1578.08 1562.63 L1578.08 1568.04 L1547.91 1568.04 L1547.91 1562.63 Q1551.57 1558.85 1557.87 1552.48 Q1564.2 1546.08 1565.83 1544.24 Q1568.91 1540.77 1570.12 1538.38 Q1571.36 1535.96 1571.36 1533.64 Q1571.36 1529.85 1568.69 1527.46 Q1566.05 1525.08 1561.78 1525.08 Q1558.76 1525.08 1555.39 1526.13 Q1552.04 1527.18 1548.23 1529.31 L1548.23 1522.82 Q1552.11 1521.26 1555.48 1520.46 Q1558.86 1519.66 1561.66 1519.66 Q1569.04 1519.66 1573.43 1523.36 Q1577.83 1527.05 1577.83 1533.22 Q1577.83 1536.15 1576.71 1538.79 Q1575.63 1541.4 1572.73 1544.97 Q1571.94 1545.89 1567.67 1550.32 Q1563.41 1554.71 1555.64 1562.63 Z\" fill=\"#000000\" fill-rule=\"nonzero\" fill-opacity=\"1\" /><path clip-path=\"url(#clip820)\" d=\"M1609.24 1526.13 L1593.01 1551.49 L1609.24 1551.49 L1609.24 1526.13 M1607.55 1520.52 L1615.64 1520.52 L1615.64 1551.49 L1622.42 1551.49 L1622.42 1556.84 L1615.64 1556.84 L1615.64 1568.04 L1609.24 1568.04 L1609.24 1556.84 L1587.79 1556.84 L1587.79 1550.63 L1607.55 1520.52 Z\" fill=\"#000000\" fill-rule=\"nonzero\" fill-opacity=\"1\" /><path clip-path=\"url(#clip820)\" d=\"M1667.01 1518.58 Q1662.74 1525.9 1660.68 1533.06 Q1658.61 1540.23 1658.61 1547.58 Q1658.61 1554.93 1660.68 1562.16 Q1662.78 1569.35 1667.01 1576.64 L1661.92 1576.64 Q1657.14 1569.16 1654.76 1561.93 Q1652.4 1554.71 1652.4 1547.58 Q1652.4 1540.48 1654.76 1533.29 Q1657.11 1526.09 1661.92 1518.58 L1667.01 1518.58 Z\" fill=\"#000000\" fill-rule=\"nonzero\" fill-opacity=\"1\" /><path clip-path=\"url(#clip820)\" d=\"M1694.51 1526.86 L1685.79 1550.51 L1703.26 1550.51 L1694.51 1526.86 M1690.88 1520.52 L1698.17 1520.52 L1716.28 1568.04 L1709.6 1568.04 L1705.27 1555.85 L1683.85 1555.85 L1679.52 1568.04 L1672.74 1568.04 L1690.88 1520.52 Z\" fill=\"#000000\" fill-rule=\"nonzero\" fill-opacity=\"1\" /><path clip-path=\"url(#clip820)\" d=\"M1722.49 1520.52 L1728.95 1520.52 L1728.95 1549.39 Q1728.95 1557.03 1731.72 1560.4 Q1734.49 1563.75 1740.69 1563.75 Q1746.87 1563.75 1749.64 1560.4 Q1752.41 1557.03 1752.41 1549.39 L1752.41 1520.52 L1758.87 1520.52 L1758.87 1550.19 Q1758.87 1559.48 1754.25 1564.22 Q1749.67 1568.97 1740.69 1568.97 Q1731.68 1568.97 1727.07 1564.22 Q1722.49 1559.48 1722.49 1550.19 L1722.49 1520.52 Z\" fill=\"#000000\" fill-rule=\"nonzero\" fill-opacity=\"1\" /><path clip-path=\"url(#clip820)\" d=\"M1769.75 1518.58 L1774.84 1518.58 Q1779.62 1526.09 1781.97 1533.29 Q1784.36 1540.48 1784.36 1547.58 Q1784.36 1554.71 1781.97 1561.93 Q1779.62 1569.16 1774.84 1576.64 L1769.75 1576.64 Q1773.98 1569.35 1776.05 1562.16 Q1778.15 1554.93 1778.15 1547.58 Q1778.15 1540.23 1776.05 1533.06 Q1773.98 1525.9 1769.75 1518.58 Z\" fill=\"#000000\" fill-rule=\"nonzero\" fill-opacity=\"1\" /><polyline clip-path=\"url(#clip820)\" style=\"stroke:#000000; stroke-linecap:round; stroke-linejoin:round; stroke-width:4; stroke-opacity:1; fill:none\" points=\"250.352,1423.18 250.352,47.2441 \"/>\n",
       "<polyline clip-path=\"url(#clip820)\" style=\"stroke:#000000; stroke-linecap:round; stroke-linejoin:round; stroke-width:4; stroke-opacity:1; fill:none\" points=\"2352.76,1423.18 2352.76,47.2441 \"/>\n",
       "<polyline clip-path=\"url(#clip820)\" style=\"stroke:#000000; stroke-linecap:round; stroke-linejoin:round; stroke-width:4; stroke-opacity:1; fill:none\" points=\"250.352,1267.11 269.25,1267.11 \"/>\n",
       "<polyline clip-path=\"url(#clip820)\" style=\"stroke:#000000; stroke-linecap:round; stroke-linejoin:round; stroke-width:4; stroke-opacity:1; fill:none\" points=\"250.352,1057.96 269.25,1057.96 \"/>\n",
       "<polyline clip-path=\"url(#clip820)\" style=\"stroke:#000000; stroke-linecap:round; stroke-linejoin:round; stroke-width:4; stroke-opacity:1; fill:none\" points=\"250.352,848.815 269.25,848.815 \"/>\n",
       "<polyline clip-path=\"url(#clip820)\" style=\"stroke:#000000; stroke-linecap:round; stroke-linejoin:round; stroke-width:4; stroke-opacity:1; fill:none\" points=\"250.352,639.665 269.25,639.665 \"/>\n",
       "<polyline clip-path=\"url(#clip820)\" style=\"stroke:#000000; stroke-linecap:round; stroke-linejoin:round; stroke-width:4; stroke-opacity:1; fill:none\" points=\"250.352,430.515 269.25,430.515 \"/>\n",
       "<polyline clip-path=\"url(#clip820)\" style=\"stroke:#000000; stroke-linecap:round; stroke-linejoin:round; stroke-width:4; stroke-opacity:1; fill:none\" points=\"250.352,221.366 269.25,221.366 \"/>\n",
       "<polyline clip-path=\"url(#clip820)\" style=\"stroke:#000000; stroke-linecap:round; stroke-linejoin:round; stroke-width:4; stroke-opacity:1; fill:none\" points=\"2352.76,1267.11 2333.86,1267.11 \"/>\n",
       "<polyline clip-path=\"url(#clip820)\" style=\"stroke:#000000; stroke-linecap:round; stroke-linejoin:round; stroke-width:4; stroke-opacity:1; fill:none\" points=\"2352.76,1057.96 2333.86,1057.96 \"/>\n",
       "<polyline clip-path=\"url(#clip820)\" style=\"stroke:#000000; stroke-linecap:round; stroke-linejoin:round; stroke-width:4; stroke-opacity:1; fill:none\" points=\"2352.76,848.815 2333.86,848.815 \"/>\n",
       "<polyline clip-path=\"url(#clip820)\" style=\"stroke:#000000; stroke-linecap:round; stroke-linejoin:round; stroke-width:4; stroke-opacity:1; fill:none\" points=\"2352.76,639.665 2333.86,639.665 \"/>\n",
       "<polyline clip-path=\"url(#clip820)\" style=\"stroke:#000000; stroke-linecap:round; stroke-linejoin:round; stroke-width:4; stroke-opacity:1; fill:none\" points=\"2352.76,430.515 2333.86,430.515 \"/>\n",
       "<polyline clip-path=\"url(#clip820)\" style=\"stroke:#000000; stroke-linecap:round; stroke-linejoin:round; stroke-width:4; stroke-opacity:1; fill:none\" points=\"2352.76,221.366 2333.86,221.366 \"/>\n",
       "<path clip-path=\"url(#clip820)\" d=\"M130.857 1253.91 L119.052 1272.36 L130.857 1272.36 L130.857 1253.91 M129.63 1249.83 L135.51 1249.83 L135.51 1272.36 L140.441 1272.36 L140.441 1276.25 L135.51 1276.25 L135.51 1284.39 L130.857 1284.39 L130.857 1276.25 L115.256 1276.25 L115.256 1271.73 L129.63 1249.83 Z\" fill=\"#000000\" fill-rule=\"nonzero\" fill-opacity=\"1\" /><path clip-path=\"url(#clip820)\" d=\"M148.172 1278.51 L153.056 1278.51 L153.056 1284.39 L148.172 1284.39 L148.172 1278.51 Z\" fill=\"#000000\" fill-rule=\"nonzero\" fill-opacity=\"1\" /><path clip-path=\"url(#clip820)\" d=\"M167.269 1280.46 L183.588 1280.46 L183.588 1284.39 L161.644 1284.39 L161.644 1280.46 Q164.306 1277.7 168.889 1273.08 Q173.496 1268.42 174.677 1267.08 Q176.922 1264.56 177.801 1262.82 Q178.704 1261.06 178.704 1259.37 Q178.704 1256.62 176.76 1254.88 Q174.839 1253.14 171.737 1253.14 Q169.538 1253.14 167.084 1253.91 Q164.653 1254.67 161.876 1256.22 L161.876 1251.5 Q164.7 1250.37 167.153 1249.79 Q169.607 1249.21 171.644 1249.21 Q177.014 1249.21 180.209 1251.89 Q183.403 1254.58 183.403 1259.07 Q183.403 1261.2 182.593 1263.12 Q181.806 1265.02 179.7 1267.61 Q179.121 1268.28 176.019 1271.5 Q172.917 1274.7 167.269 1280.46 Z\" fill=\"#000000\" fill-rule=\"nonzero\" fill-opacity=\"1\" /><path clip-path=\"url(#clip820)\" d=\"M193.45 1249.83 L211.806 1249.83 L211.806 1253.77 L197.732 1253.77 L197.732 1262.24 Q198.75 1261.89 199.769 1261.73 Q200.787 1261.55 201.806 1261.55 Q207.593 1261.55 210.973 1264.72 Q214.352 1267.89 214.352 1273.31 Q214.352 1278.89 210.88 1281.99 Q207.408 1285.07 201.088 1285.07 Q198.912 1285.07 196.644 1284.7 Q194.399 1284.32 191.991 1283.58 L191.991 1278.89 Q194.075 1280.02 196.297 1280.57 Q198.519 1281.13 200.996 1281.13 Q205 1281.13 207.338 1279.02 Q209.676 1276.92 209.676 1273.31 Q209.676 1269.7 207.338 1267.59 Q205 1265.48 200.996 1265.48 Q199.121 1265.48 197.246 1265.9 Q195.394 1266.32 193.45 1267.2 L193.45 1249.83 Z\" fill=\"#000000\" fill-rule=\"nonzero\" fill-opacity=\"1\" /><path clip-path=\"url(#clip820)\" d=\"M129.862 1044.76 L118.056 1063.21 L129.862 1063.21 L129.862 1044.76 M128.635 1040.68 L134.515 1040.68 L134.515 1063.21 L139.445 1063.21 L139.445 1067.1 L134.515 1067.1 L134.515 1075.24 L129.862 1075.24 L129.862 1067.1 L114.26 1067.1 L114.26 1062.58 L128.635 1040.68 Z\" fill=\"#000000\" fill-rule=\"nonzero\" fill-opacity=\"1\" /><path clip-path=\"url(#clip820)\" d=\"M147.177 1069.37 L152.061 1069.37 L152.061 1075.24 L147.177 1075.24 L147.177 1069.37 Z\" fill=\"#000000\" fill-rule=\"nonzero\" fill-opacity=\"1\" /><path clip-path=\"url(#clip820)\" d=\"M162.292 1040.68 L180.649 1040.68 L180.649 1044.62 L166.575 1044.62 L166.575 1053.09 Q167.593 1052.74 168.612 1052.58 Q169.63 1052.4 170.649 1052.4 Q176.436 1052.4 179.815 1055.57 Q183.195 1058.74 183.195 1064.16 Q183.195 1069.74 179.723 1072.84 Q176.251 1075.92 169.931 1075.92 Q167.755 1075.92 165.487 1075.55 Q163.241 1075.18 160.834 1074.43 L160.834 1069.74 Q162.917 1070.87 165.14 1071.43 Q167.362 1071.98 169.839 1071.98 Q173.843 1071.98 176.181 1069.87 Q178.519 1067.77 178.519 1064.16 Q178.519 1060.55 176.181 1058.44 Q173.843 1056.33 169.839 1056.33 Q167.964 1056.33 166.089 1056.75 Q164.237 1057.17 162.292 1058.05 L162.292 1040.68 Z\" fill=\"#000000\" fill-rule=\"nonzero\" fill-opacity=\"1\" /><path clip-path=\"url(#clip820)\" d=\"M202.408 1043.76 Q198.797 1043.76 196.968 1047.33 Q195.163 1050.87 195.163 1058 Q195.163 1065.11 196.968 1068.67 Q198.797 1072.21 202.408 1072.21 Q206.042 1072.21 207.848 1068.67 Q209.676 1065.11 209.676 1058 Q209.676 1050.87 207.848 1047.33 Q206.042 1043.76 202.408 1043.76 M202.408 1040.06 Q208.218 1040.06 211.274 1044.67 Q214.352 1049.25 214.352 1058 Q214.352 1066.73 211.274 1071.33 Q208.218 1075.92 202.408 1075.92 Q196.598 1075.92 193.519 1071.33 Q190.463 1066.73 190.463 1058 Q190.463 1049.25 193.519 1044.67 Q196.598 1040.06 202.408 1040.06 Z\" fill=\"#000000\" fill-rule=\"nonzero\" fill-opacity=\"1\" /><path clip-path=\"url(#clip820)\" d=\"M130.857 835.609 L119.052 854.058 L130.857 854.058 L130.857 835.609 M129.63 831.535 L135.51 831.535 L135.51 854.058 L140.441 854.058 L140.441 857.947 L135.51 857.947 L135.51 866.095 L130.857 866.095 L130.857 857.947 L115.256 857.947 L115.256 853.433 L129.63 831.535 Z\" fill=\"#000000\" fill-rule=\"nonzero\" fill-opacity=\"1\" /><path clip-path=\"url(#clip820)\" d=\"M148.172 860.215 L153.056 860.215 L153.056 866.095 L148.172 866.095 L148.172 860.215 Z\" fill=\"#000000\" fill-rule=\"nonzero\" fill-opacity=\"1\" /><path clip-path=\"url(#clip820)\" d=\"M162.061 831.535 L184.283 831.535 L184.283 833.526 L171.737 866.095 L166.852 866.095 L178.658 835.47 L162.061 835.47 L162.061 831.535 Z\" fill=\"#000000\" fill-rule=\"nonzero\" fill-opacity=\"1\" /><path clip-path=\"url(#clip820)\" d=\"M193.45 831.535 L211.806 831.535 L211.806 835.47 L197.732 835.47 L197.732 843.942 Q198.75 843.595 199.769 843.433 Q200.787 843.248 201.806 843.248 Q207.593 843.248 210.973 846.419 Q214.352 849.59 214.352 855.007 Q214.352 860.586 210.88 863.688 Q207.408 866.766 201.088 866.766 Q198.912 866.766 196.644 866.396 Q194.399 866.025 191.991 865.285 L191.991 860.586 Q194.075 861.72 196.297 862.275 Q198.519 862.831 200.996 862.831 Q205 862.831 207.338 860.725 Q209.676 858.618 209.676 855.007 Q209.676 851.396 207.338 849.289 Q205 847.183 200.996 847.183 Q199.121 847.183 197.246 847.6 Q195.394 848.016 193.45 848.896 L193.45 831.535 Z\" fill=\"#000000\" fill-rule=\"nonzero\" fill-opacity=\"1\" /><path clip-path=\"url(#clip820)\" d=\"M117.061 622.385 L135.417 622.385 L135.417 626.32 L121.343 626.32 L121.343 634.793 Q122.362 634.445 123.38 634.283 Q124.399 634.098 125.418 634.098 Q131.205 634.098 134.584 637.269 Q137.964 640.441 137.964 645.857 Q137.964 651.436 134.492 654.538 Q131.019 657.616 124.7 657.616 Q122.524 657.616 120.255 657.246 Q118.01 656.876 115.603 656.135 L115.603 651.436 Q117.686 652.57 119.908 653.126 Q122.13 653.681 124.607 653.681 Q128.612 653.681 130.95 651.575 Q133.288 649.468 133.288 645.857 Q133.288 642.246 130.95 640.14 Q128.612 638.033 124.607 638.033 Q122.732 638.033 120.857 638.45 Q119.006 638.867 117.061 639.746 L117.061 622.385 Z\" fill=\"#000000\" fill-rule=\"nonzero\" fill-opacity=\"1\" /><path clip-path=\"url(#clip820)\" d=\"M147.177 651.066 L152.061 651.066 L152.061 656.945 L147.177 656.945 L147.177 651.066 Z\" fill=\"#000000\" fill-rule=\"nonzero\" fill-opacity=\"1\" /><path clip-path=\"url(#clip820)\" d=\"M172.246 625.464 Q168.635 625.464 166.806 629.029 Q165.001 632.57 165.001 639.7 Q165.001 646.806 166.806 650.371 Q168.635 653.913 172.246 653.913 Q175.88 653.913 177.686 650.371 Q179.514 646.806 179.514 639.7 Q179.514 632.57 177.686 629.029 Q175.88 625.464 172.246 625.464 M172.246 621.76 Q178.056 621.76 181.112 626.367 Q184.19 630.95 184.19 639.7 Q184.19 648.427 181.112 653.033 Q178.056 657.616 172.246 657.616 Q166.436 657.616 163.357 653.033 Q160.302 648.427 160.302 639.7 Q160.302 630.95 163.357 626.367 Q166.436 621.76 172.246 621.76 Z\" fill=\"#000000\" fill-rule=\"nonzero\" fill-opacity=\"1\" /><path clip-path=\"url(#clip820)\" d=\"M202.408 625.464 Q198.797 625.464 196.968 629.029 Q195.163 632.57 195.163 639.7 Q195.163 646.806 196.968 650.371 Q198.797 653.913 202.408 653.913 Q206.042 653.913 207.848 650.371 Q209.676 646.806 209.676 639.7 Q209.676 632.57 207.848 629.029 Q206.042 625.464 202.408 625.464 M202.408 621.76 Q208.218 621.76 211.274 626.367 Q214.352 630.95 214.352 639.7 Q214.352 648.427 211.274 653.033 Q208.218 657.616 202.408 657.616 Q196.598 657.616 193.519 653.033 Q190.463 648.427 190.463 639.7 Q190.463 630.95 193.519 626.367 Q196.598 621.76 202.408 621.76 Z\" fill=\"#000000\" fill-rule=\"nonzero\" fill-opacity=\"1\" /><path clip-path=\"url(#clip820)\" d=\"M118.056 413.235 L136.413 413.235 L136.413 417.171 L122.339 417.171 L122.339 425.643 Q123.357 425.296 124.376 425.134 Q125.394 424.948 126.413 424.948 Q132.2 424.948 135.579 428.12 Q138.959 431.291 138.959 436.708 Q138.959 442.286 135.487 445.388 Q132.015 448.467 125.695 448.467 Q123.519 448.467 121.251 448.096 Q119.006 447.726 116.598 446.985 L116.598 442.286 Q118.681 443.42 120.904 443.976 Q123.126 444.532 125.603 444.532 Q129.607 444.532 131.945 442.425 Q134.283 440.319 134.283 436.708 Q134.283 433.096 131.945 430.99 Q129.607 428.883 125.603 428.883 Q123.728 428.883 121.853 429.3 Q120.001 429.717 118.056 430.596 L118.056 413.235 Z\" fill=\"#000000\" fill-rule=\"nonzero\" fill-opacity=\"1\" /><path clip-path=\"url(#clip820)\" d=\"M148.172 441.916 L153.056 441.916 L153.056 447.795 L148.172 447.795 L148.172 441.916 Z\" fill=\"#000000\" fill-rule=\"nonzero\" fill-opacity=\"1\" /><path clip-path=\"url(#clip820)\" d=\"M167.269 443.86 L183.588 443.86 L183.588 447.795 L161.644 447.795 L161.644 443.86 Q164.306 441.106 168.889 436.476 Q173.496 431.823 174.677 430.481 Q176.922 427.958 177.801 426.221 Q178.704 424.462 178.704 422.772 Q178.704 420.018 176.76 418.282 Q174.839 416.546 171.737 416.546 Q169.538 416.546 167.084 417.309 Q164.653 418.073 161.876 419.624 L161.876 414.902 Q164.7 413.768 167.153 413.189 Q169.607 412.61 171.644 412.61 Q177.014 412.61 180.209 415.296 Q183.403 417.981 183.403 422.471 Q183.403 424.601 182.593 426.522 Q181.806 428.421 179.7 431.013 Q179.121 431.684 176.019 434.902 Q172.917 438.096 167.269 443.86 Z\" fill=\"#000000\" fill-rule=\"nonzero\" fill-opacity=\"1\" /><path clip-path=\"url(#clip820)\" d=\"M193.45 413.235 L211.806 413.235 L211.806 417.171 L197.732 417.171 L197.732 425.643 Q198.75 425.296 199.769 425.134 Q200.787 424.948 201.806 424.948 Q207.593 424.948 210.973 428.12 Q214.352 431.291 214.352 436.708 Q214.352 442.286 210.88 445.388 Q207.408 448.467 201.088 448.467 Q198.912 448.467 196.644 448.096 Q194.399 447.726 191.991 446.985 L191.991 442.286 Q194.075 443.42 196.297 443.976 Q198.519 444.532 200.996 444.532 Q205 444.532 207.338 442.425 Q209.676 440.319 209.676 436.708 Q209.676 433.096 207.338 430.99 Q205 428.883 200.996 428.883 Q199.121 428.883 197.246 429.3 Q195.394 429.717 193.45 430.596 L193.45 413.235 Z\" fill=\"#000000\" fill-rule=\"nonzero\" fill-opacity=\"1\" /><path clip-path=\"url(#clip820)\" d=\"M117.061 204.086 L135.417 204.086 L135.417 208.021 L121.343 208.021 L121.343 216.493 Q122.362 216.146 123.38 215.984 Q124.399 215.799 125.418 215.799 Q131.205 215.799 134.584 218.97 Q137.964 222.141 137.964 227.558 Q137.964 233.136 134.492 236.238 Q131.019 239.317 124.7 239.317 Q122.524 239.317 120.255 238.947 Q118.01 238.576 115.603 237.836 L115.603 233.136 Q117.686 234.271 119.908 234.826 Q122.13 235.382 124.607 235.382 Q128.612 235.382 130.95 233.275 Q133.288 231.169 133.288 227.558 Q133.288 223.947 130.95 221.84 Q128.612 219.734 124.607 219.734 Q122.732 219.734 120.857 220.15 Q119.006 220.567 117.061 221.447 L117.061 204.086 Z\" fill=\"#000000\" fill-rule=\"nonzero\" fill-opacity=\"1\" /><path clip-path=\"url(#clip820)\" d=\"M147.177 232.766 L152.061 232.766 L152.061 238.646 L147.177 238.646 L147.177 232.766 Z\" fill=\"#000000\" fill-rule=\"nonzero\" fill-opacity=\"1\" /><path clip-path=\"url(#clip820)\" d=\"M162.292 204.086 L180.649 204.086 L180.649 208.021 L166.575 208.021 L166.575 216.493 Q167.593 216.146 168.612 215.984 Q169.63 215.799 170.649 215.799 Q176.436 215.799 179.815 218.97 Q183.195 222.141 183.195 227.558 Q183.195 233.136 179.723 236.238 Q176.251 239.317 169.931 239.317 Q167.755 239.317 165.487 238.947 Q163.241 238.576 160.834 237.836 L160.834 233.136 Q162.917 234.271 165.14 234.826 Q167.362 235.382 169.839 235.382 Q173.843 235.382 176.181 233.275 Q178.519 231.169 178.519 227.558 Q178.519 223.947 176.181 221.84 Q173.843 219.734 169.839 219.734 Q167.964 219.734 166.089 220.15 Q164.237 220.567 162.292 221.447 L162.292 204.086 Z\" fill=\"#000000\" fill-rule=\"nonzero\" fill-opacity=\"1\" /><path clip-path=\"url(#clip820)\" d=\"M202.408 207.164 Q198.797 207.164 196.968 210.729 Q195.163 214.271 195.163 221.4 Q195.163 228.507 196.968 232.072 Q198.797 235.613 202.408 235.613 Q206.042 235.613 207.848 232.072 Q209.676 228.507 209.676 221.4 Q209.676 214.271 207.848 210.729 Q206.042 207.164 202.408 207.164 M202.408 203.461 Q208.218 203.461 211.274 208.067 Q214.352 212.65 214.352 221.4 Q214.352 230.127 211.274 234.734 Q208.218 239.317 202.408 239.317 Q196.598 239.317 193.519 234.734 Q190.463 230.127 190.463 221.4 Q190.463 212.65 193.519 208.067 Q196.598 203.461 202.408 203.461 Z\" fill=\"#000000\" fill-rule=\"nonzero\" fill-opacity=\"1\" /><path clip-path=\"url(#clip820)\" d=\"M16.4842 1266.03 L16.4842 1240.79 L21.895 1240.79 L21.895 1260.14 L33.5443 1260.14 Q33.0668 1258.74 32.844 1257.34 Q32.5894 1255.94 32.5894 1254.54 Q32.5894 1246.59 36.9499 1241.94 Q41.3104 1237.29 48.7583 1237.29 Q56.429 1237.29 60.694 1242.07 Q64.9272 1246.84 64.9272 1255.53 Q64.9272 1258.52 64.4179 1261.64 Q63.9087 1264.73 62.8902 1268.04 L56.429 1268.04 Q57.9886 1265.17 58.7524 1262.12 Q59.5163 1259.06 59.5163 1255.66 Q59.5163 1250.15 56.6199 1246.94 Q53.7235 1243.72 48.7583 1243.72 Q43.793 1243.72 40.8966 1246.94 Q38.0002 1250.15 38.0002 1255.66 Q38.0002 1258.23 38.5732 1260.81 Q39.1461 1263.36 40.3556 1266.03 L16.4842 1266.03 Z\" fill=\"#000000\" fill-rule=\"nonzero\" fill-opacity=\"1\" /><path clip-path=\"url(#clip820)\" d=\"M58.5933 1219.09 L58.5933 1196.65 L64.0042 1196.65 L64.0042 1226.82 L58.5933 1226.82 Q54.8057 1223.16 48.44 1216.86 Q42.0425 1210.52 40.1964 1208.9 Q36.7271 1205.81 34.34 1204.6 Q31.921 1203.36 29.5975 1203.36 Q25.8099 1203.36 23.4228 1206.04 Q21.0356 1208.68 21.0356 1212.94 Q21.0356 1215.97 22.086 1219.34 Q23.1363 1222.68 25.2688 1226.5 L18.7758 1226.5 Q17.2162 1222.62 16.4205 1219.24 Q15.6248 1215.87 15.6248 1213.07 Q15.6248 1205.69 19.3169 1201.29 Q23.009 1196.9 29.1837 1196.9 Q32.112 1196.9 34.7537 1198.01 Q37.3637 1199.1 40.9285 1201.99 Q41.8515 1202.79 46.2757 1207.05 Q50.668 1211.32 58.5933 1219.09 Z\" fill=\"#000000\" fill-rule=\"nonzero\" fill-opacity=\"1\" /><path clip-path=\"url(#clip820)\" d=\"M16.4842 1167.24 L16.4842 1160.74 L56.6518 1150.75 L16.4842 1140.79 L16.4842 1133.56 L56.6518 1123.57 L16.4842 1113.61 L16.4842 1107.08 L64.0042 1119.02 L64.0042 1127.1 L22.7544 1137.13 L64.0042 1147.25 L64.0042 1155.33 L16.4842 1167.24 Z\" fill=\"#000000\" fill-rule=\"nonzero\" fill-opacity=\"1\" /><path clip-path=\"url(#clip820)\" d=\"M16.4842 1098.55 L16.4842 1068.5 L21.895 1068.5 L21.895 1092.12 L35.9632 1092.12 L35.9632 1069.49 L41.3741 1069.49 L41.3741 1092.12 L58.5933 1092.12 L58.5933 1067.93 L64.0042 1067.93 L64.0042 1098.55 L16.4842 1098.55 Z\" fill=\"#000000\" fill-rule=\"nonzero\" fill-opacity=\"1\" /><path clip-path=\"url(#clip820)\" d=\"M16.4842 1057.36 L16.4842 1027.32 L21.895 1027.32 L21.895 1050.94 L35.9632 1050.94 L35.9632 1028.31 L41.3741 1028.31 L41.3741 1050.94 L58.5933 1050.94 L58.5933 1026.75 L64.0042 1026.75 L64.0042 1057.36 L16.4842 1057.36 Z\" fill=\"#000000\" fill-rule=\"nonzero\" fill-opacity=\"1\" /><path clip-path=\"url(#clip820)\" d=\"M16.4842 1016.18 L16.4842 1009.75 L36.568 1009.75 L16.4842 988.424 L16.4842 980.148 L38.6368 1003.73 L64.0042 978.462 L64.0042 986.928 L41.1194 1009.75 L64.0042 1009.75 L64.0042 1016.18 L16.4842 1016.18 Z\" fill=\"#000000\" fill-rule=\"nonzero\" fill-opacity=\"1\" /><path clip-path=\"url(#clip820)\" d=\"M18.0438 944.946 L24.314 944.946 Q22.5634 948.606 21.704 951.853 Q20.8447 955.099 20.8447 958.123 Q20.8447 963.375 22.8817 966.239 Q24.9187 969.072 28.6745 969.072 Q31.8255 969.072 33.4488 967.194 Q35.0402 965.285 36.0269 960.001 L36.8226 956.118 Q38.1912 948.925 41.6605 945.519 Q45.098 942.082 50.8908 942.082 Q57.7976 942.082 61.3624 946.728 Q64.9272 951.344 64.9272 960.287 Q64.9272 963.661 64.1633 967.481 Q63.3994 971.268 61.9035 975.342 L55.2831 975.342 Q57.4793 971.427 58.5933 967.672 Q59.7073 963.916 59.7073 960.287 Q59.7073 954.781 57.543 951.789 Q55.3786 948.797 51.3682 948.797 Q47.8671 948.797 45.8937 950.962 Q43.9204 953.094 42.9337 957.996 L42.1698 961.911 Q40.7375 969.104 37.682 972.319 Q34.6264 975.533 29.1837 975.533 Q22.8817 975.533 19.2532 971.109 Q15.6248 966.653 15.6248 958.855 Q15.6248 955.513 16.2295 952.044 Q16.8343 948.575 18.0438 944.946 Z\" fill=\"#000000\" fill-rule=\"nonzero\" fill-opacity=\"1\" /><path clip-path=\"url(#clip820)\" d=\"M20.1444 875.751 L26.9239 875.751 Q23.9002 878.997 22.4043 882.689 Q20.9083 886.35 20.9083 890.487 Q20.9083 898.636 25.9054 902.964 Q30.8707 907.293 40.2919 907.293 Q49.6813 907.293 54.6784 902.964 Q59.6436 898.636 59.6436 890.487 Q59.6436 886.35 58.1477 882.689 Q56.6518 878.997 53.6281 875.751 L60.3439 875.751 Q62.6355 879.125 63.7814 882.912 Q64.9272 886.668 64.9272 890.869 Q64.9272 901.659 58.3387 907.866 Q51.7183 914.072 40.2919 914.072 Q28.8336 914.072 22.2451 907.866 Q15.6248 901.659 15.6248 890.869 Q15.6248 886.604 16.7706 882.849 Q17.8846 879.061 20.1444 875.751 Z\" fill=\"#000000\" fill-rule=\"nonzero\" fill-opacity=\"1\" /><path clip-path=\"url(#clip820)\" d=\"M20.8447 846.532 Q20.8447 853.535 26.0645 857.672 Q31.2844 861.778 40.2919 861.778 Q49.2675 861.778 54.4874 857.672 Q59.7073 853.535 59.7073 846.532 Q59.7073 839.53 54.4874 835.456 Q49.2675 831.35 40.2919 831.35 Q31.2844 831.35 26.0645 835.456 Q20.8447 839.53 20.8447 846.532 M15.6248 846.532 Q15.6248 836.538 22.3406 830.554 Q29.0246 824.571 40.2919 824.571 Q51.5274 824.571 58.2432 830.554 Q64.9272 836.538 64.9272 846.532 Q64.9272 856.558 58.2432 862.574 Q51.5592 868.558 40.2919 868.558 Q29.0246 868.558 22.3406 862.574 Q15.6248 856.558 15.6248 846.532 Z\" fill=\"#000000\" fill-rule=\"nonzero\" fill-opacity=\"1\" /><path clip-path=\"url(#clip820)\" d=\"M16.4842 815.245 L16.4842 808.784 L45.3526 808.784 Q52.9915 808.784 56.3653 806.015 Q59.7073 803.245 59.7073 797.039 Q59.7073 790.864 56.3653 788.095 Q52.9915 785.326 45.3526 785.326 L16.4842 785.326 L16.4842 778.865 L46.1484 778.865 Q55.4423 778.865 60.1847 783.48 Q64.9272 788.063 64.9272 797.039 Q64.9272 806.046 60.1847 810.662 Q55.4423 815.245 46.1484 815.245 L16.4842 815.245 Z\" fill=\"#000000\" fill-rule=\"nonzero\" fill-opacity=\"1\" /><path clip-path=\"url(#clip820)\" d=\"M21.7677 760.372 L39.6235 760.372 L39.6235 752.288 Q39.6235 747.8 37.3 745.349 Q34.9765 742.899 30.6797 742.899 Q26.4147 742.899 24.0912 745.349 Q21.7677 747.8 21.7677 752.288 L21.7677 760.372 M16.4842 766.802 L16.4842 752.288 Q16.4842 744.299 20.1126 740.225 Q23.7092 736.119 30.6797 736.119 Q37.7138 736.119 41.3104 740.225 Q44.907 744.299 44.907 752.288 L44.907 760.372 L64.0042 760.372 L64.0042 766.802 L16.4842 766.802 Z\" fill=\"#000000\" fill-rule=\"nonzero\" fill-opacity=\"1\" /><path clip-path=\"url(#clip820)\" d=\"M20.8447 708.205 Q20.8447 715.208 26.0645 719.345 Q31.2844 723.451 40.2919 723.451 Q49.2675 723.451 54.4874 719.345 Q59.7073 715.208 59.7073 708.205 Q59.7073 701.203 54.4874 697.129 Q49.2675 693.023 40.2919 693.023 Q31.2844 693.023 26.0645 697.129 Q20.8447 701.203 20.8447 708.205 M15.6248 708.205 Q15.6248 698.211 22.3406 692.228 Q29.0246 686.244 40.2919 686.244 Q51.5274 686.244 58.2432 692.228 Q64.9272 698.211 64.9272 708.205 Q64.9272 718.231 58.2432 724.247 Q51.5592 730.231 40.2919 730.231 Q29.0246 730.231 22.3406 724.247 Q15.6248 718.231 15.6248 708.205 Z\" fill=\"#000000\" fill-rule=\"nonzero\" fill-opacity=\"1\" /><path clip-path=\"url(#clip820)\" d=\"M16.4842 676.186 L16.4842 667.529 L56.238 646.458 L16.4842 646.458 L16.4842 640.22 L64.0042 640.22 L64.0042 648.877 L24.2503 669.948 L64.0042 669.948 L64.0042 676.186 L16.4842 676.186 Z\" fill=\"#000000\" fill-rule=\"nonzero\" fill-opacity=\"1\" /><path clip-path=\"url(#clip820)\" d=\"M16.4842 606.704 L16.4842 576.658 L21.895 576.658 L21.895 600.275 L35.9632 600.275 L35.9632 577.645 L41.3741 577.645 L41.3741 600.275 L58.5933 600.275 L58.5933 576.085 L64.0042 576.085 L64.0042 606.704 L16.4842 606.704 Z\" fill=\"#000000\" fill-rule=\"nonzero\" fill-opacity=\"1\" /><path clip-path=\"url(#clip820)\" d=\"M20.8447 546.23 Q20.8447 553.232 26.0645 557.37 Q31.2844 561.476 40.2919 561.476 Q49.2675 561.476 54.4874 557.37 Q59.7073 553.232 59.7073 546.23 Q59.7073 539.228 54.4874 535.154 Q49.2675 531.048 40.2919 531.048 Q31.2844 531.048 26.0645 535.154 Q20.8447 539.228 20.8447 546.23 M63.1448 537.223 L72.4069 528.756 L72.4069 536.522 L64.7999 543.556 Q64.8635 544.607 64.8954 545.18 Q64.9272 545.721 64.9272 546.23 Q64.9272 556.256 58.2432 562.272 Q51.5274 568.255 40.2919 568.255 Q29.0246 568.255 22.3406 562.272 Q15.6248 556.256 15.6248 546.23 Q15.6248 536.236 22.3406 530.252 Q29.0246 524.268 40.2919 524.268 Q48.5673 524.268 54.4556 527.61 Q60.3439 530.921 63.1448 537.223 Z\" fill=\"#000000\" fill-rule=\"nonzero\" fill-opacity=\"1\" /><path clip-path=\"url(#clip820)\" d=\"M16.4842 514.943 L16.4842 508.481 L45.3526 508.481 Q52.9915 508.481 56.3653 505.712 Q59.7073 502.943 59.7073 496.737 Q59.7073 490.562 56.3653 487.793 Q52.9915 485.024 45.3526 485.024 L16.4842 485.024 L16.4842 478.563 L46.1484 478.563 Q55.4423 478.563 60.1847 483.178 Q64.9272 487.761 64.9272 496.737 Q64.9272 505.744 60.1847 510.359 Q55.4423 514.943 46.1484 514.943 L16.4842 514.943 Z\" fill=\"#000000\" fill-rule=\"nonzero\" fill-opacity=\"1\" /><path clip-path=\"url(#clip820)\" d=\"M16.4842 466.5 L16.4842 460.07 L64.0042 460.07 L64.0042 466.5 L16.4842 466.5 Z\" fill=\"#000000\" fill-rule=\"nonzero\" fill-opacity=\"1\" /><path clip-path=\"url(#clip820)\" d=\"M64.0042 435.021 L16.4842 453.163 L16.4842 446.448 L56.4926 431.393 L16.4842 416.306 L16.4842 409.622 L64.0042 427.732 L64.0042 435.021 Z\" fill=\"#000000\" fill-rule=\"nonzero\" fill-opacity=\"1\" /><path clip-path=\"url(#clip820)\" d=\"M22.818 390.97 L46.4666 399.691 L46.4666 382.218 L22.818 390.97 M16.4842 394.599 L16.4842 387.31 L64.0042 369.2 L64.0042 375.884 L51.8138 380.212 L51.8138 401.633 L64.0042 405.962 L64.0042 412.741 L16.4842 394.599 Z\" fill=\"#000000\" fill-rule=\"nonzero\" fill-opacity=\"1\" /><path clip-path=\"url(#clip820)\" d=\"M16.4842 362.261 L16.4842 355.832 L58.5933 355.832 L58.5933 332.692 L64.0042 332.692 L64.0042 362.261 L16.4842 362.261 Z\" fill=\"#000000\" fill-rule=\"nonzero\" fill-opacity=\"1\" /><path clip-path=\"url(#clip820)\" d=\"M16.4842 325.945 L16.4842 295.899 L21.895 295.899 L21.895 319.515 L35.9632 319.515 L35.9632 296.885 L41.3741 296.885 L41.3741 319.515 L58.5933 319.515 L58.5933 295.326 L64.0042 295.326 L64.0042 325.945 L16.4842 325.945 Z\" fill=\"#000000\" fill-rule=\"nonzero\" fill-opacity=\"1\" /><path clip-path=\"url(#clip820)\" d=\"M16.4842 284.759 L16.4842 276.101 L56.238 255.031 L16.4842 255.031 L16.4842 248.792 L64.0042 248.792 L64.0042 257.45 L24.2503 278.52 L64.0042 278.52 L64.0042 284.759 L16.4842 284.759 Z\" fill=\"#000000\" fill-rule=\"nonzero\" fill-opacity=\"1\" /><path clip-path=\"url(#clip820)\" d=\"M16.4842 242.586 L16.4842 202.386 L21.895 202.386 L21.895 219.256 L64.0042 219.256 L64.0042 225.717 L21.895 225.717 L21.895 242.586 L16.4842 242.586 Z\" fill=\"#000000\" fill-rule=\"nonzero\" fill-opacity=\"1\" /><path clip-path=\"url(#clip822)\" d=\"M309.854 798.619 L309.854 796.506 L321.386 796.506 L321.386 794.392 L332.917 794.392 L332.917 792.277 L344.448 792.277 L344.448 790.161 L355.98 790.161 L355.98 788.043 L367.511 788.043 L367.511 785.925 L379.043 785.925 L379.043 783.805 L390.574 783.805 L390.574 781.685 L402.105 781.685 L402.105 779.563 L413.637 779.563 L413.637 777.44 L425.168 777.44 L425.168 775.316 L436.7 775.316 L436.7 773.191 L448.231 773.191 L448.231 771.064 L459.762 771.064 L459.762 768.937 L471.294 768.937 L471.294 766.809 L482.825 766.809 L482.825 764.679 L494.357 764.679 L494.357 762.548 L505.888 762.548 L505.888 760.416 L517.419 760.416 L517.419 758.283 L528.951 758.283 L528.951 756.149 L540.482 756.149 L540.482 754.014 L552.013 754.014 L552.013 751.878 L563.545 751.878 L563.545 749.74 L575.076 749.74 L575.076 747.602 L586.608 747.602 L586.608 745.462 L598.139 745.462 L598.139 743.321 L609.67 743.321 L609.67 741.179 L621.202 741.179 L621.202 739.036 L632.733 739.036 L632.733 736.892 L644.265 736.892 L644.265 734.747 L655.796 734.747 L655.796 732.6 L667.327 732.6 L667.327 730.453 L678.859 730.453 L678.859 728.304 L690.39 728.304 L690.39 726.154 L701.922 726.154 L701.922 724.003 L713.453 724.003 L713.453 721.851 L724.984 721.851 L724.984 719.698 L736.516 719.698 L736.516 717.544 L748.047 717.544 L748.047 715.388 L759.579 715.388 L759.579 713.232 L771.11 713.232 L771.11 711.074 L782.641 711.074 L782.641 708.915 L794.173 708.915 L794.173 706.755 L805.704 706.755 L805.704 704.594 L817.236 704.594 L817.236 702.431 L828.767 702.431 L828.767 700.268 L840.298 700.268 L840.298 698.104 L851.83 698.104 L851.83 695.938 L863.361 695.938 L863.361 693.771 L874.892 693.771 L874.892 691.603 L886.424 691.603 L886.424 689.434 L897.955 689.434 L897.955 687.264 L909.487 687.264 L909.487 685.092 L921.018 685.092 L921.018 682.92 L932.549 682.92 L932.549 680.746 L944.081 680.746 L944.081 678.571 L955.612 678.571 L955.612 676.395 L967.144 676.395 L967.144 674.218 L978.675 674.218 L978.675 672.04 L990.206 672.04 L990.206 669.861 L1001.74 669.861 L1001.74 667.68 L1013.27 667.68 L1013.27 665.499 L1024.8 665.499 L1024.8 663.316 L1036.33 663.316 L1036.33 661.132 L1047.86 661.132 L1047.86 658.947 L1059.39 658.947 L1059.39 656.76 L1070.93 656.76 L1070.93 654.573 L1082.46 654.573 L1082.46 652.385 L1093.99 652.385 L1093.99 650.195 L1105.52 650.195 L1105.52 648.004 L1117.05 648.004 L1117.05 645.812 L1128.58 645.812 L1128.58 643.619 L1140.11 643.619 L1140.11 641.425 L1151.65 641.425 L1151.65 639.229 L1163.18 639.229 L1163.18 637.033 L1174.71 637.033 L1174.71 634.835 L1186.24 634.835 L1186.24 632.636 L1197.77 632.636 L1197.77 630.436 L1209.3 630.436 L1209.3 628.235 L1220.83 628.235 L1220.83 626.032 L1232.37 626.032 L1232.37 623.829 L1243.9 623.829 L1243.9 621.624 L1255.43 621.624 L1255.43 619.418 L1266.96 619.418 L1266.96 617.211 L1278.49 617.211 L1278.49 615.003 L1290.02 615.003 L1290.02 612.794 L1301.55 612.794 L1301.55 610.583 L1313.09 610.583 L1313.09 608.372 L1324.62 608.372 L1324.62 606.159 L1336.15 606.159 L1336.15 603.945 L1347.68 603.945 L1347.68 601.73 L1359.21 601.73 L1359.21 599.513 L1370.74 599.513 L1370.74 597.296 L1382.27 597.296 L1382.27 595.077 L1393.81 595.077 L1393.81 592.858 L1405.34 592.858 L1405.34 590.637 L1416.87 590.637 L1416.87 588.414 L1428.4 588.414 L1428.4 586.191 L1439.93 586.191 L1439.93 583.967 L1451.46 583.967 L1451.46 581.741 L1462.99 581.741 L1462.99 579.514 L1474.52 579.514 L1474.52 577.286 L1486.06 577.286 L1486.06 575.057 L1497.59 575.057 L1497.59 572.827 L1509.12 572.827 L1509.12 570.596 L1520.65 570.596 L1520.65 568.363 L1532.18 568.363 L1532.18 566.129 L1543.71 566.129 L1543.71 563.894 L1555.24 563.894 L1555.24 561.658 L1566.78 561.658 L1566.78 559.421 L1578.31 559.421 L1578.31 557.182 L1589.84 557.182 L1589.84 554.942 L1601.37 554.942 L1601.37 552.702 L1612.9 552.702 L1612.9 550.46 L1624.43 550.46 L1624.43 548.216 L1635.96 548.216 L1635.96 545.972 L1647.5 545.972 L1647.5 543.726 L1659.03 543.726 L1659.03 541.48 L1670.56 541.48 L1670.56 539.232 L1682.09 539.232 L1682.09 536.983 L1693.62 536.983 L1693.62 534.732 L1705.15 534.732 L1705.15 532.481 L1716.68 532.481 L1716.68 530.228 L1728.22 530.228 L1728.22 527.974 L1739.75 527.974 L1739.75 525.719 L1751.28 525.719 L1751.28 523.463 L1762.81 523.463 L1762.81 521.206 L1774.34 521.206 L1774.34 518.947 L1785.87 518.947 L1785.87 516.687 L1797.4 516.687 L1797.4 514.427 L1808.94 514.427 L1808.94 512.164 L1820.47 512.164 L1820.47 509.901 L1832 509.901 L1832 507.637 L1843.53 507.637 L1843.53 505.371 L1855.06 505.371 L1855.06 503.104 L1866.59 503.104 L1866.59 500.836 L1878.12 500.836 L1878.12 498.567 L1889.66 498.567 L1889.66 496.296 L1901.19 496.296 L1901.19 494.025 L1912.72 494.025 L1912.72 491.752 L1924.25 491.752 L1924.25 489.478 L1935.78 489.478 L1935.78 487.202 L1947.31 487.202 L1947.31 484.926 L1958.84 484.926 L1958.84 482.648 L1970.37 482.648 L1970.37 480.37 L1981.91 480.37 L1981.91 478.09 L1993.44 478.09 L1993.44 475.808 L2004.97 475.808 L2004.97 473.526 L2016.5 473.526 L2016.5 471.242 L2028.03 471.242 L2028.03 468.958 L2039.56 468.958 L2039.56 466.672 L2051.09 466.672 L2051.09 464.384 L2062.63 464.384 L2062.63 462.096 L2074.16 462.096 L2074.16 459.806 L2085.69 459.806 L2085.69 457.516 L2097.22 457.516 L2097.22 455.224 L2108.75 455.224 L2108.75 452.93 L2120.28 452.93 L2120.28 450.636 L2131.81 450.636 L2131.81 448.34 L2143.35 448.34 L2143.35 446.043 L2154.88 446.043 L2154.88 443.745 L2166.41 443.745 L2166.41 441.446 L2177.94 441.446 L2177.94 439.146 L2189.47 439.146 L2189.47 436.844 L2201 436.844 L2201 434.541 L2212.53 434.541 L2212.53 432.237 L2224.07 432.237 L2224.07 429.932 L2235.6 429.932 L2235.6 427.625 L2247.13 427.625 L2247.13 425.318 L2258.66 425.318 L2258.66 423.009 L2270.19 423.009 L2270.19 420.699 L2281.72 420.699 L2281.72 418.387 L2293.25 418.387 L2293.25 86.1857 L2281.72 86.1857 L2281.72 89.6407 L2270.19 89.6407 L2270.19 93.0962 L2258.66 93.0962 L2258.66 96.5522 L2247.13 96.5522 L2247.13 100.009 L2235.6 100.009 L2235.6 103.466 L2224.07 103.466 L2224.07 106.924 L2212.53 106.924 L2212.53 110.382 L2201 110.382 L2201 113.841 L2189.47 113.841 L2189.47 117.3 L2177.94 117.3 L2177.94 120.761 L2166.41 120.761 L2166.41 124.222 L2154.88 124.222 L2154.88 127.683 L2143.35 127.683 L2143.35 131.146 L2131.81 131.146 L2131.81 134.609 L2120.28 134.609 L2120.28 138.073 L2108.75 138.073 L2108.75 141.538 L2097.22 141.538 L2097.22 145.003 L2085.69 145.003 L2085.69 148.47 L2074.16 148.47 L2074.16 151.938 L2062.63 151.938 L2062.63 155.406 L2051.09 155.406 L2051.09 158.875 L2039.56 158.875 L2039.56 162.346 L2028.03 162.346 L2028.03 165.817 L2016.5 165.817 L2016.5 169.29 L2004.97 169.29 L2004.97 172.763 L1993.44 172.763 L1993.44 176.238 L1981.91 176.238 L1981.91 179.714 L1970.37 179.714 L1970.37 183.191 L1958.84 183.191 L1958.84 186.669 L1947.31 186.669 L1947.31 190.149 L1935.78 190.149 L1935.78 193.63 L1924.25 193.63 L1924.25 197.112 L1912.72 197.112 L1912.72 200.595 L1901.19 200.595 L1901.19 204.08 L1889.66 204.08 L1889.66 207.567 L1878.12 207.567 L1878.12 211.054 L1866.59 211.054 L1866.59 214.544 L1855.06 214.544 L1855.06 218.035 L1843.53 218.035 L1843.53 221.527 L1832 221.527 L1832 225.021 L1820.47 225.021 L1820.47 228.517 L1808.94 228.517 L1808.94 232.014 L1797.4 232.014 L1797.4 235.513 L1785.87 235.513 L1785.87 239.014 L1774.34 239.014 L1774.34 242.517 L1762.81 242.517 L1762.81 246.022 L1751.28 246.022 L1751.28 249.529 L1739.75 249.529 L1739.75 253.037 L1728.22 253.037 L1728.22 256.548 L1716.68 256.548 L1716.68 260.061 L1705.15 260.061 L1705.15 263.575 L1693.62 263.575 L1693.62 267.093 L1682.09 267.093 L1682.09 270.612 L1670.56 270.612 L1670.56 274.133 L1659.03 274.133 L1659.03 277.657 L1647.5 277.657 L1647.5 281.183 L1635.96 281.183 L1635.96 284.712 L1624.43 284.712 L1624.43 288.243 L1612.9 288.243 L1612.9 291.777 L1601.37 291.777 L1601.37 295.314 L1589.84 295.314 L1589.84 298.853 L1578.31 298.853 L1578.31 302.395 L1566.78 302.395 L1566.78 305.939 L1555.24 305.939 L1555.24 309.487 L1543.71 309.487 L1543.71 313.037 L1532.18 313.037 L1532.18 316.591 L1520.65 316.591 L1520.65 320.148 L1509.12 320.148 L1509.12 323.707 L1497.59 323.707 L1497.59 327.27 L1486.06 327.27 L1486.06 330.837 L1474.52 330.837 L1474.52 334.406 L1462.99 334.406 L1462.99 337.98 L1451.46 337.98 L1451.46 341.556 L1439.93 341.556 L1439.93 345.137 L1428.4 345.137 L1428.4 348.721 L1416.87 348.721 L1416.87 352.309 L1405.34 352.309 L1405.34 355.901 L1393.81 355.901 L1393.81 359.497 L1382.27 359.497 L1382.27 363.097 L1370.74 363.097 L1370.74 366.701 L1359.21 366.701 L1359.21 370.309 L1347.68 370.309 L1347.68 373.922 L1336.15 373.922 L1336.15 377.539 L1324.62 377.539 L1324.62 381.161 L1313.09 381.161 L1313.09 384.788 L1301.55 384.788 L1301.55 388.42 L1290.02 388.42 L1290.02 392.056 L1278.49 392.056 L1278.49 395.698 L1266.96 395.698 L1266.96 399.345 L1255.43 399.345 L1255.43 402.997 L1243.9 402.997 L1243.9 406.655 L1232.37 406.655 L1232.37 410.318 L1220.83 410.318 L1220.83 413.987 L1209.3 413.987 L1209.3 417.662 L1197.77 417.662 L1197.77 421.343 L1186.24 421.343 L1186.24 425.03 L1174.71 425.03 L1174.71 428.724 L1163.18 428.724 L1163.18 432.424 L1151.65 432.424 L1151.65 436.131 L1140.11 436.131 L1140.11 439.845 L1128.58 439.845 L1128.58 443.566 L1117.05 443.566 L1117.05 447.295 L1105.52 447.295 L1105.52 451.031 L1093.99 451.031 L1093.99 454.774 L1082.46 454.774 L1082.46 458.526 L1070.93 458.526 L1070.93 462.285 L1059.39 462.285 L1059.39 466.053 L1047.86 466.053 L1047.86 469.83 L1036.33 469.83 L1036.33 473.616 L1024.8 473.616 L1024.8 477.41 L1013.27 477.41 L1013.27 481.214 L1001.74 481.214 L1001.74 485.028 L990.206 485.028 L990.206 488.852 L978.675 488.852 L978.675 492.686 L967.144 492.686 L967.144 496.531 L955.612 496.531 L955.612 500.387 L944.081 500.387 L944.081 504.254 L932.549 504.254 L932.549 508.132 L921.018 508.132 L921.018 512.023 L909.487 512.023 L909.487 515.926 L897.955 515.926 L897.955 519.843 L886.424 519.843 L886.424 523.772 L874.892 523.772 L874.892 527.715 L863.361 527.715 L863.361 531.673 L851.83 531.673 L851.83 535.645 L840.298 535.645 L840.298 539.633 L828.767 539.633 L828.767 543.637 L817.236 543.637 L817.236 547.657 L805.704 547.657 L805.704 551.695 L794.173 551.695 L794.173 555.75 L782.641 555.75 L782.641 559.824 L771.11 559.824 L771.11 563.917 L759.579 563.917 L759.579 568.031 L748.047 568.031 L748.047 572.165 L736.516 572.165 L736.516 576.322 L724.984 576.322 L724.984 580.501 L713.453 580.501 L713.453 584.704 L701.922 584.704 L701.922 588.933 L690.39 588.933 L690.39 593.188 L678.859 593.188 L678.859 597.47 L667.327 597.47 L667.327 601.782 L655.796 601.782 L655.796 606.124 L644.265 606.124 L644.265 610.499 L632.733 610.499 L632.733 614.908 L621.202 614.908 L621.202 619.352 L609.67 619.352 L609.67 623.835 L598.139 623.835 L598.139 628.359 L586.608 628.359 L586.608 632.926 L575.076 632.926 L575.076 637.539 L563.545 637.539 L563.545 642.201 L552.013 642.201 L552.013 646.916 L540.482 646.916 L540.482 651.688 L528.951 651.688 L528.951 656.521 L517.419 656.521 L517.419 661.421 L505.888 661.421 L505.888 666.394 L494.357 666.394 L494.357 671.445 L482.825 671.445 L482.825 676.583 L471.294 676.583 L471.294 681.818 L459.762 681.818 L459.762 687.159 L448.231 687.159 L448.231 692.62 L436.7 692.62 L436.7 698.216 L425.168 698.216 L425.168 703.967 L413.637 703.967 L413.637 709.898 L402.105 709.898 L402.105 716.039 L390.574 716.039 L390.574 722.432 L379.043 722.432 L379.043 729.135 L367.511 729.135 L367.511 736.229 L355.98 736.229 L355.98 743.841 L344.448 743.841 L344.448 752.184 L332.917 752.184 L332.917 761.674 L321.386 761.674 L321.386 773.383 L309.854 773.383 L309.854 798.619  Z\" fill=\"#87cefa\" fill-rule=\"evenodd\" fill-opacity=\"0.25\"/>\n",
       "<polyline clip-path=\"url(#clip822)\" style=\"stroke:#87cefa; stroke-linecap:round; stroke-linejoin:round; stroke-width:4; stroke-opacity:0.25; fill:none\" points=\"309.854,798.619 309.854,796.506 321.386,796.506 321.386,794.392 332.917,794.392 332.917,792.277 344.448,792.277 344.448,790.161 355.98,790.161 355.98,788.043 367.511,788.043 367.511,785.925 379.043,785.925 379.043,783.805 390.574,783.805 390.574,781.685 402.105,781.685 402.105,779.563 413.637,779.563 413.637,777.44 425.168,777.44 425.168,775.316 436.7,775.316 436.7,773.191 448.231,773.191 448.231,771.064 459.762,771.064 459.762,768.937 471.294,768.937 471.294,766.809 482.825,766.809 482.825,764.679 494.357,764.679 494.357,762.548 505.888,762.548 505.888,760.416 517.419,760.416 517.419,758.283 528.951,758.283 528.951,756.149 540.482,756.149 540.482,754.014 552.013,754.014 552.013,751.878 563.545,751.878 563.545,749.74 575.076,749.74 575.076,747.602 586.608,747.602 586.608,745.462 598.139,745.462 598.139,743.321 609.67,743.321 609.67,741.179 621.202,741.179 621.202,739.036 632.733,739.036 632.733,736.892 644.265,736.892 644.265,734.747 655.796,734.747 655.796,732.6 667.327,732.6 667.327,730.453 678.859,730.453 678.859,728.304 690.39,728.304 690.39,726.154 701.922,726.154 701.922,724.003 713.453,724.003 713.453,721.851 724.984,721.851 724.984,719.698 736.516,719.698 736.516,717.544 748.047,717.544 748.047,715.388 759.579,715.388 759.579,713.232 771.11,713.232 771.11,711.074 782.641,711.074 782.641,708.915 794.173,708.915 794.173,706.755 805.704,706.755 805.704,704.594 817.236,704.594 817.236,702.431 828.767,702.431 828.767,700.268 840.298,700.268 840.298,698.104 851.83,698.104 851.83,695.938 863.361,695.938 863.361,693.771 874.892,693.771 874.892,691.603 886.424,691.603 886.424,689.434 897.955,689.434 897.955,687.264 909.487,687.264 909.487,685.092 921.018,685.092 921.018,682.92 932.549,682.92 932.549,680.746 944.081,680.746 944.081,678.571 955.612,678.571 955.612,676.395 967.144,676.395 967.144,674.218 978.675,674.218 978.675,672.04 990.206,672.04 990.206,669.861 1001.74,669.861 1001.74,667.68 1013.27,667.68 1013.27,665.499 1024.8,665.499 1024.8,663.316 1036.33,663.316 1036.33,661.132 1047.86,661.132 1047.86,658.947 1059.39,658.947 1059.39,656.76 1070.93,656.76 1070.93,654.573 1082.46,654.573 1082.46,652.385 1093.99,652.385 1093.99,650.195 1105.52,650.195 1105.52,648.004 1117.05,648.004 1117.05,645.812 1128.58,645.812 1128.58,643.619 1140.11,643.619 1140.11,641.425 1151.65,641.425 1151.65,639.229 1163.18,639.229 1163.18,637.033 1174.71,637.033 1174.71,634.835 1186.24,634.835 1186.24,632.636 1197.77,632.636 1197.77,630.436 1209.3,630.436 1209.3,628.235 1220.83,628.235 1220.83,626.032 1232.37,626.032 1232.37,623.829 1243.9,623.829 1243.9,621.624 1255.43,621.624 1255.43,619.418 1266.96,619.418 1266.96,617.211 1278.49,617.211 1278.49,615.003 1290.02,615.003 1290.02,612.794 1301.55,612.794 1301.55,610.583 1313.09,610.583 1313.09,608.372 1324.62,608.372 1324.62,606.159 1336.15,606.159 1336.15,603.945 1347.68,603.945 1347.68,601.73 1359.21,601.73 1359.21,599.513 1370.74,599.513 1370.74,597.296 1382.27,597.296 1382.27,595.077 1393.81,595.077 1393.81,592.858 1405.34,592.858 1405.34,590.637 1416.87,590.637 1416.87,588.414 1428.4,588.414 1428.4,586.191 1439.93,586.191 1439.93,583.967 1451.46,583.967 1451.46,581.741 1462.99,581.741 1462.99,579.514 1474.52,579.514 1474.52,577.286 1486.06,577.286 1486.06,575.057 1497.59,575.057 1497.59,572.827 1509.12,572.827 1509.12,570.596 1520.65,570.596 1520.65,568.363 1532.18,568.363 1532.18,566.129 1543.71,566.129 1543.71,563.894 1555.24,563.894 1555.24,561.658 1566.78,561.658 1566.78,559.421 1578.31,559.421 1578.31,557.182 1589.84,557.182 1589.84,554.942 1601.37,554.942 1601.37,552.702 1612.9,552.702 1612.9,550.46 1624.43,550.46 1624.43,548.216 1635.96,548.216 1635.96,545.972 1647.5,545.972 1647.5,543.726 1659.03,543.726 1659.03,541.48 1670.56,541.48 1670.56,539.232 1682.09,539.232 1682.09,536.983 1693.62,536.983 1693.62,534.732 1705.15,534.732 1705.15,532.481 1716.68,532.481 1716.68,530.228 1728.22,530.228 1728.22,527.974 1739.75,527.974 1739.75,525.719 1751.28,525.719 1751.28,523.463 1762.81,523.463 1762.81,521.206 1774.34,521.206 1774.34,518.947 1785.87,518.947 1785.87,516.687 1797.4,516.687 1797.4,514.427 1808.94,514.427 1808.94,512.164 1820.47,512.164 1820.47,509.901 1832,509.901 1832,507.637 1843.53,507.637 1843.53,505.371 1855.06,505.371 1855.06,503.104 1866.59,503.104 1866.59,500.836 1878.12,500.836 1878.12,498.567 1889.66,498.567 1889.66,496.296 1901.19,496.296 1901.19,494.025 1912.72,494.025 1912.72,491.752 1924.25,491.752 1924.25,489.478 1935.78,489.478 1935.78,487.202 1947.31,487.202 1947.31,484.926 1958.84,484.926 1958.84,482.648 1970.37,482.648 1970.37,480.37 1981.91,480.37 1981.91,478.09 1993.44,478.09 1993.44,475.808 2004.97,475.808 2004.97,473.526 2016.5,473.526 2016.5,471.242 2028.03,471.242 2028.03,468.958 2039.56,468.958 2039.56,466.672 2051.09,466.672 2051.09,464.384 2062.63,464.384 2062.63,462.096 2074.16,462.096 2074.16,459.806 2085.69,459.806 2085.69,457.516 2097.22,457.516 2097.22,455.224 2108.75,455.224 2108.75,452.93 2120.28,452.93 2120.28,450.636 2131.81,450.636 2131.81,448.34 2143.35,448.34 2143.35,446.043 2154.88,446.043 2154.88,443.745 2166.41,443.745 2166.41,441.446 2177.94,441.446 2177.94,439.146 2189.47,439.146 2189.47,436.844 2201,436.844 2201,434.541 2212.53,434.541 2212.53,432.237 2224.07,432.237 2224.07,429.932 2235.6,429.932 2235.6,427.625 2247.13,427.625 2247.13,425.318 2258.66,425.318 2258.66,423.009 2270.19,423.009 2270.19,420.699 2281.72,420.699 2281.72,418.387 2293.25,418.387 \"/>\n",
       "<path clip-path=\"url(#clip822)\" d=\"M309.854 798.619 L309.854 796.506 L321.386 796.506 L321.386 794.392 L332.917 794.392 L332.917 792.277 L344.448 792.277 L344.448 790.161 L355.98 790.161 L355.98 788.043 L367.511 788.043 L367.511 785.925 L379.043 785.925 L379.043 783.805 L390.574 783.805 L390.574 781.685 L402.105 781.685 L402.105 779.563 L413.637 779.563 L413.637 777.44 L425.168 777.44 L425.168 775.316 L436.7 775.316 L436.7 773.191 L448.231 773.191 L448.231 771.064 L459.762 771.064 L459.762 768.937 L471.294 768.937 L471.294 766.809 L482.825 766.809 L482.825 764.679 L494.357 764.679 L494.357 762.548 L505.888 762.548 L505.888 760.416 L517.419 760.416 L517.419 758.283 L528.951 758.283 L528.951 756.149 L540.482 756.149 L540.482 754.014 L552.013 754.014 L552.013 751.878 L563.545 751.878 L563.545 749.74 L575.076 749.74 L575.076 747.602 L586.608 747.602 L586.608 745.462 L598.139 745.462 L598.139 743.321 L609.67 743.321 L609.67 741.179 L621.202 741.179 L621.202 739.036 L632.733 739.036 L632.733 736.892 L644.265 736.892 L644.265 734.747 L655.796 734.747 L655.796 732.6 L667.327 732.6 L667.327 730.453 L678.859 730.453 L678.859 728.304 L690.39 728.304 L690.39 726.154 L701.922 726.154 L701.922 724.003 L713.453 724.003 L713.453 721.851 L724.984 721.851 L724.984 719.698 L736.516 719.698 L736.516 717.544 L748.047 717.544 L748.047 715.388 L759.579 715.388 L759.579 713.232 L771.11 713.232 L771.11 711.074 L782.641 711.074 L782.641 708.915 L794.173 708.915 L794.173 706.755 L805.704 706.755 L805.704 704.594 L817.236 704.594 L817.236 702.431 L828.767 702.431 L828.767 700.268 L840.298 700.268 L840.298 698.104 L851.83 698.104 L851.83 695.938 L863.361 695.938 L863.361 693.771 L874.892 693.771 L874.892 691.603 L886.424 691.603 L886.424 689.434 L897.955 689.434 L897.955 687.264 L909.487 687.264 L909.487 685.092 L921.018 685.092 L921.018 682.92 L932.549 682.92 L932.549 680.746 L944.081 680.746 L944.081 678.571 L955.612 678.571 L955.612 676.395 L967.144 676.395 L967.144 674.218 L978.675 674.218 L978.675 672.04 L990.206 672.04 L990.206 669.861 L1001.74 669.861 L1001.74 667.68 L1013.27 667.68 L1013.27 665.499 L1024.8 665.499 L1024.8 663.316 L1036.33 663.316 L1036.33 661.132 L1047.86 661.132 L1047.86 658.947 L1059.39 658.947 L1059.39 656.76 L1070.93 656.76 L1070.93 654.573 L1082.46 654.573 L1082.46 652.385 L1093.99 652.385 L1093.99 650.195 L1105.52 650.195 L1105.52 648.004 L1117.05 648.004 L1117.05 645.812 L1128.58 645.812 L1128.58 643.619 L1140.11 643.619 L1140.11 641.425 L1151.65 641.425 L1151.65 639.229 L1163.18 639.229 L1163.18 637.033 L1174.71 637.033 L1174.71 634.835 L1186.24 634.835 L1186.24 632.636 L1197.77 632.636 L1197.77 630.436 L1209.3 630.436 L1209.3 628.235 L1220.83 628.235 L1220.83 626.032 L1232.37 626.032 L1232.37 623.829 L1243.9 623.829 L1243.9 621.624 L1255.43 621.624 L1255.43 619.418 L1266.96 619.418 L1266.96 617.211 L1278.49 617.211 L1278.49 615.003 L1290.02 615.003 L1290.02 612.794 L1301.55 612.794 L1301.55 610.583 L1313.09 610.583 L1313.09 608.372 L1324.62 608.372 L1324.62 606.159 L1336.15 606.159 L1336.15 603.945 L1347.68 603.945 L1347.68 601.73 L1359.21 601.73 L1359.21 599.513 L1370.74 599.513 L1370.74 597.296 L1382.27 597.296 L1382.27 595.077 L1393.81 595.077 L1393.81 592.858 L1405.34 592.858 L1405.34 590.637 L1416.87 590.637 L1416.87 588.414 L1428.4 588.414 L1428.4 586.191 L1439.93 586.191 L1439.93 583.967 L1451.46 583.967 L1451.46 581.741 L1462.99 581.741 L1462.99 579.514 L1474.52 579.514 L1474.52 577.286 L1486.06 577.286 L1486.06 575.057 L1497.59 575.057 L1497.59 572.827 L1509.12 572.827 L1509.12 570.596 L1520.65 570.596 L1520.65 568.363 L1532.18 568.363 L1532.18 566.129 L1543.71 566.129 L1543.71 563.894 L1555.24 563.894 L1555.24 561.658 L1566.78 561.658 L1566.78 559.421 L1578.31 559.421 L1578.31 557.182 L1589.84 557.182 L1589.84 554.942 L1601.37 554.942 L1601.37 552.702 L1612.9 552.702 L1612.9 550.46 L1624.43 550.46 L1624.43 548.216 L1635.96 548.216 L1635.96 545.972 L1647.5 545.972 L1647.5 543.726 L1659.03 543.726 L1659.03 541.48 L1670.56 541.48 L1670.56 539.232 L1682.09 539.232 L1682.09 536.983 L1693.62 536.983 L1693.62 534.732 L1705.15 534.732 L1705.15 532.481 L1716.68 532.481 L1716.68 530.228 L1728.22 530.228 L1728.22 527.974 L1739.75 527.974 L1739.75 525.719 L1751.28 525.719 L1751.28 523.463 L1762.81 523.463 L1762.81 521.206 L1774.34 521.206 L1774.34 518.947 L1785.87 518.947 L1785.87 516.687 L1797.4 516.687 L1797.4 514.427 L1808.94 514.427 L1808.94 512.164 L1820.47 512.164 L1820.47 509.901 L1832 509.901 L1832 507.637 L1843.53 507.637 L1843.53 505.371 L1855.06 505.371 L1855.06 503.104 L1866.59 503.104 L1866.59 500.836 L1878.12 500.836 L1878.12 498.567 L1889.66 498.567 L1889.66 496.296 L1901.19 496.296 L1901.19 494.025 L1912.72 494.025 L1912.72 491.752 L1924.25 491.752 L1924.25 489.478 L1935.78 489.478 L1935.78 487.202 L1947.31 487.202 L1947.31 484.926 L1958.84 484.926 L1958.84 482.648 L1970.37 482.648 L1970.37 480.37 L1981.91 480.37 L1981.91 478.09 L1993.44 478.09 L1993.44 475.808 L2004.97 475.808 L2004.97 473.526 L2016.5 473.526 L2016.5 471.242 L2028.03 471.242 L2028.03 468.958 L2039.56 468.958 L2039.56 466.672 L2051.09 466.672 L2051.09 464.384 L2062.63 464.384 L2062.63 462.096 L2074.16 462.096 L2074.16 459.806 L2085.69 459.806 L2085.69 457.516 L2097.22 457.516 L2097.22 455.224 L2108.75 455.224 L2108.75 452.93 L2120.28 452.93 L2120.28 450.636 L2131.81 450.636 L2131.81 448.34 L2143.35 448.34 L2143.35 446.043 L2154.88 446.043 L2154.88 443.745 L2166.41 443.745 L2166.41 441.446 L2177.94 441.446 L2177.94 439.146 L2189.47 439.146 L2189.47 436.844 L2201 436.844 L2201 434.541 L2212.53 434.541 L2212.53 432.237 L2224.07 432.237 L2224.07 429.932 L2235.6 429.932 L2235.6 427.625 L2247.13 427.625 L2247.13 425.318 L2258.66 425.318 L2258.66 423.009 L2270.19 423.009 L2270.19 420.699 L2281.72 420.699 L2281.72 418.387 L2293.25 418.387 L2293.25 750.589 L2281.72 750.589 L2281.72 751.756 L2270.19 751.756 L2270.19 752.921 L2258.66 752.921 L2258.66 754.083 L2247.13 754.083 L2247.13 755.242 L2235.6 755.242 L2235.6 756.398 L2224.07 756.398 L2224.07 757.551 L2212.53 757.551 L2212.53 758.7 L2201 758.7 L2201 759.847 L2189.47 759.847 L2189.47 760.991 L2177.94 760.991 L2177.94 762.132 L2166.41 762.132 L2166.41 763.269 L2154.88 763.269 L2154.88 764.404 L2143.35 764.404 L2143.35 765.535 L2131.81 765.535 L2131.81 766.663 L2120.28 766.663 L2120.28 767.788 L2108.75 767.788 L2108.75 768.909 L2097.22 768.909 L2097.22 770.028 L2085.69 770.028 L2085.69 771.143 L2074.16 771.143 L2074.16 772.254 L2062.63 772.254 L2062.63 773.363 L2051.09 773.363 L2051.09 774.468 L2039.56 774.468 L2039.56 775.569 L2028.03 775.569 L2028.03 776.667 L2016.5 776.667 L2016.5 777.762 L2004.97 777.762 L2004.97 778.853 L1993.44 778.853 L1993.44 779.941 L1981.91 779.941 L1981.91 781.025 L1970.37 781.025 L1970.37 782.106 L1958.84 782.106 L1958.84 783.183 L1947.31 783.183 L1947.31 784.256 L1935.78 784.256 L1935.78 785.326 L1924.25 785.326 L1924.25 786.392 L1912.72 786.392 L1912.72 787.454 L1901.19 787.454 L1901.19 788.512 L1889.66 788.512 L1889.66 789.567 L1878.12 789.567 L1878.12 790.617 L1866.59 790.617 L1866.59 791.664 L1855.06 791.664 L1855.06 792.707 L1843.53 792.707 L1843.53 793.746 L1832 793.746 L1832 794.781 L1820.47 794.781 L1820.47 795.812 L1808.94 795.812 L1808.94 796.839 L1797.4 796.839 L1797.4 797.861 L1785.87 797.861 L1785.87 798.88 L1774.34 798.88 L1774.34 799.894 L1762.81 799.894 L1762.81 800.904 L1751.28 800.904 L1751.28 801.91 L1739.75 801.91 L1739.75 802.912 L1728.22 802.912 L1728.22 803.909 L1716.68 803.909 L1716.68 804.901 L1705.15 804.901 L1705.15 805.889 L1693.62 805.889 L1693.62 806.873 L1682.09 806.873 L1682.09 807.852 L1670.56 807.852 L1670.56 808.826 L1659.03 808.826 L1659.03 809.796 L1647.5 809.796 L1647.5 810.76 L1635.96 810.76 L1635.96 811.72 L1624.43 811.72 L1624.43 812.676 L1612.9 812.676 L1612.9 813.626 L1601.37 813.626 L1601.37 814.571 L1589.84 814.571 L1589.84 815.511 L1578.31 815.511 L1578.31 816.447 L1566.78 816.447 L1566.78 817.377 L1555.24 817.377 L1555.24 818.301 L1543.71 818.301 L1543.71 819.221 L1532.18 819.221 L1532.18 820.135 L1520.65 820.135 L1520.65 821.044 L1509.12 821.044 L1509.12 821.947 L1497.59 821.947 L1497.59 822.844 L1486.06 822.844 L1486.06 823.736 L1474.52 823.736 L1474.52 824.622 L1462.99 824.622 L1462.99 825.503 L1451.46 825.503 L1451.46 826.377 L1439.93 826.377 L1439.93 827.246 L1428.4 827.246 L1428.4 828.108 L1416.87 828.108 L1416.87 828.964 L1405.34 828.964 L1405.34 829.814 L1393.81 829.814 L1393.81 830.658 L1382.27 830.658 L1382.27 831.495 L1370.74 831.495 L1370.74 832.326 L1359.21 832.326 L1359.21 833.15 L1347.68 833.15 L1347.68 833.968 L1336.15 833.968 L1336.15 834.778 L1324.62 834.778 L1324.62 835.582 L1313.09 835.582 L1313.09 836.378 L1301.55 836.378 L1301.55 837.168 L1290.02 837.168 L1290.02 837.95 L1278.49 837.95 L1278.49 838.725 L1266.96 838.725 L1266.96 839.492 L1255.43 839.492 L1255.43 840.251 L1243.9 840.251 L1243.9 841.003 L1232.37 841.003 L1232.37 841.747 L1220.83 841.747 L1220.83 842.482 L1209.3 842.482 L1209.3 843.21 L1197.77 843.21 L1197.77 843.929 L1186.24 843.929 L1186.24 844.639 L1174.71 844.639 L1174.71 845.341 L1163.18 845.341 L1163.18 846.034 L1151.65 846.034 L1151.65 846.718 L1140.11 846.718 L1140.11 847.392 L1128.58 847.392 L1128.58 848.058 L1117.05 848.058 L1117.05 848.713 L1105.52 848.713 L1105.52 849.359 L1093.99 849.359 L1093.99 849.995 L1082.46 849.995 L1082.46 850.621 L1070.93 850.621 L1070.93 851.236 L1059.39 851.236 L1059.39 851.84 L1047.86 851.84 L1047.86 852.434 L1036.33 852.434 L1036.33 853.016 L1024.8 853.016 L1024.8 853.587 L1013.27 853.587 L1013.27 854.146 L1001.74 854.146 L1001.74 854.693 L990.206 854.693 L990.206 855.228 L978.675 855.228 L978.675 855.751 L967.144 855.751 L967.144 856.26 L955.612 856.26 L955.612 856.756 L944.081 856.756 L944.081 857.239 L932.549 857.239 L932.549 857.707 L921.018 857.707 L921.018 858.162 L909.487 858.162 L909.487 858.601 L897.955 858.601 L897.955 859.025 L886.424 859.025 L886.424 859.434 L874.892 859.434 L874.892 859.827 L863.361 859.827 L863.361 860.203 L851.83 860.203 L851.83 860.562 L840.298 860.562 L840.298 860.903 L828.767 860.903 L828.767 861.226 L817.236 861.226 L817.236 861.53 L805.704 861.53 L805.704 861.815 L794.173 861.815 L794.173 862.08 L782.641 862.08 L782.641 862.324 L771.11 862.324 L771.11 862.546 L759.579 862.546 L759.579 862.746 L748.047 862.746 L748.047 862.922 L736.516 862.922 L736.516 863.074 L724.984 863.074 L724.984 863.201 L713.453 863.201 L713.453 863.302 L701.922 863.302 L701.922 863.376 L690.39 863.376 L690.39 863.42 L678.859 863.42 L678.859 863.435 L667.327 863.435 L667.327 863.419 L655.796 863.419 L655.796 863.369 L644.265 863.369 L644.265 863.285 L632.733 863.285 L632.733 863.165 L621.202 863.165 L621.202 863.006 L609.67 863.006 L609.67 862.807 L598.139 862.807 L598.139 862.565 L586.608 862.565 L586.608 862.278 L575.076 862.278 L575.076 861.942 L563.545 861.942 L563.545 861.555 L552.013 861.555 L552.013 861.112 L540.482 861.112 L540.482 860.611 L528.951 860.611 L528.951 860.045 L517.419 860.045 L517.419 859.412 L505.888 859.412 L505.888 858.703 L494.357 858.703 L494.357 857.913 L482.825 857.913 L482.825 857.034 L471.294 857.034 L471.294 856.057 L459.762 856.057 L459.762 854.97 L448.231 854.97 L448.231 853.762 L436.7 853.762 L436.7 852.416 L425.168 852.416 L425.168 850.912 L413.637 850.912 L413.637 849.228 L402.105 849.228 L402.105 847.33 L390.574 847.33 L390.574 845.179 L379.043 845.179 L379.043 842.715 L367.511 842.715 L367.511 839.858 L355.98 839.858 L355.98 836.48 L344.448 836.48 L344.448 832.37 L332.917 832.37 L332.917 827.11 L321.386 827.11 L321.386 819.629 L309.854 819.629 L309.854 798.619  Z\" fill=\"#87cefa\" fill-rule=\"evenodd\" fill-opacity=\"0.25\"/>\n",
       "<polyline clip-path=\"url(#clip822)\" style=\"stroke:#87cefa; stroke-linecap:round; stroke-linejoin:round; stroke-width:4; stroke-opacity:0.25; fill:none\" points=\"309.854,798.619 309.854,796.506 321.386,796.506 321.386,794.392 332.917,794.392 332.917,792.277 344.448,792.277 344.448,790.161 355.98,790.161 355.98,788.043 367.511,788.043 367.511,785.925 379.043,785.925 379.043,783.805 390.574,783.805 390.574,781.685 402.105,781.685 402.105,779.563 413.637,779.563 413.637,777.44 425.168,777.44 425.168,775.316 436.7,775.316 436.7,773.191 448.231,773.191 448.231,771.064 459.762,771.064 459.762,768.937 471.294,768.937 471.294,766.809 482.825,766.809 482.825,764.679 494.357,764.679 494.357,762.548 505.888,762.548 505.888,760.416 517.419,760.416 517.419,758.283 528.951,758.283 528.951,756.149 540.482,756.149 540.482,754.014 552.013,754.014 552.013,751.878 563.545,751.878 563.545,749.74 575.076,749.74 575.076,747.602 586.608,747.602 586.608,745.462 598.139,745.462 598.139,743.321 609.67,743.321 609.67,741.179 621.202,741.179 621.202,739.036 632.733,739.036 632.733,736.892 644.265,736.892 644.265,734.747 655.796,734.747 655.796,732.6 667.327,732.6 667.327,730.453 678.859,730.453 678.859,728.304 690.39,728.304 690.39,726.154 701.922,726.154 701.922,724.003 713.453,724.003 713.453,721.851 724.984,721.851 724.984,719.698 736.516,719.698 736.516,717.544 748.047,717.544 748.047,715.388 759.579,715.388 759.579,713.232 771.11,713.232 771.11,711.074 782.641,711.074 782.641,708.915 794.173,708.915 794.173,706.755 805.704,706.755 805.704,704.594 817.236,704.594 817.236,702.431 828.767,702.431 828.767,700.268 840.298,700.268 840.298,698.104 851.83,698.104 851.83,695.938 863.361,695.938 863.361,693.771 874.892,693.771 874.892,691.603 886.424,691.603 886.424,689.434 897.955,689.434 897.955,687.264 909.487,687.264 909.487,685.092 921.018,685.092 921.018,682.92 932.549,682.92 932.549,680.746 944.081,680.746 944.081,678.571 955.612,678.571 955.612,676.395 967.144,676.395 967.144,674.218 978.675,674.218 978.675,672.04 990.206,672.04 990.206,669.861 1001.74,669.861 1001.74,667.68 1013.27,667.68 1013.27,665.499 1024.8,665.499 1024.8,663.316 1036.33,663.316 1036.33,661.132 1047.86,661.132 1047.86,658.947 1059.39,658.947 1059.39,656.76 1070.93,656.76 1070.93,654.573 1082.46,654.573 1082.46,652.385 1093.99,652.385 1093.99,650.195 1105.52,650.195 1105.52,648.004 1117.05,648.004 1117.05,645.812 1128.58,645.812 1128.58,643.619 1140.11,643.619 1140.11,641.425 1151.65,641.425 1151.65,639.229 1163.18,639.229 1163.18,637.033 1174.71,637.033 1174.71,634.835 1186.24,634.835 1186.24,632.636 1197.77,632.636 1197.77,630.436 1209.3,630.436 1209.3,628.235 1220.83,628.235 1220.83,626.032 1232.37,626.032 1232.37,623.829 1243.9,623.829 1243.9,621.624 1255.43,621.624 1255.43,619.418 1266.96,619.418 1266.96,617.211 1278.49,617.211 1278.49,615.003 1290.02,615.003 1290.02,612.794 1301.55,612.794 1301.55,610.583 1313.09,610.583 1313.09,608.372 1324.62,608.372 1324.62,606.159 1336.15,606.159 1336.15,603.945 1347.68,603.945 1347.68,601.73 1359.21,601.73 1359.21,599.513 1370.74,599.513 1370.74,597.296 1382.27,597.296 1382.27,595.077 1393.81,595.077 1393.81,592.858 1405.34,592.858 1405.34,590.637 1416.87,590.637 1416.87,588.414 1428.4,588.414 1428.4,586.191 1439.93,586.191 1439.93,583.967 1451.46,583.967 1451.46,581.741 1462.99,581.741 1462.99,579.514 1474.52,579.514 1474.52,577.286 1486.06,577.286 1486.06,575.057 1497.59,575.057 1497.59,572.827 1509.12,572.827 1509.12,570.596 1520.65,570.596 1520.65,568.363 1532.18,568.363 1532.18,566.129 1543.71,566.129 1543.71,563.894 1555.24,563.894 1555.24,561.658 1566.78,561.658 1566.78,559.421 1578.31,559.421 1578.31,557.182 1589.84,557.182 1589.84,554.942 1601.37,554.942 1601.37,552.702 1612.9,552.702 1612.9,550.46 1624.43,550.46 1624.43,548.216 1635.96,548.216 1635.96,545.972 1647.5,545.972 1647.5,543.726 1659.03,543.726 1659.03,541.48 1670.56,541.48 1670.56,539.232 1682.09,539.232 1682.09,536.983 1693.62,536.983 1693.62,534.732 1705.15,534.732 1705.15,532.481 1716.68,532.481 1716.68,530.228 1728.22,530.228 1728.22,527.974 1739.75,527.974 1739.75,525.719 1751.28,525.719 1751.28,523.463 1762.81,523.463 1762.81,521.206 1774.34,521.206 1774.34,518.947 1785.87,518.947 1785.87,516.687 1797.4,516.687 1797.4,514.427 1808.94,514.427 1808.94,512.164 1820.47,512.164 1820.47,509.901 1832,509.901 1832,507.637 1843.53,507.637 1843.53,505.371 1855.06,505.371 1855.06,503.104 1866.59,503.104 1866.59,500.836 1878.12,500.836 1878.12,498.567 1889.66,498.567 1889.66,496.296 1901.19,496.296 1901.19,494.025 1912.72,494.025 1912.72,491.752 1924.25,491.752 1924.25,489.478 1935.78,489.478 1935.78,487.202 1947.31,487.202 1947.31,484.926 1958.84,484.926 1958.84,482.648 1970.37,482.648 1970.37,480.37 1981.91,480.37 1981.91,478.09 1993.44,478.09 1993.44,475.808 2004.97,475.808 2004.97,473.526 2016.5,473.526 2016.5,471.242 2028.03,471.242 2028.03,468.958 2039.56,468.958 2039.56,466.672 2051.09,466.672 2051.09,464.384 2062.63,464.384 2062.63,462.096 2074.16,462.096 2074.16,459.806 2085.69,459.806 2085.69,457.516 2097.22,457.516 2097.22,455.224 2108.75,455.224 2108.75,452.93 2120.28,452.93 2120.28,450.636 2131.81,450.636 2131.81,448.34 2143.35,448.34 2143.35,446.043 2154.88,446.043 2154.88,443.745 2166.41,443.745 2166.41,441.446 2177.94,441.446 2177.94,439.146 2189.47,439.146 2189.47,436.844 2201,436.844 2201,434.541 2212.53,434.541 2212.53,432.237 2224.07,432.237 2224.07,429.932 2235.6,429.932 2235.6,427.625 2247.13,427.625 2247.13,425.318 2258.66,425.318 2258.66,423.009 2270.19,423.009 2270.19,420.699 2281.72,420.699 2281.72,418.387 2293.25,418.387 \"/>\n",
       "<polyline clip-path=\"url(#clip822)\" style=\"stroke:#000080; stroke-linecap:round; stroke-linejoin:round; stroke-width:8; stroke-opacity:1; fill:none\" points=\"309.854,798.619 309.854,796.506 321.386,796.506 321.386,794.392 332.917,794.392 332.917,792.277 344.448,792.277 344.448,790.161 355.98,790.161 355.98,788.043 367.511,788.043 367.511,785.925 379.043,785.925 379.043,783.805 390.574,783.805 390.574,781.685 402.105,781.685 402.105,779.563 413.637,779.563 413.637,777.44 425.168,777.44 425.168,775.316 436.7,775.316 436.7,773.191 448.231,773.191 448.231,771.064 459.762,771.064 459.762,768.937 471.294,768.937 471.294,766.809 482.825,766.809 482.825,764.679 494.357,764.679 494.357,762.548 505.888,762.548 505.888,760.416 517.419,760.416 517.419,758.283 528.951,758.283 528.951,756.149 540.482,756.149 540.482,754.014 552.013,754.014 552.013,751.878 563.545,751.878 563.545,749.74 575.076,749.74 575.076,747.602 586.608,747.602 586.608,745.462 598.139,745.462 598.139,743.321 609.67,743.321 609.67,741.179 621.202,741.179 621.202,739.036 632.733,739.036 632.733,736.892 644.265,736.892 644.265,734.747 655.796,734.747 655.796,732.6 667.327,732.6 667.327,730.453 678.859,730.453 678.859,728.304 690.39,728.304 690.39,726.154 701.922,726.154 701.922,724.003 713.453,724.003 713.453,721.851 724.984,721.851 724.984,719.698 736.516,719.698 736.516,717.544 748.047,717.544 748.047,715.388 759.579,715.388 759.579,713.232 771.11,713.232 771.11,711.074 782.641,711.074 782.641,708.915 794.173,708.915 794.173,706.755 805.704,706.755 805.704,704.594 817.236,704.594 817.236,702.431 828.767,702.431 828.767,700.268 840.298,700.268 840.298,698.104 851.83,698.104 851.83,695.938 863.361,695.938 863.361,693.771 874.892,693.771 874.892,691.603 886.424,691.603 886.424,689.434 897.955,689.434 897.955,687.264 909.487,687.264 909.487,685.092 921.018,685.092 921.018,682.92 932.549,682.92 932.549,680.746 944.081,680.746 944.081,678.571 955.612,678.571 955.612,676.395 967.144,676.395 967.144,674.218 978.675,674.218 978.675,672.04 990.206,672.04 990.206,669.861 1001.74,669.861 1001.74,667.68 1013.27,667.68 1013.27,665.499 1024.8,665.499 1024.8,663.316 1036.33,663.316 1036.33,661.132 1047.86,661.132 1047.86,658.947 1059.39,658.947 1059.39,656.76 1070.93,656.76 1070.93,654.573 1082.46,654.573 1082.46,652.385 1093.99,652.385 1093.99,650.195 1105.52,650.195 1105.52,648.004 1117.05,648.004 1117.05,645.812 1128.58,645.812 1128.58,643.619 1140.11,643.619 1140.11,641.425 1151.65,641.425 1151.65,639.229 1163.18,639.229 1163.18,637.033 1174.71,637.033 1174.71,634.835 1186.24,634.835 1186.24,632.636 1197.77,632.636 1197.77,630.436 1209.3,630.436 1209.3,628.235 1220.83,628.235 1220.83,626.032 1232.37,626.032 1232.37,623.829 1243.9,623.829 1243.9,621.624 1255.43,621.624 1255.43,619.418 1266.96,619.418 1266.96,617.211 1278.49,617.211 1278.49,615.003 1290.02,615.003 1290.02,612.794 1301.55,612.794 1301.55,610.583 1313.09,610.583 1313.09,608.372 1324.62,608.372 1324.62,606.159 1336.15,606.159 1336.15,603.945 1347.68,603.945 1347.68,601.73 1359.21,601.73 1359.21,599.513 1370.74,599.513 1370.74,597.296 1382.27,597.296 1382.27,595.077 1393.81,595.077 1393.81,592.858 1405.34,592.858 1405.34,590.637 1416.87,590.637 1416.87,588.414 1428.4,588.414 1428.4,586.191 1439.93,586.191 1439.93,583.967 1451.46,583.967 1451.46,581.741 1462.99,581.741 1462.99,579.514 1474.52,579.514 1474.52,577.286 1486.06,577.286 1486.06,575.057 1497.59,575.057 1497.59,572.827 1509.12,572.827 1509.12,570.596 1520.65,570.596 1520.65,568.363 1532.18,568.363 1532.18,566.129 1543.71,566.129 1543.71,563.894 1555.24,563.894 1555.24,561.658 1566.78,561.658 1566.78,559.421 1578.31,559.421 1578.31,557.182 1589.84,557.182 1589.84,554.942 1601.37,554.942 1601.37,552.702 1612.9,552.702 1612.9,550.46 1624.43,550.46 1624.43,548.216 1635.96,548.216 1635.96,545.972 1647.5,545.972 1647.5,543.726 1659.03,543.726 1659.03,541.48 1670.56,541.48 1670.56,539.232 1682.09,539.232 1682.09,536.983 1693.62,536.983 1693.62,534.732 1705.15,534.732 1705.15,532.481 1716.68,532.481 1716.68,530.228 1728.22,530.228 1728.22,527.974 1739.75,527.974 1739.75,525.719 1751.28,525.719 1751.28,523.463 1762.81,523.463 1762.81,521.206 1774.34,521.206 1774.34,518.947 1785.87,518.947 1785.87,516.687 1797.4,516.687 1797.4,514.427 1808.94,514.427 1808.94,512.164 1820.47,512.164 1820.47,509.901 1832,509.901 1832,507.637 1843.53,507.637 1843.53,505.371 1855.06,505.371 1855.06,503.104 1866.59,503.104 1866.59,500.836 1878.12,500.836 1878.12,498.567 1889.66,498.567 1889.66,496.296 1901.19,496.296 1901.19,494.025 1912.72,494.025 1912.72,491.752 1924.25,491.752 1924.25,489.478 1935.78,489.478 1935.78,487.202 1947.31,487.202 1947.31,484.926 1958.84,484.926 1958.84,482.648 1970.37,482.648 1970.37,480.37 1981.91,480.37 1981.91,478.09 1993.44,478.09 1993.44,475.808 2004.97,475.808 2004.97,473.526 2016.5,473.526 2016.5,471.242 2028.03,471.242 2028.03,468.958 2039.56,468.958 2039.56,466.672 2051.09,466.672 2051.09,464.384 2062.63,464.384 2062.63,462.096 2074.16,462.096 2074.16,459.806 2085.69,459.806 2085.69,457.516 2097.22,457.516 2097.22,455.224 2108.75,455.224 2108.75,452.93 2120.28,452.93 2120.28,450.636 2131.81,450.636 2131.81,448.34 2143.35,448.34 2143.35,446.043 2154.88,446.043 2154.88,443.745 2166.41,443.745 2166.41,441.446 2177.94,441.446 2177.94,439.146 2189.47,439.146 2189.47,436.844 2201,436.844 2201,434.541 2212.53,434.541 2212.53,432.237 2224.07,432.237 2224.07,429.932 2235.6,429.932 2235.6,427.625 2247.13,427.625 2247.13,425.318 2258.66,425.318 2258.66,423.009 2270.19,423.009 2270.19,420.699 2281.72,420.699 2281.72,418.387 2293.25,418.387 \"/>\n",
       "<polyline clip-path=\"url(#clip822)\" style=\"stroke:#ff0000; stroke-linecap:round; stroke-linejoin:round; stroke-width:8; stroke-opacity:1; fill:none\" points=\"309.854,798.619 309.854,790.253 321.386,790.253 321.386,765.155 332.917,765.155 344.448,765.155 344.448,781.887 355.98,781.887 355.98,773.521 367.511,773.521 379.043,773.521 379.043,832.083 390.574,832.083 390.574,915.743 402.105,915.743 402.105,857.181 413.637,857.181 413.637,781.887 425.168,781.887 425.168,773.521 436.7,773.521 436.7,740.057 448.231,740.057 448.231,748.423 459.762,748.423 459.762,798.619 471.294,798.619 471.294,790.253 482.825,790.253 482.825,840.449 494.357,840.449 494.357,823.717 505.888,823.717 505.888,832.083 517.419,832.083 517.419,806.985 528.951,806.985 528.951,865.547 540.482,865.547 540.482,899.011 552.013,899.011 552.013,790.253 563.545,790.253 563.545,740.057 575.076,740.057 575.076,773.521 586.608,773.521 586.608,765.155 598.139,765.155 609.67,765.155 609.67,748.423 621.202,748.423 621.202,731.691 632.733,731.691 632.733,631.299 644.265,631.299 644.265,664.763 655.796,664.763 655.796,673.129 667.327,673.129 667.327,639.665 678.859,639.665 678.859,664.763 690.39,664.763 690.39,656.397 701.922,656.397 701.922,631.299 713.453,631.299 713.453,639.665 724.984,639.665 724.984,614.567 736.516,614.567 736.516,606.201 748.047,606.201 748.047,631.299 759.579,631.299 759.579,622.933 771.11,622.933 771.11,681.495 782.641,681.495 782.641,648.031 794.173,648.031 794.173,673.129 805.704,673.129 805.704,664.763 817.236,664.763 817.236,681.495 828.767,681.495 828.767,689.861 840.298,689.861 840.298,664.763 851.83,664.763 851.83,622.933 863.361,622.933 863.361,614.567 874.892,614.567 874.892,589.469 886.424,589.469 886.424,581.103 897.955,581.103 897.955,572.737 909.487,572.737 909.487,589.469 921.018,589.469 921.018,631.299 932.549,631.299 944.081,631.299 944.081,664.763 955.612,664.763 955.612,631.299 967.144,631.299 967.144,639.665 978.675,639.665 978.675,648.031 990.206,648.031 990.206,614.567 1001.74,614.567 1001.74,572.737 1013.27,572.737 1013.27,581.103 1024.8,581.103 1024.8,606.201 1036.33,606.201 1036.33,622.933 1047.86,622.933 1047.86,589.469 1059.39,589.469 1059.39,564.371 1070.93,564.371 1070.93,597.835 1082.46,597.835 1082.46,472.345 1093.99,472.345 1093.99,489.077 1105.52,489.077 1105.52,514.175 1117.05,514.175 1117.05,489.077 1128.58,489.077 1140.11,489.077 1140.11,505.809 1151.65,505.809 1151.65,489.077 1163.18,489.077 1163.18,497.443 1174.71,497.443 1186.24,497.443 1186.24,514.175 1197.77,514.175 1197.77,497.443 1209.3,497.443 1209.3,463.979 1220.83,463.979 1232.37,463.979 1243.9,463.979 1243.9,430.515 1255.43,430.515 1255.43,455.613 1266.96,455.613 1266.96,497.443 1278.49,497.443 1278.49,530.907 1290.02,530.907 1290.02,522.541 1301.55,522.541 1301.55,514.175 1313.09,514.175 1324.62,514.175 1336.15,514.175 1336.15,489.077 1347.68,489.077 1359.21,489.077 1359.21,514.175 1370.74,514.175 1370.74,556.005 1382.27,556.005 1382.27,530.907 1393.81,530.907 1393.81,522.541 1405.34,522.541 1405.34,514.175 1416.87,514.175 1416.87,522.541 1428.4,522.541 1428.4,497.443 1439.93,497.443 1439.93,472.345 1451.46,472.345 1451.46,463.979 1462.99,463.979 1462.99,455.613 1474.52,455.613 1474.52,447.247 1486.06,447.247 1486.06,463.979 1497.59,463.979 1497.59,480.711 1509.12,480.711 1509.12,514.175 1520.65,514.175 1520.65,530.907 1532.18,530.907 1532.18,547.639 1543.71,547.639 1543.71,564.371 1555.24,564.371 1555.24,480.711 1566.78,480.711 1566.78,489.077 1578.31,489.077 1578.31,505.809 1589.84,505.809 1589.84,530.907 1601.37,530.907 1601.37,581.103 1612.9,581.103 1612.9,589.469 1624.43,589.469 1624.43,547.639 1635.96,547.639 1635.96,564.371 1647.5,564.371 1647.5,547.639 1659.03,547.639 1670.56,547.639 1682.09,547.639 1693.62,547.639 1693.62,522.541 1705.15,522.541 1705.15,539.273 1716.68,539.273 1716.68,547.639 1728.22,547.639 1728.22,539.273 1739.75,539.273 1739.75,556.005 1751.28,556.005 1751.28,589.469 1762.81,589.469 1762.81,631.299 1774.34,631.299 1774.34,622.933 1785.87,622.933 1797.4,622.933 1797.4,631.299 1808.94,631.299 1808.94,714.959 1820.47,714.959 1820.47,748.423 1832,748.423 1832,765.155 1843.53,765.155 1855.06,765.155 1866.59,765.155 1866.59,748.423 1878.12,748.423 1878.12,740.057 1889.66,740.057 1889.66,731.691 1901.19,731.691 1901.19,740.057 1912.72,740.057 1912.72,765.155 1924.25,765.155 1935.78,765.155 1935.78,798.619 1947.31,798.619 1958.84,798.619 1958.84,806.985 1970.37,806.985 1970.37,832.083 1981.91,832.083 1981.91,932.475 1993.44,932.475 1993.44,1166.72 2004.97,1166.72 2004.97,1149.99 2016.5,1149.99 2016.5,1099.79 2028.03,1099.79 2028.03,1108.16 2039.56,1108.16 2039.56,1066.33 2051.09,1066.33 2062.63,1066.33 2062.63,1083.06 2074.16,1083.06 2074.16,1133.26 2085.69,1133.26 2085.69,1116.53 2097.22,1116.53 2097.22,1024.5 2108.75,1024.5 2108.75,1057.96 2120.28,1057.96 2131.81,1057.96 2131.81,1099.79 2143.35,1099.79 2143.35,1158.36 2154.88,1158.36 2154.88,1091.43 2166.41,1091.43 2166.41,1158.36 2177.94,1158.36 2177.94,1133.26 2189.47,1133.26 2189.47,1158.36 2201,1158.36 2201,1141.62 2212.53,1141.62 2212.53,1124.89 2224.07,1124.89 2235.6,1124.89 2235.6,1191.82 2247.13,1191.82 2247.13,1283.85 2258.66,1283.85 2258.66,1308.94 2270.19,1308.94 2270.19,1384.24 2281.72,1384.24 2281.72,1367.51 2293.25,1367.51 \"/>\n",
       "<path clip-path=\"url(#clip820)\" d=\"M320.432 248.629 L1173.91 248.629 L1173.91 93.1086 L320.432 93.1086  Z\" fill=\"#f2f2f2\" fill-rule=\"evenodd\" fill-opacity=\"1\"/>\n",
       "<polyline clip-path=\"url(#clip820)\" style=\"stroke:#000000; stroke-linecap:round; stroke-linejoin:round; stroke-width:4; stroke-opacity:0; fill:none\" points=\"320.432,248.629 1173.91,248.629 1173.91,93.1086 320.432,93.1086 320.432,248.629 \"/>\n",
       "<polyline clip-path=\"url(#clip820)\" style=\"stroke:#000080; stroke-linecap:round; stroke-linejoin:round; stroke-width:8; stroke-opacity:1; fill:none\" points=\"343.792,144.949 483.953,144.949 \"/>\n",
       "<path clip-path=\"url(#clip820)\" d=\"M507.313 127.669 L529.164 127.669 L529.164 131.604 L511.989 131.604 L511.989 141.835 L528.447 141.835 L528.447 145.77 L511.989 145.77 L511.989 158.293 L529.581 158.293 L529.581 162.229 L507.313 162.229 L507.313 127.669 Z\" fill=\"#000000\" fill-rule=\"nonzero\" fill-opacity=\"1\" /><path clip-path=\"url(#clip820)\" d=\"M558.632 136.303 L549.257 148.919 L559.118 162.229 L554.095 162.229 L546.549 152.043 L539.002 162.229 L533.979 162.229 L544.049 148.664 L534.836 136.303 L539.859 136.303 L546.734 145.539 L553.609 136.303 L558.632 136.303 Z\" fill=\"#000000\" fill-rule=\"nonzero\" fill-opacity=\"1\" /><path clip-path=\"url(#clip820)\" d=\"M569.257 158.34 L569.257 172.09 L564.974 172.09 L564.974 136.303 L569.257 136.303 L569.257 140.238 Q570.599 137.923 572.636 136.812 Q574.697 135.678 577.544 135.678 Q582.266 135.678 585.206 139.428 Q588.169 143.178 588.169 149.289 Q588.169 155.4 585.206 159.15 Q582.266 162.9 577.544 162.9 Q574.697 162.9 572.636 161.789 Q570.599 160.655 569.257 158.34 M583.747 149.289 Q583.747 144.59 581.803 141.928 Q579.882 139.243 576.502 139.243 Q573.122 139.243 571.178 141.928 Q569.257 144.59 569.257 149.289 Q569.257 153.988 571.178 156.673 Q573.122 159.335 576.502 159.335 Q579.882 159.335 581.803 156.673 Q583.747 153.988 583.747 149.289 Z\" fill=\"#000000\" fill-rule=\"nonzero\" fill-opacity=\"1\" /><path clip-path=\"url(#clip820)\" d=\"M617.405 148.201 L617.405 150.284 L597.821 150.284 Q598.099 154.682 600.46 156.997 Q602.845 159.289 607.081 159.289 Q609.534 159.289 611.826 158.687 Q614.141 158.085 616.409 156.881 L616.409 160.909 Q614.118 161.881 611.71 162.391 Q609.303 162.9 606.826 162.9 Q600.622 162.9 596.988 159.289 Q593.377 155.678 593.377 149.52 Q593.377 143.155 596.803 139.428 Q600.252 135.678 606.085 135.678 Q611.317 135.678 614.349 139.057 Q617.405 142.414 617.405 148.201 M613.145 146.951 Q613.099 143.456 611.178 141.372 Q609.28 139.289 606.132 139.289 Q602.567 139.289 600.414 141.303 Q598.284 143.317 597.96 146.974 L613.145 146.951 Z\" fill=\"#000000\" fill-rule=\"nonzero\" fill-opacity=\"1\" /><path clip-path=\"url(#clip820)\" d=\"M643.053 137.298 L643.053 141.28 Q641.247 140.284 639.418 139.798 Q637.613 139.289 635.761 139.289 Q631.618 139.289 629.326 141.928 Q627.034 144.544 627.034 149.289 Q627.034 154.034 629.326 156.673 Q631.618 159.289 635.761 159.289 Q637.613 159.289 639.418 158.803 Q641.247 158.293 643.053 157.298 L643.053 161.233 Q641.27 162.067 639.349 162.483 Q637.451 162.9 635.298 162.9 Q629.442 162.9 625.993 159.219 Q622.544 155.539 622.544 149.289 Q622.544 142.946 626.016 139.312 Q629.511 135.678 635.576 135.678 Q637.543 135.678 639.418 136.095 Q641.293 136.488 643.053 137.298 Z\" fill=\"#000000\" fill-rule=\"nonzero\" fill-opacity=\"1\" /><path clip-path=\"url(#clip820)\" d=\"M654.673 128.942 L654.673 136.303 L663.446 136.303 L663.446 139.613 L654.673 139.613 L654.673 153.687 Q654.673 156.858 655.529 157.761 Q656.409 158.664 659.071 158.664 L663.446 158.664 L663.446 162.229 L659.071 162.229 Q654.141 162.229 652.266 160.4 Q650.391 158.548 650.391 153.687 L650.391 139.613 L647.266 139.613 L647.266 136.303 L650.391 136.303 L650.391 128.942 L654.673 128.942 Z\" fill=\"#000000\" fill-rule=\"nonzero\" fill-opacity=\"1\" /><path clip-path=\"url(#clip820)\" d=\"M691.224 148.201 L691.224 150.284 L671.64 150.284 Q671.918 154.682 674.279 156.997 Q676.664 159.289 680.9 159.289 Q683.353 159.289 685.645 158.687 Q687.96 158.085 690.228 156.881 L690.228 160.909 Q687.937 161.881 685.529 162.391 Q683.122 162.9 680.645 162.9 Q674.441 162.9 670.807 159.289 Q667.196 155.678 667.196 149.52 Q667.196 143.155 670.622 139.428 Q674.071 135.678 679.904 135.678 Q685.136 135.678 688.168 139.057 Q691.224 142.414 691.224 148.201 M686.964 146.951 Q686.918 143.456 684.997 141.372 Q683.099 139.289 679.951 139.289 Q676.386 139.289 674.233 141.303 Q672.103 143.317 671.779 146.974 L686.964 146.951 Z\" fill=\"#000000\" fill-rule=\"nonzero\" fill-opacity=\"1\" /><path clip-path=\"url(#clip820)\" d=\"M715.275 140.238 L715.275 126.21 L719.534 126.21 L719.534 162.229 L715.275 162.229 L715.275 158.34 Q713.932 160.655 711.872 161.789 Q709.835 162.9 706.964 162.9 Q702.265 162.9 699.302 159.15 Q696.363 155.4 696.363 149.289 Q696.363 143.178 699.302 139.428 Q702.265 135.678 706.964 135.678 Q709.835 135.678 711.872 136.812 Q713.932 137.923 715.275 140.238 M700.761 149.289 Q700.761 153.988 702.682 156.673 Q704.626 159.335 708.006 159.335 Q711.386 159.335 713.33 156.673 Q715.275 153.988 715.275 149.289 Q715.275 144.59 713.33 141.928 Q711.386 139.243 708.006 139.243 Q704.626 139.243 702.682 141.928 Q700.761 144.59 700.761 149.289 Z\" fill=\"#000000\" fill-rule=\"nonzero\" fill-opacity=\"1\" /><path clip-path=\"url(#clip820)\" d=\"M740.321 136.303 L744.835 136.303 L752.936 158.062 L761.038 136.303 L765.552 136.303 L755.83 162.229 L750.043 162.229 L740.321 136.303 Z\" fill=\"#000000\" fill-rule=\"nonzero\" fill-opacity=\"1\" /><path clip-path=\"url(#clip820)\" d=\"M783.214 149.196 Q778.052 149.196 776.061 150.377 Q774.07 151.557 774.07 154.405 Q774.07 156.673 775.552 158.016 Q777.057 159.335 779.626 159.335 Q783.168 159.335 785.297 156.835 Q787.45 154.312 787.45 150.145 L787.45 149.196 L783.214 149.196 M791.709 147.437 L791.709 162.229 L787.45 162.229 L787.45 158.293 Q785.992 160.655 783.816 161.789 Q781.64 162.9 778.492 162.9 Q774.51 162.9 772.149 160.678 Q769.811 158.432 769.811 154.682 Q769.811 150.307 772.728 148.085 Q775.668 145.863 781.478 145.863 L787.45 145.863 L787.45 145.446 Q787.45 142.507 785.506 140.909 Q783.584 139.289 780.089 139.289 Q777.867 139.289 775.76 139.821 Q773.654 140.354 771.709 141.419 L771.709 137.483 Q774.047 136.581 776.246 136.141 Q778.445 135.678 780.529 135.678 Q786.154 135.678 788.932 138.594 Q791.709 141.511 791.709 147.437 Z\" fill=\"#000000\" fill-rule=\"nonzero\" fill-opacity=\"1\" /><path clip-path=\"url(#clip820)\" d=\"M800.482 126.21 L804.742 126.21 L804.742 162.229 L800.482 162.229 L800.482 126.21 Z\" fill=\"#000000\" fill-rule=\"nonzero\" fill-opacity=\"1\" /><path clip-path=\"url(#clip820)\" d=\"M813.214 151.997 L813.214 136.303 L817.473 136.303 L817.473 151.835 Q817.473 155.516 818.908 157.368 Q820.343 159.196 823.214 159.196 Q826.663 159.196 828.654 156.997 Q830.667 154.798 830.667 151.002 L830.667 136.303 L834.927 136.303 L834.927 162.229 L830.667 162.229 L830.667 158.247 Q829.116 160.608 827.056 161.766 Q825.019 162.9 822.311 162.9 Q817.843 162.9 815.529 160.122 Q813.214 157.344 813.214 151.997 M823.931 135.678 L823.931 135.678 Z\" fill=\"#000000\" fill-rule=\"nonzero\" fill-opacity=\"1\" /><path clip-path=\"url(#clip820)\" d=\"M865.876 148.201 L865.876 150.284 L846.292 150.284 Q846.57 154.682 848.931 156.997 Q851.315 159.289 855.552 159.289 Q858.005 159.289 860.297 158.687 Q862.612 158.085 864.88 156.881 L864.88 160.909 Q862.589 161.881 860.181 162.391 Q857.774 162.9 855.297 162.9 Q849.093 162.9 845.459 159.289 Q841.848 155.678 841.848 149.52 Q841.848 143.155 845.274 139.428 Q848.723 135.678 854.556 135.678 Q859.788 135.678 862.82 139.057 Q865.876 142.414 865.876 148.201 M861.616 146.951 Q861.57 143.456 859.649 141.372 Q857.751 139.289 854.602 139.289 Q851.038 139.289 848.885 141.303 Q846.755 143.317 846.431 146.974 L861.616 146.951 Z\" fill=\"#000000\" fill-rule=\"nonzero\" fill-opacity=\"1\" /><path clip-path=\"url(#clip820)\" d=\"M898.167 126.257 Q895.065 131.581 893.561 136.789 Q892.056 141.997 892.056 147.344 Q892.056 152.692 893.561 157.946 Q895.088 163.178 898.167 168.479 L894.463 168.479 Q890.991 163.039 889.255 157.784 Q887.542 152.53 887.542 147.344 Q887.542 142.182 889.255 136.951 Q890.968 131.72 894.463 126.257 L898.167 126.257 Z\" fill=\"#000000\" fill-rule=\"nonzero\" fill-opacity=\"1\" /><path clip-path=\"url(#clip820)\" d=\"M922.959 137.067 L922.959 141.094 Q921.153 140.169 919.209 139.706 Q917.264 139.243 915.181 139.243 Q912.01 139.243 910.412 140.215 Q908.838 141.187 908.838 143.131 Q908.838 144.613 909.973 145.469 Q911.107 146.303 914.533 147.067 L915.991 147.391 Q920.528 148.363 922.426 150.145 Q924.347 151.905 924.347 155.076 Q924.347 158.687 921.477 160.793 Q918.63 162.9 913.63 162.9 Q911.547 162.9 909.278 162.483 Q907.033 162.09 904.533 161.28 L904.533 156.881 Q906.894 158.108 909.186 158.733 Q911.477 159.335 913.723 159.335 Q916.732 159.335 918.352 158.317 Q919.972 157.275 919.972 155.4 Q919.972 153.664 918.792 152.738 Q917.635 151.812 913.676 150.956 L912.195 150.608 Q908.236 149.775 906.477 148.062 Q904.718 146.326 904.718 143.317 Q904.718 139.659 907.311 137.669 Q909.903 135.678 914.672 135.678 Q917.033 135.678 919.116 136.025 Q921.199 136.372 922.959 137.067 Z\" fill=\"#000000\" fill-rule=\"nonzero\" fill-opacity=\"1\" /><path clip-path=\"url(#clip820)\" d=\"M931.13 136.303 L935.389 136.303 L935.389 162.229 L931.13 162.229 L931.13 136.303 M931.13 126.21 L935.389 126.21 L935.389 131.604 L931.13 131.604 L931.13 126.21 Z\" fill=\"#000000\" fill-rule=\"nonzero\" fill-opacity=\"1\" /><path clip-path=\"url(#clip820)\" d=\"M964.486 141.28 Q966.083 138.409 968.306 137.044 Q970.528 135.678 973.537 135.678 Q977.588 135.678 979.787 138.525 Q981.986 141.349 981.986 146.581 L981.986 162.229 L977.704 162.229 L977.704 146.719 Q977.704 142.993 976.384 141.187 Q975.065 139.382 972.356 139.382 Q969.046 139.382 967.125 141.581 Q965.204 143.78 965.204 147.576 L965.204 162.229 L960.921 162.229 L960.921 146.719 Q960.921 142.969 959.602 141.187 Q958.282 139.382 955.528 139.382 Q952.264 139.382 950.343 141.604 Q948.421 143.803 948.421 147.576 L948.421 162.229 L944.139 162.229 L944.139 136.303 L948.421 136.303 L948.421 140.331 Q949.88 137.946 951.917 136.812 Q953.954 135.678 956.755 135.678 Q959.579 135.678 961.546 137.113 Q963.537 138.548 964.486 141.28 Z\" fill=\"#000000\" fill-rule=\"nonzero\" fill-opacity=\"1\" /><path clip-path=\"url(#clip820)\" d=\"M990.042 151.997 L990.042 136.303 L994.301 136.303 L994.301 151.835 Q994.301 155.516 995.736 157.368 Q997.171 159.196 1000.04 159.196 Q1003.49 159.196 1005.48 156.997 Q1007.5 154.798 1007.5 151.002 L1007.5 136.303 L1011.75 136.303 L1011.75 162.229 L1007.5 162.229 L1007.5 158.247 Q1005.94 160.608 1003.88 161.766 Q1001.85 162.9 999.139 162.9 Q994.671 162.9 992.356 160.122 Q990.042 157.344 990.042 151.997 M1000.76 135.678 L1000.76 135.678 Z\" fill=\"#000000\" fill-rule=\"nonzero\" fill-opacity=\"1\" /><path clip-path=\"url(#clip820)\" d=\"M1020.53 126.21 L1024.79 126.21 L1024.79 162.229 L1020.53 162.229 L1020.53 126.21 Z\" fill=\"#000000\" fill-rule=\"nonzero\" fill-opacity=\"1\" /><path clip-path=\"url(#clip820)\" d=\"M1045.48 149.196 Q1040.32 149.196 1038.33 150.377 Q1036.34 151.557 1036.34 154.405 Q1036.34 156.673 1037.82 158.016 Q1039.32 159.335 1041.89 159.335 Q1045.43 159.335 1047.56 156.835 Q1049.72 154.312 1049.72 150.145 L1049.72 149.196 L1045.48 149.196 M1053.98 147.437 L1053.98 162.229 L1049.72 162.229 L1049.72 158.293 Q1048.26 160.655 1046.08 161.789 Q1043.91 162.9 1040.76 162.9 Q1036.78 162.9 1034.42 160.678 Q1032.08 158.432 1032.08 154.682 Q1032.08 150.307 1035 148.085 Q1037.93 145.863 1043.74 145.863 L1049.72 145.863 L1049.72 145.446 Q1049.72 142.507 1047.77 140.909 Q1045.85 139.289 1042.36 139.289 Q1040.13 139.289 1038.03 139.821 Q1035.92 140.354 1033.98 141.419 L1033.98 137.483 Q1036.31 136.581 1038.51 136.141 Q1040.71 135.678 1042.8 135.678 Q1048.42 135.678 1051.2 138.594 Q1053.98 141.511 1053.98 147.437 Z\" fill=\"#000000\" fill-rule=\"nonzero\" fill-opacity=\"1\" /><path clip-path=\"url(#clip820)\" d=\"M1066.96 128.942 L1066.96 136.303 L1075.74 136.303 L1075.74 139.613 L1066.96 139.613 L1066.96 153.687 Q1066.96 156.858 1067.82 157.761 Q1068.7 158.664 1071.36 158.664 L1075.74 158.664 L1075.74 162.229 L1071.36 162.229 Q1066.43 162.229 1064.56 160.4 Q1062.68 158.548 1062.68 153.687 L1062.68 139.613 L1059.56 139.613 L1059.56 136.303 L1062.68 136.303 L1062.68 128.942 L1066.96 128.942 Z\" fill=\"#000000\" fill-rule=\"nonzero\" fill-opacity=\"1\" /><path clip-path=\"url(#clip820)\" d=\"M1103.51 148.201 L1103.51 150.284 L1083.93 150.284 Q1084.21 154.682 1086.57 156.997 Q1088.95 159.289 1093.19 159.289 Q1095.64 159.289 1097.93 158.687 Q1100.25 158.085 1102.52 156.881 L1102.52 160.909 Q1100.23 161.881 1097.82 162.391 Q1095.41 162.9 1092.93 162.9 Q1086.73 162.9 1083.1 159.289 Q1079.49 155.678 1079.49 149.52 Q1079.49 143.155 1082.91 139.428 Q1086.36 135.678 1092.19 135.678 Q1097.43 135.678 1100.46 139.057 Q1103.51 142.414 1103.51 148.201 M1099.25 146.951 Q1099.21 143.456 1097.29 141.372 Q1095.39 139.289 1092.24 139.289 Q1088.68 139.289 1086.52 141.303 Q1084.39 143.317 1084.07 146.974 L1099.25 146.951 Z\" fill=\"#000000\" fill-rule=\"nonzero\" fill-opacity=\"1\" /><path clip-path=\"url(#clip820)\" d=\"M1127.56 140.238 L1127.56 126.21 L1131.82 126.21 L1131.82 162.229 L1127.56 162.229 L1127.56 158.34 Q1126.22 160.655 1124.16 161.789 Q1122.12 162.9 1119.25 162.9 Q1114.55 162.9 1111.59 159.15 Q1108.65 155.4 1108.65 149.289 Q1108.65 143.178 1111.59 139.428 Q1114.55 135.678 1119.25 135.678 Q1122.12 135.678 1124.16 136.812 Q1126.22 137.923 1127.56 140.238 M1113.05 149.289 Q1113.05 153.988 1114.97 156.673 Q1116.92 159.335 1120.3 159.335 Q1123.68 159.335 1125.62 156.673 Q1127.56 153.988 1127.56 149.289 Q1127.56 144.59 1125.62 141.928 Q1123.68 139.243 1120.3 139.243 Q1116.92 139.243 1114.97 141.928 Q1113.05 144.59 1113.05 149.289 Z\" fill=\"#000000\" fill-rule=\"nonzero\" fill-opacity=\"1\" /><path clip-path=\"url(#clip820)\" d=\"M1139.93 126.257 L1143.63 126.257 Q1147.1 131.72 1148.81 136.951 Q1150.55 142.182 1150.55 147.344 Q1150.55 152.53 1148.81 157.784 Q1147.1 163.039 1143.63 168.479 L1139.93 168.479 Q1143 163.178 1144.51 157.946 Q1146.04 152.692 1146.04 147.344 Q1146.04 141.997 1144.51 136.789 Q1143 131.581 1139.93 126.257 Z\" fill=\"#000000\" fill-rule=\"nonzero\" fill-opacity=\"1\" /><polyline clip-path=\"url(#clip820)\" style=\"stroke:#ff0000; stroke-linecap:round; stroke-linejoin:round; stroke-width:8; stroke-opacity:1; fill:none\" points=\"343.792,196.789 483.953,196.789 \"/>\n",
       "<path clip-path=\"url(#clip820)\" d=\"M523.331 182.68 Q518.239 182.68 515.229 186.476 Q512.243 190.272 512.243 196.823 Q512.243 203.351 515.229 207.147 Q518.239 210.944 523.331 210.944 Q528.424 210.944 531.387 207.147 Q534.373 203.351 534.373 196.823 Q534.373 190.272 531.387 186.476 Q528.424 182.68 523.331 182.68 M523.331 178.884 Q530.6 178.884 534.951 183.768 Q539.303 188.629 539.303 196.823 Q539.303 204.995 534.951 209.879 Q530.6 214.74 523.331 214.74 Q516.039 214.74 511.664 209.879 Q507.313 205.018 507.313 196.823 Q507.313 188.629 511.664 183.768 Q516.039 178.884 523.331 178.884 Z\" fill=\"#000000\" fill-rule=\"nonzero\" fill-opacity=\"1\" /><path clip-path=\"url(#clip820)\" d=\"M565.044 201.129 Q565.044 196.43 563.099 193.768 Q561.178 191.083 557.799 191.083 Q554.419 191.083 552.474 193.768 Q550.553 196.43 550.553 201.129 Q550.553 205.828 552.474 208.513 Q554.419 211.175 557.799 211.175 Q561.178 211.175 563.099 208.513 Q565.044 205.828 565.044 201.129 M550.553 192.078 Q551.896 189.763 553.933 188.652 Q555.993 187.518 558.84 187.518 Q563.562 187.518 566.502 191.268 Q569.465 195.018 569.465 201.129 Q569.465 207.24 566.502 210.99 Q563.562 214.74 558.84 214.74 Q555.993 214.74 553.933 213.629 Q551.896 212.495 550.553 210.18 L550.553 214.069 L546.271 214.069 L546.271 178.05 L550.553 178.05 L550.553 192.078 Z\" fill=\"#000000\" fill-rule=\"nonzero\" fill-opacity=\"1\" /><path clip-path=\"url(#clip820)\" d=\"M593.053 188.907 L593.053 192.934 Q591.247 192.009 589.303 191.546 Q587.359 191.083 585.275 191.083 Q582.104 191.083 580.507 192.055 Q578.933 193.027 578.933 194.971 Q578.933 196.453 580.067 197.309 Q581.201 198.143 584.627 198.907 L586.085 199.231 Q590.622 200.203 592.521 201.985 Q594.442 203.745 594.442 206.916 Q594.442 210.527 591.571 212.633 Q588.724 214.74 583.724 214.74 Q581.641 214.74 579.372 214.323 Q577.127 213.93 574.627 213.12 L574.627 208.721 Q576.988 209.948 579.28 210.573 Q581.572 211.175 583.817 211.175 Q586.826 211.175 588.446 210.157 Q590.067 209.115 590.067 207.24 Q590.067 205.504 588.886 204.578 Q587.729 203.652 583.771 202.796 L582.289 202.448 Q578.331 201.615 576.572 199.902 Q574.812 198.166 574.812 195.157 Q574.812 191.499 577.405 189.509 Q579.997 187.518 584.766 187.518 Q587.127 187.518 589.21 187.865 Q591.294 188.212 593.053 188.907 Z\" fill=\"#000000\" fill-rule=\"nonzero\" fill-opacity=\"1\" /><path clip-path=\"url(#clip820)\" d=\"M623.4 200.041 L623.4 202.124 L603.817 202.124 Q604.095 206.522 606.456 208.837 Q608.84 211.129 613.076 211.129 Q615.53 211.129 617.821 210.527 Q620.136 209.925 622.405 208.721 L622.405 212.749 Q620.113 213.721 617.706 214.231 Q615.298 214.74 612.821 214.74 Q606.618 214.74 602.983 211.129 Q599.372 207.518 599.372 201.36 Q599.372 194.995 602.798 191.268 Q606.247 187.518 612.081 187.518 Q617.312 187.518 620.344 190.897 Q623.4 194.254 623.4 200.041 M619.141 198.791 Q619.094 195.296 617.173 193.212 Q615.275 191.129 612.127 191.129 Q608.562 191.129 606.409 193.143 Q604.28 195.157 603.956 198.814 L619.141 198.791 Z\" fill=\"#000000\" fill-rule=\"nonzero\" fill-opacity=\"1\" /><path clip-path=\"url(#clip820)\" d=\"M645.414 192.124 Q644.696 191.708 643.84 191.522 Q643.006 191.314 641.988 191.314 Q638.377 191.314 636.432 193.675 Q634.511 196.013 634.511 200.411 L634.511 214.069 L630.229 214.069 L630.229 188.143 L634.511 188.143 L634.511 192.171 Q635.854 189.809 638.006 188.675 Q640.159 187.518 643.238 187.518 Q643.678 187.518 644.21 187.587 Q644.742 187.634 645.391 187.749 L645.414 192.124 Z\" fill=\"#000000\" fill-rule=\"nonzero\" fill-opacity=\"1\" /><path clip-path=\"url(#clip820)\" d=\"M646.826 188.143 L651.34 188.143 L659.441 209.902 L667.543 188.143 L672.057 188.143 L662.335 214.069 L656.548 214.069 L646.826 188.143 Z\" fill=\"#000000\" fill-rule=\"nonzero\" fill-opacity=\"1\" /><path clip-path=\"url(#clip820)\" d=\"M700.113 200.041 L700.113 202.124 L680.529 202.124 Q680.807 206.522 683.168 208.837 Q685.552 211.129 689.789 211.129 Q692.242 211.129 694.534 210.527 Q696.849 209.925 699.117 208.721 L699.117 212.749 Q696.826 213.721 694.418 214.231 Q692.011 214.74 689.534 214.74 Q683.33 214.74 679.696 211.129 Q676.085 207.518 676.085 201.36 Q676.085 194.995 679.511 191.268 Q682.96 187.518 688.793 187.518 Q694.025 187.518 697.057 190.897 Q700.113 194.254 700.113 200.041 M695.853 198.791 Q695.807 195.296 693.886 193.212 Q691.988 191.129 688.839 191.129 Q685.275 191.129 683.122 193.143 Q680.992 195.157 680.668 198.814 L695.853 198.791 Z\" fill=\"#000000\" fill-rule=\"nonzero\" fill-opacity=\"1\" /><path clip-path=\"url(#clip820)\" d=\"M724.163 192.078 L724.163 178.05 L728.423 178.05 L728.423 214.069 L724.163 214.069 L724.163 210.18 Q722.821 212.495 720.761 213.629 Q718.724 214.74 715.853 214.74 Q711.154 214.74 708.191 210.99 Q705.251 207.24 705.251 201.129 Q705.251 195.018 708.191 191.268 Q711.154 187.518 715.853 187.518 Q718.724 187.518 720.761 188.652 Q722.821 189.763 724.163 192.078 M709.65 201.129 Q709.65 205.828 711.571 208.513 Q713.515 211.175 716.895 211.175 Q720.274 211.175 722.219 208.513 Q724.163 205.828 724.163 201.129 Q724.163 196.43 722.219 193.768 Q720.274 191.083 716.895 191.083 Q713.515 191.083 711.571 193.768 Q709.65 196.43 709.65 201.129 Z\" fill=\"#000000\" fill-rule=\"nonzero\" fill-opacity=\"1\" /></svg>\n"
      ]
     },
     "execution_count": 41,
     "metadata": {},
     "output_type": "execute_result"
    }
   ],
   "source": [
    "let\n",
    "    \n",
    "    # build data array -\n",
    "    data_array_for_plot = Array{Float64,2}(undef, T+1,7);\n",
    "    for i ∈ 0:T\n",
    "        \n",
    "        data_array_for_plot[i+1,1] = startindex + i;\n",
    "        data_array_for_plot[i+1,2] = lattice_rate_expectation[i]*100;\n",
    "        data_array_for_plot[i+1,3] = (lattice_rate_expectation[i] + (lattice_rate_variance[i] |> sqrt))*100\n",
    "        data_array_for_plot[i+1,4] = (lattice_rate_expectation[i] - (lattice_rate_variance[i] |> sqrt))*100\n",
    "        data_array_for_plot[i+1,5] = tbill_rates_dataset[startindex+i, key_column_name];\n",
    "        data_array_for_plot[i+1,6] = (lattice_rate_expectation[i] + (lattice_rate_variance[i] |> sqrt))*100\n",
    "        data_array_for_plot[i+1,7] = (lattice_rate_expectation[i] - (lattice_rate_variance[i] |> sqrt))*100\n",
    "    end\n",
    "    \n",
    "    q = plot(bg=\"gray95\", background_color_outside=\"white\", framestyle = :box, fg_legend = :transparent, legend=:topleft);\n",
    "    plot!(data_array_for_plot[:,1], data_array_for_plot[:,2], linetype=:steppre, fillrange=data_array_for_plot[:,3], c=:lightskyblue, label=\"\", alpha=0.250)\n",
    "    plot!(data_array_for_plot[:,1], data_array_for_plot[:,2], linetype=:steppre, fillrange=data_array_for_plot[:,4], c=:lightskyblue, label=\"\", alpha=0.250)\n",
    "    plot!(data_array_for_plot[:,1], data_array_for_plot[:,2], linetype=:steppre, c=:navy, lw=2, label=\"Expected value (simulated)\")\n",
    "    plot!(data_array_for_plot[:,1], data_array_for_plot[:,5], c=:red, linetype=:steppre, lw=2, label=\"Observed\")\n",
    "    xlabel!(\"Business day index 2024 (AU)\", fontsize=18)\n",
    "    ylabel!(\"$(key_column_name)\", fontsize=18)\n",
    "end"
   ]
  },
  {
   "cell_type": "markdown",
   "id": "dca0a58d-d78c-4a8c-b6d2-07ba801209dc",
   "metadata": {},
   "source": [
    "## Disclaimer and Risks\n",
    "__This content is offered solely for training and informational purposes__. No offer or solicitation to buy or sell securities or derivative products or any investment or trading advice or strategy is made, given, or endorsed by the teaching team. \n",
    "\n",
    "__Trading involves risk__. Carefully review your financial situation before investing in securities, futures contracts, options, or commodity interests. Past performance, whether actual or indicated by historical tests of strategies, is no guarantee of future performance or success. Trading is generally inappropriate for someone with limited resources, investment or trading experience, or a low-risk tolerance.  Only risk capital that is not required for living expenses.\n",
    "\n",
    "__You are fully responsible for any investment or trading decisions you make__. Such decisions should be based solely on evaluating your financial circumstances, investment or trading objectives, risk tolerance, and liquidity needs."
   ]
  }
 ],
 "metadata": {
  "kernelspec": {
   "display_name": "Julia 1.10.5",
   "language": "julia",
   "name": "julia-1.10"
  },
  "language_info": {
   "file_extension": ".jl",
   "mimetype": "application/julia",
   "name": "julia",
   "version": "1.10.5"
  }
 },
 "nbformat": 4,
 "nbformat_minor": 5
}
