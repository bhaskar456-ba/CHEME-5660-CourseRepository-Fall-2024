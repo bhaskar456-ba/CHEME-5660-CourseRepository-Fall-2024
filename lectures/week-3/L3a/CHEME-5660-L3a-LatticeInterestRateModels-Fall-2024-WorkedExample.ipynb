{
 "cells": [
  {
   "cell_type": "markdown",
   "id": "7b0c6512-9157-4fcc-85f5-e8c2bdd7cc18",
   "metadata": {},
   "source": [
    "# Example: Lattice Model of Interest Rates\n",
    "Fill me in"
   ]
  },
  {
   "cell_type": "markdown",
   "id": "00fc78cd-2d50-43fc-b41a-9eb3383b197d",
   "metadata": {},
   "source": [
    "## Setup\n",
    "Set up the computational environment by including the `Include.jl` file. The `Include.jl` file loads external packages, various functions we will use in the exercise, and custom types to model the components of our example problem.\n",
    "* For additional information on functions and types used in this material, see the [Julia programming language documentation](https://docs.julialang.org/en/v1/) and the [VLQuantitativeFinancePackage.jl documentation](https://github.com/varnerlab/VLQuantitativeFinancePackage.jl). "
   ]
  },
  {
   "cell_type": "code",
   "execution_count": 3,
   "id": "3d528ecc-f1d4-4019-bc2f-0ef0e2f14fe4",
   "metadata": {},
   "outputs": [
    {
     "name": "stderr",
     "output_type": "stream",
     "text": [
      "\u001b[32m\u001b[1m    Updating\u001b[22m\u001b[39m git-repo `https://github.com/varnerlab/VLQuantitativeFinancePackage.jl.git`\n",
      "\u001b[32m\u001b[1m   Resolving\u001b[22m\u001b[39m package versions...\n",
      "\u001b[32m\u001b[1m  No Changes\u001b[22m\u001b[39m to `~/Desktop/julia_work/CHEME-5660-CourseRepository-Fall-2024/lectures/week-3/L3a/Project.toml`\n",
      "\u001b[32m\u001b[1m  No Changes\u001b[22m\u001b[39m to `~/Desktop/julia_work/CHEME-5660-CourseRepository-Fall-2024/lectures/week-3/L3a/Manifest.toml`\n",
      "\u001b[32m\u001b[1m  Activating\u001b[22m\u001b[39m project at `~/Desktop/julia_work/CHEME-5660-CourseRepository-Fall-2024/lectures/week-3/L3a`\n",
      "\u001b[32m\u001b[1m  No Changes\u001b[22m\u001b[39m to `~/Desktop/julia_work/CHEME-5660-CourseRepository-Fall-2024/lectures/week-3/L3a/Project.toml`\n",
      "\u001b[32m\u001b[1m  No Changes\u001b[22m\u001b[39m to `~/Desktop/julia_work/CHEME-5660-CourseRepository-Fall-2024/lectures/week-3/L3a/Manifest.toml`\n",
      "\u001b[32m\u001b[1m    Updating\u001b[22m\u001b[39m registry at `~/.julia/registries/General.toml`\n",
      "\u001b[32m\u001b[1m    Updating\u001b[22m\u001b[39m git-repo `https://github.com/varnerlab/VLQuantitativeFinancePackage.jl.git`\n",
      "\u001b[32m\u001b[1m  No Changes\u001b[22m\u001b[39m to `~/Desktop/julia_work/CHEME-5660-CourseRepository-Fall-2024/lectures/week-3/L3a/Project.toml`\n",
      "\u001b[32m\u001b[1m  No Changes\u001b[22m\u001b[39m to `~/Desktop/julia_work/CHEME-5660-CourseRepository-Fall-2024/lectures/week-3/L3a/Manifest.toml`\n"
     ]
    }
   ],
   "source": [
    "include(\"Include.jl\");"
   ]
  },
  {
   "cell_type": "markdown",
   "id": "b57eaf72-f676-4215-ab12-54372116489c",
   "metadata": {},
   "source": [
    "## Prerequisite: Load the Treasury Rates Dataset\n",
    "Fill me in"
   ]
  },
  {
   "cell_type": "code",
   "execution_count": 5,
   "id": "1fae89d7-255c-499f-aa6b-ed3cf584378c",
   "metadata": {},
   "outputs": [
    {
     "data": {
      "text/html": [
       "<div><div style = \"float: left;\"><span>154×13 DataFrame</span></div><div style = \"float: right;\"><span style = \"font-style: italic;\">129 rows omitted</span></div><div style = \"clear: both;\"></div></div><div class = \"data-frame\" style = \"overflow-x: scroll;\"><table class = \"data-frame\" style = \"margin-bottom: 6px;\"><thead><tr class = \"header\"><th class = \"rowNumber\" style = \"font-weight: bold; text-align: right;\">Row</th><th style = \"text-align: left;\">Date</th><th style = \"text-align: left;\">4 WEEKS BANK DISCOUNT</th><th style = \"text-align: left;\">4 WEEKS COUPON EQUIVALENT</th><th style = \"text-align: left;\">8 WEEKS BANK DISCOUNT</th><th style = \"text-align: left;\">8 WEEKS COUPON EQUIVALENT</th><th style = \"text-align: left;\">13 WEEKS BANK DISCOUNT</th><th style = \"text-align: left;\">13 WEEKS COUPON EQUIVALENT</th><th style = \"text-align: left;\">17 WEEKS BANK DISCOUNT</th><th style = \"text-align: left;\">17 WEEKS COUPON EQUIVALENT</th><th style = \"text-align: left;\">26 WEEKS BANK DISCOUNT</th><th style = \"text-align: left;\">26 WEEKS COUPON EQUIVALENT</th><th style = \"text-align: left;\">52 WEEKS BANK DISCOUNT</th><th style = \"text-align: left;\">52 WEEKS COUPON EQUIVALENT</th></tr><tr class = \"subheader headerLastRow\"><th class = \"rowNumber\" style = \"font-weight: bold; text-align: right;\"></th><th title = \"String15\" style = \"text-align: left;\">String15</th><th title = \"Float64\" style = \"text-align: left;\">Float64</th><th title = \"Float64\" style = \"text-align: left;\">Float64</th><th title = \"Float64\" style = \"text-align: left;\">Float64</th><th title = \"Float64\" style = \"text-align: left;\">Float64</th><th title = \"Float64\" style = \"text-align: left;\">Float64</th><th title = \"Float64\" style = \"text-align: left;\">Float64</th><th title = \"Float64\" style = \"text-align: left;\">Float64</th><th title = \"Float64\" style = \"text-align: left;\">Float64</th><th title = \"Float64\" style = \"text-align: left;\">Float64</th><th title = \"Float64\" style = \"text-align: left;\">Float64</th><th title = \"Float64\" style = \"text-align: left;\">Float64</th><th title = \"Float64\" style = \"text-align: left;\">Float64</th></tr></thead><tbody><tr><td class = \"rowNumber\" style = \"font-weight: bold; text-align: right;\">1</td><td style = \"text-align: left;\">01/02/2024</td><td style = \"text-align: right;\">5.28</td><td style = \"text-align: right;\">5.39</td><td style = \"text-align: right;\">5.28</td><td style = \"text-align: right;\">5.41</td><td style = \"text-align: right;\">5.22</td><td style = \"text-align: right;\">5.38</td><td style = \"text-align: right;\">5.21</td><td style = \"text-align: right;\">5.39</td><td style = \"text-align: right;\">5.04</td><td style = \"text-align: right;\">5.26</td><td style = \"text-align: right;\">4.57</td><td style = \"text-align: right;\">4.81</td></tr><tr><td class = \"rowNumber\" style = \"font-weight: bold; text-align: right;\">2</td><td style = \"text-align: left;\">01/03/2024</td><td style = \"text-align: right;\">5.27</td><td style = \"text-align: right;\">5.38</td><td style = \"text-align: right;\">5.28</td><td style = \"text-align: right;\">5.41</td><td style = \"text-align: right;\">5.24</td><td style = \"text-align: right;\">5.4</td><td style = \"text-align: right;\">5.21</td><td style = \"text-align: right;\">5.39</td><td style = \"text-align: right;\">5.06</td><td style = \"text-align: right;\">5.28</td><td style = \"text-align: right;\">4.58</td><td style = \"text-align: right;\">4.82</td></tr><tr><td class = \"rowNumber\" style = \"font-weight: bold; text-align: right;\">3</td><td style = \"text-align: left;\">01/04/2024</td><td style = \"text-align: right;\">5.29</td><td style = \"text-align: right;\">5.4</td><td style = \"text-align: right;\">5.28</td><td style = \"text-align: right;\">5.41</td><td style = \"text-align: right;\">5.24</td><td style = \"text-align: right;\">5.4</td><td style = \"text-align: right;\">5.21</td><td style = \"text-align: right;\">5.39</td><td style = \"text-align: right;\">5.06</td><td style = \"text-align: right;\">5.28</td><td style = \"text-align: right;\">4.61</td><td style = \"text-align: right;\">4.85</td></tr><tr><td class = \"rowNumber\" style = \"font-weight: bold; text-align: right;\">4</td><td style = \"text-align: left;\">01/05/2024</td><td style = \"text-align: right;\">5.28</td><td style = \"text-align: right;\">5.39</td><td style = \"text-align: right;\">5.27</td><td style = \"text-align: right;\">5.4</td><td style = \"text-align: right;\">5.24</td><td style = \"text-align: right;\">5.4</td><td style = \"text-align: right;\">5.2</td><td style = \"text-align: right;\">5.38</td><td style = \"text-align: right;\">5.05</td><td style = \"text-align: right;\">5.27</td><td style = \"text-align: right;\">4.61</td><td style = \"text-align: right;\">4.85</td></tr><tr><td class = \"rowNumber\" style = \"font-weight: bold; text-align: right;\">5</td><td style = \"text-align: left;\">01/08/2024</td><td style = \"text-align: right;\">5.28</td><td style = \"text-align: right;\">5.39</td><td style = \"text-align: right;\">5.28</td><td style = \"text-align: right;\">5.41</td><td style = \"text-align: right;\">5.25</td><td style = \"text-align: right;\">5.41</td><td style = \"text-align: right;\">5.19</td><td style = \"text-align: right;\">5.37</td><td style = \"text-align: right;\">5.04</td><td style = \"text-align: right;\">5.26</td><td style = \"text-align: right;\">4.59</td><td style = \"text-align: right;\">4.83</td></tr><tr><td class = \"rowNumber\" style = \"font-weight: bold; text-align: right;\">6</td><td style = \"text-align: left;\">01/09/2024</td><td style = \"text-align: right;\">5.28</td><td style = \"text-align: right;\">5.39</td><td style = \"text-align: right;\">5.26</td><td style = \"text-align: right;\">5.39</td><td style = \"text-align: right;\">5.24</td><td style = \"text-align: right;\">5.4</td><td style = \"text-align: right;\">5.19</td><td style = \"text-align: right;\">5.37</td><td style = \"text-align: right;\">5.04</td><td style = \"text-align: right;\">5.26</td><td style = \"text-align: right;\">4.6</td><td style = \"text-align: right;\">4.84</td></tr><tr><td class = \"rowNumber\" style = \"font-weight: bold; text-align: right;\">7</td><td style = \"text-align: left;\">01/10/2024</td><td style = \"text-align: right;\">5.27</td><td style = \"text-align: right;\">5.38</td><td style = \"text-align: right;\">5.26</td><td style = \"text-align: right;\">5.39</td><td style = \"text-align: right;\">5.23</td><td style = \"text-align: right;\">5.39</td><td style = \"text-align: right;\">5.19</td><td style = \"text-align: right;\">5.37</td><td style = \"text-align: right;\">5.04</td><td style = \"text-align: right;\">5.26</td><td style = \"text-align: right;\">4.6</td><td style = \"text-align: right;\">4.84</td></tr><tr><td class = \"rowNumber\" style = \"font-weight: bold; text-align: right;\">8</td><td style = \"text-align: left;\">01/11/2024</td><td style = \"text-align: right;\">5.28</td><td style = \"text-align: right;\">5.39</td><td style = \"text-align: right;\">5.27</td><td style = \"text-align: right;\">5.4</td><td style = \"text-align: right;\">5.23</td><td style = \"text-align: right;\">5.39</td><td style = \"text-align: right;\">5.18</td><td style = \"text-align: right;\">5.36</td><td style = \"text-align: right;\">5.03</td><td style = \"text-align: right;\">5.25</td><td style = \"text-align: right;\">4.54</td><td style = \"text-align: right;\">4.77</td></tr><tr><td class = \"rowNumber\" style = \"font-weight: bold; text-align: right;\">9</td><td style = \"text-align: left;\">01/12/2024</td><td style = \"text-align: right;\">5.28</td><td style = \"text-align: right;\">5.39</td><td style = \"text-align: right;\">5.27</td><td style = \"text-align: right;\">5.4</td><td style = \"text-align: right;\">5.22</td><td style = \"text-align: right;\">5.37</td><td style = \"text-align: right;\">5.17</td><td style = \"text-align: right;\">5.35</td><td style = \"text-align: right;\">4.98</td><td style = \"text-align: right;\">5.19</td><td style = \"text-align: right;\">4.45</td><td style = \"text-align: right;\">4.67</td></tr><tr><td class = \"rowNumber\" style = \"font-weight: bold; text-align: right;\">10</td><td style = \"text-align: left;\">01/16/2024</td><td style = \"text-align: right;\">5.29</td><td style = \"text-align: right;\">5.4</td><td style = \"text-align: right;\">5.28</td><td style = \"text-align: right;\">5.41</td><td style = \"text-align: right;\">5.22</td><td style = \"text-align: right;\">5.38</td><td style = \"text-align: right;\">5.18</td><td style = \"text-align: right;\">5.36</td><td style = \"text-align: right;\">4.99</td><td style = \"text-align: right;\">5.2</td><td style = \"text-align: right;\">4.51</td><td style = \"text-align: right;\">4.74</td></tr><tr><td class = \"rowNumber\" style = \"font-weight: bold; text-align: right;\">11</td><td style = \"text-align: left;\">01/17/2024</td><td style = \"text-align: right;\">5.29</td><td style = \"text-align: right;\">5.4</td><td style = \"text-align: right;\">5.27</td><td style = \"text-align: right;\">5.4</td><td style = \"text-align: right;\">5.24</td><td style = \"text-align: right;\">5.4</td><td style = \"text-align: right;\">5.19</td><td style = \"text-align: right;\">5.37</td><td style = \"text-align: right;\">5.01</td><td style = \"text-align: right;\">5.23</td><td style = \"text-align: right;\">4.59</td><td style = \"text-align: right;\">4.83</td></tr><tr><td class = \"rowNumber\" style = \"font-weight: bold; text-align: right;\">12</td><td style = \"text-align: left;\">01/18/2024</td><td style = \"text-align: right;\">5.26</td><td style = \"text-align: right;\">5.37</td><td style = \"text-align: right;\">5.28</td><td style = \"text-align: right;\">5.41</td><td style = \"text-align: right;\">5.22</td><td style = \"text-align: right;\">5.38</td><td style = \"text-align: right;\">5.18</td><td style = \"text-align: right;\">5.36</td><td style = \"text-align: right;\">5.01</td><td style = \"text-align: right;\">5.23</td><td style = \"text-align: right;\">4.6</td><td style = \"text-align: right;\">4.84</td></tr><tr><td class = \"rowNumber\" style = \"font-weight: bold; text-align: right;\">13</td><td style = \"text-align: left;\">01/19/2024</td><td style = \"text-align: right;\">5.28</td><td style = \"text-align: right;\">5.39</td><td style = \"text-align: right;\">5.27</td><td style = \"text-align: right;\">5.4</td><td style = \"text-align: right;\">5.22</td><td style = \"text-align: right;\">5.37</td><td style = \"text-align: right;\">5.19</td><td style = \"text-align: right;\">5.37</td><td style = \"text-align: right;\">5.03</td><td style = \"text-align: right;\">5.24</td><td style = \"text-align: right;\">4.64</td><td style = \"text-align: right;\">4.88</td></tr><tr><td style = \"text-align: right;\">&vellip;</td><td style = \"text-align: right;\">&vellip;</td><td style = \"text-align: right;\">&vellip;</td><td style = \"text-align: right;\">&vellip;</td><td style = \"text-align: right;\">&vellip;</td><td style = \"text-align: right;\">&vellip;</td><td style = \"text-align: right;\">&vellip;</td><td style = \"text-align: right;\">&vellip;</td><td style = \"text-align: right;\">&vellip;</td><td style = \"text-align: right;\">&vellip;</td><td style = \"text-align: right;\">&vellip;</td><td style = \"text-align: right;\">&vellip;</td><td style = \"text-align: right;\">&vellip;</td><td style = \"text-align: right;\">&vellip;</td></tr><tr><td class = \"rowNumber\" style = \"font-weight: bold; text-align: right;\">143</td><td style = \"text-align: left;\">07/26/2024</td><td style = \"text-align: right;\">5.28</td><td style = \"text-align: right;\">5.38</td><td style = \"text-align: right;\">5.26</td><td style = \"text-align: right;\">5.38</td><td style = \"text-align: right;\">5.16</td><td style = \"text-align: right;\">5.3</td><td style = \"text-align: right;\">5.11</td><td style = \"text-align: right;\">5.27</td><td style = \"text-align: right;\">4.95</td><td style = \"text-align: right;\">5.14</td><td style = \"text-align: right;\">4.59</td><td style = \"text-align: right;\">4.81</td></tr><tr><td class = \"rowNumber\" style = \"font-weight: bold; text-align: right;\">144</td><td style = \"text-align: left;\">07/29/2024</td><td style = \"text-align: right;\">5.29</td><td style = \"text-align: right;\">5.39</td><td style = \"text-align: right;\">5.27</td><td style = \"text-align: right;\">5.39</td><td style = \"text-align: right;\">5.15</td><td style = \"text-align: right;\">5.29</td><td style = \"text-align: right;\">5.11</td><td style = \"text-align: right;\">5.27</td><td style = \"text-align: right;\">4.94</td><td style = \"text-align: right;\">5.14</td><td style = \"text-align: right;\">4.59</td><td style = \"text-align: right;\">4.81</td></tr><tr><td class = \"rowNumber\" style = \"font-weight: bold; text-align: right;\">145</td><td style = \"text-align: left;\">07/30/2024</td><td style = \"text-align: right;\">5.29</td><td style = \"text-align: right;\">5.38</td><td style = \"text-align: right;\">5.26</td><td style = \"text-align: right;\">5.38</td><td style = \"text-align: right;\">5.14</td><td style = \"text-align: right;\">5.28</td><td style = \"text-align: right;\">5.11</td><td style = \"text-align: right;\">5.27</td><td style = \"text-align: right;\">4.92</td><td style = \"text-align: right;\">5.12</td><td style = \"text-align: right;\">4.58</td><td style = \"text-align: right;\">4.8</td></tr><tr><td class = \"rowNumber\" style = \"font-weight: bold; text-align: right;\">146</td><td style = \"text-align: left;\">07/31/2024</td><td style = \"text-align: right;\">5.28</td><td style = \"text-align: right;\">5.37</td><td style = \"text-align: right;\">5.26</td><td style = \"text-align: right;\">5.38</td><td style = \"text-align: right;\">5.15</td><td style = \"text-align: right;\">5.29</td><td style = \"text-align: right;\">5.09</td><td style = \"text-align: right;\">5.25</td><td style = \"text-align: right;\">4.91</td><td style = \"text-align: right;\">5.1</td><td style = \"text-align: right;\">4.55</td><td style = \"text-align: right;\">4.77</td></tr><tr><td class = \"rowNumber\" style = \"font-weight: bold; text-align: right;\">147</td><td style = \"text-align: left;\">08/01/2024</td><td style = \"text-align: right;\">5.28</td><td style = \"text-align: right;\">5.38</td><td style = \"text-align: right;\">5.23</td><td style = \"text-align: right;\">5.35</td><td style = \"text-align: right;\">5.12</td><td style = \"text-align: right;\">5.26</td><td style = \"text-align: right;\">5.05</td><td style = \"text-align: right;\">5.21</td><td style = \"text-align: right;\">4.85</td><td style = \"text-align: right;\">5.04</td><td style = \"text-align: right;\">4.44</td><td style = \"text-align: right;\">4.65</td></tr><tr><td class = \"rowNumber\" style = \"font-weight: bold; text-align: right;\">148</td><td style = \"text-align: left;\">08/02/2024</td><td style = \"text-align: right;\">5.27</td><td style = \"text-align: right;\">5.37</td><td style = \"text-align: right;\">5.2</td><td style = \"text-align: right;\">5.32</td><td style = \"text-align: right;\">5.05</td><td style = \"text-align: right;\">5.18</td><td style = \"text-align: right;\">4.92</td><td style = \"text-align: right;\">5.07</td><td style = \"text-align: right;\">4.68</td><td style = \"text-align: right;\">4.86</td><td style = \"text-align: right;\">4.18</td><td style = \"text-align: right;\">4.37</td></tr><tr><td class = \"rowNumber\" style = \"font-weight: bold; text-align: right;\">149</td><td style = \"text-align: left;\">08/05/2024</td><td style = \"text-align: right;\">5.26</td><td style = \"text-align: right;\">5.35</td><td style = \"text-align: right;\">5.21</td><td style = \"text-align: right;\">5.33</td><td style = \"text-align: right;\">5.09</td><td style = \"text-align: right;\">5.23</td><td style = \"text-align: right;\">4.94</td><td style = \"text-align: right;\">5.09</td><td style = \"text-align: right;\">4.69</td><td style = \"text-align: right;\">4.87</td><td style = \"text-align: right;\">4.2</td><td style = \"text-align: right;\">4.39</td></tr><tr><td class = \"rowNumber\" style = \"font-weight: bold; text-align: right;\">150</td><td style = \"text-align: left;\">08/06/2024</td><td style = \"text-align: right;\">5.24</td><td style = \"text-align: right;\">5.33</td><td style = \"text-align: right;\">5.21</td><td style = \"text-align: right;\">5.32</td><td style = \"text-align: right;\">5.09</td><td style = \"text-align: right;\">5.23</td><td style = \"text-align: right;\">4.98</td><td style = \"text-align: right;\">5.13</td><td style = \"text-align: right;\">4.77</td><td style = \"text-align: right;\">4.96</td><td style = \"text-align: right;\">4.25</td><td style = \"text-align: right;\">4.45</td></tr><tr><td class = \"rowNumber\" style = \"font-weight: bold; text-align: right;\">151</td><td style = \"text-align: left;\">08/07/2024</td><td style = \"text-align: right;\">5.25</td><td style = \"text-align: right;\">5.34</td><td style = \"text-align: right;\">5.21</td><td style = \"text-align: right;\">5.32</td><td style = \"text-align: right;\">5.09</td><td style = \"text-align: right;\">5.23</td><td style = \"text-align: right;\">4.98</td><td style = \"text-align: right;\">5.13</td><td style = \"text-align: right;\">4.77</td><td style = \"text-align: right;\">4.96</td><td style = \"text-align: right;\">4.24</td><td style = \"text-align: right;\">4.44</td></tr><tr><td class = \"rowNumber\" style = \"font-weight: bold; text-align: right;\">152</td><td style = \"text-align: left;\">08/08/2024</td><td style = \"text-align: right;\">5.29</td><td style = \"text-align: right;\">5.39</td><td style = \"text-align: right;\">5.19</td><td style = \"text-align: right;\">5.3</td><td style = \"text-align: right;\">5.09</td><td style = \"text-align: right;\">5.23</td><td style = \"text-align: right;\">4.99</td><td style = \"text-align: right;\">5.14</td><td style = \"text-align: right;\">4.79</td><td style = \"text-align: right;\">4.98</td><td style = \"text-align: right;\">4.28</td><td style = \"text-align: right;\">4.49</td></tr><tr><td class = \"rowNumber\" style = \"font-weight: bold; text-align: right;\">153</td><td style = \"text-align: left;\">08/09/2024</td><td style = \"text-align: right;\">5.28</td><td style = \"text-align: right;\">5.38</td><td style = \"text-align: right;\">5.18</td><td style = \"text-align: right;\">5.29</td><td style = \"text-align: right;\">5.09</td><td style = \"text-align: right;\">5.22</td><td style = \"text-align: right;\">5.0</td><td style = \"text-align: right;\">5.15</td><td style = \"text-align: right;\">4.8</td><td style = \"text-align: right;\">4.98</td><td style = \"text-align: right;\">4.29</td><td style = \"text-align: right;\">4.49</td></tr><tr><td class = \"rowNumber\" style = \"font-weight: bold; text-align: right;\">154</td><td style = \"text-align: left;\">08/12/2024</td><td style = \"text-align: right;\">5.27</td><td style = \"text-align: right;\">5.37</td><td style = \"text-align: right;\">5.18</td><td style = \"text-align: right;\">5.29</td><td style = \"text-align: right;\">5.07</td><td style = \"text-align: right;\">5.21</td><td style = \"text-align: right;\">4.99</td><td style = \"text-align: right;\">5.14</td><td style = \"text-align: right;\">4.79</td><td style = \"text-align: right;\">4.98</td><td style = \"text-align: right;\">4.27</td><td style = \"text-align: right;\">4.47</td></tr></tbody></table></div>"
      ],
      "text/latex": [
       "\\begin{tabular}{r|ccccc}\n",
       "\t& Date & 4 WEEKS BANK DISCOUNT & 4 WEEKS COUPON EQUIVALENT & 8 WEEKS BANK DISCOUNT & \\\\\n",
       "\t\\hline\n",
       "\t& String15 & Float64 & Float64 & Float64 & \\\\\n",
       "\t\\hline\n",
       "\t1 & 01/02/2024 & 5.28 & 5.39 & 5.28 & $\\dots$ \\\\\n",
       "\t2 & 01/03/2024 & 5.27 & 5.38 & 5.28 & $\\dots$ \\\\\n",
       "\t3 & 01/04/2024 & 5.29 & 5.4 & 5.28 & $\\dots$ \\\\\n",
       "\t4 & 01/05/2024 & 5.28 & 5.39 & 5.27 & $\\dots$ \\\\\n",
       "\t5 & 01/08/2024 & 5.28 & 5.39 & 5.28 & $\\dots$ \\\\\n",
       "\t6 & 01/09/2024 & 5.28 & 5.39 & 5.26 & $\\dots$ \\\\\n",
       "\t7 & 01/10/2024 & 5.27 & 5.38 & 5.26 & $\\dots$ \\\\\n",
       "\t8 & 01/11/2024 & 5.28 & 5.39 & 5.27 & $\\dots$ \\\\\n",
       "\t9 & 01/12/2024 & 5.28 & 5.39 & 5.27 & $\\dots$ \\\\\n",
       "\t10 & 01/16/2024 & 5.29 & 5.4 & 5.28 & $\\dots$ \\\\\n",
       "\t11 & 01/17/2024 & 5.29 & 5.4 & 5.27 & $\\dots$ \\\\\n",
       "\t12 & 01/18/2024 & 5.26 & 5.37 & 5.28 & $\\dots$ \\\\\n",
       "\t13 & 01/19/2024 & 5.28 & 5.39 & 5.27 & $\\dots$ \\\\\n",
       "\t14 & 01/22/2024 & 5.27 & 5.38 & 5.27 & $\\dots$ \\\\\n",
       "\t15 & 01/23/2024 & 5.28 & 5.39 & 5.26 & $\\dots$ \\\\\n",
       "\t16 & 01/24/2024 & 5.27 & 5.38 & 5.25 & $\\dots$ \\\\\n",
       "\t17 & 01/25/2024 & 5.28 & 5.39 & 5.28 & $\\dots$ \\\\\n",
       "\t18 & 01/26/2024 & 5.27 & 5.38 & 5.25 & $\\dots$ \\\\\n",
       "\t19 & 01/29/2024 & 5.27 & 5.38 & 5.27 & $\\dots$ \\\\\n",
       "\t20 & 01/30/2024 & 5.27 & 5.38 & 5.27 & $\\dots$ \\\\\n",
       "\t21 & 01/31/2024 & 5.27 & 5.38 & 5.27 & $\\dots$ \\\\\n",
       "\t22 & 02/01/2024 & 5.28 & 5.39 & 5.28 & $\\dots$ \\\\\n",
       "\t23 & 02/02/2024 & 5.28 & 5.39 & 5.27 & $\\dots$ \\\\\n",
       "\t24 & 02/05/2024 & 5.28 & 5.39 & 5.27 & $\\dots$ \\\\\n",
       "\t25 & 02/06/2024 & 5.27 & 5.38 & 5.28 & $\\dots$ \\\\\n",
       "\t26 & 02/07/2024 & 5.26 & 5.37 & 5.27 & $\\dots$ \\\\\n",
       "\t27 & 02/08/2024 & 5.28 & 5.39 & 5.27 & $\\dots$ \\\\\n",
       "\t28 & 02/09/2024 & 5.28 & 5.39 & 5.27 & $\\dots$ \\\\\n",
       "\t29 & 02/12/2024 & 5.28 & 5.39 & 5.28 & $\\dots$ \\\\\n",
       "\t30 & 02/13/2024 & 5.27 & 5.38 & 5.29 & $\\dots$ \\\\\n",
       "\t$\\dots$ & $\\dots$ & $\\dots$ & $\\dots$ & $\\dots$ &  \\\\\n",
       "\\end{tabular}\n"
      ],
      "text/plain": [
       "\u001b[1m154×13 DataFrame\u001b[0m\n",
       "\u001b[1m Row \u001b[0m│\u001b[1m Date       \u001b[0m\u001b[1m 4 WEEKS BANK DISCOUNT \u001b[0m\u001b[1m 4 WEEKS COUPON EQUIVALENT \u001b[0m\u001b[1m 8 WEEKS B\u001b[0m ⋯\n",
       "     │\u001b[90m String15   \u001b[0m\u001b[90m Float64               \u001b[0m\u001b[90m Float64                   \u001b[0m\u001b[90m Float64  \u001b[0m ⋯\n",
       "─────┼──────────────────────────────────────────────────────────────────────────\n",
       "   1 │ 01/02/2024                   5.28                       5.39            ⋯\n",
       "   2 │ 01/03/2024                   5.27                       5.38\n",
       "   3 │ 01/04/2024                   5.29                       5.4\n",
       "   4 │ 01/05/2024                   5.28                       5.39\n",
       "   5 │ 01/08/2024                   5.28                       5.39            ⋯\n",
       "   6 │ 01/09/2024                   5.28                       5.39\n",
       "   7 │ 01/10/2024                   5.27                       5.38\n",
       "   8 │ 01/11/2024                   5.28                       5.39\n",
       "   9 │ 01/12/2024                   5.28                       5.39            ⋯\n",
       "  10 │ 01/16/2024                   5.29                       5.4\n",
       "  11 │ 01/17/2024                   5.29                       5.4\n",
       "  ⋮  │     ⋮                 ⋮                        ⋮                        ⋱\n",
       " 145 │ 07/30/2024                   5.29                       5.38\n",
       " 146 │ 07/31/2024                   5.28                       5.37            ⋯\n",
       " 147 │ 08/01/2024                   5.28                       5.38\n",
       " 148 │ 08/02/2024                   5.27                       5.37\n",
       " 149 │ 08/05/2024                   5.26                       5.35\n",
       " 150 │ 08/06/2024                   5.24                       5.33            ⋯\n",
       " 151 │ 08/07/2024                   5.25                       5.34\n",
       " 152 │ 08/08/2024                   5.29                       5.39\n",
       " 153 │ 08/09/2024                   5.28                       5.38\n",
       " 154 │ 08/12/2024                   5.27                       5.37            ⋯\n",
       "\u001b[36m                                                 10 columns and 133 rows omitted\u001b[0m"
      ]
     },
     "execution_count": 5,
     "metadata": {},
     "output_type": "execute_result"
    }
   ],
   "source": [
    "tbill_rates_dataset = CSV.read(joinpath(_PATH_TO_DATA, \"UST-Daily-TBill-Rates-2024.csv\"), DataFrame) |> reverse"
   ]
  },
  {
   "cell_type": "markdown",
   "id": "c1dfbc81-dac8-4619-adc2-4123e475c4ab",
   "metadata": {},
   "source": [
    "Fill me in"
   ]
  },
  {
   "cell_type": "code",
   "execution_count": 7,
   "id": "601ca3a3-7db2-4880-9bf5-d62430a80c79",
   "metadata": {},
   "outputs": [],
   "source": [
    "Δt = (1/252); "
   ]
  },
  {
   "cell_type": "markdown",
   "id": "44f89a30-74e0-4f58-8e5c-5d370772c453",
   "metadata": {},
   "source": [
    "## Task 1: Build a Lattice Model and look at its properties\n",
    "Fill me in"
   ]
  },
  {
   "cell_type": "code",
   "execution_count": 9,
   "id": "c7dfbcc4-5dab-4891-aebb-c4d22c36cd46",
   "metadata": {},
   "outputs": [],
   "source": [
    "p = 0.50;\n",
    "u = 1.25;\n",
    "d = 1/u;\n",
    "T = 2; # this will give T + 1 levels (zero based)\n",
    "rₒ = 0.1;"
   ]
  },
  {
   "cell_type": "markdown",
   "id": "520f52d3-942e-49fc-8f22-3f8f67b13610",
   "metadata": {},
   "source": [
    "Fill me in"
   ]
  },
  {
   "cell_type": "code",
   "execution_count": 11,
   "id": "7ee54b0a-b88e-4455-a4fb-720cc6b1b9f6",
   "metadata": {},
   "outputs": [],
   "source": [
    "my_lattice_tree_model = build(MySymmetricBinaryInterestRateLatticeModel, (\n",
    "    p = p, u = u, d = d, T = T, rₒ = rₒ\n",
    ")) |> populate;"
   ]
  },
  {
   "cell_type": "markdown",
   "id": "dd82d674-320c-4959-9b1c-75214eb17502",
   "metadata": {},
   "source": [
    "Fill me in"
   ]
  },
  {
   "cell_type": "code",
   "execution_count": 13,
   "id": "0ea57c7b-ccaa-4d9f-892e-c35237201b52",
   "metadata": {},
   "outputs": [
    {
     "data": {
      "text/plain": [
       "Dict{Int64, MyBinaryInterestRateLatticeNodeModel} with 6 entries:\n",
       "  0 => MyBinaryInterestRateLatticeNodeModel(1.0, 0.1, 8.0e-323)\n",
       "  4 => MyBinaryInterestRateLatticeNodeModel(0.5, 0.1, 2.20585e-314)\n",
       "  5 => MyBinaryInterestRateLatticeNodeModel(0.25, 0.064, 2.0e-323)\n",
       "  2 => MyBinaryInterestRateLatticeNodeModel(0.5, 0.08, 2.10297e-305)\n",
       "  3 => MyBinaryInterestRateLatticeNodeModel(0.25, 0.15625, 4.95825e-319)\n",
       "  1 => MyBinaryInterestRateLatticeNodeModel(0.5, 0.125, 2.12654e-314)"
      ]
     },
     "execution_count": 13,
     "metadata": {},
     "output_type": "execute_result"
    }
   ],
   "source": [
    "my_lattice_tree_model.data"
   ]
  },
  {
   "cell_type": "markdown",
   "id": "3a941dde-68c2-48e8-b5ca-b2e312daee77",
   "metadata": {},
   "source": [
    "Fill me in"
   ]
  },
  {
   "cell_type": "code",
   "execution_count": 15,
   "id": "ab84bf64-5e61-45fa-aaf9-c213197d8b57",
   "metadata": {},
   "outputs": [
    {
     "data": {
      "text/plain": [
       "Dict{Int64, Vector{Int64}} with 3 entries:\n",
       "  0 => [1, 2]\n",
       "  2 => [4, 5]\n",
       "  1 => [3, 4]"
      ]
     },
     "execution_count": 15,
     "metadata": {},
     "output_type": "execute_result"
    }
   ],
   "source": [
    "my_lattice_tree_model.connectivity"
   ]
  },
  {
   "cell_type": "markdown",
   "id": "b693fa34-6029-4b34-a380-505f2cab8c01",
   "metadata": {},
   "source": [
    "Fill me in"
   ]
  },
  {
   "cell_type": "code",
   "execution_count": 17,
   "id": "10726312-627d-4462-a0c0-bfc9396c0a52",
   "metadata": {},
   "outputs": [
    {
     "data": {
      "text/plain": [
       "Dict{Int64, Vector{Int64}} with 3 entries:\n",
       "  0 => [0]\n",
       "  2 => [3, 4, 5]\n",
       "  1 => [1, 2]"
      ]
     },
     "execution_count": 17,
     "metadata": {},
     "output_type": "execute_result"
    }
   ],
   "source": [
    "my_lattice_tree_model.levels"
   ]
  },
  {
   "cell_type": "markdown",
   "id": "b74b47fa-dfbb-4bc0-90e5-39d3c58b81cc",
   "metadata": {},
   "source": [
    "## Task 2: Estimate the Lattice Model Parameters from Data\n",
    "Fill me in"
   ]
  },
  {
   "cell_type": "code",
   "execution_count": 19,
   "id": "6977f954-d0b3-46ad-841c-e1a60d8a8c23",
   "metadata": {},
   "outputs": [],
   "source": [
    "key_column_name = \"52 WEEKS BANK DISCOUNT\"; # you can select any col, but let's pick the 1-year T-bill"
   ]
  },
  {
   "cell_type": "markdown",
   "id": "5ec2c790-7960-4fad-b088-2c059bab4a3d",
   "metadata": {},
   "source": [
    "Fill me in"
   ]
  },
  {
   "cell_type": "code",
   "execution_count": 82,
   "id": "adb234eb-dc40-45df-ae41-2977cd995be3",
   "metadata": {},
   "outputs": [],
   "source": [
    "number_of_values = tbill_rates_dataset[:,key_column_name] |> length;\n",
    "rates_return_array = Array{Float64,1}(undef, number_of_values - 1);\n",
    "for i ∈ 2:number_of_values\n",
    "    rᵢ = tbill_rates_dataset[i-1,key_column_name] |> x-> x/100.0;\n",
    "    r₂ = tbill_rates_dataset[i,key_column_name] |> x-> x/100.0;\n",
    "    rates_return_array[i-1] = (1/Δt)*log(r₂/rᵢ)\n",
    "end"
   ]
  },
  {
   "cell_type": "markdown",
   "id": "410b0283-59ba-4d3a-885f-c027cbc1ef2d",
   "metadata": {},
   "source": [
    "### Visualize rate returns\n",
    "Fill me in"
   ]
  },
  {
   "cell_type": "code",
   "execution_count": 86,
   "id": "0c62f175-bc8d-4173-89b7-5489a4efb2ad",
   "metadata": {},
   "outputs": [],
   "source": [
    "## fill me in"
   ]
  },
  {
   "cell_type": "markdown",
   "id": "903d269c-1308-415d-9386-cdeffeceda69",
   "metadata": {},
   "source": [
    "Up factor"
   ]
  },
  {
   "cell_type": "code",
   "execution_count": 74,
   "id": "5ae7900f-c15f-40ce-a18d-d5f4c1fea319",
   "metadata": {},
   "outputs": [],
   "source": [
    "i = findall(x-> x > 0, rates_return_array);\n",
    "u = rates_return_array[i] |> mean |> x-> exp(x*Δt); # increase per day"
   ]
  },
  {
   "cell_type": "markdown",
   "id": "6c16cd89-37af-4e0d-9a7a-0f1e33ddb574",
   "metadata": {},
   "source": [
    "Down factor"
   ]
  },
  {
   "cell_type": "code",
   "execution_count": 76,
   "id": "4d9e76bc-15f4-4aaa-a90e-42c9990264c0",
   "metadata": {},
   "outputs": [],
   "source": [
    "j = findall(x-> x < 0, rates_return_array);\n",
    "d = rates_return_array[j] |> mean |> x-> exp(x*Δt); # average decrease per day"
   ]
  },
  {
   "cell_type": "markdown",
   "id": "94551564-e8f4-4ab4-b3cf-80e93e7367b3",
   "metadata": {},
   "source": [
    "Probability"
   ]
  },
  {
   "cell_type": "code",
   "execution_count": 79,
   "id": "038aeb3b-a40d-4445-b524-bd9d50c9acd0",
   "metadata": {},
   "outputs": [
    {
     "data": {
      "text/plain": [
       "0.42483660130718953"
      ]
     },
     "execution_count": 79,
     "metadata": {},
     "output_type": "execute_result"
    }
   ],
   "source": [
    "p = length(i)/(number_of_values - 1)"
   ]
  },
  {
   "cell_type": "markdown",
   "id": "0e868cf4-90a6-4406-b01b-55cb0c2c3427",
   "metadata": {},
   "source": [
    "### TODO: Simulate the short and forward rates\n",
    "Fill me in"
   ]
  },
  {
   "cell_type": "code",
   "execution_count": 89,
   "id": "1bf6e557-9335-4bb6-856f-6de05bac30ec",
   "metadata": {},
   "outputs": [],
   "source": [
    "### fill me in"
   ]
  },
  {
   "cell_type": "markdown",
   "id": "10212a41-d06c-4607-84a7-213618445dac",
   "metadata": {},
   "source": [
    "## Task 3: Zero Price Simulation\n",
    "Fill me in"
   ]
  },
  {
   "cell_type": "code",
   "execution_count": null,
   "id": "12ce0f44-a232-4031-b223-98724094d106",
   "metadata": {},
   "outputs": [],
   "source": []
  },
  {
   "cell_type": "markdown",
   "id": "dca0a58d-d78c-4a8c-b6d2-07ba801209dc",
   "metadata": {},
   "source": [
    "## Disclaimer and Risks\n",
    "__This content is offered solely for training and informational purposes__. No offer or solicitation to buy or sell securities or derivative products or any investment or trading advice or strategy is made, given, or endorsed by the teaching team. \n",
    "\n",
    "__Trading involves risk__. Carefully review your financial situation before investing in securities, futures contracts, options, or commodity interests. Past performance, whether actual or indicated by historical tests of strategies, is no guarantee of future performance or success. Trading is generally inappropriate for someone with limited resources, investment or trading experience, or a low-risk tolerance.  Only risk capital that is not required for living expenses.\n",
    "\n",
    "__You are fully responsible for any investment or trading decisions you make__. Such decisions should be based solely on evaluating your financial circumstances, investment or trading objectives, risk tolerance, and liquidity needs."
   ]
  }
 ],
 "metadata": {
  "kernelspec": {
   "display_name": "Julia 1.10.4",
   "language": "julia",
   "name": "julia-1.10"
  },
  "language_info": {
   "file_extension": ".jl",
   "mimetype": "application/julia",
   "name": "julia",
   "version": "1.10.4"
  }
 },
 "nbformat": 4,
 "nbformat_minor": 5
}
