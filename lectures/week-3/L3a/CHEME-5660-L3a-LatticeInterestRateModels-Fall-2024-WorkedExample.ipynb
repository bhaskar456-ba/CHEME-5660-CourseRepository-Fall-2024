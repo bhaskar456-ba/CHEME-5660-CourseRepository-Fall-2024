{
 "cells": [
  {
   "cell_type": "markdown",
   "id": "7b0c6512-9157-4fcc-85f5-e8c2bdd7cc18",
   "metadata": {},
   "source": [
    "# Example: Lattice Model of Interest Rates\n",
    "Fill me in"
   ]
  },
  {
   "cell_type": "markdown",
   "id": "00fc78cd-2d50-43fc-b41a-9eb3383b197d",
   "metadata": {},
   "source": [
    "## Setup\n",
    "Set up the computational environment by including the `Include.jl` file. The `Include.jl` file loads external packages, various functions we will use in the exercise, and custom types to model the components of our example problem.\n",
    "* For additional information on functions and types used in this material, see the [Julia programming language documentation](https://docs.julialang.org/en/v1/) and the [VLQuantitativeFinancePackage.jl documentation](https://github.com/varnerlab/VLQuantitativeFinancePackage.jl). "
   ]
  },
  {
   "cell_type": "code",
   "execution_count": 6,
   "id": "3d528ecc-f1d4-4019-bc2f-0ef0e2f14fe4",
   "metadata": {},
   "outputs": [
    {
     "name": "stderr",
     "output_type": "stream",
     "text": [
      "\u001b[32m\u001b[1m    Updating\u001b[22m\u001b[39m git-repo `https://github.com/varnerlab/VLQuantitativeFinancePackage.jl.git`\n",
      "\u001b[32m\u001b[1m   Resolving\u001b[22m\u001b[39m package versions...\n",
      "\u001b[32m\u001b[1m  No Changes\u001b[22m\u001b[39m to `~/Desktop/julia_work/CHEME-5660-CourseRepository-Fall-2024/lectures/week-3/L3a/Project.toml`\n",
      "\u001b[32m\u001b[1m  No Changes\u001b[22m\u001b[39m to `~/Desktop/julia_work/CHEME-5660-CourseRepository-Fall-2024/lectures/week-3/L3a/Manifest.toml`\n",
      "\u001b[32m\u001b[1m  Activating\u001b[22m\u001b[39m project at `~/Desktop/julia_work/CHEME-5660-CourseRepository-Fall-2024/lectures/week-3/L3a`\n",
      "\u001b[32m\u001b[1m  No Changes\u001b[22m\u001b[39m to `~/Desktop/julia_work/CHEME-5660-CourseRepository-Fall-2024/lectures/week-3/L3a/Project.toml`\n",
      "\u001b[32m\u001b[1m  No Changes\u001b[22m\u001b[39m to `~/Desktop/julia_work/CHEME-5660-CourseRepository-Fall-2024/lectures/week-3/L3a/Manifest.toml`\n",
      "\u001b[32m\u001b[1m    Updating\u001b[22m\u001b[39m registry at `~/.julia/registries/General.toml`\n",
      "\u001b[32m\u001b[1m    Updating\u001b[22m\u001b[39m git-repo `https://github.com/varnerlab/VLQuantitativeFinancePackage.jl.git`\n",
      "\u001b[32m\u001b[1m  No Changes\u001b[22m\u001b[39m to `~/Desktop/julia_work/CHEME-5660-CourseRepository-Fall-2024/lectures/week-3/L3a/Project.toml`\n",
      "\u001b[32m\u001b[1m  No Changes\u001b[22m\u001b[39m to `~/Desktop/julia_work/CHEME-5660-CourseRepository-Fall-2024/lectures/week-3/L3a/Manifest.toml`\n"
     ]
    }
   ],
   "source": [
    "include(\"Include.jl\");"
   ]
  },
  {
   "cell_type": "markdown",
   "id": "b57eaf72-f676-4215-ab12-54372116489c",
   "metadata": {},
   "source": [
    "## Prerequisite: Load the Treasury Rates Dataset\n",
    "Fill me in"
   ]
  },
  {
   "cell_type": "markdown",
   "id": "44f89a30-74e0-4f58-8e5c-5d370772c453",
   "metadata": {},
   "source": [
    "## Task 1: Build a Lattice Model and Look at its properties\n",
    "Fill me in"
   ]
  },
  {
   "cell_type": "code",
   "execution_count": 13,
   "id": "c7dfbcc4-5dab-4891-aebb-c4d22c36cd46",
   "metadata": {},
   "outputs": [],
   "source": [
    "p = 0.50;\n",
    "u = 1.25;\n",
    "d = 1/u;\n",
    "T = 2; # this will give T + 1 levels (zero based)\n",
    "rₒ = 0.1;"
   ]
  },
  {
   "cell_type": "markdown",
   "id": "520f52d3-942e-49fc-8f22-3f8f67b13610",
   "metadata": {},
   "source": [
    "Fill me in"
   ]
  },
  {
   "cell_type": "code",
   "execution_count": 17,
   "id": "7ee54b0a-b88e-4455-a4fb-720cc6b1b9f6",
   "metadata": {},
   "outputs": [],
   "source": [
    "my_lattice_tree_model = build(MySymmetricBinaryInterestRateLatticeModel, (\n",
    "    p = p, u = u, d = d, T = T, rₒ = rₒ\n",
    ")) |> populate;"
   ]
  },
  {
   "cell_type": "markdown",
   "id": "dd82d674-320c-4959-9b1c-75214eb17502",
   "metadata": {},
   "source": [
    "Fill me in"
   ]
  },
  {
   "cell_type": "code",
   "execution_count": 19,
   "id": "0ea57c7b-ccaa-4d9f-892e-c35237201b52",
   "metadata": {},
   "outputs": [
    {
     "data": {
      "text/plain": [
       "Dict{Int64, MyBinaryInterestRateLatticeNodeModel} with 6 entries:\n",
       "  0 => MyBinaryInterestRateLatticeNodeModel(1.0, 0.1, 0.0)\n",
       "  4 => MyBinaryInterestRateLatticeNodeModel(0.5, 0.1, 2.3834e-314)\n",
       "  5 => MyBinaryInterestRateLatticeNodeModel(0.25, 0.064, 3.15506e-310)\n",
       "  2 => MyBinaryInterestRateLatticeNodeModel(0.5, 0.08, 2.3834e-314)\n",
       "  3 => MyBinaryInterestRateLatticeNodeModel(0.25, 0.15625, 2.3834e-314)\n",
       "  1 => MyBinaryInterestRateLatticeNodeModel(0.5, 0.125, 2.3834e-314)"
      ]
     },
     "execution_count": 19,
     "metadata": {},
     "output_type": "execute_result"
    }
   ],
   "source": [
    "my_lattice_tree_model.data"
   ]
  },
  {
   "cell_type": "markdown",
   "id": "3a941dde-68c2-48e8-b5ca-b2e312daee77",
   "metadata": {},
   "source": [
    "Fill me in"
   ]
  },
  {
   "cell_type": "code",
   "execution_count": 21,
   "id": "ab84bf64-5e61-45fa-aaf9-c213197d8b57",
   "metadata": {},
   "outputs": [
    {
     "data": {
      "text/plain": [
       "Dict{Int64, Vector{Int64}} with 3 entries:\n",
       "  0 => [1, 2]\n",
       "  2 => [4, 5]\n",
       "  1 => [3, 4]"
      ]
     },
     "execution_count": 21,
     "metadata": {},
     "output_type": "execute_result"
    }
   ],
   "source": [
    "my_lattice_tree_model.connectivity"
   ]
  },
  {
   "cell_type": "markdown",
   "id": "b693fa34-6029-4b34-a380-505f2cab8c01",
   "metadata": {},
   "source": [
    "Fill me in"
   ]
  },
  {
   "cell_type": "code",
   "execution_count": 23,
   "id": "10726312-627d-4462-a0c0-bfc9396c0a52",
   "metadata": {},
   "outputs": [
    {
     "data": {
      "text/plain": [
       "Dict{Int64, Vector{Int64}} with 3 entries:\n",
       "  0 => [0]\n",
       "  2 => [3, 4, 5]\n",
       "  1 => [1, 2]"
      ]
     },
     "execution_count": 23,
     "metadata": {},
     "output_type": "execute_result"
    }
   ],
   "source": [
    "my_lattice_tree_model.levels"
   ]
  },
  {
   "cell_type": "markdown",
   "id": "b74b47fa-dfbb-4bc0-90e5-39d3c58b81cc",
   "metadata": {},
   "source": [
    "## Task 2: Calibrate the Lattice Model Parameters\n",
    "Fill me in"
   ]
  },
  {
   "cell_type": "code",
   "execution_count": null,
   "id": "6977f954-d0b3-46ad-841c-e1a60d8a8c23",
   "metadata": {},
   "outputs": [],
   "source": []
  },
  {
   "cell_type": "markdown",
   "id": "10212a41-d06c-4607-84a7-213618445dac",
   "metadata": {},
   "source": [
    "## Task 3: Zero Price Simulation\n",
    "Fill me in"
   ]
  },
  {
   "cell_type": "code",
   "execution_count": null,
   "id": "12ce0f44-a232-4031-b223-98724094d106",
   "metadata": {},
   "outputs": [],
   "source": []
  },
  {
   "cell_type": "markdown",
   "id": "dca0a58d-d78c-4a8c-b6d2-07ba801209dc",
   "metadata": {},
   "source": [
    "## Disclaimer and Risks\n",
    "__This content is offered solely for training and informational purposes__. No offer or solicitation to buy or sell securities or derivative products or any investment or trading advice or strategy is made, given, or endorsed by the teaching team. \n",
    "\n",
    "__Trading involves risk__. Carefully review your financial situation before investing in securities, futures contracts, options, or commodity interests. Past performance, whether actual or indicated by historical tests of strategies, is no guarantee of future performance or success. Trading is generally inappropriate for someone with limited resources, investment or trading experience, or a low-risk tolerance.  Only risk capital that is not required for living expenses.\n",
    "\n",
    "__You are fully responsible for any investment or trading decisions you make__. Such decisions should be based solely on evaluating your financial circumstances, investment or trading objectives, risk tolerance, and liquidity needs."
   ]
  }
 ],
 "metadata": {
  "kernelspec": {
   "display_name": "Julia 1.10.4",
   "language": "julia",
   "name": "julia-1.10"
  },
  "language_info": {
   "file_extension": ".jl",
   "mimetype": "application/julia",
   "name": "julia",
   "version": "1.10.4"
  }
 },
 "nbformat": 4,
 "nbformat_minor": 5
}
