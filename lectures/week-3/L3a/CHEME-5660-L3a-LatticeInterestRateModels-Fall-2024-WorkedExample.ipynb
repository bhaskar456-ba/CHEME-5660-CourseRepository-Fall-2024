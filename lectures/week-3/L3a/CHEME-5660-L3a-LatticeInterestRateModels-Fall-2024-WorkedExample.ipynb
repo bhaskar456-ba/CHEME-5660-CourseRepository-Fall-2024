{
 "cells": [
  {
   "cell_type": "markdown",
   "id": "0b4b22d6-aa86-4101-a5e3-34aed5f8a3be",
   "metadata": {},
   "source": [
    "# Example: Understanding the Secrets of the Yield Curve\n",
    "Fill me in"
   ]
  },
  {
   "cell_type": "markdown",
   "id": "5e2ec89a-c89c-4305-82d1-8dabc34b069a",
   "metadata": {},
   "source": [
    "## Setup\n",
    "Set up the computational environment by including the `Include.jl` file. The `Include.jl` file loads external packages, various functions we will use in the exercise, and custom types to model the components of our example problem.\n",
    "* For additional information on functions and types used in this material, see the [Julia programming language documentation](https://docs.julialang.org/en/v1/) and the [VLQuantitativeFinancePackage.jl documentation](https://github.com/varnerlab/VLQuantitativeFinancePackage.jl). "
   ]
  },
  {
   "cell_type": "code",
   "execution_count": 3,
   "id": "b056aa55-250e-4554-a397-26849379238a",
   "metadata": {},
   "outputs": [
    {
     "name": "stderr",
     "output_type": "stream",
     "text": [
      "\u001b[32m\u001b[1m    Updating\u001b[22m\u001b[39m git-repo `https://github.com/varnerlab/VLQuantitativeFinancePackage.jl.git`\n",
      "\u001b[32m\u001b[1m   Resolving\u001b[22m\u001b[39m package versions...\n",
      "\u001b[32m\u001b[1m  No Changes\u001b[22m\u001b[39m to `~/Desktop/julia_work/CHEME-5660-CourseRepository-Fall-2024/lectures/week-3/L3a/Project.toml`\n",
      "\u001b[32m\u001b[1m  No Changes\u001b[22m\u001b[39m to `~/Desktop/julia_work/CHEME-5660-CourseRepository-Fall-2024/lectures/week-3/L3a/Manifest.toml`\n",
      "\u001b[32m\u001b[1m  Activating\u001b[22m\u001b[39m project at `~/Desktop/julia_work/CHEME-5660-CourseRepository-Fall-2024/lectures/week-3/L3a`\n",
      "\u001b[32m\u001b[1m  No Changes\u001b[22m\u001b[39m to `~/Desktop/julia_work/CHEME-5660-CourseRepository-Fall-2024/lectures/week-3/L3a/Project.toml`\n",
      "\u001b[32m\u001b[1m  No Changes\u001b[22m\u001b[39m to `~/Desktop/julia_work/CHEME-5660-CourseRepository-Fall-2024/lectures/week-3/L3a/Manifest.toml`\n",
      "\u001b[32m\u001b[1m    Updating\u001b[22m\u001b[39m registry at `~/.julia/registries/General.toml`\n",
      "\u001b[32m\u001b[1m    Updating\u001b[22m\u001b[39m git-repo `https://github.com/varnerlab/VLQuantitativeFinancePackage.jl.git`\n",
      "\u001b[32m\u001b[1m  No Changes\u001b[22m\u001b[39m to `~/Desktop/julia_work/CHEME-5660-CourseRepository-Fall-2024/lectures/week-3/L3a/Project.toml`\n",
      "\u001b[32m\u001b[1m  No Changes\u001b[22m\u001b[39m to `~/Desktop/julia_work/CHEME-5660-CourseRepository-Fall-2024/lectures/week-3/L3a/Manifest.toml`\n"
     ]
    }
   ],
   "source": [
    "include(\"Include.jl\");"
   ]
  },
  {
   "cell_type": "markdown",
   "id": "1020288a-b580-4663-8ff5-edbaa395a8af",
   "metadata": {},
   "source": [
    "## Prerequisite: Load the Treasury Rates Dataset\n",
    "Fill me in"
   ]
  },
  {
   "cell_type": "code",
   "execution_count": 42,
   "id": "59637e68-5b92-4ca2-9b88-48094c3907c8",
   "metadata": {},
   "outputs": [],
   "source": [
    "discount_model = DiscreteCompoundingModel();"
   ]
  },
  {
   "cell_type": "markdown",
   "id": "8347e963-ef11-47a6-af11-26aea673c1fe",
   "metadata": {},
   "source": [
    "Fill me in"
   ]
  },
  {
   "cell_type": "code",
   "execution_count": 111,
   "id": "00fed9e7-c5b0-4128-9aa0-dfeebea8d4ce",
   "metadata": {},
   "outputs": [
    {
     "data": {
      "text/html": [
       "<div><div style = \"float: left;\"><span>153×14 DataFrame</span></div><div style = \"float: right;\"><span style = \"font-style: italic;\">128 rows omitted</span></div><div style = \"clear: both;\"></div></div><div class = \"data-frame\" style = \"overflow-x: scroll;\"><table class = \"data-frame\" style = \"margin-bottom: 6px;\"><thead><tr class = \"header\"><th class = \"rowNumber\" style = \"font-weight: bold; text-align: right;\">Row</th><th style = \"text-align: left;\">Date</th><th style = \"text-align: left;\">1 Mo</th><th style = \"text-align: left;\">2 Mo</th><th style = \"text-align: left;\">3 Mo</th><th style = \"text-align: left;\">4 Mo</th><th style = \"text-align: left;\">6 Mo</th><th style = \"text-align: left;\">1 Yr</th><th style = \"text-align: left;\">2 Yr</th><th style = \"text-align: left;\">3 Yr</th><th style = \"text-align: left;\">5 Yr</th><th style = \"text-align: left;\">7 Yr</th><th style = \"text-align: left;\">10 Yr</th><th style = \"text-align: left;\">20 Yr</th><th style = \"text-align: left;\">30 Yr</th></tr><tr class = \"subheader headerLastRow\"><th class = \"rowNumber\" style = \"font-weight: bold; text-align: right;\"></th><th title = \"String15\" style = \"text-align: left;\">String15</th><th title = \"Float64\" style = \"text-align: left;\">Float64</th><th title = \"Float64\" style = \"text-align: left;\">Float64</th><th title = \"Float64\" style = \"text-align: left;\">Float64</th><th title = \"Float64\" style = \"text-align: left;\">Float64</th><th title = \"Float64\" style = \"text-align: left;\">Float64</th><th title = \"Float64\" style = \"text-align: left;\">Float64</th><th title = \"Float64\" style = \"text-align: left;\">Float64</th><th title = \"Float64\" style = \"text-align: left;\">Float64</th><th title = \"Float64\" style = \"text-align: left;\">Float64</th><th title = \"Float64\" style = \"text-align: left;\">Float64</th><th title = \"Float64\" style = \"text-align: left;\">Float64</th><th title = \"Float64\" style = \"text-align: left;\">Float64</th><th title = \"Float64\" style = \"text-align: left;\">Float64</th></tr></thead><tbody><tr><td class = \"rowNumber\" style = \"font-weight: bold; text-align: right;\">1</td><td style = \"text-align: left;\">08/09/2024</td><td style = \"text-align: right;\">5.54</td><td style = \"text-align: right;\">5.4</td><td style = \"text-align: right;\">5.33</td><td style = \"text-align: right;\">5.22</td><td style = \"text-align: right;\">5.02</td><td style = \"text-align: right;\">4.5</td><td style = \"text-align: right;\">4.05</td><td style = \"text-align: right;\">3.86</td><td style = \"text-align: right;\">3.8</td><td style = \"text-align: right;\">3.85</td><td style = \"text-align: right;\">3.94</td><td style = \"text-align: right;\">4.33</td><td style = \"text-align: right;\">4.23</td></tr><tr><td class = \"rowNumber\" style = \"font-weight: bold; text-align: right;\">2</td><td style = \"text-align: left;\">08/08/2024</td><td style = \"text-align: right;\">5.55</td><td style = \"text-align: right;\">5.42</td><td style = \"text-align: right;\">5.34</td><td style = \"text-align: right;\">5.21</td><td style = \"text-align: right;\">5.01</td><td style = \"text-align: right;\">4.48</td><td style = \"text-align: right;\">4.04</td><td style = \"text-align: right;\">3.86</td><td style = \"text-align: right;\">3.83</td><td style = \"text-align: right;\">3.89</td><td style = \"text-align: right;\">3.99</td><td style = \"text-align: right;\">4.38</td><td style = \"text-align: right;\">4.28</td></tr><tr><td class = \"rowNumber\" style = \"font-weight: bold; text-align: right;\">3</td><td style = \"text-align: left;\">08/07/2024</td><td style = \"text-align: right;\">5.5</td><td style = \"text-align: right;\">5.43</td><td style = \"text-align: right;\">5.34</td><td style = \"text-align: right;\">5.21</td><td style = \"text-align: right;\">4.99</td><td style = \"text-align: right;\">4.45</td><td style = \"text-align: right;\">4.0</td><td style = \"text-align: right;\">3.81</td><td style = \"text-align: right;\">3.79</td><td style = \"text-align: right;\">3.85</td><td style = \"text-align: right;\">3.96</td><td style = \"text-align: right;\">4.35</td><td style = \"text-align: right;\">4.26</td></tr><tr><td class = \"rowNumber\" style = \"font-weight: bold; text-align: right;\">4</td><td style = \"text-align: left;\">08/06/2024</td><td style = \"text-align: right;\">5.5</td><td style = \"text-align: right;\">5.43</td><td style = \"text-align: right;\">5.34</td><td style = \"text-align: right;\">5.18</td><td style = \"text-align: right;\">5.0</td><td style = \"text-align: right;\">4.46</td><td style = \"text-align: right;\">3.99</td><td style = \"text-align: right;\">3.76</td><td style = \"text-align: right;\">3.73</td><td style = \"text-align: right;\">3.79</td><td style = \"text-align: right;\">3.9</td><td style = \"text-align: right;\">4.28</td><td style = \"text-align: right;\">4.18</td></tr><tr><td class = \"rowNumber\" style = \"font-weight: bold; text-align: right;\">5</td><td style = \"text-align: left;\">08/05/2024</td><td style = \"text-align: right;\">5.52</td><td style = \"text-align: right;\">5.43</td><td style = \"text-align: right;\">5.35</td><td style = \"text-align: right;\">5.14</td><td style = \"text-align: right;\">4.91</td><td style = \"text-align: right;\">4.34</td><td style = \"text-align: right;\">3.89</td><td style = \"text-align: right;\">3.71</td><td style = \"text-align: right;\">3.62</td><td style = \"text-align: right;\">3.66</td><td style = \"text-align: right;\">3.78</td><td style = \"text-align: right;\">4.16</td><td style = \"text-align: right;\">4.06</td></tr><tr><td class = \"rowNumber\" style = \"font-weight: bold; text-align: right;\">6</td><td style = \"text-align: left;\">08/02/2024</td><td style = \"text-align: right;\">5.54</td><td style = \"text-align: right;\">5.43</td><td style = \"text-align: right;\">5.29</td><td style = \"text-align: right;\">5.14</td><td style = \"text-align: right;\">4.88</td><td style = \"text-align: right;\">4.33</td><td style = \"text-align: right;\">3.88</td><td style = \"text-align: right;\">3.7</td><td style = \"text-align: right;\">3.62</td><td style = \"text-align: right;\">3.68</td><td style = \"text-align: right;\">3.8</td><td style = \"text-align: right;\">4.19</td><td style = \"text-align: right;\">4.11</td></tr><tr><td class = \"rowNumber\" style = \"font-weight: bold; text-align: right;\">7</td><td style = \"text-align: left;\">08/01/2024</td><td style = \"text-align: right;\">5.55</td><td style = \"text-align: right;\">5.46</td><td style = \"text-align: right;\">5.37</td><td style = \"text-align: right;\">5.28</td><td style = \"text-align: right;\">5.08</td><td style = \"text-align: right;\">4.62</td><td style = \"text-align: right;\">4.16</td><td style = \"text-align: right;\">3.96</td><td style = \"text-align: right;\">3.84</td><td style = \"text-align: right;\">3.89</td><td style = \"text-align: right;\">3.99</td><td style = \"text-align: right;\">4.35</td><td style = \"text-align: right;\">4.27</td></tr><tr><td class = \"rowNumber\" style = \"font-weight: bold; text-align: right;\">8</td><td style = \"text-align: left;\">07/31/2024</td><td style = \"text-align: right;\">5.49</td><td style = \"text-align: right;\">5.51</td><td style = \"text-align: right;\">5.41</td><td style = \"text-align: right;\">5.32</td><td style = \"text-align: right;\">5.14</td><td style = \"text-align: right;\">4.73</td><td style = \"text-align: right;\">4.29</td><td style = \"text-align: right;\">4.1</td><td style = \"text-align: right;\">3.97</td><td style = \"text-align: right;\">4.0</td><td style = \"text-align: right;\">4.09</td><td style = \"text-align: right;\">4.44</td><td style = \"text-align: right;\">4.35</td></tr><tr><td class = \"rowNumber\" style = \"font-weight: bold; text-align: right;\">9</td><td style = \"text-align: left;\">07/30/2024</td><td style = \"text-align: right;\">5.5</td><td style = \"text-align: right;\">5.5</td><td style = \"text-align: right;\">5.4</td><td style = \"text-align: right;\">5.35</td><td style = \"text-align: right;\">5.16</td><td style = \"text-align: right;\">4.78</td><td style = \"text-align: right;\">4.35</td><td style = \"text-align: right;\">4.16</td><td style = \"text-align: right;\">4.03</td><td style = \"text-align: right;\">4.06</td><td style = \"text-align: right;\">4.15</td><td style = \"text-align: right;\">4.5</td><td style = \"text-align: right;\">4.4</td></tr><tr><td class = \"rowNumber\" style = \"font-weight: bold; text-align: right;\">10</td><td style = \"text-align: left;\">07/29/2024</td><td style = \"text-align: right;\">5.5</td><td style = \"text-align: right;\">5.51</td><td style = \"text-align: right;\">5.41</td><td style = \"text-align: right;\">5.36</td><td style = \"text-align: right;\">5.18</td><td style = \"text-align: right;\">4.79</td><td style = \"text-align: right;\">4.36</td><td style = \"text-align: right;\">4.19</td><td style = \"text-align: right;\">4.05</td><td style = \"text-align: right;\">4.08</td><td style = \"text-align: right;\">4.17</td><td style = \"text-align: right;\">4.51</td><td style = \"text-align: right;\">4.42</td></tr><tr><td class = \"rowNumber\" style = \"font-weight: bold; text-align: right;\">11</td><td style = \"text-align: left;\">07/26/2024</td><td style = \"text-align: right;\">5.49</td><td style = \"text-align: right;\">5.51</td><td style = \"text-align: right;\">5.38</td><td style = \"text-align: right;\">5.36</td><td style = \"text-align: right;\">5.18</td><td style = \"text-align: right;\">4.79</td><td style = \"text-align: right;\">4.36</td><td style = \"text-align: right;\">4.2</td><td style = \"text-align: right;\">4.06</td><td style = \"text-align: right;\">4.1</td><td style = \"text-align: right;\">4.2</td><td style = \"text-align: right;\">4.53</td><td style = \"text-align: right;\">4.45</td></tr><tr><td class = \"rowNumber\" style = \"font-weight: bold; text-align: right;\">12</td><td style = \"text-align: left;\">07/25/2024</td><td style = \"text-align: right;\">5.49</td><td style = \"text-align: right;\">5.52</td><td style = \"text-align: right;\">5.39</td><td style = \"text-align: right;\">5.37</td><td style = \"text-align: right;\">5.19</td><td style = \"text-align: right;\">4.83</td><td style = \"text-align: right;\">4.41</td><td style = \"text-align: right;\">4.26</td><td style = \"text-align: right;\">4.13</td><td style = \"text-align: right;\">4.18</td><td style = \"text-align: right;\">4.27</td><td style = \"text-align: right;\">4.59</td><td style = \"text-align: right;\">4.5</td></tr><tr><td class = \"rowNumber\" style = \"font-weight: bold; text-align: right;\">13</td><td style = \"text-align: left;\">07/24/2024</td><td style = \"text-align: right;\">5.5</td><td style = \"text-align: right;\">5.5</td><td style = \"text-align: right;\">5.4</td><td style = \"text-align: right;\">5.37</td><td style = \"text-align: right;\">5.19</td><td style = \"text-align: right;\">4.82</td><td style = \"text-align: right;\">4.37</td><td style = \"text-align: right;\">4.24</td><td style = \"text-align: right;\">4.12</td><td style = \"text-align: right;\">4.2</td><td style = \"text-align: right;\">4.28</td><td style = \"text-align: right;\">4.62</td><td style = \"text-align: right;\">4.54</td></tr><tr><td style = \"text-align: right;\">&vellip;</td><td style = \"text-align: right;\">&vellip;</td><td style = \"text-align: right;\">&vellip;</td><td style = \"text-align: right;\">&vellip;</td><td style = \"text-align: right;\">&vellip;</td><td style = \"text-align: right;\">&vellip;</td><td style = \"text-align: right;\">&vellip;</td><td style = \"text-align: right;\">&vellip;</td><td style = \"text-align: right;\">&vellip;</td><td style = \"text-align: right;\">&vellip;</td><td style = \"text-align: right;\">&vellip;</td><td style = \"text-align: right;\">&vellip;</td><td style = \"text-align: right;\">&vellip;</td><td style = \"text-align: right;\">&vellip;</td><td style = \"text-align: right;\">&vellip;</td></tr><tr><td class = \"rowNumber\" style = \"font-weight: bold; text-align: right;\">142</td><td style = \"text-align: left;\">01/18/2024</td><td style = \"text-align: right;\">5.53</td><td style = \"text-align: right;\">5.48</td><td style = \"text-align: right;\">5.45</td><td style = \"text-align: right;\">5.39</td><td style = \"text-align: right;\">5.2</td><td style = \"text-align: right;\">4.8</td><td style = \"text-align: right;\">4.34</td><td style = \"text-align: right;\">4.13</td><td style = \"text-align: right;\">4.04</td><td style = \"text-align: right;\">4.1</td><td style = \"text-align: right;\">4.14</td><td style = \"text-align: right;\">4.48</td><td style = \"text-align: right;\">4.37</td></tr><tr><td class = \"rowNumber\" style = \"font-weight: bold; text-align: right;\">143</td><td style = \"text-align: left;\">01/17/2024</td><td style = \"text-align: right;\">5.54</td><td style = \"text-align: right;\">5.47</td><td style = \"text-align: right;\">5.47</td><td style = \"text-align: right;\">5.4</td><td style = \"text-align: right;\">5.2</td><td style = \"text-align: right;\">4.8</td><td style = \"text-align: right;\">4.34</td><td style = \"text-align: right;\">4.12</td><td style = \"text-align: right;\">4.02</td><td style = \"text-align: right;\">4.07</td><td style = \"text-align: right;\">4.1</td><td style = \"text-align: right;\">4.42</td><td style = \"text-align: right;\">4.31</td></tr><tr><td class = \"rowNumber\" style = \"font-weight: bold; text-align: right;\">144</td><td style = \"text-align: left;\">01/16/2024</td><td style = \"text-align: right;\">5.54</td><td style = \"text-align: right;\">5.47</td><td style = \"text-align: right;\">5.45</td><td style = \"text-align: right;\">5.37</td><td style = \"text-align: right;\">5.18</td><td style = \"text-align: right;\">4.7</td><td style = \"text-align: right;\">4.22</td><td style = \"text-align: right;\">4.02</td><td style = \"text-align: right;\">3.95</td><td style = \"text-align: right;\">4.01</td><td style = \"text-align: right;\">4.07</td><td style = \"text-align: right;\">4.43</td><td style = \"text-align: right;\">4.3</td></tr><tr><td class = \"rowNumber\" style = \"font-weight: bold; text-align: right;\">145</td><td style = \"text-align: left;\">01/12/2024</td><td style = \"text-align: right;\">5.55</td><td style = \"text-align: right;\">5.47</td><td style = \"text-align: right;\">5.45</td><td style = \"text-align: right;\">5.37</td><td style = \"text-align: right;\">5.16</td><td style = \"text-align: right;\">4.65</td><td style = \"text-align: right;\">4.14</td><td style = \"text-align: right;\">3.92</td><td style = \"text-align: right;\">3.84</td><td style = \"text-align: right;\">3.91</td><td style = \"text-align: right;\">3.96</td><td style = \"text-align: right;\">4.32</td><td style = \"text-align: right;\">4.2</td></tr><tr><td class = \"rowNumber\" style = \"font-weight: bold; text-align: right;\">146</td><td style = \"text-align: left;\">01/11/2024</td><td style = \"text-align: right;\">5.54</td><td style = \"text-align: right;\">5.47</td><td style = \"text-align: right;\">5.46</td><td style = \"text-align: right;\">5.38</td><td style = \"text-align: right;\">5.22</td><td style = \"text-align: right;\">4.75</td><td style = \"text-align: right;\">4.26</td><td style = \"text-align: right;\">4.02</td><td style = \"text-align: right;\">3.9</td><td style = \"text-align: right;\">3.95</td><td style = \"text-align: right;\">3.98</td><td style = \"text-align: right;\">4.32</td><td style = \"text-align: right;\">4.18</td></tr><tr><td class = \"rowNumber\" style = \"font-weight: bold; text-align: right;\">147</td><td style = \"text-align: left;\">01/10/2024</td><td style = \"text-align: right;\">5.53</td><td style = \"text-align: right;\">5.46</td><td style = \"text-align: right;\">5.46</td><td style = \"text-align: right;\">5.39</td><td style = \"text-align: right;\">5.23</td><td style = \"text-align: right;\">4.82</td><td style = \"text-align: right;\">4.37</td><td style = \"text-align: right;\">4.1</td><td style = \"text-align: right;\">3.99</td><td style = \"text-align: right;\">4.01</td><td style = \"text-align: right;\">4.04</td><td style = \"text-align: right;\">4.35</td><td style = \"text-align: right;\">4.2</td></tr><tr><td class = \"rowNumber\" style = \"font-weight: bold; text-align: right;\">148</td><td style = \"text-align: left;\">01/09/2024</td><td style = \"text-align: right;\">5.53</td><td style = \"text-align: right;\">5.46</td><td style = \"text-align: right;\">5.47</td><td style = \"text-align: right;\">5.38</td><td style = \"text-align: right;\">5.24</td><td style = \"text-align: right;\">4.82</td><td style = \"text-align: right;\">4.36</td><td style = \"text-align: right;\">4.09</td><td style = \"text-align: right;\">3.97</td><td style = \"text-align: right;\">4.0</td><td style = \"text-align: right;\">4.02</td><td style = \"text-align: right;\">4.33</td><td style = \"text-align: right;\">4.18</td></tr><tr><td class = \"rowNumber\" style = \"font-weight: bold; text-align: right;\">149</td><td style = \"text-align: left;\">01/08/2024</td><td style = \"text-align: right;\">5.54</td><td style = \"text-align: right;\">5.48</td><td style = \"text-align: right;\">5.49</td><td style = \"text-align: right;\">5.39</td><td style = \"text-align: right;\">5.24</td><td style = \"text-align: right;\">4.82</td><td style = \"text-align: right;\">4.36</td><td style = \"text-align: right;\">4.11</td><td style = \"text-align: right;\">3.97</td><td style = \"text-align: right;\">3.99</td><td style = \"text-align: right;\">4.01</td><td style = \"text-align: right;\">4.33</td><td style = \"text-align: right;\">4.17</td></tr><tr><td class = \"rowNumber\" style = \"font-weight: bold; text-align: right;\">150</td><td style = \"text-align: left;\">01/05/2024</td><td style = \"text-align: right;\">5.54</td><td style = \"text-align: right;\">5.48</td><td style = \"text-align: right;\">5.47</td><td style = \"text-align: right;\">5.41</td><td style = \"text-align: right;\">5.24</td><td style = \"text-align: right;\">4.84</td><td style = \"text-align: right;\">4.4</td><td style = \"text-align: right;\">4.17</td><td style = \"text-align: right;\">4.02</td><td style = \"text-align: right;\">4.04</td><td style = \"text-align: right;\">4.05</td><td style = \"text-align: right;\">4.37</td><td style = \"text-align: right;\">4.21</td></tr><tr><td class = \"rowNumber\" style = \"font-weight: bold; text-align: right;\">151</td><td style = \"text-align: left;\">01/04/2024</td><td style = \"text-align: right;\">5.56</td><td style = \"text-align: right;\">5.48</td><td style = \"text-align: right;\">5.48</td><td style = \"text-align: right;\">5.41</td><td style = \"text-align: right;\">5.25</td><td style = \"text-align: right;\">4.85</td><td style = \"text-align: right;\">4.38</td><td style = \"text-align: right;\">4.14</td><td style = \"text-align: right;\">3.97</td><td style = \"text-align: right;\">3.99</td><td style = \"text-align: right;\">3.99</td><td style = \"text-align: right;\">4.3</td><td style = \"text-align: right;\">4.13</td></tr><tr><td class = \"rowNumber\" style = \"font-weight: bold; text-align: right;\">152</td><td style = \"text-align: left;\">01/03/2024</td><td style = \"text-align: right;\">5.54</td><td style = \"text-align: right;\">5.54</td><td style = \"text-align: right;\">5.48</td><td style = \"text-align: right;\">5.41</td><td style = \"text-align: right;\">5.25</td><td style = \"text-align: right;\">4.81</td><td style = \"text-align: right;\">4.33</td><td style = \"text-align: right;\">4.07</td><td style = \"text-align: right;\">3.9</td><td style = \"text-align: right;\">3.92</td><td style = \"text-align: right;\">3.91</td><td style = \"text-align: right;\">4.21</td><td style = \"text-align: right;\">4.05</td></tr><tr><td class = \"rowNumber\" style = \"font-weight: bold; text-align: right;\">153</td><td style = \"text-align: left;\">01/02/2024</td><td style = \"text-align: right;\">5.55</td><td style = \"text-align: right;\">5.54</td><td style = \"text-align: right;\">5.46</td><td style = \"text-align: right;\">5.41</td><td style = \"text-align: right;\">5.24</td><td style = \"text-align: right;\">4.8</td><td style = \"text-align: right;\">4.33</td><td style = \"text-align: right;\">4.09</td><td style = \"text-align: right;\">3.93</td><td style = \"text-align: right;\">3.95</td><td style = \"text-align: right;\">3.95</td><td style = \"text-align: right;\">4.25</td><td style = \"text-align: right;\">4.08</td></tr></tbody></table></div>"
      ],
      "text/latex": [
       "\\begin{tabular}{r|cccccccccc}\n",
       "\t& Date & 1 Mo & 2 Mo & 3 Mo & 4 Mo & 6 Mo & 1 Yr & 2 Yr & 3 Yr & \\\\\n",
       "\t\\hline\n",
       "\t& String15 & Float64 & Float64 & Float64 & Float64 & Float64 & Float64 & Float64 & Float64 & \\\\\n",
       "\t\\hline\n",
       "\t1 & 08/09/2024 & 5.54 & 5.4 & 5.33 & 5.22 & 5.02 & 4.5 & 4.05 & 3.86 & $\\dots$ \\\\\n",
       "\t2 & 08/08/2024 & 5.55 & 5.42 & 5.34 & 5.21 & 5.01 & 4.48 & 4.04 & 3.86 & $\\dots$ \\\\\n",
       "\t3 & 08/07/2024 & 5.5 & 5.43 & 5.34 & 5.21 & 4.99 & 4.45 & 4.0 & 3.81 & $\\dots$ \\\\\n",
       "\t4 & 08/06/2024 & 5.5 & 5.43 & 5.34 & 5.18 & 5.0 & 4.46 & 3.99 & 3.76 & $\\dots$ \\\\\n",
       "\t5 & 08/05/2024 & 5.52 & 5.43 & 5.35 & 5.14 & 4.91 & 4.34 & 3.89 & 3.71 & $\\dots$ \\\\\n",
       "\t6 & 08/02/2024 & 5.54 & 5.43 & 5.29 & 5.14 & 4.88 & 4.33 & 3.88 & 3.7 & $\\dots$ \\\\\n",
       "\t7 & 08/01/2024 & 5.55 & 5.46 & 5.37 & 5.28 & 5.08 & 4.62 & 4.16 & 3.96 & $\\dots$ \\\\\n",
       "\t8 & 07/31/2024 & 5.49 & 5.51 & 5.41 & 5.32 & 5.14 & 4.73 & 4.29 & 4.1 & $\\dots$ \\\\\n",
       "\t9 & 07/30/2024 & 5.5 & 5.5 & 5.4 & 5.35 & 5.16 & 4.78 & 4.35 & 4.16 & $\\dots$ \\\\\n",
       "\t10 & 07/29/2024 & 5.5 & 5.51 & 5.41 & 5.36 & 5.18 & 4.79 & 4.36 & 4.19 & $\\dots$ \\\\\n",
       "\t11 & 07/26/2024 & 5.49 & 5.51 & 5.38 & 5.36 & 5.18 & 4.79 & 4.36 & 4.2 & $\\dots$ \\\\\n",
       "\t12 & 07/25/2024 & 5.49 & 5.52 & 5.39 & 5.37 & 5.19 & 4.83 & 4.41 & 4.26 & $\\dots$ \\\\\n",
       "\t13 & 07/24/2024 & 5.5 & 5.5 & 5.4 & 5.37 & 5.19 & 4.82 & 4.37 & 4.24 & $\\dots$ \\\\\n",
       "\t14 & 07/23/2024 & 5.49 & 5.51 & 5.41 & 5.38 & 5.22 & 4.85 & 4.4 & 4.26 & $\\dots$ \\\\\n",
       "\t15 & 07/22/2024 & 5.49 & 5.51 & 5.43 & 5.39 & 5.24 & 4.88 & 4.5 & 4.29 & $\\dots$ \\\\\n",
       "\t16 & 07/19/2024 & 5.48 & 5.52 & 5.43 & 5.39 & 5.24 & 4.87 & 4.49 & 4.28 & $\\dots$ \\\\\n",
       "\t17 & 07/18/2024 & 5.48 & 5.52 & 5.43 & 5.4 & 5.23 & 4.86 & 4.46 & 4.24 & $\\dots$ \\\\\n",
       "\t18 & 07/17/2024 & 5.47 & 5.5 & 5.43 & 5.4 & 5.23 & 4.85 & 4.42 & 4.19 & $\\dots$ \\\\\n",
       "\t19 & 07/16/2024 & 5.48 & 5.5 & 5.43 & 5.4 & 5.23 & 4.85 & 4.43 & 4.21 & $\\dots$ \\\\\n",
       "\t20 & 07/15/2024 & 5.48 & 5.51 & 5.43 & 5.4 & 5.23 & 4.85 & 4.44 & 4.23 & $\\dots$ \\\\\n",
       "\t21 & 07/12/2024 & 5.47 & 5.52 & 5.43 & 5.41 & 5.23 & 4.87 & 4.45 & 4.22 & $\\dots$ \\\\\n",
       "\t22 & 07/11/2024 & 5.48 & 5.53 & 5.44 & 5.41 & 5.25 & 4.91 & 4.5 & 4.26 & $\\dots$ \\\\\n",
       "\t23 & 07/10/2024 & 5.46 & 5.5 & 5.46 & 5.46 & 5.33 & 5.01 & 4.62 & 4.38 & $\\dots$ \\\\\n",
       "\t24 & 07/09/2024 & 5.45 & 5.51 & 5.46 & 5.46 & 5.34 & 5.02 & 4.62 & 4.37 & $\\dots$ \\\\\n",
       "\t25 & 07/08/2024 & 5.48 & 5.53 & 5.46 & 5.46 & 5.33 & 4.99 & 4.62 & 4.4 & $\\dots$ \\\\\n",
       "\t26 & 07/05/2024 & 5.48 & 5.53 & 5.46 & 5.46 & 5.34 & 4.98 & 4.6 & 4.39 & $\\dots$ \\\\\n",
       "\t27 & 07/03/2024 & 5.49 & 5.54 & 5.47 & 5.47 & 5.36 & 5.04 & 4.71 & 4.48 & $\\dots$ \\\\\n",
       "\t28 & 07/02/2024 & 5.48 & 5.47 & 5.47 & 5.44 & 5.36 & 5.07 & 4.74 & 4.54 & $\\dots$ \\\\\n",
       "\t29 & 07/01/2024 & 5.48 & 5.48 & 5.47 & 5.45 & 5.37 & 5.1 & 4.77 & 4.58 & $\\dots$ \\\\\n",
       "\t30 & 06/28/2024 & 5.47 & 5.47 & 5.48 & 5.45 & 5.33 & 5.09 & 4.71 & 4.52 & $\\dots$ \\\\\n",
       "\t$\\dots$ & $\\dots$ & $\\dots$ & $\\dots$ & $\\dots$ & $\\dots$ & $\\dots$ & $\\dots$ & $\\dots$ & $\\dots$ &  \\\\\n",
       "\\end{tabular}\n"
      ],
      "text/plain": [
       "\u001b[1m153×14 DataFrame\u001b[0m\n",
       "\u001b[1m Row \u001b[0m│\u001b[1m Date       \u001b[0m\u001b[1m 1 Mo    \u001b[0m\u001b[1m 2 Mo    \u001b[0m\u001b[1m 3 Mo    \u001b[0m\u001b[1m 4 Mo    \u001b[0m\u001b[1m 6 Mo    \u001b[0m\u001b[1m 1 Yr    \u001b[0m\u001b[1m 2 Yr \u001b[0m ⋯\n",
       "     │\u001b[90m String15   \u001b[0m\u001b[90m Float64 \u001b[0m\u001b[90m Float64 \u001b[0m\u001b[90m Float64 \u001b[0m\u001b[90m Float64 \u001b[0m\u001b[90m Float64 \u001b[0m\u001b[90m Float64 \u001b[0m\u001b[90m Float\u001b[0m ⋯\n",
       "─────┼──────────────────────────────────────────────────────────────────────────\n",
       "   1 │ 08/09/2024     5.54     5.4      5.33     5.22     5.02     4.5      4. ⋯\n",
       "   2 │ 08/08/2024     5.55     5.42     5.34     5.21     5.01     4.48     4.\n",
       "   3 │ 08/07/2024     5.5      5.43     5.34     5.21     4.99     4.45     4.\n",
       "   4 │ 08/06/2024     5.5      5.43     5.34     5.18     5.0      4.46     3.\n",
       "   5 │ 08/05/2024     5.52     5.43     5.35     5.14     4.91     4.34     3. ⋯\n",
       "   6 │ 08/02/2024     5.54     5.43     5.29     5.14     4.88     4.33     3.\n",
       "   7 │ 08/01/2024     5.55     5.46     5.37     5.28     5.08     4.62     4.\n",
       "   8 │ 07/31/2024     5.49     5.51     5.41     5.32     5.14     4.73     4.\n",
       "   9 │ 07/30/2024     5.5      5.5      5.4      5.35     5.16     4.78     4. ⋯\n",
       "  10 │ 07/29/2024     5.5      5.51     5.41     5.36     5.18     4.79     4.\n",
       "  11 │ 07/26/2024     5.49     5.51     5.38     5.36     5.18     4.79     4.\n",
       "  ⋮  │     ⋮          ⋮        ⋮        ⋮        ⋮        ⋮        ⋮        ⋮  ⋱\n",
       " 144 │ 01/16/2024     5.54     5.47     5.45     5.37     5.18     4.7      4.\n",
       " 145 │ 01/12/2024     5.55     5.47     5.45     5.37     5.16     4.65     4. ⋯\n",
       " 146 │ 01/11/2024     5.54     5.47     5.46     5.38     5.22     4.75     4.\n",
       " 147 │ 01/10/2024     5.53     5.46     5.46     5.39     5.23     4.82     4.\n",
       " 148 │ 01/09/2024     5.53     5.46     5.47     5.38     5.24     4.82     4.\n",
       " 149 │ 01/08/2024     5.54     5.48     5.49     5.39     5.24     4.82     4. ⋯\n",
       " 150 │ 01/05/2024     5.54     5.48     5.47     5.41     5.24     4.84     4.\n",
       " 151 │ 01/04/2024     5.56     5.48     5.48     5.41     5.25     4.85     4.\n",
       " 152 │ 01/03/2024     5.54     5.54     5.48     5.41     5.25     4.81     4.\n",
       " 153 │ 01/02/2024     5.55     5.54     5.46     5.41     5.24     4.8      4. ⋯\n",
       "\u001b[36m                                                  7 columns and 132 rows omitted\u001b[0m"
      ]
     },
     "execution_count": 111,
     "metadata": {},
     "output_type": "execute_result"
    }
   ],
   "source": [
    "par_yield_curve_dataset = CSV.read(joinpath(_PATH_TO_DATA, \"UST-Daily-ParYieldCurveRates-08-11-2024.csv\"), DataFrame)"
   ]
  },
  {
   "cell_type": "markdown",
   "id": "1236a2b6-721f-4572-b7c2-438050f34bd2",
   "metadata": {},
   "source": [
    "## Task 1: Which yield curve should we be looking at?\n",
    "The [United States Treasury](https://home.treasury.gov/policy-issues/financing-the-government/interest-rate-statistics) reports multiple types of interest rate statistics each business day, for example:\n",
    "* The [Par Yield Curve Rates](https://home.treasury.gov/policy-issues/financing-the-government/interest-rate-statistics) is based on the closing market bid prices on the most recently auctioned Treasury securities in the over-the-counter market. The par yields are derived from input market prices, which are indicative quotations obtained by the [Federal Reserve Bank of New York at approximately 3:30 PM each business day](https://www.newyorkfed.org/data-and-statistics). For information on how the Treasury’s yield curve is derived, visit [the Treasury Yield Curve Methodology page](https://home.treasury.gov/policy-issues/financing-the-government/interest-rate-statistics/treasury-yield-curve-methodology).\n",
    "* The [Daily Treasury Par Real Yield Curve Rates](https://home.treasury.gov/policy-issues/financing-the-government/interest-rate-statistics), which relates the par real yield on a [Treasury Inflation Protected Security (TIPS)](https://www.treasurydirect.gov/marketable-securities/tips/) to its time to maturity, is based on the closing market bid prices on the most recently auctioned TIPS in the over-the-counter market. The par yields are derived from input market prices, which are indicative quotations obtained by the [Federal Reserve Bank of New York at approximately 3:30 PM each business day](https://www.newyorkfed.org/data-and-statistics).\n",
    "* The [Daily Treasury Bill Rates](https://home.treasury.gov/policy-issues/financing-the-government/interest-rate-statistics) are indicative closing market bid quotations on the most recently auctioned Treasury Bills in the over-the-counter market as obtained by the [Federal Reserve Bank of New York at approximately 3:30 PM each business day](https://www.newyorkfed.org/data-and-statistics).\n",
    "\n",
    "Let's explore [the Par Yield Curve Rates](https://home.treasury.gov/policy-issues/financing-the-government/interest-rate-statistics) and try to understand what it is saying."
   ]
  },
  {
   "cell_type": "markdown",
   "id": "08690a53-8187-43ae-adb9-04587dca0bc5",
   "metadata": {},
   "source": [
    "### TODO: Let's explore the Par-yield curve\n",
    "__Claim__: When the effective discount rate $\\bar{r}$ equals the coupon rate $\\bar{c}$, a coupon note (or bond) will trade at it's par value, i.e., $V_{P} = V_{B}$ for all maturities. Let's test this out by constructing [a `MyUSTreasuryCouponSecurityModel` instance](https://varnerlab.github.io/VLQuantitativeFinancePackage.jl/dev/fixed/#VLQuantitativeFinancePackage.MyUSTreasuryCouponSecurityModel) with some typical parameters, and show this claim is valid. Start by setting some typical parameter values:"
   ]
  },
  {
   "cell_type": "code",
   "execution_count": 174,
   "id": "8c7b4371-5861-4171-b9a9-6339292f1fb8",
   "metadata": {},
   "outputs": [],
   "source": [
    "Vₚ = 100.0; # par value for the note/bond\n",
    "r̄ = 0.05;\n",
    "c̄ = 0.05;\n",
    "T = 10.0;\n",
    "λ = 2;"
   ]
  },
  {
   "cell_type": "markdown",
   "id": "2edaafe8-db9c-4ea2-9e02-c5ab3c9cdde7",
   "metadata": {},
   "source": [
    "Then construct [a `MyUSTreasuryCouponSecurityModel` instance](https://varnerlab.github.io/VLQuantitativeFinancePackage.jl/dev/fixed/#VLQuantitativeFinancePackage.MyUSTreasuryCouponSecurityModel) by passing the type we want to build, i.e., [`MyUSTreasuryCouponSecurityModel`](https://varnerlab.github.io/VLQuantitativeFinancePackage.jl/dev/fixed/#VLQuantitativeFinancePackage.MyUSTreasuryCouponSecurityModel) and some typical data for the `par` value, the discount `rate,` the `coupon` rate, the duration `T` (years) and the number of compounding events per year `λ = 2` into a [custom `build(...)` method](https://varnerlab.github.io/VLQuantitativeFinancePackage.jl/dev/fixed/#VLQuantitativeFinancePackage.build-Tuple{Type{MyUSTreasuryCouponSecurityModel},%20NamedTuple}). We save this as the `my_treasury_security_model::MyUSTreasuryCouponSecurityModel` variable.\n",
    "* We compute (and populate on the model instance) the `price` and other data fields, such as the cashflow table, for the `my_treasury_security_model::MyUSTreasuryCouponSecurityModel` by passing this model to the `discount_model` using the [built-in Julia pipe `|>` operator](https://docs.julialang.org/en/v1/manual/functions/#Function-composition-and-piping)."
   ]
  },
  {
   "cell_type": "code",
   "execution_count": 176,
   "id": "c628e503-7929-4c1e-a045-92804b212c12",
   "metadata": {},
   "outputs": [],
   "source": [
    "my_treasury_security_model = build(MyUSTreasuryCouponSecurityModel, (\n",
    "    par = Vₚ,\n",
    "    rate = r̄,\n",
    "    coupon = c̄,\n",
    "    T = T,\n",
    "    λ = λ\n",
    ")) |> discount_model;"
   ]
  },
  {
   "cell_type": "markdown",
   "id": "e02bbe7f-3e93-495f-97b3-ce963ba6f30e",
   "metadata": {},
   "source": [
    "Finally, use the [Julia @assert macro](https://docs.julialang.org/en/v1/base/base/#Base.@assert) to verify the claim. If the claim is false, i.e., $V_{P} \\neq V_{B}$ when $\\bar{r} = \\bar{c}$, an [`AssertionError` type is thrown](https://docs.julialang.org/en/v1/base/base/#Core.AssertionError). We use the [Julia `issapprox(...)` method to check for equality](https://docs.julialang.org/en/v1/base/math/#Base.isapprox)"
   ]
  },
  {
   "cell_type": "code",
   "execution_count": 178,
   "id": "9e22a3ee-cc07-4c8a-8bd1-432282656b45",
   "metadata": {},
   "outputs": [],
   "source": [
    "@assert isapprox(my_treasury_security_model.price, Vₚ, rtol=1e-6) # checks equality to `rtol` value"
   ]
  },
  {
   "cell_type": "markdown",
   "id": "9b2dea84-e818-41b3-86a1-886a8a6a9039",
   "metadata": {},
   "source": [
    "### TODO: Backout Treasury Prices from the Par Yield Curve Data\n",
    "Fill me in"
   ]
  },
  {
   "cell_type": "code",
   "execution_count": 145,
   "id": "4f35f909-3278-4173-95a5-34ed97182718",
   "metadata": {},
   "outputs": [
    {
     "data": {
      "text/plain": [
       "Dict{String, Float64} with 13 entries:\n",
       "  \"3 Mo\"  => 0.25\n",
       "  \"20 Yr\" => 20.0\n",
       "  \"30 Yr\" => 30.0\n",
       "  \"6 Mo\"  => 0.5\n",
       "  \"1 Yr\"  => 1.0\n",
       "  \"2 Mo\"  => 0.166667\n",
       "  \"10 Yr\" => 10.0\n",
       "  \"5 Yr\"  => 5.0\n",
       "  \"2 Yr\"  => 2.0\n",
       "  \"4 Mo\"  => 0.333333\n",
       "  \"1 Mo\"  => 0.0833333\n",
       "  \"7 Yr\"  => 7.0\n",
       "  \"3 Yr\"  => 3.0"
      ]
     },
     "execution_count": 145,
     "metadata": {},
     "output_type": "execute_result"
    }
   ],
   "source": [
    "maturity_conversion_dict = Dict{String, Float64}();\n",
    "basis = 12; # assume a 12-month year\n",
    "list_of_columns = names(par_yield_curve_dataset)\n",
    "for column ∈ list_of_columns \n",
    "    if (column != \"Date\")\n",
    "\n",
    "        # split around the space, and convert to appropriate type\n",
    "        maturity_fragments = split(column, \" \"); # split around the space\n",
    "        duration = maturity_fragments |> first |> string |> x-> parse(Float64, x);\n",
    "        unit = maturity_fragments |> last;\n",
    "\n",
    "        # assume: default is years, correct if we have months\n",
    "        maturity_conversion_dict[column] = duration;\n",
    "        if (unit == \"Mo\")\n",
    "            maturity_conversion_dict[column] = (duration/basis);    \n",
    "        end\n",
    "    end\n",
    "end\n",
    "maturity_conversion_dict"
   ]
  },
  {
   "cell_type": "code",
   "execution_count": 158,
   "id": "dd1c3447-6459-4a43-a611-6b9441f39676",
   "metadata": {},
   "outputs": [
    {
     "data": {
      "text/plain": [
       "153×13 Matrix{Float64}:\n",
       " 0.0  0.0  0.0  100.0  100.0  100.0  …  100.0  100.0  100.0  100.0  100.0\n",
       " 0.0  0.0  0.0  100.0  100.0  100.0     100.0  100.0  100.0  100.0  100.0\n",
       " 0.0  0.0  0.0  100.0  100.0  100.0     100.0  100.0  100.0  100.0  100.0\n",
       " 0.0  0.0  0.0  100.0  100.0  100.0     100.0  100.0  100.0  100.0  100.0\n",
       " 0.0  0.0  0.0  100.0  100.0  100.0     100.0  100.0  100.0  100.0  100.0\n",
       " 0.0  0.0  0.0  100.0  100.0  100.0  …  100.0  100.0  100.0  100.0  100.0\n",
       " 0.0  0.0  0.0  100.0  100.0  100.0     100.0  100.0  100.0  100.0  100.0\n",
       " 0.0  0.0  0.0  100.0  100.0  100.0     100.0  100.0  100.0  100.0  100.0\n",
       " 0.0  0.0  0.0  100.0  100.0  100.0     100.0  100.0  100.0  100.0  100.0\n",
       " 0.0  0.0  0.0  100.0  100.0  100.0     100.0  100.0  100.0  100.0  100.0\n",
       " 0.0  0.0  0.0  100.0  100.0  100.0  …  100.0  100.0  100.0  100.0  100.0\n",
       " 0.0  0.0  0.0  100.0  100.0  100.0     100.0  100.0  100.0  100.0  100.0\n",
       " 0.0  0.0  0.0  100.0  100.0  100.0     100.0  100.0  100.0  100.0  100.0\n",
       " ⋮                              ⋮    ⋱                  ⋮           \n",
       " 0.0  0.0  0.0  100.0  100.0  100.0     100.0  100.0  100.0  100.0  100.0\n",
       " 0.0  0.0  0.0  100.0  100.0  100.0     100.0  100.0  100.0  100.0  100.0\n",
       " 0.0  0.0  0.0  100.0  100.0  100.0     100.0  100.0  100.0  100.0  100.0\n",
       " 0.0  0.0  0.0  100.0  100.0  100.0     100.0  100.0  100.0  100.0  100.0\n",
       " 0.0  0.0  0.0  100.0  100.0  100.0  …  100.0  100.0  100.0  100.0  100.0\n",
       " 0.0  0.0  0.0  100.0  100.0  100.0     100.0  100.0  100.0  100.0  100.0\n",
       " 0.0  0.0  0.0  100.0  100.0  100.0     100.0  100.0  100.0  100.0  100.0\n",
       " 0.0  0.0  0.0  100.0  100.0  100.0     100.0  100.0  100.0  100.0  100.0\n",
       " 0.0  0.0  0.0  100.0  100.0  100.0     100.0  100.0  100.0  100.0  100.0\n",
       " 0.0  0.0  0.0  100.0  100.0  100.0  …  100.0  100.0  100.0  100.0  100.0\n",
       " 0.0  0.0  0.0  100.0  100.0  100.0     100.0  100.0  100.0  100.0  100.0\n",
       " 0.0  0.0  0.0  100.0  100.0  100.0     100.0  100.0  100.0  100.0  100.0"
      ]
     },
     "execution_count": 158,
     "metadata": {},
     "output_type": "execute_result"
    }
   ],
   "source": [
    "number_of_dates = nrow(par_yield_curve_dataset);\n",
    "number_of_columns = names(par_yield_curve_dataset) |> length\n",
    "reverse_price_array = Array{Float64,2}(undef, number_of_dates, number_of_columns - 1);\n",
    "for i ∈ 1:number_of_dates\n",
    "    for j ∈ 2:number_of_columns\n",
    "\n",
    "        column = list_of_columns[j];\n",
    "        r̄ = par_yield_curve_dataset[i, column];\n",
    "        c̄ = r̄\n",
    "        my_treasury_security_model.T = column |> key -> maturity_conversion_dict[key];        \n",
    "        reverse_price_array[i,j-1] = my_treasury_security_model |> discount_model |> model -> model.price\n",
    "\n",
    "        @show \n",
    "    end\n",
    "end\n",
    "reverse_price_array"
   ]
  },
  {
   "cell_type": "markdown",
   "id": "ca42e058-9360-4311-98bb-90e13dfaf90e",
   "metadata": {},
   "source": [
    "## Task 2: Let's compute and analyze our own recession indicator\n",
    "Fill me in"
   ]
  },
  {
   "cell_type": "markdown",
   "id": "96137602-b008-43a0-bf07-268ca0b7e5ce",
   "metadata": {},
   "source": [
    "## Disclaimer and Risks\n",
    "__This content is offered solely for training and informational purposes__. No offer or solicitation to buy or sell securities or derivative products or any investment or trading advice or strategy is made, given, or endorsed by the teaching team. \n",
    "\n",
    "__Trading involves risk__. Carefully review your financial situation before investing in securities, futures contracts, options, or commodity interests. Past performance, whether actual or indicated by historical tests of strategies, is no guarantee of future performance or success. Trading is generally inappropriate for someone with limited resources, investment or trading experience, or a low-risk tolerance.  Only risk capital that is not required for living expenses.\n",
    "\n",
    "__You are fully responsible for any investment or trading decisions you make__. Such decisions should be based solely on evaluating your financial circumstances, investment or trading objectives, risk tolerance, and liquidity needs."
   ]
  }
 ],
 "metadata": {
  "kernelspec": {
   "display_name": "Julia 1.10.4",
   "language": "julia",
   "name": "julia-1.10"
  },
  "language_info": {
   "file_extension": ".jl",
   "mimetype": "application/julia",
   "name": "julia",
   "version": "1.10.4"
  }
 },
 "nbformat": 4,
 "nbformat_minor": 5
}
