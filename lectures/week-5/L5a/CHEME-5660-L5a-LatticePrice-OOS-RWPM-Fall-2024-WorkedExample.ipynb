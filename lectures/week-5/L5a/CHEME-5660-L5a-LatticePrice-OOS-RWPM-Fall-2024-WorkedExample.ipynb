{
 "cells": [
  {
   "cell_type": "markdown",
   "id": "6dfd4f64-bcb4-4ae4-8def-c15e574cae40",
   "metadata": {},
   "source": [
    "# Bonus Example: Out-of-Sample Share Price Simulation using a Real-World Binomial Lattice\n",
    "Fill me in"
   ]
  },
  {
   "cell_type": "markdown",
   "id": "ff5aab89-a6c9-4537-a1ec-2e709b447d6e",
   "metadata": {},
   "source": [
    "## Setup\n",
    "We set up the computational environment by including [the `Include.jl` file](Include.jl). The [`Include.jl` file](Include.jl) loads external packages, various functions that we will use in the exercise, and custom types to model the components of our example problem.\n",
    "* See the [Julia programming language documentation](https://docs.julialang.org/en/v1/) and the [VLQuantitativeFinancePackage.jl documentation](https://github.com/varnerlab/VLQuantitativeFinancePackage.jl) for additional information on functions and types used in this material. "
   ]
  },
  {
   "cell_type": "code",
   "execution_count": 9,
   "id": "96babc62-c28a-4041-9cc2-11d460326f21",
   "metadata": {},
   "outputs": [],
   "source": [
    "include(\"Include.jl\");"
   ]
  },
  {
   "cell_type": "markdown",
   "id": "0b32603e-0cd0-483e-9d40-0bdf15a1d54c",
   "metadata": {},
   "source": [
    "## Prerequisites: Load and clean the historical dataset\n",
    "We gathered a daily open-high-low-close `dataset` for each firm in the [S&P500](https://en.wikipedia.org/wiki/S%26P_500) from `01-03-2024` until yesterday `09-23-24` close, along with data for a few exchange-traded funds and volatility products during that time. We load the `prediction_dataset` by calling the `MyOutOfSampleMarketDataSet()` function:"
   ]
  },
  {
   "cell_type": "code",
   "execution_count": null,
   "id": "2d677406-4c4b-482b-803e-20d802375619",
   "metadata": {},
   "outputs": [],
   "source": [
    "prediction_dataset = MyOutOfSampleMarketDataSet() |> x-> x[\"dataset\"];"
   ]
  },
  {
   "cell_type": "markdown",
   "id": "40fe3260-bd88-426f-8103-9e66653ada3b",
   "metadata": {},
   "source": [
    "Next, let's get a list of firms in the `prediction_dataset,` and save it in the `list_of_all_tickers::String` array"
   ]
  },
  {
   "cell_type": "code",
   "execution_count": null,
   "id": "02b5a071-99ee-4b6d-a662-5ee86b5b90c0",
   "metadata": {},
   "outputs": [],
   "source": [
    "list_of_all_tickers = keys(prediction_dataset) |> collect |> sort;"
   ]
  },
  {
   "cell_type": "markdown",
   "id": "bdd4249e-838d-4e4d-82e9-1732e8b8717b",
   "metadata": {},
   "source": [
    "## Disclaimer and Risks\n",
    "__This content is offered solely for training and informational purposes__. No offer or solicitation to buy or sell securities or derivative products or any investment or trading advice or strategy is made, given, or endorsed by the teaching team. \n",
    "\n",
    "__Trading involves risk__. Carefully review your financial situation before investing in securities, futures contracts, options, or commodity interests. Past performance, whether actual or indicated by historical tests of strategies, is no guarantee of future performance or success. Trading is generally inappropriate for someone with limited resources, investment or trading experience, or a low-risk tolerance.  Only risk capital that is not required for living expenses.\n",
    "\n",
    "__You are fully responsible for any investment or trading decisions you make__. Such decisions should be based solely on evaluating your financial circumstances, investment or trading objectives, risk tolerance, and liquidity needs."
   ]
  },
  {
   "cell_type": "code",
   "execution_count": null,
   "id": "7b549a59-75bc-4f06-93c5-f1ff9ee375dc",
   "metadata": {},
   "outputs": [],
   "source": []
  }
 ],
 "metadata": {
  "kernelspec": {
   "display_name": "Julia 1.10.5",
   "language": "julia",
   "name": "julia-1.10"
  },
  "language_info": {
   "file_extension": ".jl",
   "mimetype": "application/julia",
   "name": "julia",
   "version": "1.10.5"
  }
 },
 "nbformat": 4,
 "nbformat_minor": 5
}
