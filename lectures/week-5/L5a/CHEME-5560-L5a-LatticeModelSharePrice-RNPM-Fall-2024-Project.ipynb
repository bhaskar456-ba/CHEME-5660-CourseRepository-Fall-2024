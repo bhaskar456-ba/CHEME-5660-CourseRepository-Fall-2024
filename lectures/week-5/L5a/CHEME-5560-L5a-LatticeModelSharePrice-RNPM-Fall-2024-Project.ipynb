{
 "cells": [
  {
   "cell_type": "markdown",
   "id": "d168510f-d735-40f2-bffc-195b1d42c79b",
   "metadata": {
    "tags": []
   },
   "source": [
    "# Project: Developing a Binomial NPV-based Equity Trade Rule and Risk-Neutral Probability\n",
    "Let's use the binomial lattice model to compute the probability that we'll at least break even on an equity trade. At time $t$, the binomial lattice model predicts the share price $S_{t}$ is governed by:\n",
    "\n",
    "$$\n",
    "\\begin{equation*}\n",
    "S_{t} = S_{\\circ}\\cdot{u}^{t-k}\\cdot{d}^{k}\\qquad\\text{for}\\quad{k=0,1,\\dots,t}\n",
    "\\end{equation*}\n",
    "$$\n",
    "\n",
    "where $S_{\\circ}$ is the initial share price at time $t_{\\circ}$, $u$ is the $\\texttt{up}$ factor, \n",
    "and $d$ is the $\\texttt{down}$ factor. The probability that share price takes on a particular value at time $t$ is given by:\n",
    "\n",
    "$$\n",
    "\\begin{equation*}\n",
    "P(S_{t} = S_{\\circ}\\cdot{u}^{t-k}\\cdot{d}^{k}) = \\binom{t}{k}\\cdot{(1-p)}^{k}\\cdot{p}^{t-k}\\qquad\\text{for}\\quad{k=0,1,\\dots,t}\n",
    "\\end{equation*}\n",
    "$$\n",
    "\n",
    "where $p$ is the probability of an $\\texttt{up}$ move, and $1-p$ is the probability of a $\\texttt{down}$ move. \n",
    "\n",
    "### NPV Trade rule\n",
    "Putting this together with our _short-term trade rule_ (where we have assumed a negligible discount $\\mathcal{D}_{t,0}(\\bar{r})\\simeq{1}$) gives a value for the distribution of scaled Net Present Values (NPVs), i.e., a restatement of the fractional return at time `t`:\n",
    "\n",
    "$$\n",
    "\\begin{equation*}\n",
    "\\frac{\\text{NPV}_{t}}{n_{\\circ}S_{\\circ}}\\in\\left\\{u^{t-k}\\cdot{d}^{k} - 1\\right\\}_{k=0}^{k=t}\n",
    "\\end{equation*}\n",
    "$$\n",
    "\n",
    "Thus, to compute the probability that we at least breakeven `t` trading days in the future on an equity trade, we'll compute the [cumalitive distribution](https://en.wikipedia.org/wiki/Cumulative_distribution_function) of the fractional return from which we can calculate the probability of `NPV_{t} = 0`, i.e., $P(X\\leq{0})$.\n",
    "\n",
    "## Learning objectives\n",
    "This project will help students construct binomial lattice simulations of future share prices to compute a successful trade's physical and risk-neutral probability. Toward this goal, we will:\n",
    "* __Prerequisites__: Load the historical dataset. We'll explore daily open-high-low-close values for firms in the [S&P500 index](https://en.wikipedia.org/wiki/S%26P_500) from `01-03-2018` to `12-29-2023`.\n",
    "* __Task 1__: Compute the lattice parameters $(u,d,p)$ for all tickers in our price dataset\n",
    "    * `TODO`: Estimate `real-world` lattice model parameters\n",
    "    * `TODO`: Estimate `risk-neutral` lattice model parameters\n",
    "    * `Discussion`: Compare real-world and risk-neutral probabilities. What do differences in these probability measures mean?\n",
    "* __Task 2__: Manually compute the price and probability values for the leaves of a binomial tree using the analytical expression\n",
    "    * `Check`: Compare the analytical price and probability calculations versus those from the [VLQuantitativeFinancePackage.jl package](https://github.com/varnerlab/VLQuantitativeFinancePackage.jl.git)\n",
    "* __Task 3__: Compute the Probability of Profit of an equity trade via sampling\n",
    "    * `TODO`: Estimate the cumulative distribution of the equity fractional return\n",
    "    * `TODO`: Visualize the cumulative distribution function\n",
    "    * `TODO`: Compute the probability of a particular return\n",
    "        * `Discussion`: How do the choice of `ticker` and the time we hold the shares influence the `breakeven` probability? "
   ]
  },
  {
   "cell_type": "markdown",
   "id": "64921bef-7ced-42e3-92a4-c755ed810ae4",
   "metadata": {
    "jp-MarkdownHeadingCollapsed": true
   },
   "source": [
    "## Setup\n",
    "We set up the computational environment by including the `Include.jl` file. The `Include.jl` file loads external packages, various functions we will use in the exercise, and custom types to model the components of our example problem."
   ]
  },
  {
   "cell_type": "code",
   "execution_count": 3,
   "id": "9b27bb01-d23d-4f68-94d9-0be520a28573",
   "metadata": {
    "tags": []
   },
   "outputs": [],
   "source": [
    "include(\"Include.jl\");"
   ]
  },
  {
   "cell_type": "markdown",
   "id": "7acdcbca-0b93-40f3-9dee-4112f33a46f9",
   "metadata": {},
   "source": [
    "### Packages\n",
    "The `Include.jl` file loads several packages that we use for our exercises:\n",
    "* [Dates. jl](https://docs.julialang.org/en/v1/stdlib/Dates/#Dates)  is a package included with the standard library that provides basic working date functionality.\n",
    "* [DataFrames.jl](https://dataframes.juliadata.org/stable/) and [CSV.jl](https://github.com/JuliaData/CSV.jl) provide a set of tools for working with tabular data in [Julia](https://julialang.org). Its design and functionality are similar to those of [Pandas (in Python)](https://pandas.pydata.org) and [data.frame, data.table, and dplyr (in R)](https://dplyr.tidyverse.org), making it an excellent general-purpose data science tool.\n",
    "* [Distributions.jl](https://github.com/JuliaStats/Distributions.jl) is a [Julia](https://julialang.org) package for probability distributions and associated functions.\n",
    "* [PrettyTables.jl](https://ronisbr.github.io/PrettyTables.jl/stable/man/html_backend/) is a [Julia](https://julialang.org) package that implements functions to construct and display text-based tables\n",
    "* [Plots.jl](https://docs.juliaplots.org/stable/) is a plotting library, and [Colors.jl](https://github.com/JuliaGraphics/Colors.jl) is a color library that we'll use for data visualization in [Julia](https://julialang.org).\n",
    "* [LinearAlgebra.jl](https://github.com/JuliaLang/LinearAlgebra.jl) is a package that provides functionality for working with linear algebra in [Julia](https://julialang.org).\n",
    "* [Statistics.jl](https://docs.julialang.org/en/v1/stdlib/Statistics/#Statistics) is a package with the standard library module containing basic statistics functionality.\n",
    "\n",
    "### Types\n",
    "`Include. jl` loads some [problem-specific types](https://docs.julialang.org/en/v1/manual/types/#Composite-Types) that will be helpful for the lattice model simulation of equity share prices:\n",
    "\n",
    "The `MyBinomialEquityPriceTree` encodes the lattice model and has the fields:\n",
    "    \n",
    "* The `connectivity::Union{Nothing, Dict{Int64, Array{Int64,1}}}` field holds the indexes of the children for each parent node of the tree.\n",
    "* The `levels::Union{Nothing, Dict{Int64, Array{Int64,1}}}` field holds indexes of nodes that belong to each level of the tree, i.e., a trading day.\n",
    "* The `u::Float64` field holds the value of the `up` factor\n",
    "* The `d::Float64` field holds the value of the `down` factor\n",
    "* The `p::Float64` field holds the value of the probability of an `up` move.\n",
    "* The `data::Union{Nothing, Dict{Int64, MyBiomialLatticeEquityNodeModel}}` holds each node in the tree; nodes are of type `MyBiomialLatticeEquityNodeModel`\n",
    "\n",
    "Each node in the tree is a `MyBiomialLatticeEquityNodeModel` type, which has two important fields:\n",
    "* The `price::Float64` field holds the price value for a node\n",
    "* The `probability::Float64` field holds the probability value associated with this node\n",
    "\n",
    "### Functions\n",
    "`Include.jl` loads the following [Julia functions](https://docs.julialang.org/en/v1/manual/functions/):\n",
    "\n",
    "`MyPortfolioDataSet() |> x-> x[\"dataset\"] -> DataFrame` \n",
    " > This function loads historical share price data. The historical share price data is returned to the caller as a Dictionary of [DataFrames](https://dataframes.juliadata.org/stable/) with the fields: `volume,` `volume_weighted_average_price,` `open,` `close,` `high,` and `low,number_of_transactions`. The `keys` of the Dictionary are `firm_id` values.\n",
    " \n",
    "`function analyze(R::Array{Float64,1};  Δt::Float64 = (1.0/252.0)) -> Tuple{Float64,Float64,Float64}`\n",
    "> The `analyze(...)` function takes an array of logarithmic return values in the `R` argument and a value of the time-step size of the simulation in the $\\Delta{t}$ parameter (default value of 1-day) and returns estimated values for the lattice model parameters $(u,d,p)$.  \n",
    "`function build(model::Type{MyBinomialEquityPriceTree}, data::NamedTuple) -> MyBinomialEquityPriceTree` \n",
    "> This function takes information in the `data` [NamedTuple](https://docs.julialang.org/en/v1/base/base/#Core.NamedTuple) argument (the $(u,d,p)$ values) and returns an instance of the `MyBinomialEquityPriceTree` [mutable type](https://docs.julialang.org/en/v1/manual/types/#Mutable-Composite-Types). Note: the `MyBinomialEquityPriceTree` returned from the `build(...)` function does not have price or probability information computed yet. Call the `populate(…)` function to populate this data.\n",
    "\n",
    "`function populate(model::MyBinomialEquityPriceTree, Sₒ::Float64, h::Int) -> MyBinomialEquityPriceTree`\n",
    "> The `populate(...)` function takes the `model::MyBinomialEquityPriceTree` instance returned from `build(...)`, a starting share price $S_{o}$ and the height of the tree, i.e., the number of time steps to simulate, and returns an updated `model::MyBinomialEquityPriceTree` instance with the price and probabilities computed for each node in the tree."
   ]
  },
  {
   "cell_type": "markdown",
   "id": "9697d754-25bd-4e1f-bc74-87911303b329",
   "metadata": {},
   "source": [
    "## Prerequisites: Load and clean the historical dataset\n",
    "We gathered a daily open-high-low-close `dataset` for each firm in the [S&P500](https://en.wikipedia.org/wiki/S%26P_500) from `01-03-2018` until `12-29-2023`, along with data for a few exchange-traded funds and volatility products during that time. We load the `orignal_dataset` by calling the `MyMarketDataSet()` function:"
   ]
  },
  {
   "cell_type": "code",
   "execution_count": 6,
   "id": "7ffffa92-7225-425d-ad4b-76bcc1405797",
   "metadata": {},
   "outputs": [],
   "source": [
    "original_dataset = MyMarketDataSet() |> x-> x[\"dataset\"];"
   ]
  },
  {
   "cell_type": "markdown",
   "id": "4e9a3663-1720-4775-83b5-3a84e1340fc4",
   "metadata": {},
   "source": [
    "### Clean the data\n",
    "Not all tickers in our dataset have the maximum number of trading days for various reasons, e.g., acquisition or de-listing events. Let's collect only those tickers with the maximum number of trading days.\n",
    "\n",
    "* First, let's compute the number of records for a company that we know has a maximum value, e.g., `AAPL`, and save that value in the `maximum_number_trading_days` variable:"
   ]
  },
  {
   "cell_type": "code",
   "execution_count": 8,
   "id": "32d25f68-cf29-4701-a40e-e9a49f99dbc2",
   "metadata": {},
   "outputs": [],
   "source": [
    "maximum_number_trading_days = original_dataset[\"AAPL\"] |> nrow;"
   ]
  },
  {
   "cell_type": "markdown",
   "id": "c35c5920-2067-4dd5-b3e0-4d023818135e",
   "metadata": {},
   "source": [
    "Now, let's iterate through our data and collect only those tickers with `maximum_number_trading_days` records. Save that data in the `dataset::Dict{String,DataFrame}` variable:"
   ]
  },
  {
   "cell_type": "code",
   "execution_count": 10,
   "id": "d2e648ec-9cfc-4618-81fe-1a0ce8bedcec",
   "metadata": {},
   "outputs": [
    {
     "data": {
      "text/plain": [
       "Dict{String, DataFrame} with 460 entries:\n",
       "  \"NI\"   => \u001b[1m1508×8 DataFrame\u001b[0m\u001b[0m…\n",
       "  \"EMR\"  => \u001b[1m1508×8 DataFrame\u001b[0m\u001b[0m…\n",
       "  \"CTAS\" => \u001b[1m1508×8 DataFrame\u001b[0m\u001b[0m…\n",
       "  \"HSIC\" => \u001b[1m1508×8 DataFrame\u001b[0m\u001b[0m…\n",
       "  \"KIM\"  => \u001b[1m1508×8 DataFrame\u001b[0m\u001b[0m…\n",
       "  \"PLD\"  => \u001b[1m1508×8 DataFrame\u001b[0m\u001b[0m…\n",
       "  \"IEX\"  => \u001b[1m1508×8 DataFrame\u001b[0m\u001b[0m…\n",
       "  \"BAC\"  => \u001b[1m1508×8 DataFrame\u001b[0m\u001b[0m…\n",
       "  \"CBOE\" => \u001b[1m1508×8 DataFrame\u001b[0m\u001b[0m…\n",
       "  \"EXR\"  => \u001b[1m1508×8 DataFrame\u001b[0m\u001b[0m…\n",
       "  \"NCLH\" => \u001b[1m1508×8 DataFrame\u001b[0m\u001b[0m…\n",
       "  \"CVS\"  => \u001b[1m1508×8 DataFrame\u001b[0m\u001b[0m…\n",
       "  \"DRI\"  => \u001b[1m1508×8 DataFrame\u001b[0m\u001b[0m…\n",
       "  \"DTE\"  => \u001b[1m1508×8 DataFrame\u001b[0m\u001b[0m…\n",
       "  \"ZION\" => \u001b[1m1508×8 DataFrame\u001b[0m\u001b[0m…\n",
       "  \"AVY\"  => \u001b[1m1508×8 DataFrame\u001b[0m\u001b[0m…\n",
       "  \"EW\"   => \u001b[1m1508×8 DataFrame\u001b[0m\u001b[0m…\n",
       "  \"EA\"   => \u001b[1m1508×8 DataFrame\u001b[0m\u001b[0m…\n",
       "  \"NWSA\" => \u001b[1m1508×8 DataFrame\u001b[0m\u001b[0m…\n",
       "  \"CAG\"  => \u001b[1m1508×8 DataFrame\u001b[0m\u001b[0m…\n",
       "  \"GPC\"  => \u001b[1m1508×8 DataFrame\u001b[0m\u001b[0m…\n",
       "  \"FCX\"  => \u001b[1m1508×8 DataFrame\u001b[0m\u001b[0m…\n",
       "  \"GILD\" => \u001b[1m1508×8 DataFrame\u001b[0m\u001b[0m…\n",
       "  \"UNP\"  => \u001b[1m1508×8 DataFrame\u001b[0m\u001b[0m…\n",
       "  \"CDW\"  => \u001b[1m1508×8 DataFrame\u001b[0m\u001b[0m…\n",
       "  ⋮      => ⋮"
      ]
     },
     "execution_count": 10,
     "metadata": {},
     "output_type": "execute_result"
    }
   ],
   "source": [
    "dataset = Dict{String,DataFrame}();\n",
    "for (ticker,data) ∈ original_dataset\n",
    "    if (nrow(data) == maximum_number_trading_days)\n",
    "        dataset[ticker] = data;\n",
    "    end\n",
    "end\n",
    "dataset"
   ]
  },
  {
   "cell_type": "markdown",
   "id": "43622ced-d906-47d2-8dd7-48ddf7c40e26",
   "metadata": {},
   "source": [
    "Next, let's get a list of firms that we have in the cleaned-up `dataset::Dict{String, DataFrame},` sort it alphabetically, and save it in the `list_of_all_tickers::Array{String,1}` array variable"
   ]
  },
  {
   "cell_type": "code",
   "execution_count": 12,
   "id": "0b708f02-1557-4088-a2da-68554d709721",
   "metadata": {},
   "outputs": [],
   "source": [
    "list_of_all_tickers = keys(dataset) |> collect |> sort;"
   ]
  },
  {
   "cell_type": "markdown",
   "id": "24d300f1-a096-48f5-acce-a92ec5ad44bd",
   "metadata": {},
   "source": [
    "Finally, let's set some constants we'll use later in this notebook. The comments describe the constants, the units, permissible values, etc."
   ]
  },
  {
   "cell_type": "code",
   "execution_count": 14,
   "id": "8a3f226f-5adf-41af-b4fe-81bfab914067",
   "metadata": {},
   "outputs": [],
   "source": [
    "Δt = (1.0/252); # step size: 1-trading day in units of years\n",
    "risk_free_rate = 0.0; # hypothetical continuously compounding risk-free rate"
   ]
  },
  {
   "cell_type": "markdown",
   "id": "85ee4143-2981-4635-9fcc-8f9e03e6a1d8",
   "metadata": {},
   "source": [
    "## Task 1: Estimate lattice parameters using a real-world and risk-neutral probability measure\n",
    "In this task, we'll use real-world and risk-neutral approaches to compute binomial lattice parameters. Now that we have loaded the data, we can calculate the number of `up` and `down` moves and the magnitude of these moves occurring in the dataset. To do this, we assume a share price model of the form:\n",
    "$$\n",
    "S_{j} = S_{j-1}\\cdot\\exp\\left(\\mu_{j,j-1}\\cdot\\Delta{t}\\right)\n",
    "$$\n",
    "where $\\mu_{j,j-1}$ denotes the _growth rate_ (units: 1/time) and $\\Delta{t}$ (units: time) denotes the time step during the period $(j-1)\\rightarrow{j}$. Solving for the return parameter $\\mu_{j,j-1}$ gives the expression:\n",
    "$$\n",
    "\\mu_{j,j-1} = \\left(\\frac{1}{\\Delta{t}}\\right)\\cdot\\ln\\left(\\frac{S_{j}}{S_{j-1}}\\right)\n",
    "$$\n",
    "We use daily data; thus, the natural time frame between $S_{j-1}$ and $S_{j}$ is a single day. However, it will be easier to use an annualized value for the $\\mu$ parameter; thus, we let $\\Delta{t} = 1/252$, i.e., the fraction of a year that occurs in a single trading day.\n",
    "* The [`log_growth_matrix(...)` method](https://varnerlab.github.io/VLQuantitativeFinancePackage.jl/dev/equity/#VLQuantitativeFinancePackage.log_growth_matrix) takes `dataset` $\\mathcal{D}$ and a list of firms $\\mathcal{L}$ and computes the growth rate values for each firm as a function of time. The data is returned as a $\\dim\\mathcal{D}_{i}\\times\\dim\\mathcal{L}$ array (time on the rows, firm $i$ on the columns). We store the data in the `log_growth_array::Array{Float64,2}` variable:"
   ]
  },
  {
   "cell_type": "code",
   "execution_count": 16,
   "id": "e0521817-5520-4fc6-8472-a209c8a28a28",
   "metadata": {},
   "outputs": [],
   "source": [
    "log_growth_array = log_growth_matrix(dataset, list_of_all_tickers);"
   ]
  },
  {
   "cell_type": "markdown",
   "id": "9063126c-c15d-4308-a34d-a49ef64ed7ca",
   "metadata": {},
   "source": [
    "### Estimate `real-world` lattice model parameters\n",
    "To estimate the $(u,d,p)$ parameters for a `real-world` probability measure, let's build an instance of [the `RealWorldBinomialProbabilityMeasure` type](https://varnerlab.github.io/VLQuantitativeFinancePackage.jl/dev/equity/#VLQuantitativeFinancePackage.RealWorldBinomialProbabilityMeasure) and pass it the `log_growth_array::Array{Float64,2}` data and the $\\Delta{t}$ value.\n",
    "* This call returns the $(u,d,p)$-tuple for each firm in the `dataset` stored in the `real_world_parameters` dictionary, where the `keys` are the `ticker` values, and the `value` are the $(u,d,p)$-tuple:"
   ]
  },
  {
   "cell_type": "code",
   "execution_count": 18,
   "id": "3a1173ea-c13d-4c12-bfff-6ecc0b0f9545",
   "metadata": {},
   "outputs": [],
   "source": [
    "real_world_parameters = (RealWorldBinomialProbabilityMeasure())(log_growth_array, list_of_all_tickers; Δt = Δt);"
   ]
  },
  {
   "cell_type": "markdown",
   "id": "808815db-1b38-40d2-b041-2b908fffefdc",
   "metadata": {},
   "source": [
    "### Estimate `risk-neutral` lattice model parameters\n",
    "To estimate the $(u,d,q)$ parameters for a `risk-neutral` probability measure, let's build an instance of [the `RiskNeutralBinomialProbabilityMeasure` type](https://varnerlab.github.io/VLQuantitativeFinancePackage.jl/dev/equity/#VLQuantitativeFinancePackage.RiskNeutralBinomialProbabilityMeasure) and pass it the `log_growth_array,` the $\\Delta{t}$ value and the risk-free rate.\n",
    "* This call returns the $(u,d,q)$-tuple for each firm in the `dataset` stored in the `risk_neutral_parameters` dictionary, where the `keys` are the `ticker` values, and the `value` are the $(u,d,q)$-tuple"
   ]
  },
  {
   "cell_type": "code",
   "execution_count": 20,
   "id": "7fc943d1-f1e1-4858-a2fe-68623b2c3b04",
   "metadata": {},
   "outputs": [],
   "source": [
    "risk_neutral_parameters = (RiskNeutralBinomialProbabilityMeasure())(log_growth_array, list_of_all_tickers; Δt = Δt);"
   ]
  },
  {
   "cell_type": "markdown",
   "id": "ee04bfad-d223-478b-9320-89ae2fb04629",
   "metadata": {},
   "source": [
    "### Discussion: Compare real-world and risk-neutral probabilities\n",
    "Let's compare the `real-world` and `risk-neutral` probabilities for a collection of ticker symbols and think about the differences. The calculations above estimated the $(u,d)$ from data for real-world and risk-neutral measures. First, select some ticker symbols and populate the `tickers_to_compare::Array{String,1}` array."
   ]
  },
  {
   "cell_type": "code",
   "execution_count": 22,
   "id": "e487ba16-217c-4c57-be59-b7dcd1068e89",
   "metadata": {},
   "outputs": [],
   "source": [
    "tickers_to_compare = [\"AMD\", \"MSFT\", \"GS\", \"TSLA\", \"IBM\", \"WFC\"]; # any ticker ∈ list_of_all_tickers"
   ]
  },
  {
   "cell_type": "markdown",
   "id": "7e5b4112-6002-4d99-9773-177fe04d73b9",
   "metadata": {},
   "source": [
    "Now that we have the tickers, we want to construct a table of the $(p,q)$ probabilities and thier difference values using [the `pretty_table(...)` method exported from the PrettyTables.jl package](https://github.com/ronisbr/PrettyTables.jl)\n",
    "* We iterate through the `tickers_to_compare::Array{String,1}` array, get the `p` and `q` values for each ticker, and compute the percentage difference in these values, which we report in the $\\Delta$ field."
   ]
  },
  {
   "cell_type": "code",
   "execution_count": 24,
   "id": "bc3e3250-55df-43e2-9857-ca7af02e6bb9",
   "metadata": {
    "jupyter": {
     "source_hidden": true
    }
   },
   "outputs": [
    {
     "name": "stdout",
     "output_type": "stream",
     "text": [
      "========= ========== ========== ============\n",
      " \u001b[1m ticker \u001b[0m \u001b[1m        p \u001b[0m \u001b[1m        q \u001b[0m \u001b[1m         Δ \u001b[0m\n",
      " \u001b[90m String \u001b[0m \u001b[90m  Float64 \u001b[0m \u001b[90m  Float64 \u001b[0m \u001b[90m   Float64 \u001b[0m\n",
      "========= ========== ========== ============\n",
      "     AMD   0.532847   0.488235     9.13737\n",
      "    MSFT   0.556072   0.515515     7.86729\n",
      "      GS   0.506967   0.497778     1.84606\n",
      "    TSLA   0.525547     0.4854     8.27096\n",
      "     IBM   0.529529   0.533383   -0.722668\n",
      "     WFC   0.524884   0.530559    -1.06961\n",
      "========= ========== ========== ============\n"
     ]
    }
   ],
   "source": [
    "let \n",
    "    table_df = DataFrame();\n",
    "    for ticker ∈ tickers_to_compare\n",
    "    \n",
    "        p = real_world_parameters[ticker][3];   # real-world: probability is the third item in the tuple\n",
    "        q = risk_neutral_parameters[ticker][3]; # risk-neutral: probability is the third item in the tuple\n",
    "        row_df = (\n",
    "            ticker = ticker,\n",
    "            p = p,\n",
    "            q = q,\n",
    "            Δ = 100*((p - q)/q) # value: percentage difference between real_world - risk_neutral\n",
    "        );\n",
    "        push!(table_df, row_df);\n",
    "    end\n",
    "    pretty_table(table_df, tf=tf_simple)\n",
    "end"
   ]
  },
  {
   "cell_type": "markdown",
   "id": "964776c6-32f9-49d2-9fea-095216ace0fd",
   "metadata": {},
   "source": [
    "#### Discussion questions\n",
    "1. What does $\\Delta>0$ say about the volatility of the price prediction, i.e., the spread in the predicted prices computed using the lattice model tree?\n",
    "2. Does $\\Delta<0$ value say anything about a ticker's `fair price`?"
   ]
  },
  {
   "cell_type": "markdown",
   "id": "1877de42-60c3-4501-8897-0f3f19b525fb",
   "metadata": {},
   "source": [
    "## Task 2: Compute the price and probability values for the leaves of a binomial tree \n",
    "In this task, we verify the calculations done in the [VLQuantitativeFinancePackage.jl package](https://github.com/varnerlab/VLQuantitativeFinancePackage.jl.git) against the analytical share price and probability expressions for a binomial lattice model. This gives a deeper understanding of what is going on in the tree calculations.\n",
    "* To start, specify a `ticker` in the `my_ticker_interest::String` variable and set values for the time parameter (number of days in the future we are interested in) in the `t` variable. Let's start with an approximate trading month, i.e., `t = 21` days"
   ]
  },
  {
   "cell_type": "code",
   "execution_count": 27,
   "id": "993b9710-76b3-4f96-84bc-ea3339931553",
   "metadata": {},
   "outputs": [],
   "source": [
    "my_ticker_interest = \"MSFT\"; # you specify this (if you'd like to see what tickers are in the dataset, check out the list_of_all_tickers array)\n",
    "t = 21; # number of days in the future we want to simulate"
   ]
  },
  {
   "cell_type": "markdown",
   "id": "99c6328f-0078-4c85-b48e-7b15722e093f",
   "metadata": {},
   "source": [
    "Now, we'll look up the parameters for your `ticker` from the `real_world_parameters` dictionary, get a random initial price from the `dataset,` and save that in the `Sₒ::Float64` variable."
   ]
  },
  {
   "cell_type": "code",
   "execution_count": 29,
   "id": "339f11e7-b86e-4610-b0b7-77d67c3c9ec3",
   "metadata": {
    "tags": []
   },
   "outputs": [],
   "source": [
    "u = real_world_parameters[my_ticker_interest][1];   # average up-factor\n",
    "d = real_world_parameters[my_ticker_interest][2];   # average down factor\n",
    "p = real_world_parameters[my_ticker_interest][3];   # probability of an up-move\n",
    "Sₒ = dataset[my_ticker_interest] |> table -> table[rand(1:(maximum_number_trading_days-t-1)), :close]; # close price for a random start date"
   ]
  },
  {
   "cell_type": "markdown",
   "id": "d94e7d4c-d35d-4622-bcc7-04475419bafa",
   "metadata": {},
   "source": [
    "Next, let's directly compute the possible prices and the probability of those prices at time `t` using the analytical expressions developed for the binomial lattice model, using [a `for-loop`](https://docs.julialang.org/en/v1/base/base/#for):\n",
    "* First, we initialize the values of `k = 0,...t` in the `karray::Array{Float64,1}`, and then initialize storage in the nodes array, which will hold values for `k` in column `1`, the `price` in column `2`, the scaled NPV (approximately equal to the fractional return) in column `3`, and the `probability` of the `price` value for this node in column `4`\n",
    "* Next, for each `k,` we compute the price, return (scaled NPV), and probability and store these values in the `nodes` array."
   ]
  },
  {
   "cell_type": "code",
   "execution_count": 31,
   "id": "f1d20019-3c4d-4b4c-914b-3334cb780fe9",
   "metadata": {
    "tags": []
   },
   "outputs": [
    {
     "name": "stdout",
     "output_type": "stream",
     "text": [
      "============== ========= ============ ==============\n",
      " \u001b[1m node (L=21) \u001b[0m \u001b[1m   price \u001b[0m \u001b[1m        NPV \u001b[0m \u001b[1m      P(X=x) \u001b[0m\n",
      "============== ========= ============ ==============\n",
      "          0.0   291.331     0.253466    4.44371e-6\n",
      "          1.0   285.014      0.22629    7.44985e-5\n",
      "          2.0   278.835     0.199704   0.000594743\n",
      "          3.0    272.79     0.173694    0.00300707\n",
      "          4.0   266.876     0.148248     0.0108029\n",
      "          5.0    261.09     0.123354     0.0293224\n",
      "          6.0   255.429    0.0989993     0.0624238\n",
      "          7.0   249.892    0.0751727      0.106789\n",
      "          8.0   244.474    0.0518627      0.149192\n",
      "          9.0   239.174    0.0290581       0.17204\n",
      "         10.0   233.988   0.00674781      0.164813\n",
      "         11.0   228.915   -0.0150787      0.131575\n",
      "         12.0   223.952   -0.0364321     0.0875337\n",
      "         13.0   219.097   -0.0573225      0.048379\n",
      "         14.0   214.347     -0.07776     0.0220699\n",
      "         15.0     209.7   -0.0977544    0.00822223\n",
      "         16.0   205.154    -0.117315    0.00246152\n",
      "         17.0   200.706    -0.136452   0.000577971\n",
      "         18.0   196.354    -0.155174   0.000102536\n",
      "         19.0   192.097     -0.17349    1.29248e-5\n",
      "         20.0   187.933    -0.191409    1.03183e-6\n",
      "         21.0   183.858     -0.20894    3.92257e-8\n",
      "============== ========= ============ ==============\n"
     ]
    }
   ],
   "source": [
    "(karray, analytical_nodes) = let\n",
    "    \n",
    "    karray = range(0,t,step = 1) |> collect;\n",
    "    analytical_nodes = Array{Float64,2}(undef, length(karray), 4);\n",
    "    for i ∈ eachindex(karray)\n",
    "        \n",
    "        k = karray[i];\n",
    "        analytical_nodes[i,1] = k # time\n",
    "        analytical_nodes[i,2] = Sₒ*(u^(t-k))*(d^(k)); # price\n",
    "        analytical_nodes[i,3] = (u^(t-k))*(d^(k)) - 1; # scaled NPV\n",
    "        analytical_nodes[i,4] = binomial(t,k)*(p^(t-k))*(1-p)^(k); # probability\n",
    "    end\n",
    "    pretty_table(analytical_nodes, header=[\"node (L=$(t))\", \"price\", \"NPV\", \"P(X=x)\"], tf=tf_simple)\n",
    "\n",
    "    (karray, analytical_nodes)\n",
    "end;"
   ]
  },
  {
   "cell_type": "markdown",
   "id": "ea1f19cf-4c9d-40c7-b94f-dc6f3e2d1dac",
   "metadata": {},
   "source": [
    "### Check: Validate price and probability calculations\n",
    "Next, construct (and populate) an instance of [the `MyBinomialEquityPriceTree` type](https://varnerlab.github.io/VLQuantitativeFinancePackage.jl/dev/equity/#VLQuantitativeFinancePackage.MyBinomialEquityPriceTree) using the estimated values for `(u,d,p).` This enables us to calculate the prices and probabilities in the tree. We store the populated model in the variable `test_lattice_model` for future use."
   ]
  },
  {
   "cell_type": "code",
   "execution_count": 33,
   "id": "abbc4214-8000-44b9-a809-731cd9954e8b",
   "metadata": {},
   "outputs": [],
   "source": [
    "test_lattice_model = build(MyBinomialEquityPriceTree, (\n",
    "        u = u, d = d, p = p)) |> (x-> populate(x, Sₒ = Sₒ, h = t));"
   ]
  },
  {
   "cell_type": "markdown",
   "id": "61e4ad3b-df27-46da-a0d9-8efa7048c1c2",
   "metadata": {},
   "source": [
    "Get the collection of nodes of [type `MyBiomialLatticeEquityNodeModel,`]() using the short-cut syntax `(tree::MyBinomialEquityPriceTree)(level::Int64)`, which returns the collection of nodes at `level = t.` Store the tree nodes at `level=t` in the `test_node_array` array\n",
    "* The short-cut syntax for accessing the tree nodes is equivalent to the command sequence: `tree.levels[level] .|> x-> tree.data[x]`"
   ]
  },
  {
   "cell_type": "code",
   "execution_count": 35,
   "id": "9640dd3c-868e-4e31-81fe-6c1fd1a77828",
   "metadata": {},
   "outputs": [
    {
     "data": {
      "text/plain": [
       "22-element Vector{MyBiomialLatticeEquityNodeModel}:\n",
       " MyBiomialLatticeEquityNodeModel(291.3305461, 4.443713927e-6, nothing, nothing)\n",
       " MyBiomialLatticeEquityNodeModel(285.0144243, 7.44984928e-5, nothing, nothing)\n",
       " MyBiomialLatticeEquityNodeModel(278.8352378, 0.0005947433375, nothing, nothing)\n",
       " MyBiomialLatticeEquityNodeModel(272.7900176, 0.003007073414, nothing, nothing)\n",
       " MyBiomialLatticeEquityNodeModel(266.8758593, 0.01080285741, nothing, nothing)\n",
       " MyBiomialLatticeEquityNodeModel(261.0899215, 0.02932240987, nothing, nothing)\n",
       " MyBiomialLatticeEquityNodeModel(255.4294244, 0.06242384155, nothing, nothing)\n",
       " MyBiomialLatticeEquityNodeModel(249.8916483, 0.1067888254, nothing, nothing)\n",
       " MyBiomialLatticeEquityNodeModel(244.4739326, 0.1491921448, nothing, nothing)\n",
       " MyBiomialLatticeEquityNodeModel(239.1736744, 0.1720397883, nothing, nothing)\n",
       " MyBiomialLatticeEquityNodeModel(233.9883271, 0.164813296, nothing, nothing)\n",
       " MyBiomialLatticeEquityNodeModel(228.9153996, 0.1315752924, nothing, nothing)\n",
       " MyBiomialLatticeEquityNodeModel(223.9524544, 0.087533682, nothing, nothing)\n",
       " MyBiomialLatticeEquityNodeModel(219.0971072, 0.04837895165, nothing, nothing)\n",
       " MyBiomialLatticeEquityNodeModel(214.3470251, 0.02206990703, nothing, nothing)\n",
       " MyBiomialLatticeEquityNodeModel(209.6999261, 0.008222225506, nothing, nothing)\n",
       " MyBiomialLatticeEquityNodeModel(205.1535773, 0.002461516496, nothing, nothing)\n",
       " MyBiomialLatticeEquityNodeModel(200.7057946, 0.0005779708466, nothing, nothing)\n",
       " MyBiomialLatticeEquityNodeModel(196.354441, 0.0001025357986, nothing, nothing)\n",
       " MyBiomialLatticeEquityNodeModel(192.0974258, 1.292484284e-5, nothing, nothing)\n",
       " MyBiomialLatticeEquityNodeModel(187.9327039, 1.031828146e-6, nothing, nothing)\n",
       " MyBiomialLatticeEquityNodeModel(183.8582741, 3.922565231e-8, nothing, nothing)"
      ]
     },
     "execution_count": 35,
     "metadata": {},
     "output_type": "execute_result"
    }
   ],
   "source": [
    "test_node_array = test_lattice_model(t)"
   ]
  },
  {
   "cell_type": "markdown",
   "id": "2dd76270-7bc1-4f58-aa96-e3cab2034ce8",
   "metadata": {},
   "source": [
    "Now, we can compare the analytical nodes with the nodes computed by the [VLQuantitativeFinancePackage.jl package](https://github.com/varnerlab/VLQuantitativeFinancePackage.jl.git) package. First, the number of nodes should be the same. Let's test this with the [@assert macro](https://docs.julialang.org/en/v1/base/base/#Base.@assert). In particular, we'll test the condition `length(test_node_array) == length(karray).` If this condition `fails`, an [AssertionError](https://docs.julialang.org/en/v1/base/base/#Core.AssertionError) is thrown"
   ]
  },
  {
   "cell_type": "code",
   "execution_count": 37,
   "id": "98c7f437-7d61-4c46-91f4-569c9ecf019e",
   "metadata": {},
   "outputs": [],
   "source": [
    "@assert(length(test_node_array) == length(karray))"
   ]
  },
  {
   "cell_type": "markdown",
   "id": "9b91dcd4-b001-49cf-92b2-551cc7bd9433",
   "metadata": {},
   "source": [
    "Next, let's check the values of the price and probability at each tree node using a combination of the [@assert macro](https://docs.julialang.org/en/v1/base/base/#Base.@assert) and the [isapprox function](https://docs.julialang.org/en/v1/base/math/#Base.isapprox) using a `for` loop:"
   ]
  },
  {
   "cell_type": "code",
   "execution_count": 39,
   "id": "a9404f1a-d6e8-49b3-b379-700448a04a0e",
   "metadata": {},
   "outputs": [],
   "source": [
    "for i ∈ eachindex(karray)\n",
    "    test_node_price = test_node_array[i].price;\n",
    "    test_node_probability = test_node_array[i].probability;\n",
    "    @assert (isapprox(analytical_nodes[i,2],test_node_price,rtol=1e-4) && isapprox(analytical_nodes[i,4],test_node_probability,rtol=1e-4))\n",
    "end"
   ]
  },
  {
   "cell_type": "markdown",
   "id": "4baa50de-f754-482d-aa53-dfb77eb0f4dc",
   "metadata": {},
   "source": [
    "## Task 3: Compute the probability of breakeven on an equity trade  \n",
    "Now that we have validated the binomial model and computed the share price and the probability of the share price, we can sample the nodes of the binomial tree at `level=t` using a [categorical distribution](https://en.wikipedia.org/wiki/Categorical_distribution) initialized with the probability of each node at `level = t.` \n",
    "* From this data, we can approximate the [cumulative distribution function](https://en.wikipedia.org/wiki/Cumulative_distribution_function) for the fractional return, i.e., the probability that the fractional return will be less than some specified (desired) value, i.e., breakeven.\n",
    "* A [categorical distribution](https://en.wikipedia.org/wiki/Categorical_distribution) is a type of probability distribution that describes the possible outcomes of a random variable that can belong to one of `K` categories, with each category having its probability. In this case, the `K`-categories correspond to indexes of the nodes in the tree at `level=t`\n",
    "* Let's create a [categorical distribution](https://en.wikipedia.org/wiki/Categorical_distribution) using the probabilities of our equity share prices on the leaves of the tree using the [Distributions.jl](https://github.com/JuliaStats/Distributions.jl) package. Save the [categorical distribution](https://en.wikipedia.org/wiki/Categorical_distribution) in the `dcat` variable:"
   ]
  },
  {
   "cell_type": "code",
   "execution_count": 41,
   "id": "634cfae8-db97-4de1-9051-736b4c285989",
   "metadata": {
    "tags": []
   },
   "outputs": [],
   "source": [
    "dcat = Categorical(analytical_nodes[:,4]);"
   ]
  },
  {
   "cell_type": "markdown",
   "id": "daf1e628-3f58-43c2-ae03-2421c90a1a79",
   "metadata": {},
   "source": [
    "Next, let's create the `minimum_return_target_array`, which holds the fractional returns calculated from the leaves of the binomial tree (the third column of the `analytical_nodes` array):"
   ]
  },
  {
   "cell_type": "code",
   "execution_count": 43,
   "id": "bded7edd-72d7-4ed6-87a0-2cc1dfdbb681",
   "metadata": {
    "tags": []
   },
   "outputs": [],
   "source": [
    "minimum_return_target_array = analytical_nodes[:,3];"
   ]
  },
  {
   "cell_type": "markdown",
   "id": "64d0d58e-966b-4a06-9730-3a71070b603a",
   "metadata": {},
   "source": [
    "### Estimate the cumulative distribution of the equity fractional return\n",
    "Finally, we let's draw `number_of_samples` from the categorical distribution `d` for each value in the `minimum_return_target_array` array to estimate the probability $P(X\\leq{x})$ using a `for` loop. For iteration of the loop, we:\n",
    "\n",
    "* Specify a value for the `minimum_target_return`, i.e., this is the minimum level of return that we would accept.\n",
    "* Next, initialize a counter variable `N₊ = 0` and generate `number_of_samples` values for the `random_state_index`, which points to a random category in our set of possible categories (leaves of the binomial tree).\n",
    "* We get the fractional return for the random category, i.e., tree node and store it in the `random_return_value` variable. We increment the counter variable if the `random_return_value<=minimum_target_return`.\n",
    "* Finally, we estimate the `probability` of having `random_return_value<=minimum_target_return` by computing `N₊/number_of_samples`. We store this in the `length(karray)`$\\times$`2` array `cumulative_distribution_array`, where the first column is the `minimum_target_return`, and the second column is the `probability.` "
   ]
  },
  {
   "cell_type": "code",
   "execution_count": 45,
   "id": "f4cd6221-34e3-4419-8b62-7f3b8ae86cb2",
   "metadata": {
    "tags": []
   },
   "outputs": [],
   "source": [
    "number_of_samples = 25000; # number of samples that we draw from the distribution -\n",
    "cumulative_distribution_array = Array{Float64,2}(undef, length(karray), 2);\n",
    "for i ∈ eachindex(karray)\n",
    "    \n",
    "    minimum_target_return = minimum_return_target_array[i];\n",
    "    \n",
    "    N₊ = 0;\n",
    "    for j ∈ 1:number_of_samples\n",
    "        random_state_index = rand(dcat);\n",
    "        random_return_value = analytical_nodes[random_state_index, 3];\n",
    "        if random_return_value <= minimum_target_return;\n",
    "            N₊ += 1\n",
    "        end\n",
    "    end\n",
    "    \n",
    "    probability = N₊/number_of_samples;     \n",
    "    cumulative_distribution_array[i,1] = minimum_target_return;\n",
    "    cumulative_distribution_array[i,2] = probability;\n",
    "end"
   ]
  },
  {
   "cell_type": "markdown",
   "id": "70f85421-0a00-444c-9e5a-31b278259aeb",
   "metadata": {},
   "source": [
    "### Visualize the cumulative distribution function of the fractional return\n",
    "The cumulative distribution function $F_{X}(x) = P(X\\leq{x})$ is defined as the probability that a random variable $X$ is less than or equal to a value $x$. In the sampling procedure above, we estimated $F_{X}(x) = P(X\\leq{x})$ for different values of $x$, i.e., for different values of the `minimum_target_return`. \n",
    "* This tells us the probability that our fractional return is less than a specified (desired) value. On the other hand, $1 - F_{X}(x)$ tells us $P(X>x)$, i.e., the probability that the observed return (random variable) `X` is greater than the minimum desired return `x`."
   ]
  },
  {
   "cell_type": "code",
   "execution_count": 47,
   "id": "e1e62b3a-71f1-4275-85cd-99fc7e1cb151",
   "metadata": {
    "tags": []
   },
   "outputs": [
    {
     "data": {
      "image/png": "[encoded data removed]",
      "image/svg+xml": [
       "<?xml version=\"1.0\" encoding=\"utf-8\"?>\n",
       "<svg xmlns=\"http://www.w3.org/2000/svg\" xmlns:xlink=\"http://www.w3.org/1999/xlink\" width=\"600\" height=\"400\" viewBox=\"0 0 2400 1600\">\n",
       "<defs>\n",
       "  <clipPath id=\"clip470\">\n",
       "    <rect x=\"0\" y=\"0\" width=\"2400\" height=\"1600\"/>\n",
       "  </clipPath>\n",
       "</defs>\n",
       "<path clip-path=\"url(#clip470)\" d=\"M0 1600 L2400 1600 L2400 8.88178e-14 L0 8.88178e-14  Z\" fill=\"#ffffff\" fill-rule=\"evenodd\" fill-opacity=\"1\"/>\n",
       "<defs>\n",
       "  <clipPath id=\"clip471\">\n",
       "    <rect x=\"480\" y=\"0\" width=\"1681\" height=\"1600\"/>\n",
       "  </clipPath>\n",
       "</defs>\n",
       "<path clip-path=\"url(#clip470)\" d=\"M249.542 1423.18 L2352.76 1423.18 L2352.76 47.2441 L249.542 47.2441  Z\" fill=\"#ffffff\" fill-rule=\"evenodd\" fill-opacity=\"1\"/>\n",
       "<defs>\n",
       "  <clipPath id=\"clip472\">\n",
       "    <rect x=\"249\" y=\"47\" width=\"2104\" height=\"1377\"/>\n",
       "  </clipPath>\n",
       "</defs>\n",
       "<polyline clip-path=\"url(#clip472)\" style=\"stroke:#000000; stroke-linecap:round; stroke-linejoin:round; stroke-width:2; stroke-opacity:0.1; fill:none\" points=\"347.426,1423.18 347.426,47.2441 \"/>\n",
       "<polyline clip-path=\"url(#clip472)\" style=\"stroke:#000000; stroke-linecap:round; stroke-linejoin:round; stroke-width:2; stroke-opacity:0.1; fill:none\" points=\"776.522,1423.18 776.522,47.2441 \"/>\n",
       "<polyline clip-path=\"url(#clip472)\" style=\"stroke:#000000; stroke-linecap:round; stroke-linejoin:round; stroke-width:2; stroke-opacity:0.1; fill:none\" points=\"1205.62,1423.18 1205.62,47.2441 \"/>\n",
       "<polyline clip-path=\"url(#clip472)\" style=\"stroke:#000000; stroke-linecap:round; stroke-linejoin:round; stroke-width:2; stroke-opacity:0.1; fill:none\" points=\"1634.71,1423.18 1634.71,47.2441 \"/>\n",
       "<polyline clip-path=\"url(#clip472)\" style=\"stroke:#000000; stroke-linecap:round; stroke-linejoin:round; stroke-width:2; stroke-opacity:0.1; fill:none\" points=\"2063.81,1423.18 2063.81,47.2441 \"/>\n",
       "<polyline clip-path=\"url(#clip472)\" style=\"stroke:#000000; stroke-linecap:round; stroke-linejoin:round; stroke-width:2; stroke-opacity:0.1; fill:none\" points=\"249.542,1384.24 2352.76,1384.24 \"/>\n",
       "<polyline clip-path=\"url(#clip472)\" style=\"stroke:#000000; stroke-linecap:round; stroke-linejoin:round; stroke-width:2; stroke-opacity:0.1; fill:none\" points=\"249.542,1059.73 2352.76,1059.73 \"/>\n",
       "<polyline clip-path=\"url(#clip472)\" style=\"stroke:#000000; stroke-linecap:round; stroke-linejoin:round; stroke-width:2; stroke-opacity:0.1; fill:none\" points=\"249.542,735.212 2352.76,735.212 \"/>\n",
       "<polyline clip-path=\"url(#clip472)\" style=\"stroke:#000000; stroke-linecap:round; stroke-linejoin:round; stroke-width:2; stroke-opacity:0.1; fill:none\" points=\"249.542,410.699 2352.76,410.699 \"/>\n",
       "<polyline clip-path=\"url(#clip472)\" style=\"stroke:#000000; stroke-linecap:round; stroke-linejoin:round; stroke-width:2; stroke-opacity:0.1; fill:none\" points=\"249.542,86.1857 2352.76,86.1857 \"/>\n",
       "<polyline clip-path=\"url(#clip470)\" style=\"stroke:#000000; stroke-linecap:round; stroke-linejoin:round; stroke-width:4; stroke-opacity:1; fill:none\" points=\"249.542,1423.18 2352.76,1423.18 \"/>\n",
       "<polyline clip-path=\"url(#clip470)\" style=\"stroke:#000000; stroke-linecap:round; stroke-linejoin:round; stroke-width:4; stroke-opacity:1; fill:none\" points=\"347.426,1423.18 347.426,1404.28 \"/>\n",
       "<polyline clip-path=\"url(#clip470)\" style=\"stroke:#000000; stroke-linecap:round; stroke-linejoin:round; stroke-width:4; stroke-opacity:1; fill:none\" points=\"776.522,1423.18 776.522,1404.28 \"/>\n",
       "<polyline clip-path=\"url(#clip470)\" style=\"stroke:#000000; stroke-linecap:round; stroke-linejoin:round; stroke-width:4; stroke-opacity:1; fill:none\" points=\"1205.62,1423.18 1205.62,1404.28 \"/>\n",
       "<polyline clip-path=\"url(#clip470)\" style=\"stroke:#000000; stroke-linecap:round; stroke-linejoin:round; stroke-width:4; stroke-opacity:1; fill:none\" points=\"1634.71,1423.18 1634.71,1404.28 \"/>\n",
       "<polyline clip-path=\"url(#clip470)\" style=\"stroke:#000000; stroke-linecap:round; stroke-linejoin:round; stroke-width:4; stroke-opacity:1; fill:none\" points=\"2063.81,1423.18 2063.81,1404.28 \"/>\n",
       "<path clip-path=\"url(#clip470)\" d=\"M294.753 1468.75 L324.429 1468.75 L324.429 1472.69 L294.753 1472.69 L294.753 1468.75 Z\" fill=\"#000000\" fill-rule=\"nonzero\" fill-opacity=\"1\" /><path clip-path=\"url(#clip470)\" d=\"M344.521 1454.1 Q340.91 1454.1 339.081 1457.66 Q337.276 1461.2 337.276 1468.33 Q337.276 1475.44 339.081 1479.01 Q340.91 1482.55 344.521 1482.55 Q348.155 1482.55 349.961 1479.01 Q351.79 1475.44 351.79 1468.33 Q351.79 1461.2 349.961 1457.66 Q348.155 1454.1 344.521 1454.1 M344.521 1450.39 Q350.331 1450.39 353.387 1455 Q356.465 1459.58 356.465 1468.33 Q356.465 1477.06 353.387 1481.67 Q350.331 1486.25 344.521 1486.25 Q338.711 1486.25 335.632 1481.67 Q332.577 1477.06 332.577 1468.33 Q332.577 1459.58 335.632 1455 Q338.711 1450.39 344.521 1450.39 Z\" fill=\"#000000\" fill-rule=\"nonzero\" fill-opacity=\"1\" /><path clip-path=\"url(#clip470)\" d=\"M364.683 1479.7 L369.567 1479.7 L369.567 1485.58 L364.683 1485.58 L364.683 1479.7 Z\" fill=\"#000000\" fill-rule=\"nonzero\" fill-opacity=\"1\" /><path clip-path=\"url(#clip470)\" d=\"M383.78 1481.64 L400.099 1481.64 L400.099 1485.58 L378.155 1485.58 L378.155 1481.64 Q380.817 1478.89 385.4 1474.26 Q390.007 1469.61 391.187 1468.27 Q393.433 1465.74 394.312 1464.01 Q395.215 1462.25 395.215 1460.56 Q395.215 1457.8 393.271 1456.07 Q391.35 1454.33 388.248 1454.33 Q386.049 1454.33 383.595 1455.09 Q381.164 1455.86 378.387 1457.41 L378.387 1452.69 Q381.211 1451.55 383.664 1450.97 Q386.118 1450.39 388.155 1450.39 Q393.525 1450.39 396.72 1453.08 Q399.914 1455.77 399.914 1460.26 Q399.914 1462.39 399.104 1464.31 Q398.317 1466.2 396.211 1468.8 Q395.632 1469.47 392.53 1472.69 Q389.428 1475.88 383.78 1481.64 Z\" fill=\"#000000\" fill-rule=\"nonzero\" fill-opacity=\"1\" /><path clip-path=\"url(#clip470)\" d=\"M723.664 1468.75 L753.34 1468.75 L753.34 1472.69 L723.664 1472.69 L723.664 1468.75 Z\" fill=\"#000000\" fill-rule=\"nonzero\" fill-opacity=\"1\" /><path clip-path=\"url(#clip470)\" d=\"M773.432 1454.1 Q769.821 1454.1 767.992 1457.66 Q766.187 1461.2 766.187 1468.33 Q766.187 1475.44 767.992 1479.01 Q769.821 1482.55 773.432 1482.55 Q777.066 1482.55 778.872 1479.01 Q780.701 1475.44 780.701 1468.33 Q780.701 1461.2 778.872 1457.66 Q777.066 1454.1 773.432 1454.1 M773.432 1450.39 Q779.242 1450.39 782.298 1455 Q785.376 1459.58 785.376 1468.33 Q785.376 1477.06 782.298 1481.67 Q779.242 1486.25 773.432 1486.25 Q767.622 1486.25 764.543 1481.67 Q761.488 1477.06 761.488 1468.33 Q761.488 1459.58 764.543 1455 Q767.622 1450.39 773.432 1450.39 Z\" fill=\"#000000\" fill-rule=\"nonzero\" fill-opacity=\"1\" /><path clip-path=\"url(#clip470)\" d=\"M793.594 1479.7 L798.478 1479.7 L798.478 1485.58 L793.594 1485.58 L793.594 1479.7 Z\" fill=\"#000000\" fill-rule=\"nonzero\" fill-opacity=\"1\" /><path clip-path=\"url(#clip470)\" d=\"M809.474 1481.64 L817.112 1481.64 L817.112 1455.28 L808.802 1456.95 L808.802 1452.69 L817.066 1451.02 L821.742 1451.02 L821.742 1481.64 L829.381 1481.64 L829.381 1485.58 L809.474 1485.58 L809.474 1481.64 Z\" fill=\"#000000\" fill-rule=\"nonzero\" fill-opacity=\"1\" /><path clip-path=\"url(#clip470)\" d=\"M1183 1454.1 Q1179.39 1454.1 1177.56 1457.66 Q1175.76 1461.2 1175.76 1468.33 Q1175.76 1475.44 1177.56 1479.01 Q1179.39 1482.55 1183 1482.55 Q1186.64 1482.55 1188.44 1479.01 Q1190.27 1475.44 1190.27 1468.33 Q1190.27 1461.2 1188.44 1457.66 Q1186.64 1454.1 1183 1454.1 M1183 1450.39 Q1188.81 1450.39 1191.87 1455 Q1194.95 1459.58 1194.95 1468.33 Q1194.95 1477.06 1191.87 1481.67 Q1188.81 1486.25 1183 1486.25 Q1177.19 1486.25 1174.11 1481.67 Q1171.06 1477.06 1171.06 1468.33 Q1171.06 1459.58 1174.11 1455 Q1177.19 1450.39 1183 1450.39 Z\" fill=\"#000000\" fill-rule=\"nonzero\" fill-opacity=\"1\" /><path clip-path=\"url(#clip470)\" d=\"M1203.16 1479.7 L1208.05 1479.7 L1208.05 1485.58 L1203.16 1485.58 L1203.16 1479.7 Z\" fill=\"#000000\" fill-rule=\"nonzero\" fill-opacity=\"1\" /><path clip-path=\"url(#clip470)\" d=\"M1228.23 1454.1 Q1224.62 1454.1 1222.79 1457.66 Q1220.99 1461.2 1220.99 1468.33 Q1220.99 1475.44 1222.79 1479.01 Q1224.62 1482.55 1228.23 1482.55 Q1231.87 1482.55 1233.67 1479.01 Q1235.5 1475.44 1235.5 1468.33 Q1235.5 1461.2 1233.67 1457.66 Q1231.87 1454.1 1228.23 1454.1 M1228.23 1450.39 Q1234.04 1450.39 1237.1 1455 Q1240.18 1459.58 1240.18 1468.33 Q1240.18 1477.06 1237.1 1481.67 Q1234.04 1486.25 1228.23 1486.25 Q1222.42 1486.25 1219.35 1481.67 Q1216.29 1477.06 1216.29 1468.33 Q1216.29 1459.58 1219.35 1455 Q1222.42 1450.39 1228.23 1450.39 Z\" fill=\"#000000\" fill-rule=\"nonzero\" fill-opacity=\"1\" /><path clip-path=\"url(#clip470)\" d=\"M1612.71 1454.1 Q1609.1 1454.1 1607.27 1457.66 Q1605.47 1461.2 1605.47 1468.33 Q1605.47 1475.44 1607.27 1479.01 Q1609.1 1482.55 1612.71 1482.55 Q1616.35 1482.55 1618.15 1479.01 Q1619.98 1475.44 1619.98 1468.33 Q1619.98 1461.2 1618.15 1457.66 Q1616.35 1454.1 1612.71 1454.1 M1612.71 1450.39 Q1618.52 1450.39 1621.58 1455 Q1624.66 1459.58 1624.66 1468.33 Q1624.66 1477.06 1621.58 1481.67 Q1618.52 1486.25 1612.71 1486.25 Q1606.9 1486.25 1603.82 1481.67 Q1600.77 1477.06 1600.77 1468.33 Q1600.77 1459.58 1603.82 1455 Q1606.9 1450.39 1612.71 1450.39 Z\" fill=\"#000000\" fill-rule=\"nonzero\" fill-opacity=\"1\" /><path clip-path=\"url(#clip470)\" d=\"M1632.87 1479.7 L1637.76 1479.7 L1637.76 1485.58 L1632.87 1485.58 L1632.87 1479.7 Z\" fill=\"#000000\" fill-rule=\"nonzero\" fill-opacity=\"1\" /><path clip-path=\"url(#clip470)\" d=\"M1648.75 1481.64 L1656.39 1481.64 L1656.39 1455.28 L1648.08 1456.95 L1648.08 1452.69 L1656.35 1451.02 L1661.02 1451.02 L1661.02 1481.64 L1668.66 1481.64 L1668.66 1485.58 L1648.75 1485.58 L1648.75 1481.64 Z\" fill=\"#000000\" fill-rule=\"nonzero\" fill-opacity=\"1\" /><path clip-path=\"url(#clip470)\" d=\"M2041.99 1454.1 Q2038.38 1454.1 2036.55 1457.66 Q2034.75 1461.2 2034.75 1468.33 Q2034.75 1475.44 2036.55 1479.01 Q2038.38 1482.55 2041.99 1482.55 Q2045.63 1482.55 2047.43 1479.01 Q2049.26 1475.44 2049.26 1468.33 Q2049.26 1461.2 2047.43 1457.66 Q2045.63 1454.1 2041.99 1454.1 M2041.99 1450.39 Q2047.8 1450.39 2050.86 1455 Q2053.94 1459.58 2053.94 1468.33 Q2053.94 1477.06 2050.86 1481.67 Q2047.8 1486.25 2041.99 1486.25 Q2036.18 1486.25 2033.1 1481.67 Q2030.05 1477.06 2030.05 1468.33 Q2030.05 1459.58 2033.1 1455 Q2036.18 1450.39 2041.99 1450.39 Z\" fill=\"#000000\" fill-rule=\"nonzero\" fill-opacity=\"1\" /><path clip-path=\"url(#clip470)\" d=\"M2062.16 1479.7 L2067.04 1479.7 L2067.04 1485.58 L2062.16 1485.58 L2062.16 1479.7 Z\" fill=\"#000000\" fill-rule=\"nonzero\" fill-opacity=\"1\" /><path clip-path=\"url(#clip470)\" d=\"M2081.25 1481.64 L2097.57 1481.64 L2097.57 1485.58 L2075.63 1485.58 L2075.63 1481.64 Q2078.29 1478.89 2082.87 1474.26 Q2087.48 1469.61 2088.66 1468.27 Q2090.91 1465.74 2091.79 1464.01 Q2092.69 1462.25 2092.69 1460.56 Q2092.69 1457.8 2090.74 1456.07 Q2088.82 1454.33 2085.72 1454.33 Q2083.52 1454.33 2081.07 1455.09 Q2078.64 1455.86 2075.86 1457.41 L2075.86 1452.69 Q2078.68 1451.55 2081.14 1450.97 Q2083.59 1450.39 2085.63 1450.39 Q2091 1450.39 2094.19 1453.08 Q2097.39 1455.77 2097.39 1460.26 Q2097.39 1462.39 2096.58 1464.31 Q2095.79 1466.2 2093.68 1468.8 Q2093.1 1469.47 2090 1472.69 Q2086.9 1475.88 2081.25 1481.64 Z\" fill=\"#000000\" fill-rule=\"nonzero\" fill-opacity=\"1\" /><path clip-path=\"url(#clip470)\" d=\"M1029.48 1520.52 L1056.79 1520.52 L1056.79 1525.93 L1035.91 1525.93 L1035.91 1539.94 L1054.75 1539.94 L1054.75 1545.35 L1035.91 1545.35 L1035.91 1568.04 L1029.48 1568.04 L1029.48 1520.52 Z\" fill=\"#000000\" fill-rule=\"nonzero\" fill-opacity=\"1\" /><path clip-path=\"url(#clip470)\" d=\"M1082.63 1537.87 Q1081.64 1537.3 1080.47 1537.04 Q1079.32 1536.76 1077.92 1536.76 Q1072.95 1536.76 1070.28 1540 Q1067.64 1543.22 1067.64 1549.27 L1067.64 1568.04 L1061.75 1568.04 L1061.75 1532.4 L1067.64 1532.4 L1067.64 1537.93 Q1069.48 1534.69 1072.45 1533.13 Q1075.41 1531.54 1079.64 1531.54 Q1080.24 1531.54 1080.98 1531.63 Q1081.71 1531.7 1082.6 1531.85 L1082.63 1537.87 Z\" fill=\"#000000\" fill-rule=\"nonzero\" fill-opacity=\"1\" /><path clip-path=\"url(#clip470)\" d=\"M1104.97 1550.12 Q1097.88 1550.12 1095.14 1551.75 Q1092.4 1553.37 1092.4 1557.29 Q1092.4 1560.4 1094.44 1562.25 Q1096.51 1564.07 1100.04 1564.07 Q1104.91 1564.07 1107.84 1560.63 Q1110.8 1557.16 1110.8 1551.43 L1110.8 1550.12 L1104.97 1550.12 M1116.65 1547.71 L1116.65 1568.04 L1110.8 1568.04 L1110.8 1562.63 Q1108.79 1565.88 1105.8 1567.44 Q1102.81 1568.97 1098.48 1568.97 Q1093.01 1568.97 1089.76 1565.91 Q1086.55 1562.82 1086.55 1557.67 Q1086.55 1551.65 1090.56 1548.6 Q1094.6 1545.54 1102.59 1545.54 L1110.8 1545.54 L1110.8 1544.97 Q1110.8 1540.93 1108.12 1538.73 Q1105.48 1536.5 1100.68 1536.5 Q1097.62 1536.5 1094.73 1537.23 Q1091.83 1537.97 1089.16 1539.43 L1089.16 1534.02 Q1092.37 1532.78 1095.39 1532.17 Q1098.42 1531.54 1101.28 1531.54 Q1109.02 1531.54 1112.84 1535.55 Q1116.65 1539.56 1116.65 1547.71 Z\" fill=\"#000000\" fill-rule=\"nonzero\" fill-opacity=\"1\" /><path clip-path=\"url(#clip470)\" d=\"M1154.37 1533.76 L1154.37 1539.24 Q1151.89 1537.87 1149.37 1537.2 Q1146.89 1536.5 1144.35 1536.5 Q1138.65 1536.5 1135.5 1540.13 Q1132.35 1543.73 1132.35 1550.25 Q1132.35 1556.78 1135.5 1560.4 Q1138.65 1564 1144.35 1564 Q1146.89 1564 1149.37 1563.33 Q1151.89 1562.63 1154.37 1561.26 L1154.37 1566.68 Q1151.92 1567.82 1149.28 1568.39 Q1146.67 1568.97 1143.71 1568.97 Q1135.66 1568.97 1130.91 1563.91 Q1126.17 1558.85 1126.17 1550.25 Q1126.17 1541.53 1130.95 1536.53 Q1135.75 1531.54 1144.09 1531.54 Q1146.8 1531.54 1149.37 1532.11 Q1151.95 1532.65 1154.37 1533.76 Z\" fill=\"#000000\" fill-rule=\"nonzero\" fill-opacity=\"1\" /><path clip-path=\"url(#clip470)\" d=\"M1170.35 1522.27 L1170.35 1532.4 L1182.41 1532.4 L1182.41 1536.95 L1170.35 1536.95 L1170.35 1556.3 Q1170.35 1560.66 1171.53 1561.9 Q1172.74 1563.14 1176.4 1563.14 L1182.41 1563.14 L1182.41 1568.04 L1176.4 1568.04 Q1169.62 1568.04 1167.04 1565.53 Q1164.46 1562.98 1164.46 1556.3 L1164.46 1536.95 L1160.16 1536.95 L1160.16 1532.4 L1164.46 1532.4 L1164.46 1522.27 L1170.35 1522.27 Z\" fill=\"#000000\" fill-rule=\"nonzero\" fill-opacity=\"1\" /><path clip-path=\"url(#clip470)\" d=\"M1190.12 1532.4 L1195.97 1532.4 L1195.97 1568.04 L1190.12 1568.04 L1190.12 1532.4 M1190.12 1518.52 L1195.97 1518.52 L1195.97 1525.93 L1190.12 1525.93 L1190.12 1518.52 Z\" fill=\"#000000\" fill-rule=\"nonzero\" fill-opacity=\"1\" /><path clip-path=\"url(#clip470)\" d=\"M1222.04 1536.5 Q1217.33 1536.5 1214.59 1540.19 Q1211.85 1543.85 1211.85 1550.25 Q1211.85 1556.65 1214.56 1560.34 Q1217.3 1564 1222.04 1564 Q1226.72 1564 1229.46 1560.31 Q1232.19 1556.62 1232.19 1550.25 Q1232.19 1543.92 1229.46 1540.23 Q1226.72 1536.5 1222.04 1536.5 M1222.04 1531.54 Q1229.68 1531.54 1234.04 1536.5 Q1238.4 1541.47 1238.4 1550.25 Q1238.4 1559 1234.04 1564 Q1229.68 1568.97 1222.04 1568.97 Q1214.37 1568.97 1210.01 1564 Q1205.68 1559 1205.68 1550.25 Q1205.68 1541.47 1210.01 1536.5 Q1214.37 1531.54 1222.04 1531.54 Z\" fill=\"#000000\" fill-rule=\"nonzero\" fill-opacity=\"1\" /><path clip-path=\"url(#clip470)\" d=\"M1277.74 1546.53 L1277.74 1568.04 L1271.88 1568.04 L1271.88 1546.72 Q1271.88 1541.66 1269.91 1539.14 Q1267.94 1536.63 1263.99 1536.63 Q1259.25 1536.63 1256.51 1539.65 Q1253.77 1542.68 1253.77 1547.9 L1253.77 1568.04 L1247.88 1568.04 L1247.88 1532.4 L1253.77 1532.4 L1253.77 1537.93 Q1255.87 1534.72 1258.71 1533.13 Q1261.57 1531.54 1265.29 1531.54 Q1271.44 1531.54 1274.59 1535.36 Q1277.74 1539.14 1277.74 1546.53 Z\" fill=\"#000000\" fill-rule=\"nonzero\" fill-opacity=\"1\" /><path clip-path=\"url(#clip470)\" d=\"M1305.62 1550.12 Q1298.52 1550.12 1295.79 1551.75 Q1293.05 1553.37 1293.05 1557.29 Q1293.05 1560.4 1295.09 1562.25 Q1297.15 1564.07 1300.69 1564.07 Q1305.56 1564.07 1308.49 1560.63 Q1311.45 1557.16 1311.45 1551.43 L1311.45 1550.12 L1305.62 1550.12 M1317.3 1547.71 L1317.3 1568.04 L1311.45 1568.04 L1311.45 1562.63 Q1309.44 1565.88 1306.45 1567.44 Q1303.46 1568.97 1299.13 1568.97 Q1293.65 1568.97 1290.41 1565.91 Q1287.19 1562.82 1287.19 1557.67 Q1287.19 1551.65 1291.2 1548.6 Q1295.24 1545.54 1303.23 1545.54 L1311.45 1545.54 L1311.45 1544.97 Q1311.45 1540.93 1308.77 1538.73 Q1306.13 1536.5 1301.32 1536.5 Q1298.27 1536.5 1295.37 1537.23 Q1292.48 1537.97 1289.8 1539.43 L1289.8 1534.02 Q1293.02 1532.78 1296.04 1532.17 Q1299.06 1531.54 1301.93 1531.54 Q1309.66 1531.54 1313.48 1535.55 Q1317.3 1539.56 1317.3 1547.71 Z\" fill=\"#000000\" fill-rule=\"nonzero\" fill-opacity=\"1\" /><path clip-path=\"url(#clip470)\" d=\"M1329.36 1518.52 L1335.22 1518.52 L1335.22 1568.04 L1329.36 1568.04 L1329.36 1518.52 Z\" fill=\"#000000\" fill-rule=\"nonzero\" fill-opacity=\"1\" /><path clip-path=\"url(#clip470)\" d=\"M1390.99 1545.76 Q1393.05 1546.46 1395 1548.76 Q1396.97 1551.05 1398.94 1555.06 L1405.47 1568.04 L1398.56 1568.04 L1392.48 1555.85 Q1390.13 1551.08 1387.9 1549.52 Q1385.7 1547.96 1381.88 1547.96 L1374.88 1547.96 L1374.88 1568.04 L1368.45 1568.04 L1368.45 1520.52 L1382.96 1520.52 Q1391.11 1520.52 1395.12 1523.93 Q1399.13 1527.34 1399.13 1534.21 Q1399.13 1538.7 1397.03 1541.66 Q1394.96 1544.62 1390.99 1545.76 M1374.88 1525.81 L1374.88 1542.68 L1382.96 1542.68 Q1387.61 1542.68 1389.97 1540.54 Q1392.35 1538.38 1392.35 1534.21 Q1392.35 1530.04 1389.97 1527.94 Q1387.61 1525.81 1382.96 1525.81 L1374.88 1525.81 Z\" fill=\"#000000\" fill-rule=\"nonzero\" fill-opacity=\"1\" /><path clip-path=\"url(#clip470)\" d=\"M1441.05 1548.76 L1441.05 1551.62 L1414.12 1551.62 Q1414.51 1557.67 1417.75 1560.85 Q1421.03 1564 1426.86 1564 Q1430.23 1564 1433.38 1563.17 Q1436.56 1562.35 1439.68 1560.69 L1439.68 1566.23 Q1436.53 1567.57 1433.22 1568.27 Q1429.91 1568.97 1426.51 1568.97 Q1417.98 1568.97 1412.98 1564 Q1408.01 1559.04 1408.01 1550.57 Q1408.01 1541.82 1412.72 1536.69 Q1417.47 1531.54 1425.49 1531.54 Q1432.68 1531.54 1436.85 1536.18 Q1441.05 1540.8 1441.05 1548.76 M1435.19 1547.04 Q1435.13 1542.23 1432.49 1539.37 Q1429.88 1536.5 1425.55 1536.5 Q1420.65 1536.5 1417.69 1539.27 Q1414.76 1542.04 1414.32 1547.07 L1435.19 1547.04 Z\" fill=\"#000000\" fill-rule=\"nonzero\" fill-opacity=\"1\" /><path clip-path=\"url(#clip470)\" d=\"M1456.46 1522.27 L1456.46 1532.4 L1468.52 1532.4 L1468.52 1536.95 L1456.46 1536.95 L1456.46 1556.3 Q1456.46 1560.66 1457.63 1561.9 Q1458.84 1563.14 1462.5 1563.14 L1468.52 1563.14 L1468.52 1568.04 L1462.5 1568.04 Q1455.72 1568.04 1453.15 1565.53 Q1450.57 1562.98 1450.57 1556.3 L1450.57 1536.95 L1446.27 1536.95 L1446.27 1532.4 L1450.57 1532.4 L1450.57 1522.27 L1456.46 1522.27 Z\" fill=\"#000000\" fill-rule=\"nonzero\" fill-opacity=\"1\" /><path clip-path=\"url(#clip470)\" d=\"M1475.62 1553.98 L1475.62 1532.4 L1481.47 1532.4 L1481.47 1553.75 Q1481.47 1558.81 1483.45 1561.36 Q1485.42 1563.87 1489.37 1563.87 Q1494.11 1563.87 1496.85 1560.85 Q1499.62 1557.83 1499.62 1552.61 L1499.62 1532.4 L1505.47 1532.4 L1505.47 1568.04 L1499.62 1568.04 L1499.62 1562.57 Q1497.48 1565.82 1494.65 1567.41 Q1491.85 1568.97 1488.13 1568.97 Q1481.98 1568.97 1478.8 1565.15 Q1475.62 1561.33 1475.62 1553.98 M1490.35 1531.54 L1490.35 1531.54 Z\" fill=\"#000000\" fill-rule=\"nonzero\" fill-opacity=\"1\" /><path clip-path=\"url(#clip470)\" d=\"M1538.19 1537.87 Q1537.21 1537.3 1536.03 1537.04 Q1534.88 1536.76 1533.48 1536.76 Q1528.52 1536.76 1525.84 1540 Q1523.2 1543.22 1523.2 1549.27 L1523.2 1568.04 L1517.31 1568.04 L1517.31 1532.4 L1523.2 1532.4 L1523.2 1537.93 Q1525.05 1534.69 1528.01 1533.13 Q1530.97 1531.54 1535.2 1531.54 Q1535.8 1531.54 1536.54 1531.63 Q1537.27 1531.7 1538.16 1531.85 L1538.19 1537.87 Z\" fill=\"#000000\" fill-rule=\"nonzero\" fill-opacity=\"1\" /><path clip-path=\"url(#clip470)\" d=\"M1572.82 1546.53 L1572.82 1568.04 L1566.96 1568.04 L1566.96 1546.72 Q1566.96 1541.66 1564.99 1539.14 Q1563.02 1536.63 1559.07 1536.63 Q1554.33 1536.63 1551.59 1539.65 Q1548.85 1542.68 1548.85 1547.9 L1548.85 1568.04 L1542.97 1568.04 L1542.97 1532.4 L1548.85 1532.4 L1548.85 1537.93 Q1550.96 1534.72 1553.79 1533.13 Q1556.65 1531.54 1560.38 1531.54 Q1566.52 1531.54 1569.67 1535.36 Q1572.82 1539.14 1572.82 1546.53 Z\" fill=\"#000000\" fill-rule=\"nonzero\" fill-opacity=\"1\" /><polyline clip-path=\"url(#clip470)\" style=\"stroke:#000000; stroke-linecap:round; stroke-linejoin:round; stroke-width:4; stroke-opacity:1; fill:none\" points=\"249.542,1423.18 249.542,47.2441 \"/>\n",
       "<polyline clip-path=\"url(#clip470)\" style=\"stroke:#000000; stroke-linecap:round; stroke-linejoin:round; stroke-width:4; stroke-opacity:1; fill:none\" points=\"249.542,1384.24 268.44,1384.24 \"/>\n",
       "<polyline clip-path=\"url(#clip470)\" style=\"stroke:#000000; stroke-linecap:round; stroke-linejoin:round; stroke-width:4; stroke-opacity:1; fill:none\" points=\"249.542,1059.73 268.44,1059.73 \"/>\n",
       "<polyline clip-path=\"url(#clip470)\" style=\"stroke:#000000; stroke-linecap:round; stroke-linejoin:round; stroke-width:4; stroke-opacity:1; fill:none\" points=\"249.542,735.212 268.44,735.212 \"/>\n",
       "<polyline clip-path=\"url(#clip470)\" style=\"stroke:#000000; stroke-linecap:round; stroke-linejoin:round; stroke-width:4; stroke-opacity:1; fill:none\" points=\"249.542,410.699 268.44,410.699 \"/>\n",
       "<polyline clip-path=\"url(#clip470)\" style=\"stroke:#000000; stroke-linecap:round; stroke-linejoin:round; stroke-width:4; stroke-opacity:1; fill:none\" points=\"249.542,86.1857 268.44,86.1857 \"/>\n",
       "<path clip-path=\"url(#clip470)\" d=\"M126.205 1370.04 Q122.593 1370.04 120.765 1373.6 Q118.959 1377.14 118.959 1384.27 Q118.959 1391.38 120.765 1394.94 Q122.593 1398.49 126.205 1398.49 Q129.839 1398.49 131.644 1394.94 Q133.473 1391.38 133.473 1384.27 Q133.473 1377.14 131.644 1373.6 Q129.839 1370.04 126.205 1370.04 M126.205 1366.33 Q132.015 1366.33 135.07 1370.94 Q138.149 1375.52 138.149 1384.27 Q138.149 1393 135.07 1397.61 Q132.015 1402.19 126.205 1402.19 Q120.394 1402.19 117.316 1397.61 Q114.26 1393 114.26 1384.27 Q114.26 1375.52 117.316 1370.94 Q120.394 1366.33 126.205 1366.33 Z\" fill=\"#000000\" fill-rule=\"nonzero\" fill-opacity=\"1\" /><path clip-path=\"url(#clip470)\" d=\"M146.366 1395.64 L151.251 1395.64 L151.251 1401.52 L146.366 1401.52 L146.366 1395.64 Z\" fill=\"#000000\" fill-rule=\"nonzero\" fill-opacity=\"1\" /><path clip-path=\"url(#clip470)\" d=\"M171.436 1370.04 Q167.825 1370.04 165.996 1373.6 Q164.19 1377.14 164.19 1384.27 Q164.19 1391.38 165.996 1394.94 Q167.825 1398.49 171.436 1398.49 Q175.07 1398.49 176.876 1394.94 Q178.704 1391.38 178.704 1384.27 Q178.704 1377.14 176.876 1373.6 Q175.07 1370.04 171.436 1370.04 M171.436 1366.33 Q177.246 1366.33 180.301 1370.94 Q183.38 1375.52 183.38 1384.27 Q183.38 1393 180.301 1397.61 Q177.246 1402.19 171.436 1402.19 Q165.626 1402.19 162.547 1397.61 Q159.491 1393 159.491 1384.27 Q159.491 1375.52 162.547 1370.94 Q165.626 1366.33 171.436 1366.33 Z\" fill=\"#000000\" fill-rule=\"nonzero\" fill-opacity=\"1\" /><path clip-path=\"url(#clip470)\" d=\"M201.598 1370.04 Q197.987 1370.04 196.158 1373.6 Q194.352 1377.14 194.352 1384.27 Q194.352 1391.38 196.158 1394.94 Q197.987 1398.49 201.598 1398.49 Q205.232 1398.49 207.037 1394.94 Q208.866 1391.38 208.866 1384.27 Q208.866 1377.14 207.037 1373.6 Q205.232 1370.04 201.598 1370.04 M201.598 1366.33 Q207.408 1366.33 210.463 1370.94 Q213.542 1375.52 213.542 1384.27 Q213.542 1393 210.463 1397.61 Q207.408 1402.19 201.598 1402.19 Q195.787 1402.19 192.709 1397.61 Q189.653 1393 189.653 1384.27 Q189.653 1375.52 192.709 1370.94 Q195.787 1366.33 201.598 1366.33 Z\" fill=\"#000000\" fill-rule=\"nonzero\" fill-opacity=\"1\" /><path clip-path=\"url(#clip470)\" d=\"M127.2 1045.52 Q123.589 1045.52 121.76 1049.09 Q119.955 1052.63 119.955 1059.76 Q119.955 1066.87 121.76 1070.43 Q123.589 1073.97 127.2 1073.97 Q130.834 1073.97 132.64 1070.43 Q134.468 1066.87 134.468 1059.76 Q134.468 1052.63 132.64 1049.09 Q130.834 1045.52 127.2 1045.52 M127.2 1041.82 Q133.01 1041.82 136.066 1046.43 Q139.144 1051.01 139.144 1059.76 Q139.144 1068.49 136.066 1073.09 Q133.01 1077.68 127.2 1077.68 Q121.39 1077.68 118.311 1073.09 Q115.256 1068.49 115.256 1059.76 Q115.256 1051.01 118.311 1046.43 Q121.39 1041.82 127.2 1041.82 Z\" fill=\"#000000\" fill-rule=\"nonzero\" fill-opacity=\"1\" /><path clip-path=\"url(#clip470)\" d=\"M147.362 1071.13 L152.246 1071.13 L152.246 1077.01 L147.362 1077.01 L147.362 1071.13 Z\" fill=\"#000000\" fill-rule=\"nonzero\" fill-opacity=\"1\" /><path clip-path=\"url(#clip470)\" d=\"M166.459 1073.07 L182.778 1073.07 L182.778 1077.01 L160.834 1077.01 L160.834 1073.07 Q163.496 1070.32 168.079 1065.69 Q172.686 1061.03 173.866 1059.69 Q176.112 1057.17 176.991 1055.43 Q177.894 1053.67 177.894 1051.98 Q177.894 1049.23 175.95 1047.49 Q174.028 1045.76 170.927 1045.76 Q168.727 1045.76 166.274 1046.52 Q163.843 1047.28 161.065 1048.83 L161.065 1044.11 Q163.89 1042.98 166.343 1042.4 Q168.797 1041.82 170.834 1041.82 Q176.204 1041.82 179.399 1044.51 Q182.593 1047.19 182.593 1051.68 Q182.593 1053.81 181.783 1055.73 Q180.996 1057.63 178.889 1060.22 Q178.311 1060.89 175.209 1064.11 Q172.107 1067.31 166.459 1073.07 Z\" fill=\"#000000\" fill-rule=\"nonzero\" fill-opacity=\"1\" /><path clip-path=\"url(#clip470)\" d=\"M192.639 1042.45 L210.996 1042.45 L210.996 1046.38 L196.922 1046.38 L196.922 1054.85 Q197.94 1054.51 198.959 1054.34 Q199.977 1054.16 200.996 1054.16 Q206.783 1054.16 210.162 1057.33 Q213.542 1060.5 213.542 1065.92 Q213.542 1071.5 210.07 1074.6 Q206.598 1077.68 200.278 1077.68 Q198.102 1077.68 195.834 1077.31 Q193.588 1076.94 191.181 1076.19 L191.181 1071.5 Q193.264 1072.63 195.487 1073.19 Q197.709 1073.74 200.186 1073.74 Q204.19 1073.74 206.528 1071.63 Q208.866 1069.53 208.866 1065.92 Q208.866 1062.31 206.528 1060.2 Q204.19 1058.09 200.186 1058.09 Q198.311 1058.09 196.436 1058.51 Q194.584 1058.93 192.639 1059.81 L192.639 1042.45 Z\" fill=\"#000000\" fill-rule=\"nonzero\" fill-opacity=\"1\" /><path clip-path=\"url(#clip470)\" d=\"M126.205 721.011 Q122.593 721.011 120.765 724.575 Q118.959 728.117 118.959 735.247 Q118.959 742.353 120.765 745.918 Q122.593 749.46 126.205 749.46 Q129.839 749.46 131.644 745.918 Q133.473 742.353 133.473 735.247 Q133.473 728.117 131.644 724.575 Q129.839 721.011 126.205 721.011 M126.205 717.307 Q132.015 717.307 135.07 721.913 Q138.149 726.497 138.149 735.247 Q138.149 743.973 135.07 748.58 Q132.015 753.163 126.205 753.163 Q120.394 753.163 117.316 748.58 Q114.26 743.973 114.26 735.247 Q114.26 726.497 117.316 721.913 Q120.394 717.307 126.205 717.307 Z\" fill=\"#000000\" fill-rule=\"nonzero\" fill-opacity=\"1\" /><path clip-path=\"url(#clip470)\" d=\"M146.366 746.612 L151.251 746.612 L151.251 752.492 L146.366 752.492 L146.366 746.612 Z\" fill=\"#000000\" fill-rule=\"nonzero\" fill-opacity=\"1\" /><path clip-path=\"url(#clip470)\" d=\"M161.482 717.932 L179.839 717.932 L179.839 721.867 L165.765 721.867 L165.765 730.339 Q166.783 729.992 167.802 729.83 Q168.82 729.645 169.839 729.645 Q175.626 729.645 179.005 732.816 Q182.385 735.987 182.385 741.404 Q182.385 746.983 178.913 750.085 Q175.44 753.163 169.121 753.163 Q166.945 753.163 164.677 752.793 Q162.431 752.423 160.024 751.682 L160.024 746.983 Q162.107 748.117 164.329 748.673 Q166.552 749.228 169.028 749.228 Q173.033 749.228 175.371 747.122 Q177.709 745.015 177.709 741.404 Q177.709 737.793 175.371 735.687 Q173.033 733.58 169.028 733.58 Q167.153 733.58 165.278 733.997 Q163.427 734.413 161.482 735.293 L161.482 717.932 Z\" fill=\"#000000\" fill-rule=\"nonzero\" fill-opacity=\"1\" /><path clip-path=\"url(#clip470)\" d=\"M201.598 721.011 Q197.987 721.011 196.158 724.575 Q194.352 728.117 194.352 735.247 Q194.352 742.353 196.158 745.918 Q197.987 749.46 201.598 749.46 Q205.232 749.46 207.037 745.918 Q208.866 742.353 208.866 735.247 Q208.866 728.117 207.037 724.575 Q205.232 721.011 201.598 721.011 M201.598 717.307 Q207.408 717.307 210.463 721.913 Q213.542 726.497 213.542 735.247 Q213.542 743.973 210.463 748.58 Q207.408 753.163 201.598 753.163 Q195.787 753.163 192.709 748.58 Q189.653 743.973 189.653 735.247 Q189.653 726.497 192.709 721.913 Q195.787 717.307 201.598 717.307 Z\" fill=\"#000000\" fill-rule=\"nonzero\" fill-opacity=\"1\" /><path clip-path=\"url(#clip470)\" d=\"M127.2 396.498 Q123.589 396.498 121.76 400.062 Q119.955 403.604 119.955 410.734 Q119.955 417.84 121.76 421.405 Q123.589 424.946 127.2 424.946 Q130.834 424.946 132.64 421.405 Q134.468 417.84 134.468 410.734 Q134.468 403.604 132.64 400.062 Q130.834 396.498 127.2 396.498 M127.2 392.794 Q133.01 392.794 136.066 397.4 Q139.144 401.984 139.144 410.734 Q139.144 419.46 136.066 424.067 Q133.01 428.65 127.2 428.65 Q121.39 428.65 118.311 424.067 Q115.256 419.46 115.256 410.734 Q115.256 401.984 118.311 397.4 Q121.39 392.794 127.2 392.794 Z\" fill=\"#000000\" fill-rule=\"nonzero\" fill-opacity=\"1\" /><path clip-path=\"url(#clip470)\" d=\"M147.362 422.099 L152.246 422.099 L152.246 427.979 L147.362 427.979 L147.362 422.099 Z\" fill=\"#000000\" fill-rule=\"nonzero\" fill-opacity=\"1\" /><path clip-path=\"url(#clip470)\" d=\"M161.251 393.419 L183.473 393.419 L183.473 395.41 L170.927 427.979 L166.042 427.979 L177.848 397.354 L161.251 397.354 L161.251 393.419 Z\" fill=\"#000000\" fill-rule=\"nonzero\" fill-opacity=\"1\" /><path clip-path=\"url(#clip470)\" d=\"M192.639 393.419 L210.996 393.419 L210.996 397.354 L196.922 397.354 L196.922 405.826 Q197.94 405.479 198.959 405.317 Q199.977 405.132 200.996 405.132 Q206.783 405.132 210.162 408.303 Q213.542 411.474 213.542 416.891 Q213.542 422.47 210.07 425.571 Q206.598 428.65 200.278 428.65 Q198.102 428.65 195.834 428.28 Q193.588 427.909 191.181 427.169 L191.181 422.47 Q193.264 423.604 195.487 424.159 Q197.709 424.715 200.186 424.715 Q204.19 424.715 206.528 422.608 Q208.866 420.502 208.866 416.891 Q208.866 413.28 206.528 411.173 Q204.19 409.067 200.186 409.067 Q198.311 409.067 196.436 409.484 Q194.584 409.9 192.639 410.78 L192.639 393.419 Z\" fill=\"#000000\" fill-rule=\"nonzero\" fill-opacity=\"1\" /><path clip-path=\"url(#clip470)\" d=\"M117.015 99.5305 L124.654 99.5305 L124.654 73.1649 L116.343 74.8316 L116.343 70.5723 L124.607 68.9057 L129.283 68.9057 L129.283 99.5305 L136.922 99.5305 L136.922 103.466 L117.015 103.466 L117.015 99.5305 Z\" fill=\"#000000\" fill-rule=\"nonzero\" fill-opacity=\"1\" /><path clip-path=\"url(#clip470)\" d=\"M146.366 97.5861 L151.251 97.5861 L151.251 103.466 L146.366 103.466 L146.366 97.5861 Z\" fill=\"#000000\" fill-rule=\"nonzero\" fill-opacity=\"1\" /><path clip-path=\"url(#clip470)\" d=\"M171.436 71.9844 Q167.825 71.9844 165.996 75.5492 Q164.19 79.0908 164.19 86.2204 Q164.19 93.3268 165.996 96.8916 Q167.825 100.433 171.436 100.433 Q175.07 100.433 176.876 96.8916 Q178.704 93.3268 178.704 86.2204 Q178.704 79.0908 176.876 75.5492 Q175.07 71.9844 171.436 71.9844 M171.436 68.2807 Q177.246 68.2807 180.301 72.8871 Q183.38 77.4704 183.38 86.2204 Q183.38 94.9472 180.301 99.5537 Q177.246 104.137 171.436 104.137 Q165.626 104.137 162.547 99.5537 Q159.491 94.9472 159.491 86.2204 Q159.491 77.4704 162.547 72.8871 Q165.626 68.2807 171.436 68.2807 Z\" fill=\"#000000\" fill-rule=\"nonzero\" fill-opacity=\"1\" /><path clip-path=\"url(#clip470)\" d=\"M201.598 71.9844 Q197.987 71.9844 196.158 75.5492 Q194.352 79.0908 194.352 86.2204 Q194.352 93.3268 196.158 96.8916 Q197.987 100.433 201.598 100.433 Q205.232 100.433 207.037 96.8916 Q208.866 93.3268 208.866 86.2204 Q208.866 79.0908 207.037 75.5492 Q205.232 71.9844 201.598 71.9844 M201.598 68.2807 Q207.408 68.2807 210.463 72.8871 Q213.542 77.4704 213.542 86.2204 Q213.542 94.9472 210.463 99.5537 Q207.408 104.137 201.598 104.137 Q195.787 104.137 192.709 99.5537 Q189.653 94.9472 189.653 86.2204 Q189.653 77.4704 192.709 72.8871 Q195.787 68.2807 201.598 68.2807 Z\" fill=\"#000000\" fill-rule=\"nonzero\" fill-opacity=\"1\" /><path clip-path=\"url(#clip470)\" d=\"M21.7677 896.901 L39.6235 896.901 L39.6235 888.816 Q39.6235 884.329 37.3 881.878 Q34.9765 879.427 30.6797 879.427 Q26.4147 879.427 24.0912 881.878 Q21.7677 884.329 21.7677 888.816 L21.7677 896.901 M16.4842 903.33 L16.4842 888.816 Q16.4842 880.828 20.1126 876.753 Q23.7092 872.648 30.6797 872.648 Q37.7138 872.648 41.3104 876.753 Q44.907 880.828 44.907 888.816 L44.907 896.901 L64.0042 896.901 L64.0042 903.33 L16.4842 903.33 Z\" fill=\"#000000\" fill-rule=\"nonzero\" fill-opacity=\"1\" /><path clip-path=\"url(#clip470)\" d=\"M33.8307 844.766 Q33.2578 845.752 33.0032 846.93 Q32.7167 848.076 32.7167 849.476 Q32.7167 854.442 35.9632 857.115 Q39.1779 859.757 45.2253 859.757 L64.0042 859.757 L64.0042 865.645 L28.3562 865.645 L28.3562 859.757 L33.8944 859.757 Q30.6479 857.911 29.0883 854.951 Q27.4968 851.991 27.4968 847.758 Q27.4968 847.153 27.5923 846.421 Q27.656 845.689 27.8151 844.798 L33.8307 844.766 Z\" fill=\"#000000\" fill-rule=\"nonzero\" fill-opacity=\"1\" /><path clip-path=\"url(#clip470)\" d=\"M32.4621 826.242 Q32.4621 830.952 36.1542 833.689 Q39.8145 836.427 46.212 836.427 Q52.6095 836.427 56.3017 833.721 Q59.9619 830.984 59.9619 826.242 Q59.9619 821.563 56.2698 818.826 Q52.5777 816.088 46.212 816.088 Q39.8781 816.088 36.186 818.826 Q32.4621 821.563 32.4621 826.242 M27.4968 826.242 Q27.4968 818.603 32.4621 814.242 Q37.4273 809.882 46.212 809.882 Q54.9649 809.882 59.9619 814.242 Q64.9272 818.603 64.9272 826.242 Q64.9272 833.912 59.9619 838.273 Q54.9649 842.601 46.212 842.601 Q37.4273 842.601 32.4621 838.273 Q27.4968 833.912 27.4968 826.242 Z\" fill=\"#000000\" fill-rule=\"nonzero\" fill-opacity=\"1\" /><path clip-path=\"url(#clip470)\" d=\"M46.212 774.584 Q39.7508 774.584 36.0905 777.257 Q32.3984 779.899 32.3984 784.546 Q32.3984 789.193 36.0905 791.867 Q39.7508 794.509 46.212 794.509 Q52.6732 794.509 56.3653 791.867 Q60.0256 789.193 60.0256 784.546 Q60.0256 779.899 56.3653 777.257 Q52.6732 774.584 46.212 774.584 M33.7671 794.509 Q30.5842 792.662 29.0564 789.862 Q27.4968 787.029 27.4968 783.114 Q27.4968 776.621 32.6531 772.579 Q37.8093 768.505 46.212 768.505 Q54.6147 768.505 59.771 772.579 Q64.9272 776.621 64.9272 783.114 Q64.9272 787.029 63.3994 789.862 Q61.8398 792.662 58.657 794.509 L64.0042 794.509 L64.0042 800.397 L14.479 800.397 L14.479 794.509 L33.7671 794.509 Z\" fill=\"#000000\" fill-rule=\"nonzero\" fill-opacity=\"1\" /><path clip-path=\"url(#clip470)\" d=\"M46.0847 742.596 Q46.0847 749.694 47.7079 752.431 Q49.3312 755.168 53.2461 755.168 Q56.3653 755.168 58.2114 753.131 Q60.0256 751.063 60.0256 747.53 Q60.0256 742.66 56.5881 739.732 Q53.1188 736.772 47.3897 736.772 L46.0847 736.772 L46.0847 742.596 M43.6657 730.915 L64.0042 730.915 L64.0042 736.772 L58.5933 736.772 Q61.8398 738.777 63.3994 741.769 Q64.9272 744.761 64.9272 749.089 Q64.9272 754.564 61.8716 757.81 Q58.7843 761.025 53.6281 761.025 Q47.6125 761.025 44.5569 757.015 Q41.5014 752.972 41.5014 744.983 L41.5014 736.772 L40.9285 736.772 Q36.8862 736.772 34.6901 739.445 Q32.4621 742.087 32.4621 746.893 Q32.4621 749.949 33.1941 752.845 Q33.9262 755.741 35.3903 758.415 L29.9795 758.415 Q28.7381 755.2 28.1334 752.177 Q27.4968 749.153 27.4968 746.288 Q27.4968 738.554 31.5072 734.735 Q35.5176 730.915 43.6657 730.915 Z\" fill=\"#000000\" fill-rule=\"nonzero\" fill-opacity=\"1\" /><path clip-path=\"url(#clip470)\" d=\"M46.212 693.262 Q39.7508 693.262 36.0905 695.936 Q32.3984 698.577 32.3984 703.224 Q32.3984 707.871 36.0905 710.545 Q39.7508 713.187 46.212 713.187 Q52.6732 713.187 56.3653 710.545 Q60.0256 707.871 60.0256 703.224 Q60.0256 698.577 56.3653 695.936 Q52.6732 693.262 46.212 693.262 M33.7671 713.187 Q30.5842 711.341 29.0564 708.54 Q27.4968 705.707 27.4968 701.792 Q27.4968 695.299 32.6531 691.257 Q37.8093 687.183 46.212 687.183 Q54.6147 687.183 59.771 691.257 Q64.9272 695.299 64.9272 701.792 Q64.9272 705.707 63.3994 708.54 Q61.8398 711.341 58.657 713.187 L64.0042 713.187 L64.0042 719.075 L14.479 719.075 L14.479 713.187 L33.7671 713.187 Z\" fill=\"#000000\" fill-rule=\"nonzero\" fill-opacity=\"1\" /><path clip-path=\"url(#clip470)\" d=\"M28.3562 677.475 L28.3562 671.619 L64.0042 671.619 L64.0042 677.475 L28.3562 677.475 M14.479 677.475 L14.479 671.619 L21.895 671.619 L21.895 677.475 L14.479 677.475 Z\" fill=\"#000000\" fill-rule=\"nonzero\" fill-opacity=\"1\" /><path clip-path=\"url(#clip470)\" d=\"M14.479 659.365 L14.479 653.508 L64.0042 653.508 L64.0042 659.365 L14.479 659.365 Z\" fill=\"#000000\" fill-rule=\"nonzero\" fill-opacity=\"1\" /><path clip-path=\"url(#clip470)\" d=\"M28.3562 641.254 L28.3562 635.398 L64.0042 635.398 L64.0042 641.254 L28.3562 641.254 M14.479 641.254 L14.479 635.398 L21.895 635.398 L21.895 641.254 L14.479 641.254 Z\" fill=\"#000000\" fill-rule=\"nonzero\" fill-opacity=\"1\" /><path clip-path=\"url(#clip470)\" d=\"M18.2347 617.351 L28.3562 617.351 L28.3562 605.288 L32.9077 605.288 L32.9077 617.351 L52.2594 617.351 Q56.6199 617.351 57.8613 616.173 Q59.1026 614.964 59.1026 611.303 L59.1026 605.288 L64.0042 605.288 L64.0042 611.303 Q64.0042 618.083 61.4897 620.661 Q58.9434 623.239 52.2594 623.239 L32.9077 623.239 L32.9077 627.536 L28.3562 627.536 L28.3562 623.239 L18.2347 623.239 L18.2347 617.351 Z\" fill=\"#000000\" fill-rule=\"nonzero\" fill-opacity=\"1\" /><path clip-path=\"url(#clip470)\" d=\"M67.3143 582.753 Q73.68 585.236 75.6216 587.591 Q77.5631 589.947 77.5631 593.893 L77.5631 598.572 L72.6615 598.572 L72.6615 595.135 Q72.6615 592.716 71.5157 591.379 Q70.3699 590.042 66.1048 588.419 L63.4312 587.368 L28.3562 601.787 L28.3562 595.58 L56.238 584.44 L28.3562 573.3 L28.3562 567.094 L67.3143 582.753 Z\" fill=\"#000000\" fill-rule=\"nonzero\" fill-opacity=\"1\" /><polyline clip-path=\"url(#clip472)\" style=\"stroke:#000080; stroke-linecap:round; stroke-linejoin:round; stroke-width:12; stroke-opacity:1; fill:none\" points=\"309.067,1384.24 384.289,1384.24 461.179,1384.19 539.772,1384.08 620.108,1383.25 702.223,1380.24 786.158,1369.34 871.953,1341.09 959.65,1283.04 1049.29,1162.12 1140.92,997.107 1234.57,777.788 1330.31,562.259 1428.16,359.919 1528.18,224.195 1630.42,144.598 1734.93,104.41 1841.75,90.1837 1950.93,87.4318 2062.54,86.1857 2176.62,86.1857 2293.23,86.1857 \"/>\n",
       "<polyline clip-path=\"url(#clip472)\" style=\"stroke:#ff0000; stroke-linecap:round; stroke-linejoin:round; stroke-width:12; stroke-opacity:1; fill:none\" points=\"309.067,86.1857 384.289,86.1857 461.179,86.2376 539.772,86.3414 620.108,87.1722 702.223,90.1837 786.158,101.087 871.953,129.333 959.65,187.382 1049.29,308.308 1140.92,473.317 1234.57,692.636 1330.31,908.164 1428.16,1110.5 1528.18,1246.23 1630.42,1325.83 1734.93,1366.01 1841.75,1380.24 1950.93,1382.99 2062.54,1384.24 2176.62,1384.24 2293.23,1384.24 \"/>\n",
       "<circle clip-path=\"url(#clip472)\" cx=\"309.067\" cy=\"1384.24\" r=\"14.4\" fill=\"#ffffff\" fill-rule=\"evenodd\" fill-opacity=\"1\" stroke=\"#000000\" stroke-opacity=\"1\" stroke-width=\"3.2\"/>\n",
       "<circle clip-path=\"url(#clip472)\" cx=\"384.289\" cy=\"1384.24\" r=\"14.4\" fill=\"#ffffff\" fill-rule=\"evenodd\" fill-opacity=\"1\" stroke=\"#000000\" stroke-opacity=\"1\" stroke-width=\"3.2\"/>\n",
       "<circle clip-path=\"url(#clip472)\" cx=\"461.179\" cy=\"1384.19\" r=\"14.4\" fill=\"#ffffff\" fill-rule=\"evenodd\" fill-opacity=\"1\" stroke=\"#000000\" stroke-opacity=\"1\" stroke-width=\"3.2\"/>\n",
       "<circle clip-path=\"url(#clip472)\" cx=\"539.772\" cy=\"1384.08\" r=\"14.4\" fill=\"#ffffff\" fill-rule=\"evenodd\" fill-opacity=\"1\" stroke=\"#000000\" stroke-opacity=\"1\" stroke-width=\"3.2\"/>\n",
       "<circle clip-path=\"url(#clip472)\" cx=\"620.108\" cy=\"1383.25\" r=\"14.4\" fill=\"#ffffff\" fill-rule=\"evenodd\" fill-opacity=\"1\" stroke=\"#000000\" stroke-opacity=\"1\" stroke-width=\"3.2\"/>\n",
       "<circle clip-path=\"url(#clip472)\" cx=\"702.223\" cy=\"1380.24\" r=\"14.4\" fill=\"#ffffff\" fill-rule=\"evenodd\" fill-opacity=\"1\" stroke=\"#000000\" stroke-opacity=\"1\" stroke-width=\"3.2\"/>\n",
       "<circle clip-path=\"url(#clip472)\" cx=\"786.158\" cy=\"1369.34\" r=\"14.4\" fill=\"#ffffff\" fill-rule=\"evenodd\" fill-opacity=\"1\" stroke=\"#000000\" stroke-opacity=\"1\" stroke-width=\"3.2\"/>\n",
       "<circle clip-path=\"url(#clip472)\" cx=\"871.953\" cy=\"1341.09\" r=\"14.4\" fill=\"#ffffff\" fill-rule=\"evenodd\" fill-opacity=\"1\" stroke=\"#000000\" stroke-opacity=\"1\" stroke-width=\"3.2\"/>\n",
       "<circle clip-path=\"url(#clip472)\" cx=\"959.65\" cy=\"1283.04\" r=\"14.4\" fill=\"#ffffff\" fill-rule=\"evenodd\" fill-opacity=\"1\" stroke=\"#000000\" stroke-opacity=\"1\" stroke-width=\"3.2\"/>\n",
       "<circle clip-path=\"url(#clip472)\" cx=\"1049.29\" cy=\"1162.12\" r=\"14.4\" fill=\"#ffffff\" fill-rule=\"evenodd\" fill-opacity=\"1\" stroke=\"#000000\" stroke-opacity=\"1\" stroke-width=\"3.2\"/>\n",
       "<circle clip-path=\"url(#clip472)\" cx=\"1140.92\" cy=\"997.107\" r=\"14.4\" fill=\"#ffffff\" fill-rule=\"evenodd\" fill-opacity=\"1\" stroke=\"#000000\" stroke-opacity=\"1\" stroke-width=\"3.2\"/>\n",
       "<circle clip-path=\"url(#clip472)\" cx=\"1234.57\" cy=\"777.788\" r=\"14.4\" fill=\"#ffffff\" fill-rule=\"evenodd\" fill-opacity=\"1\" stroke=\"#000000\" stroke-opacity=\"1\" stroke-width=\"3.2\"/>\n",
       "<circle clip-path=\"url(#clip472)\" cx=\"1330.31\" cy=\"562.259\" r=\"14.4\" fill=\"#ffffff\" fill-rule=\"evenodd\" fill-opacity=\"1\" stroke=\"#000000\" stroke-opacity=\"1\" stroke-width=\"3.2\"/>\n",
       "<circle clip-path=\"url(#clip472)\" cx=\"1428.16\" cy=\"359.919\" r=\"14.4\" fill=\"#ffffff\" fill-rule=\"evenodd\" fill-opacity=\"1\" stroke=\"#000000\" stroke-opacity=\"1\" stroke-width=\"3.2\"/>\n",
       "<circle clip-path=\"url(#clip472)\" cx=\"1528.18\" cy=\"224.195\" r=\"14.4\" fill=\"#ffffff\" fill-rule=\"evenodd\" fill-opacity=\"1\" stroke=\"#000000\" stroke-opacity=\"1\" stroke-width=\"3.2\"/>\n",
       "<circle clip-path=\"url(#clip472)\" cx=\"1630.42\" cy=\"144.598\" r=\"14.4\" fill=\"#ffffff\" fill-rule=\"evenodd\" fill-opacity=\"1\" stroke=\"#000000\" stroke-opacity=\"1\" stroke-width=\"3.2\"/>\n",
       "<circle clip-path=\"url(#clip472)\" cx=\"1734.93\" cy=\"104.41\" r=\"14.4\" fill=\"#ffffff\" fill-rule=\"evenodd\" fill-opacity=\"1\" stroke=\"#000000\" stroke-opacity=\"1\" stroke-width=\"3.2\"/>\n",
       "<circle clip-path=\"url(#clip472)\" cx=\"1841.75\" cy=\"90.1837\" r=\"14.4\" fill=\"#ffffff\" fill-rule=\"evenodd\" fill-opacity=\"1\" stroke=\"#000000\" stroke-opacity=\"1\" stroke-width=\"3.2\"/>\n",
       "<circle clip-path=\"url(#clip472)\" cx=\"1950.93\" cy=\"87.4318\" r=\"14.4\" fill=\"#ffffff\" fill-rule=\"evenodd\" fill-opacity=\"1\" stroke=\"#000000\" stroke-opacity=\"1\" stroke-width=\"3.2\"/>\n",
       "<circle clip-path=\"url(#clip472)\" cx=\"2062.54\" cy=\"86.1857\" r=\"14.4\" fill=\"#ffffff\" fill-rule=\"evenodd\" fill-opacity=\"1\" stroke=\"#000000\" stroke-opacity=\"1\" stroke-width=\"3.2\"/>\n",
       "<circle clip-path=\"url(#clip472)\" cx=\"2176.62\" cy=\"86.1857\" r=\"14.4\" fill=\"#ffffff\" fill-rule=\"evenodd\" fill-opacity=\"1\" stroke=\"#000000\" stroke-opacity=\"1\" stroke-width=\"3.2\"/>\n",
       "<circle clip-path=\"url(#clip472)\" cx=\"2293.23\" cy=\"86.1857\" r=\"14.4\" fill=\"#ffffff\" fill-rule=\"evenodd\" fill-opacity=\"1\" stroke=\"#000000\" stroke-opacity=\"1\" stroke-width=\"3.2\"/>\n",
       "<circle clip-path=\"url(#clip472)\" cx=\"309.067\" cy=\"86.1857\" r=\"14.4\" fill=\"#ffffff\" fill-rule=\"evenodd\" fill-opacity=\"1\" stroke=\"#ff0000\" stroke-opacity=\"1\" stroke-width=\"3.2\"/>\n",
       "<circle clip-path=\"url(#clip472)\" cx=\"384.289\" cy=\"86.1857\" r=\"14.4\" fill=\"#ffffff\" fill-rule=\"evenodd\" fill-opacity=\"1\" stroke=\"#ff0000\" stroke-opacity=\"1\" stroke-width=\"3.2\"/>\n",
       "<circle clip-path=\"url(#clip472)\" cx=\"461.179\" cy=\"86.2376\" r=\"14.4\" fill=\"#ffffff\" fill-rule=\"evenodd\" fill-opacity=\"1\" stroke=\"#ff0000\" stroke-opacity=\"1\" stroke-width=\"3.2\"/>\n",
       "<circle clip-path=\"url(#clip472)\" cx=\"539.772\" cy=\"86.3414\" r=\"14.4\" fill=\"#ffffff\" fill-rule=\"evenodd\" fill-opacity=\"1\" stroke=\"#ff0000\" stroke-opacity=\"1\" stroke-width=\"3.2\"/>\n",
       "<circle clip-path=\"url(#clip472)\" cx=\"620.108\" cy=\"87.1722\" r=\"14.4\" fill=\"#ffffff\" fill-rule=\"evenodd\" fill-opacity=\"1\" stroke=\"#ff0000\" stroke-opacity=\"1\" stroke-width=\"3.2\"/>\n",
       "<circle clip-path=\"url(#clip472)\" cx=\"702.223\" cy=\"90.1837\" r=\"14.4\" fill=\"#ffffff\" fill-rule=\"evenodd\" fill-opacity=\"1\" stroke=\"#ff0000\" stroke-opacity=\"1\" stroke-width=\"3.2\"/>\n",
       "<circle clip-path=\"url(#clip472)\" cx=\"786.158\" cy=\"101.087\" r=\"14.4\" fill=\"#ffffff\" fill-rule=\"evenodd\" fill-opacity=\"1\" stroke=\"#ff0000\" stroke-opacity=\"1\" stroke-width=\"3.2\"/>\n",
       "<circle clip-path=\"url(#clip472)\" cx=\"871.953\" cy=\"129.333\" r=\"14.4\" fill=\"#ffffff\" fill-rule=\"evenodd\" fill-opacity=\"1\" stroke=\"#ff0000\" stroke-opacity=\"1\" stroke-width=\"3.2\"/>\n",
       "<circle clip-path=\"url(#clip472)\" cx=\"959.65\" cy=\"187.382\" r=\"14.4\" fill=\"#ffffff\" fill-rule=\"evenodd\" fill-opacity=\"1\" stroke=\"#ff0000\" stroke-opacity=\"1\" stroke-width=\"3.2\"/>\n",
       "<circle clip-path=\"url(#clip472)\" cx=\"1049.29\" cy=\"308.308\" r=\"14.4\" fill=\"#ffffff\" fill-rule=\"evenodd\" fill-opacity=\"1\" stroke=\"#ff0000\" stroke-opacity=\"1\" stroke-width=\"3.2\"/>\n",
       "<circle clip-path=\"url(#clip472)\" cx=\"1140.92\" cy=\"473.317\" r=\"14.4\" fill=\"#ffffff\" fill-rule=\"evenodd\" fill-opacity=\"1\" stroke=\"#ff0000\" stroke-opacity=\"1\" stroke-width=\"3.2\"/>\n",
       "<circle clip-path=\"url(#clip472)\" cx=\"1234.57\" cy=\"692.636\" r=\"14.4\" fill=\"#ffffff\" fill-rule=\"evenodd\" fill-opacity=\"1\" stroke=\"#ff0000\" stroke-opacity=\"1\" stroke-width=\"3.2\"/>\n",
       "<circle clip-path=\"url(#clip472)\" cx=\"1330.31\" cy=\"908.164\" r=\"14.4\" fill=\"#ffffff\" fill-rule=\"evenodd\" fill-opacity=\"1\" stroke=\"#ff0000\" stroke-opacity=\"1\" stroke-width=\"3.2\"/>\n",
       "<circle clip-path=\"url(#clip472)\" cx=\"1428.16\" cy=\"1110.5\" r=\"14.4\" fill=\"#ffffff\" fill-rule=\"evenodd\" fill-opacity=\"1\" stroke=\"#ff0000\" stroke-opacity=\"1\" stroke-width=\"3.2\"/>\n",
       "<circle clip-path=\"url(#clip472)\" cx=\"1528.18\" cy=\"1246.23\" r=\"14.4\" fill=\"#ffffff\" fill-rule=\"evenodd\" fill-opacity=\"1\" stroke=\"#ff0000\" stroke-opacity=\"1\" stroke-width=\"3.2\"/>\n",
       "<circle clip-path=\"url(#clip472)\" cx=\"1630.42\" cy=\"1325.83\" r=\"14.4\" fill=\"#ffffff\" fill-rule=\"evenodd\" fill-opacity=\"1\" stroke=\"#ff0000\" stroke-opacity=\"1\" stroke-width=\"3.2\"/>\n",
       "<circle clip-path=\"url(#clip472)\" cx=\"1734.93\" cy=\"1366.01\" r=\"14.4\" fill=\"#ffffff\" fill-rule=\"evenodd\" fill-opacity=\"1\" stroke=\"#ff0000\" stroke-opacity=\"1\" stroke-width=\"3.2\"/>\n",
       "<circle clip-path=\"url(#clip472)\" cx=\"1841.75\" cy=\"1380.24\" r=\"14.4\" fill=\"#ffffff\" fill-rule=\"evenodd\" fill-opacity=\"1\" stroke=\"#ff0000\" stroke-opacity=\"1\" stroke-width=\"3.2\"/>\n",
       "<circle clip-path=\"url(#clip472)\" cx=\"1950.93\" cy=\"1382.99\" r=\"14.4\" fill=\"#ffffff\" fill-rule=\"evenodd\" fill-opacity=\"1\" stroke=\"#ff0000\" stroke-opacity=\"1\" stroke-width=\"3.2\"/>\n",
       "<circle clip-path=\"url(#clip472)\" cx=\"2062.54\" cy=\"1384.24\" r=\"14.4\" fill=\"#ffffff\" fill-rule=\"evenodd\" fill-opacity=\"1\" stroke=\"#ff0000\" stroke-opacity=\"1\" stroke-width=\"3.2\"/>\n",
       "<circle clip-path=\"url(#clip472)\" cx=\"2176.62\" cy=\"1384.24\" r=\"14.4\" fill=\"#ffffff\" fill-rule=\"evenodd\" fill-opacity=\"1\" stroke=\"#ff0000\" stroke-opacity=\"1\" stroke-width=\"3.2\"/>\n",
       "<circle clip-path=\"url(#clip472)\" cx=\"2293.23\" cy=\"1384.24\" r=\"14.4\" fill=\"#ffffff\" fill-rule=\"evenodd\" fill-opacity=\"1\" stroke=\"#ff0000\" stroke-opacity=\"1\" stroke-width=\"3.2\"/>\n",
       "<path clip-path=\"url(#clip470)\" d=\"M1915.22 248.629 L2282.65 248.629 L2282.65 93.1086 L1915.22 93.1086  Z\" fill=\"#ffffff\" fill-rule=\"evenodd\" fill-opacity=\"1\"/>\n",
       "<polyline clip-path=\"url(#clip470)\" style=\"stroke:#000000; stroke-linecap:round; stroke-linejoin:round; stroke-width:4; stroke-opacity:1; fill:none\" points=\"1915.22,248.629 2282.65,248.629 2282.65,93.1086 1915.22,93.1086 1915.22,248.629 \"/>\n",
       "<polyline clip-path=\"url(#clip470)\" style=\"stroke:#000080; stroke-linecap:round; stroke-linejoin:round; stroke-width:12; stroke-opacity:1; fill:none\" points=\"1938.59,144.949 2078.81,144.949 \"/>\n",
       "<path clip-path=\"url(#clip470)\" d=\"M2106.85 131.511 L2106.85 144.497 L2112.73 144.497 Q2115.99 144.497 2117.78 142.807 Q2119.56 141.118 2119.56 137.993 Q2119.56 134.891 2117.78 133.201 Q2115.99 131.511 2112.73 131.511 L2106.85 131.511 M2102.17 127.669 L2112.73 127.669 Q2118.54 127.669 2121.5 130.307 Q2124.49 132.923 2124.49 137.993 Q2124.49 143.108 2121.5 145.724 Q2118.54 148.34 2112.73 148.34 L2106.85 148.34 L2106.85 162.229 L2102.17 162.229 L2102.17 127.669 Z\" fill=\"#000000\" fill-rule=\"nonzero\" fill-opacity=\"1\" /><path clip-path=\"url(#clip470)\" d=\"M2140.81 126.257 Q2137.71 131.581 2136.2 136.789 Q2134.7 141.997 2134.7 147.344 Q2134.7 152.692 2136.2 157.946 Q2137.73 163.178 2140.81 168.479 L2137.1 168.479 Q2133.63 163.039 2131.9 157.784 Q2130.18 152.53 2130.18 147.344 Q2130.18 142.182 2131.9 136.951 Q2133.61 131.72 2137.1 126.257 L2140.81 126.257 Z\" fill=\"#000000\" fill-rule=\"nonzero\" fill-opacity=\"1\" /><path clip-path=\"url(#clip470)\" d=\"M2147.59 127.669 L2152.61 127.669 L2161.2 140.516 L2169.84 127.669 L2174.86 127.669 L2163.75 144.266 L2175.6 162.229 L2170.58 162.229 L2160.85 147.53 L2151.06 162.229 L2146.02 162.229 L2158.35 143.78 L2147.59 127.669 Z\" fill=\"#000000\" fill-rule=\"nonzero\" fill-opacity=\"1\" /><path clip-path=\"url(#clip470)\" d=\"M2211.78 138.71 L2189.56 145.122 L2211.78 151.465 L2211.78 155.585 L2182.1 147.067 L2182.1 143.131 L2211.78 134.636 L2211.78 138.71 M2182.1 158.293 L2211.78 158.293 L2211.78 162.229 L2182.1 162.229 L2182.1 158.293 Z\" fill=\"#000000\" fill-rule=\"nonzero\" fill-opacity=\"1\" /><path clip-path=\"url(#clip470)\" d=\"M2242.82 136.303 L2233.45 148.919 L2243.31 162.229 L2238.28 162.229 L2230.74 152.043 L2223.19 162.229 L2218.17 162.229 L2228.24 148.664 L2219.03 136.303 L2224.05 136.303 L2230.92 145.539 L2237.8 136.303 L2242.82 136.303 Z\" fill=\"#000000\" fill-rule=\"nonzero\" fill-opacity=\"1\" /><path clip-path=\"url(#clip470)\" d=\"M2248.65 126.257 L2252.36 126.257 Q2255.83 131.72 2257.54 136.951 Q2259.28 142.182 2259.28 147.344 Q2259.28 152.53 2257.54 157.784 Q2255.83 163.039 2252.36 168.479 L2248.65 168.479 Q2251.73 163.178 2253.24 157.946 Q2254.77 152.692 2254.77 147.344 Q2254.77 141.997 2253.24 136.789 Q2251.73 131.581 2248.65 126.257 Z\" fill=\"#000000\" fill-rule=\"nonzero\" fill-opacity=\"1\" /><polyline clip-path=\"url(#clip470)\" style=\"stroke:#ff0000; stroke-linecap:round; stroke-linejoin:round; stroke-width:12; stroke-opacity:1; fill:none\" points=\"1938.59,196.789 2078.81,196.789 \"/>\n",
       "<path clip-path=\"url(#clip470)\" d=\"M2106.85 183.351 L2106.85 196.337 L2112.73 196.337 Q2115.99 196.337 2117.78 194.647 Q2119.56 192.958 2119.56 189.833 Q2119.56 186.731 2117.78 185.041 Q2115.99 183.351 2112.73 183.351 L2106.85 183.351 M2102.17 179.509 L2112.73 179.509 Q2118.54 179.509 2121.5 182.147 Q2124.49 184.763 2124.49 189.833 Q2124.49 194.948 2121.5 197.564 Q2118.54 200.18 2112.73 200.18 L2106.85 200.18 L2106.85 214.069 L2102.17 214.069 L2102.17 179.509 Z\" fill=\"#000000\" fill-rule=\"nonzero\" fill-opacity=\"1\" /><path clip-path=\"url(#clip470)\" d=\"M2140.81 178.097 Q2137.71 183.421 2136.2 188.629 Q2134.7 193.837 2134.7 199.184 Q2134.7 204.532 2136.2 209.786 Q2137.73 215.018 2140.81 220.319 L2137.1 220.319 Q2133.63 214.879 2131.9 209.624 Q2130.18 204.37 2130.18 199.184 Q2130.18 194.022 2131.9 188.791 Q2133.61 183.56 2137.1 178.097 L2140.81 178.097 Z\" fill=\"#000000\" fill-rule=\"nonzero\" fill-opacity=\"1\" /><path clip-path=\"url(#clip470)\" d=\"M2147.59 179.509 L2152.61 179.509 L2161.2 192.356 L2169.84 179.509 L2174.86 179.509 L2163.75 196.106 L2175.6 214.069 L2170.58 214.069 L2160.85 199.37 L2151.06 214.069 L2146.02 214.069 L2158.35 195.62 L2147.59 179.509 Z\" fill=\"#000000\" fill-rule=\"nonzero\" fill-opacity=\"1\" /><path clip-path=\"url(#clip470)\" d=\"M2182.1 190.735 L2182.1 186.522 L2211.78 197.286 L2211.78 201.129 L2182.1 211.893 L2182.1 207.68 L2205.95 199.231 L2182.1 190.735 Z\" fill=\"#000000\" fill-rule=\"nonzero\" fill-opacity=\"1\" /><path clip-path=\"url(#clip470)\" d=\"M2242.82 188.143 L2233.45 200.759 L2243.31 214.069 L2238.28 214.069 L2230.74 203.883 L2223.19 214.069 L2218.17 214.069 L2228.24 200.504 L2219.03 188.143 L2224.05 188.143 L2230.92 197.379 L2237.8 188.143 L2242.82 188.143 Z\" fill=\"#000000\" fill-rule=\"nonzero\" fill-opacity=\"1\" /><path clip-path=\"url(#clip470)\" d=\"M2248.65 178.097 L2252.36 178.097 Q2255.83 183.56 2257.54 188.791 Q2259.28 194.022 2259.28 199.184 Q2259.28 204.37 2257.54 209.624 Q2255.83 214.879 2252.36 220.319 L2248.65 220.319 Q2251.73 215.018 2253.24 209.786 Q2254.77 204.532 2254.77 199.184 Q2254.77 193.837 2253.24 188.629 Q2251.73 183.421 2248.65 178.097 Z\" fill=\"#000000\" fill-rule=\"nonzero\" fill-opacity=\"1\" /></svg>\n"
      ],
      "text/html": [
       "<?xml version=\"1.0\" encoding=\"utf-8\"?>\n",
       "<svg xmlns=\"http://www.w3.org/2000/svg\" xmlns:xlink=\"http://www.w3.org/1999/xlink\" width=\"600\" height=\"400\" viewBox=\"0 0 2400 1600\">\n",
       "<defs>\n",
       "  <clipPath id=\"clip520\">\n",
       "    <rect x=\"0\" y=\"0\" width=\"2400\" height=\"1600\"/>\n",
       "  </clipPath>\n",
       "</defs>\n",
       "<path clip-path=\"url(#clip520)\" d=\"M0 1600 L2400 1600 L2400 8.88178e-14 L0 8.88178e-14  Z\" fill=\"#ffffff\" fill-rule=\"evenodd\" fill-opacity=\"1\"/>\n",
       "<defs>\n",
       "  <clipPath id=\"clip521\">\n",
       "    <rect x=\"480\" y=\"0\" width=\"1681\" height=\"1600\"/>\n",
       "  </clipPath>\n",
       "</defs>\n",
       "<path clip-path=\"url(#clip520)\" d=\"M249.542 1423.18 L2352.76 1423.18 L2352.76 47.2441 L249.542 47.2441  Z\" fill=\"#ffffff\" fill-rule=\"evenodd\" fill-opacity=\"1\"/>\n",
       "<defs>\n",
       "  <clipPath id=\"clip522\">\n",
       "    <rect x=\"249\" y=\"47\" width=\"2104\" height=\"1377\"/>\n",
       "  </clipPath>\n",
       "</defs>\n",
       "<polyline clip-path=\"url(#clip522)\" style=\"stroke:#000000; stroke-linecap:round; stroke-linejoin:round; stroke-width:2; stroke-opacity:0.1; fill:none\" points=\"347.426,1423.18 347.426,47.2441 \"/>\n",
       "<polyline clip-path=\"url(#clip522)\" style=\"stroke:#000000; stroke-linecap:round; stroke-linejoin:round; stroke-width:2; stroke-opacity:0.1; fill:none\" points=\"776.522,1423.18 776.522,47.2441 \"/>\n",
       "<polyline clip-path=\"url(#clip522)\" style=\"stroke:#000000; stroke-linecap:round; stroke-linejoin:round; stroke-width:2; stroke-opacity:0.1; fill:none\" points=\"1205.62,1423.18 1205.62,47.2441 \"/>\n",
       "<polyline clip-path=\"url(#clip522)\" style=\"stroke:#000000; stroke-linecap:round; stroke-linejoin:round; stroke-width:2; stroke-opacity:0.1; fill:none\" points=\"1634.71,1423.18 1634.71,47.2441 \"/>\n",
       "<polyline clip-path=\"url(#clip522)\" style=\"stroke:#000000; stroke-linecap:round; stroke-linejoin:round; stroke-width:2; stroke-opacity:0.1; fill:none\" points=\"2063.81,1423.18 2063.81,47.2441 \"/>\n",
       "<polyline clip-path=\"url(#clip522)\" style=\"stroke:#000000; stroke-linecap:round; stroke-linejoin:round; stroke-width:2; stroke-opacity:0.1; fill:none\" points=\"249.542,1384.24 2352.76,1384.24 \"/>\n",
       "<polyline clip-path=\"url(#clip522)\" style=\"stroke:#000000; stroke-linecap:round; stroke-linejoin:round; stroke-width:2; stroke-opacity:0.1; fill:none\" points=\"249.542,1059.73 2352.76,1059.73 \"/>\n",
       "<polyline clip-path=\"url(#clip522)\" style=\"stroke:#000000; stroke-linecap:round; stroke-linejoin:round; stroke-width:2; stroke-opacity:0.1; fill:none\" points=\"249.542,735.212 2352.76,735.212 \"/>\n",
       "<polyline clip-path=\"url(#clip522)\" style=\"stroke:#000000; stroke-linecap:round; stroke-linejoin:round; stroke-width:2; stroke-opacity:0.1; fill:none\" points=\"249.542,410.699 2352.76,410.699 \"/>\n",
       "<polyline clip-path=\"url(#clip522)\" style=\"stroke:#000000; stroke-linecap:round; stroke-linejoin:round; stroke-width:2; stroke-opacity:0.1; fill:none\" points=\"249.542,86.1857 2352.76,86.1857 \"/>\n",
       "<polyline clip-path=\"url(#clip520)\" style=\"stroke:#000000; stroke-linecap:round; stroke-linejoin:round; stroke-width:4; stroke-opacity:1; fill:none\" points=\"249.542,1423.18 2352.76,1423.18 \"/>\n",
       "<polyline clip-path=\"url(#clip520)\" style=\"stroke:#000000; stroke-linecap:round; stroke-linejoin:round; stroke-width:4; stroke-opacity:1; fill:none\" points=\"347.426,1423.18 347.426,1404.28 \"/>\n",
       "<polyline clip-path=\"url(#clip520)\" style=\"stroke:#000000; stroke-linecap:round; stroke-linejoin:round; stroke-width:4; stroke-opacity:1; fill:none\" points=\"776.522,1423.18 776.522,1404.28 \"/>\n",
       "<polyline clip-path=\"url(#clip520)\" style=\"stroke:#000000; stroke-linecap:round; stroke-linejoin:round; stroke-width:4; stroke-opacity:1; fill:none\" points=\"1205.62,1423.18 1205.62,1404.28 \"/>\n",
       "<polyline clip-path=\"url(#clip520)\" style=\"stroke:#000000; stroke-linecap:round; stroke-linejoin:round; stroke-width:4; stroke-opacity:1; fill:none\" points=\"1634.71,1423.18 1634.71,1404.28 \"/>\n",
       "<polyline clip-path=\"url(#clip520)\" style=\"stroke:#000000; stroke-linecap:round; stroke-linejoin:round; stroke-width:4; stroke-opacity:1; fill:none\" points=\"2063.81,1423.18 2063.81,1404.28 \"/>\n",
       "<path clip-path=\"url(#clip520)\" d=\"M294.753 1468.75 L324.429 1468.75 L324.429 1472.69 L294.753 1472.69 L294.753 1468.75 Z\" fill=\"#000000\" fill-rule=\"nonzero\" fill-opacity=\"1\" /><path clip-path=\"url(#clip520)\" d=\"M344.521 1454.1 Q340.91 1454.1 339.081 1457.66 Q337.276 1461.2 337.276 1468.33 Q337.276 1475.44 339.081 1479.01 Q340.91 1482.55 344.521 1482.55 Q348.155 1482.55 349.961 1479.01 Q351.79 1475.44 351.79 1468.33 Q351.79 1461.2 349.961 1457.66 Q348.155 1454.1 344.521 1454.1 M344.521 1450.39 Q350.331 1450.39 353.387 1455 Q356.465 1459.58 356.465 1468.33 Q356.465 1477.06 353.387 1481.67 Q350.331 1486.25 344.521 1486.25 Q338.711 1486.25 335.632 1481.67 Q332.577 1477.06 332.577 1468.33 Q332.577 1459.58 335.632 1455 Q338.711 1450.39 344.521 1450.39 Z\" fill=\"#000000\" fill-rule=\"nonzero\" fill-opacity=\"1\" /><path clip-path=\"url(#clip520)\" d=\"M364.683 1479.7 L369.567 1479.7 L369.567 1485.58 L364.683 1485.58 L364.683 1479.7 Z\" fill=\"#000000\" fill-rule=\"nonzero\" fill-opacity=\"1\" /><path clip-path=\"url(#clip520)\" d=\"M383.78 1481.64 L400.099 1481.64 L400.099 1485.58 L378.155 1485.58 L378.155 1481.64 Q380.817 1478.89 385.4 1474.26 Q390.007 1469.61 391.187 1468.27 Q393.433 1465.74 394.312 1464.01 Q395.215 1462.25 395.215 1460.56 Q395.215 1457.8 393.271 1456.07 Q391.35 1454.33 388.248 1454.33 Q386.049 1454.33 383.595 1455.09 Q381.164 1455.86 378.387 1457.41 L378.387 1452.69 Q381.211 1451.55 383.664 1450.97 Q386.118 1450.39 388.155 1450.39 Q393.525 1450.39 396.72 1453.08 Q399.914 1455.77 399.914 1460.26 Q399.914 1462.39 399.104 1464.31 Q398.317 1466.2 396.211 1468.8 Q395.632 1469.47 392.53 1472.69 Q389.428 1475.88 383.78 1481.64 Z\" fill=\"#000000\" fill-rule=\"nonzero\" fill-opacity=\"1\" /><path clip-path=\"url(#clip520)\" d=\"M723.664 1468.75 L753.34 1468.75 L753.34 1472.69 L723.664 1472.69 L723.664 1468.75 Z\" fill=\"#000000\" fill-rule=\"nonzero\" fill-opacity=\"1\" /><path clip-path=\"url(#clip520)\" d=\"M773.432 1454.1 Q769.821 1454.1 767.992 1457.66 Q766.187 1461.2 766.187 1468.33 Q766.187 1475.44 767.992 1479.01 Q769.821 1482.55 773.432 1482.55 Q777.066 1482.55 778.872 1479.01 Q780.701 1475.44 780.701 1468.33 Q780.701 1461.2 778.872 1457.66 Q777.066 1454.1 773.432 1454.1 M773.432 1450.39 Q779.242 1450.39 782.298 1455 Q785.376 1459.58 785.376 1468.33 Q785.376 1477.06 782.298 1481.67 Q779.242 1486.25 773.432 1486.25 Q767.622 1486.25 764.543 1481.67 Q761.488 1477.06 761.488 1468.33 Q761.488 1459.58 764.543 1455 Q767.622 1450.39 773.432 1450.39 Z\" fill=\"#000000\" fill-rule=\"nonzero\" fill-opacity=\"1\" /><path clip-path=\"url(#clip520)\" d=\"M793.594 1479.7 L798.478 1479.7 L798.478 1485.58 L793.594 1485.58 L793.594 1479.7 Z\" fill=\"#000000\" fill-rule=\"nonzero\" fill-opacity=\"1\" /><path clip-path=\"url(#clip520)\" d=\"M809.474 1481.64 L817.112 1481.64 L817.112 1455.28 L808.802 1456.95 L808.802 1452.69 L817.066 1451.02 L821.742 1451.02 L821.742 1481.64 L829.381 1481.64 L829.381 1485.58 L809.474 1485.58 L809.474 1481.64 Z\" fill=\"#000000\" fill-rule=\"nonzero\" fill-opacity=\"1\" /><path clip-path=\"url(#clip520)\" d=\"M1183 1454.1 Q1179.39 1454.1 1177.56 1457.66 Q1175.76 1461.2 1175.76 1468.33 Q1175.76 1475.44 1177.56 1479.01 Q1179.39 1482.55 1183 1482.55 Q1186.64 1482.55 1188.44 1479.01 Q1190.27 1475.44 1190.27 1468.33 Q1190.27 1461.2 1188.44 1457.66 Q1186.64 1454.1 1183 1454.1 M1183 1450.39 Q1188.81 1450.39 1191.87 1455 Q1194.95 1459.58 1194.95 1468.33 Q1194.95 1477.06 1191.87 1481.67 Q1188.81 1486.25 1183 1486.25 Q1177.19 1486.25 1174.11 1481.67 Q1171.06 1477.06 1171.06 1468.33 Q1171.06 1459.58 1174.11 1455 Q1177.19 1450.39 1183 1450.39 Z\" fill=\"#000000\" fill-rule=\"nonzero\" fill-opacity=\"1\" /><path clip-path=\"url(#clip520)\" d=\"M1203.16 1479.7 L1208.05 1479.7 L1208.05 1485.58 L1203.16 1485.58 L1203.16 1479.7 Z\" fill=\"#000000\" fill-rule=\"nonzero\" fill-opacity=\"1\" /><path clip-path=\"url(#clip520)\" d=\"M1228.23 1454.1 Q1224.62 1454.1 1222.79 1457.66 Q1220.99 1461.2 1220.99 1468.33 Q1220.99 1475.44 1222.79 1479.01 Q1224.62 1482.55 1228.23 1482.55 Q1231.87 1482.55 1233.67 1479.01 Q1235.5 1475.44 1235.5 1468.33 Q1235.5 1461.2 1233.67 1457.66 Q1231.87 1454.1 1228.23 1454.1 M1228.23 1450.39 Q1234.04 1450.39 1237.1 1455 Q1240.18 1459.58 1240.18 1468.33 Q1240.18 1477.06 1237.1 1481.67 Q1234.04 1486.25 1228.23 1486.25 Q1222.42 1486.25 1219.35 1481.67 Q1216.29 1477.06 1216.29 1468.33 Q1216.29 1459.58 1219.35 1455 Q1222.42 1450.39 1228.23 1450.39 Z\" fill=\"#000000\" fill-rule=\"nonzero\" fill-opacity=\"1\" /><path clip-path=\"url(#clip520)\" d=\"M1612.71 1454.1 Q1609.1 1454.1 1607.27 1457.66 Q1605.47 1461.2 1605.47 1468.33 Q1605.47 1475.44 1607.27 1479.01 Q1609.1 1482.55 1612.71 1482.55 Q1616.35 1482.55 1618.15 1479.01 Q1619.98 1475.44 1619.98 1468.33 Q1619.98 1461.2 1618.15 1457.66 Q1616.35 1454.1 1612.71 1454.1 M1612.71 1450.39 Q1618.52 1450.39 1621.58 1455 Q1624.66 1459.58 1624.66 1468.33 Q1624.66 1477.06 1621.58 1481.67 Q1618.52 1486.25 1612.71 1486.25 Q1606.9 1486.25 1603.82 1481.67 Q1600.77 1477.06 1600.77 1468.33 Q1600.77 1459.58 1603.82 1455 Q1606.9 1450.39 1612.71 1450.39 Z\" fill=\"#000000\" fill-rule=\"nonzero\" fill-opacity=\"1\" /><path clip-path=\"url(#clip520)\" d=\"M1632.87 1479.7 L1637.76 1479.7 L1637.76 1485.58 L1632.87 1485.58 L1632.87 1479.7 Z\" fill=\"#000000\" fill-rule=\"nonzero\" fill-opacity=\"1\" /><path clip-path=\"url(#clip520)\" d=\"M1648.75 1481.64 L1656.39 1481.64 L1656.39 1455.28 L1648.08 1456.95 L1648.08 1452.69 L1656.35 1451.02 L1661.02 1451.02 L1661.02 1481.64 L1668.66 1481.64 L1668.66 1485.58 L1648.75 1485.58 L1648.75 1481.64 Z\" fill=\"#000000\" fill-rule=\"nonzero\" fill-opacity=\"1\" /><path clip-path=\"url(#clip520)\" d=\"M2041.99 1454.1 Q2038.38 1454.1 2036.55 1457.66 Q2034.75 1461.2 2034.75 1468.33 Q2034.75 1475.44 2036.55 1479.01 Q2038.38 1482.55 2041.99 1482.55 Q2045.63 1482.55 2047.43 1479.01 Q2049.26 1475.44 2049.26 1468.33 Q2049.26 1461.2 2047.43 1457.66 Q2045.63 1454.1 2041.99 1454.1 M2041.99 1450.39 Q2047.8 1450.39 2050.86 1455 Q2053.94 1459.58 2053.94 1468.33 Q2053.94 1477.06 2050.86 1481.67 Q2047.8 1486.25 2041.99 1486.25 Q2036.18 1486.25 2033.1 1481.67 Q2030.05 1477.06 2030.05 1468.33 Q2030.05 1459.58 2033.1 1455 Q2036.18 1450.39 2041.99 1450.39 Z\" fill=\"#000000\" fill-rule=\"nonzero\" fill-opacity=\"1\" /><path clip-path=\"url(#clip520)\" d=\"M2062.16 1479.7 L2067.04 1479.7 L2067.04 1485.58 L2062.16 1485.58 L2062.16 1479.7 Z\" fill=\"#000000\" fill-rule=\"nonzero\" fill-opacity=\"1\" /><path clip-path=\"url(#clip520)\" d=\"M2081.25 1481.64 L2097.57 1481.64 L2097.57 1485.58 L2075.63 1485.58 L2075.63 1481.64 Q2078.29 1478.89 2082.87 1474.26 Q2087.48 1469.61 2088.66 1468.27 Q2090.91 1465.74 2091.79 1464.01 Q2092.69 1462.25 2092.69 1460.56 Q2092.69 1457.8 2090.74 1456.07 Q2088.82 1454.33 2085.72 1454.33 Q2083.52 1454.33 2081.07 1455.09 Q2078.64 1455.86 2075.86 1457.41 L2075.86 1452.69 Q2078.68 1451.55 2081.14 1450.97 Q2083.59 1450.39 2085.63 1450.39 Q2091 1450.39 2094.19 1453.08 Q2097.39 1455.77 2097.39 1460.26 Q2097.39 1462.39 2096.58 1464.31 Q2095.79 1466.2 2093.68 1468.8 Q2093.1 1469.47 2090 1472.69 Q2086.9 1475.88 2081.25 1481.64 Z\" fill=\"#000000\" fill-rule=\"nonzero\" fill-opacity=\"1\" /><path clip-path=\"url(#clip520)\" d=\"M1029.48 1520.52 L1056.79 1520.52 L1056.79 1525.93 L1035.91 1525.93 L1035.91 1539.94 L1054.75 1539.94 L1054.75 1545.35 L1035.91 1545.35 L1035.91 1568.04 L1029.48 1568.04 L1029.48 1520.52 Z\" fill=\"#000000\" fill-rule=\"nonzero\" fill-opacity=\"1\" /><path clip-path=\"url(#clip520)\" d=\"M1082.63 1537.87 Q1081.64 1537.3 1080.47 1537.04 Q1079.32 1536.76 1077.92 1536.76 Q1072.95 1536.76 1070.28 1540 Q1067.64 1543.22 1067.64 1549.27 L1067.64 1568.04 L1061.75 1568.04 L1061.75 1532.4 L1067.64 1532.4 L1067.64 1537.93 Q1069.48 1534.69 1072.45 1533.13 Q1075.41 1531.54 1079.64 1531.54 Q1080.24 1531.54 1080.98 1531.63 Q1081.71 1531.7 1082.6 1531.85 L1082.63 1537.87 Z\" fill=\"#000000\" fill-rule=\"nonzero\" fill-opacity=\"1\" /><path clip-path=\"url(#clip520)\" d=\"M1104.97 1550.12 Q1097.88 1550.12 1095.14 1551.75 Q1092.4 1553.37 1092.4 1557.29 Q1092.4 1560.4 1094.44 1562.25 Q1096.51 1564.07 1100.04 1564.07 Q1104.91 1564.07 1107.84 1560.63 Q1110.8 1557.16 1110.8 1551.43 L1110.8 1550.12 L1104.97 1550.12 M1116.65 1547.71 L1116.65 1568.04 L1110.8 1568.04 L1110.8 1562.63 Q1108.79 1565.88 1105.8 1567.44 Q1102.81 1568.97 1098.48 1568.97 Q1093.01 1568.97 1089.76 1565.91 Q1086.55 1562.82 1086.55 1557.67 Q1086.55 1551.65 1090.56 1548.6 Q1094.6 1545.54 1102.59 1545.54 L1110.8 1545.54 L1110.8 1544.97 Q1110.8 1540.93 1108.12 1538.73 Q1105.48 1536.5 1100.68 1536.5 Q1097.62 1536.5 1094.73 1537.23 Q1091.83 1537.97 1089.16 1539.43 L1089.16 1534.02 Q1092.37 1532.78 1095.39 1532.17 Q1098.42 1531.54 1101.28 1531.54 Q1109.02 1531.54 1112.84 1535.55 Q1116.65 1539.56 1116.65 1547.71 Z\" fill=\"#000000\" fill-rule=\"nonzero\" fill-opacity=\"1\" /><path clip-path=\"url(#clip520)\" d=\"M1154.37 1533.76 L1154.37 1539.24 Q1151.89 1537.87 1149.37 1537.2 Q1146.89 1536.5 1144.35 1536.5 Q1138.65 1536.5 1135.5 1540.13 Q1132.35 1543.73 1132.35 1550.25 Q1132.35 1556.78 1135.5 1560.4 Q1138.65 1564 1144.35 1564 Q1146.89 1564 1149.37 1563.33 Q1151.89 1562.63 1154.37 1561.26 L1154.37 1566.68 Q1151.92 1567.82 1149.28 1568.39 Q1146.67 1568.97 1143.71 1568.97 Q1135.66 1568.97 1130.91 1563.91 Q1126.17 1558.85 1126.17 1550.25 Q1126.17 1541.53 1130.95 1536.53 Q1135.75 1531.54 1144.09 1531.54 Q1146.8 1531.54 1149.37 1532.11 Q1151.95 1532.65 1154.37 1533.76 Z\" fill=\"#000000\" fill-rule=\"nonzero\" fill-opacity=\"1\" /><path clip-path=\"url(#clip520)\" d=\"M1170.35 1522.27 L1170.35 1532.4 L1182.41 1532.4 L1182.41 1536.95 L1170.35 1536.95 L1170.35 1556.3 Q1170.35 1560.66 1171.53 1561.9 Q1172.74 1563.14 1176.4 1563.14 L1182.41 1563.14 L1182.41 1568.04 L1176.4 1568.04 Q1169.62 1568.04 1167.04 1565.53 Q1164.46 1562.98 1164.46 1556.3 L1164.46 1536.95 L1160.16 1536.95 L1160.16 1532.4 L1164.46 1532.4 L1164.46 1522.27 L1170.35 1522.27 Z\" fill=\"#000000\" fill-rule=\"nonzero\" fill-opacity=\"1\" /><path clip-path=\"url(#clip520)\" d=\"M1190.12 1532.4 L1195.97 1532.4 L1195.97 1568.04 L1190.12 1568.04 L1190.12 1532.4 M1190.12 1518.52 L1195.97 1518.52 L1195.97 1525.93 L1190.12 1525.93 L1190.12 1518.52 Z\" fill=\"#000000\" fill-rule=\"nonzero\" fill-opacity=\"1\" /><path clip-path=\"url(#clip520)\" d=\"M1222.04 1536.5 Q1217.33 1536.5 1214.59 1540.19 Q1211.85 1543.85 1211.85 1550.25 Q1211.85 1556.65 1214.56 1560.34 Q1217.3 1564 1222.04 1564 Q1226.72 1564 1229.46 1560.31 Q1232.19 1556.62 1232.19 1550.25 Q1232.19 1543.92 1229.46 1540.23 Q1226.72 1536.5 1222.04 1536.5 M1222.04 1531.54 Q1229.68 1531.54 1234.04 1536.5 Q1238.4 1541.47 1238.4 1550.25 Q1238.4 1559 1234.04 1564 Q1229.68 1568.97 1222.04 1568.97 Q1214.37 1568.97 1210.01 1564 Q1205.68 1559 1205.68 1550.25 Q1205.68 1541.47 1210.01 1536.5 Q1214.37 1531.54 1222.04 1531.54 Z\" fill=\"#000000\" fill-rule=\"nonzero\" fill-opacity=\"1\" /><path clip-path=\"url(#clip520)\" d=\"M1277.74 1546.53 L1277.74 1568.04 L1271.88 1568.04 L1271.88 1546.72 Q1271.88 1541.66 1269.91 1539.14 Q1267.94 1536.63 1263.99 1536.63 Q1259.25 1536.63 1256.51 1539.65 Q1253.77 1542.68 1253.77 1547.9 L1253.77 1568.04 L1247.88 1568.04 L1247.88 1532.4 L1253.77 1532.4 L1253.77 1537.93 Q1255.87 1534.72 1258.71 1533.13 Q1261.57 1531.54 1265.29 1531.54 Q1271.44 1531.54 1274.59 1535.36 Q1277.74 1539.14 1277.74 1546.53 Z\" fill=\"#000000\" fill-rule=\"nonzero\" fill-opacity=\"1\" /><path clip-path=\"url(#clip520)\" d=\"M1305.62 1550.12 Q1298.52 1550.12 1295.79 1551.75 Q1293.05 1553.37 1293.05 1557.29 Q1293.05 1560.4 1295.09 1562.25 Q1297.15 1564.07 1300.69 1564.07 Q1305.56 1564.07 1308.49 1560.63 Q1311.45 1557.16 1311.45 1551.43 L1311.45 1550.12 L1305.62 1550.12 M1317.3 1547.71 L1317.3 1568.04 L1311.45 1568.04 L1311.45 1562.63 Q1309.44 1565.88 1306.45 1567.44 Q1303.46 1568.97 1299.13 1568.97 Q1293.65 1568.97 1290.41 1565.91 Q1287.19 1562.82 1287.19 1557.67 Q1287.19 1551.65 1291.2 1548.6 Q1295.24 1545.54 1303.23 1545.54 L1311.45 1545.54 L1311.45 1544.97 Q1311.45 1540.93 1308.77 1538.73 Q1306.13 1536.5 1301.32 1536.5 Q1298.27 1536.5 1295.37 1537.23 Q1292.48 1537.97 1289.8 1539.43 L1289.8 1534.02 Q1293.02 1532.78 1296.04 1532.17 Q1299.06 1531.54 1301.93 1531.54 Q1309.66 1531.54 1313.48 1535.55 Q1317.3 1539.56 1317.3 1547.71 Z\" fill=\"#000000\" fill-rule=\"nonzero\" fill-opacity=\"1\" /><path clip-path=\"url(#clip520)\" d=\"M1329.36 1518.52 L1335.22 1518.52 L1335.22 1568.04 L1329.36 1568.04 L1329.36 1518.52 Z\" fill=\"#000000\" fill-rule=\"nonzero\" fill-opacity=\"1\" /><path clip-path=\"url(#clip520)\" d=\"M1390.99 1545.76 Q1393.05 1546.46 1395 1548.76 Q1396.97 1551.05 1398.94 1555.06 L1405.47 1568.04 L1398.56 1568.04 L1392.48 1555.85 Q1390.13 1551.08 1387.9 1549.52 Q1385.7 1547.96 1381.88 1547.96 L1374.88 1547.96 L1374.88 1568.04 L1368.45 1568.04 L1368.45 1520.52 L1382.96 1520.52 Q1391.11 1520.52 1395.12 1523.93 Q1399.13 1527.34 1399.13 1534.21 Q1399.13 1538.7 1397.03 1541.66 Q1394.96 1544.62 1390.99 1545.76 M1374.88 1525.81 L1374.88 1542.68 L1382.96 1542.68 Q1387.61 1542.68 1389.97 1540.54 Q1392.35 1538.38 1392.35 1534.21 Q1392.35 1530.04 1389.97 1527.94 Q1387.61 1525.81 1382.96 1525.81 L1374.88 1525.81 Z\" fill=\"#000000\" fill-rule=\"nonzero\" fill-opacity=\"1\" /><path clip-path=\"url(#clip520)\" d=\"M1441.05 1548.76 L1441.05 1551.62 L1414.12 1551.62 Q1414.51 1557.67 1417.75 1560.85 Q1421.03 1564 1426.86 1564 Q1430.23 1564 1433.38 1563.17 Q1436.56 1562.35 1439.68 1560.69 L1439.68 1566.23 Q1436.53 1567.57 1433.22 1568.27 Q1429.91 1568.97 1426.51 1568.97 Q1417.98 1568.97 1412.98 1564 Q1408.01 1559.04 1408.01 1550.57 Q1408.01 1541.82 1412.72 1536.69 Q1417.47 1531.54 1425.49 1531.54 Q1432.68 1531.54 1436.85 1536.18 Q1441.05 1540.8 1441.05 1548.76 M1435.19 1547.04 Q1435.13 1542.23 1432.49 1539.37 Q1429.88 1536.5 1425.55 1536.5 Q1420.65 1536.5 1417.69 1539.27 Q1414.76 1542.04 1414.32 1547.07 L1435.19 1547.04 Z\" fill=\"#000000\" fill-rule=\"nonzero\" fill-opacity=\"1\" /><path clip-path=\"url(#clip520)\" d=\"M1456.46 1522.27 L1456.46 1532.4 L1468.52 1532.4 L1468.52 1536.95 L1456.46 1536.95 L1456.46 1556.3 Q1456.46 1560.66 1457.63 1561.9 Q1458.84 1563.14 1462.5 1563.14 L1468.52 1563.14 L1468.52 1568.04 L1462.5 1568.04 Q1455.72 1568.04 1453.15 1565.53 Q1450.57 1562.98 1450.57 1556.3 L1450.57 1536.95 L1446.27 1536.95 L1446.27 1532.4 L1450.57 1532.4 L1450.57 1522.27 L1456.46 1522.27 Z\" fill=\"#000000\" fill-rule=\"nonzero\" fill-opacity=\"1\" /><path clip-path=\"url(#clip520)\" d=\"M1475.62 1553.98 L1475.62 1532.4 L1481.47 1532.4 L1481.47 1553.75 Q1481.47 1558.81 1483.45 1561.36 Q1485.42 1563.87 1489.37 1563.87 Q1494.11 1563.87 1496.85 1560.85 Q1499.62 1557.83 1499.62 1552.61 L1499.62 1532.4 L1505.47 1532.4 L1505.47 1568.04 L1499.62 1568.04 L1499.62 1562.57 Q1497.48 1565.82 1494.65 1567.41 Q1491.85 1568.97 1488.13 1568.97 Q1481.98 1568.97 1478.8 1565.15 Q1475.62 1561.33 1475.62 1553.98 M1490.35 1531.54 L1490.35 1531.54 Z\" fill=\"#000000\" fill-rule=\"nonzero\" fill-opacity=\"1\" /><path clip-path=\"url(#clip520)\" d=\"M1538.19 1537.87 Q1537.21 1537.3 1536.03 1537.04 Q1534.88 1536.76 1533.48 1536.76 Q1528.52 1536.76 1525.84 1540 Q1523.2 1543.22 1523.2 1549.27 L1523.2 1568.04 L1517.31 1568.04 L1517.31 1532.4 L1523.2 1532.4 L1523.2 1537.93 Q1525.05 1534.69 1528.01 1533.13 Q1530.97 1531.54 1535.2 1531.54 Q1535.8 1531.54 1536.54 1531.63 Q1537.27 1531.7 1538.16 1531.85 L1538.19 1537.87 Z\" fill=\"#000000\" fill-rule=\"nonzero\" fill-opacity=\"1\" /><path clip-path=\"url(#clip520)\" d=\"M1572.82 1546.53 L1572.82 1568.04 L1566.96 1568.04 L1566.96 1546.72 Q1566.96 1541.66 1564.99 1539.14 Q1563.02 1536.63 1559.07 1536.63 Q1554.33 1536.63 1551.59 1539.65 Q1548.85 1542.68 1548.85 1547.9 L1548.85 1568.04 L1542.97 1568.04 L1542.97 1532.4 L1548.85 1532.4 L1548.85 1537.93 Q1550.96 1534.72 1553.79 1533.13 Q1556.65 1531.54 1560.38 1531.54 Q1566.52 1531.54 1569.67 1535.36 Q1572.82 1539.14 1572.82 1546.53 Z\" fill=\"#000000\" fill-rule=\"nonzero\" fill-opacity=\"1\" /><polyline clip-path=\"url(#clip520)\" style=\"stroke:#000000; stroke-linecap:round; stroke-linejoin:round; stroke-width:4; stroke-opacity:1; fill:none\" points=\"249.542,1423.18 249.542,47.2441 \"/>\n",
       "<polyline clip-path=\"url(#clip520)\" style=\"stroke:#000000; stroke-linecap:round; stroke-linejoin:round; stroke-width:4; stroke-opacity:1; fill:none\" points=\"249.542,1384.24 268.44,1384.24 \"/>\n",
       "<polyline clip-path=\"url(#clip520)\" style=\"stroke:#000000; stroke-linecap:round; stroke-linejoin:round; stroke-width:4; stroke-opacity:1; fill:none\" points=\"249.542,1059.73 268.44,1059.73 \"/>\n",
       "<polyline clip-path=\"url(#clip520)\" style=\"stroke:#000000; stroke-linecap:round; stroke-linejoin:round; stroke-width:4; stroke-opacity:1; fill:none\" points=\"249.542,735.212 268.44,735.212 \"/>\n",
       "<polyline clip-path=\"url(#clip520)\" style=\"stroke:#000000; stroke-linecap:round; stroke-linejoin:round; stroke-width:4; stroke-opacity:1; fill:none\" points=\"249.542,410.699 268.44,410.699 \"/>\n",
       "<polyline clip-path=\"url(#clip520)\" style=\"stroke:#000000; stroke-linecap:round; stroke-linejoin:round; stroke-width:4; stroke-opacity:1; fill:none\" points=\"249.542,86.1857 268.44,86.1857 \"/>\n",
       "<path clip-path=\"url(#clip520)\" d=\"M126.205 1370.04 Q122.593 1370.04 120.765 1373.6 Q118.959 1377.14 118.959 1384.27 Q118.959 1391.38 120.765 1394.94 Q122.593 1398.49 126.205 1398.49 Q129.839 1398.49 131.644 1394.94 Q133.473 1391.38 133.473 1384.27 Q133.473 1377.14 131.644 1373.6 Q129.839 1370.04 126.205 1370.04 M126.205 1366.33 Q132.015 1366.33 135.07 1370.94 Q138.149 1375.52 138.149 1384.27 Q138.149 1393 135.07 1397.61 Q132.015 1402.19 126.205 1402.19 Q120.394 1402.19 117.316 1397.61 Q114.26 1393 114.26 1384.27 Q114.26 1375.52 117.316 1370.94 Q120.394 1366.33 126.205 1366.33 Z\" fill=\"#000000\" fill-rule=\"nonzero\" fill-opacity=\"1\" /><path clip-path=\"url(#clip520)\" d=\"M146.366 1395.64 L151.251 1395.64 L151.251 1401.52 L146.366 1401.52 L146.366 1395.64 Z\" fill=\"#000000\" fill-rule=\"nonzero\" fill-opacity=\"1\" /><path clip-path=\"url(#clip520)\" d=\"M171.436 1370.04 Q167.825 1370.04 165.996 1373.6 Q164.19 1377.14 164.19 1384.27 Q164.19 1391.38 165.996 1394.94 Q167.825 1398.49 171.436 1398.49 Q175.07 1398.49 176.876 1394.94 Q178.704 1391.38 178.704 1384.27 Q178.704 1377.14 176.876 1373.6 Q175.07 1370.04 171.436 1370.04 M171.436 1366.33 Q177.246 1366.33 180.301 1370.94 Q183.38 1375.52 183.38 1384.27 Q183.38 1393 180.301 1397.61 Q177.246 1402.19 171.436 1402.19 Q165.626 1402.19 162.547 1397.61 Q159.491 1393 159.491 1384.27 Q159.491 1375.52 162.547 1370.94 Q165.626 1366.33 171.436 1366.33 Z\" fill=\"#000000\" fill-rule=\"nonzero\" fill-opacity=\"1\" /><path clip-path=\"url(#clip520)\" d=\"M201.598 1370.04 Q197.987 1370.04 196.158 1373.6 Q194.352 1377.14 194.352 1384.27 Q194.352 1391.38 196.158 1394.94 Q197.987 1398.49 201.598 1398.49 Q205.232 1398.49 207.037 1394.94 Q208.866 1391.38 208.866 1384.27 Q208.866 1377.14 207.037 1373.6 Q205.232 1370.04 201.598 1370.04 M201.598 1366.33 Q207.408 1366.33 210.463 1370.94 Q213.542 1375.52 213.542 1384.27 Q213.542 1393 210.463 1397.61 Q207.408 1402.19 201.598 1402.19 Q195.787 1402.19 192.709 1397.61 Q189.653 1393 189.653 1384.27 Q189.653 1375.52 192.709 1370.94 Q195.787 1366.33 201.598 1366.33 Z\" fill=\"#000000\" fill-rule=\"nonzero\" fill-opacity=\"1\" /><path clip-path=\"url(#clip520)\" d=\"M127.2 1045.52 Q123.589 1045.52 121.76 1049.09 Q119.955 1052.63 119.955 1059.76 Q119.955 1066.87 121.76 1070.43 Q123.589 1073.97 127.2 1073.97 Q130.834 1073.97 132.64 1070.43 Q134.468 1066.87 134.468 1059.76 Q134.468 1052.63 132.64 1049.09 Q130.834 1045.52 127.2 1045.52 M127.2 1041.82 Q133.01 1041.82 136.066 1046.43 Q139.144 1051.01 139.144 1059.76 Q139.144 1068.49 136.066 1073.09 Q133.01 1077.68 127.2 1077.68 Q121.39 1077.68 118.311 1073.09 Q115.256 1068.49 115.256 1059.76 Q115.256 1051.01 118.311 1046.43 Q121.39 1041.82 127.2 1041.82 Z\" fill=\"#000000\" fill-rule=\"nonzero\" fill-opacity=\"1\" /><path clip-path=\"url(#clip520)\" d=\"M147.362 1071.13 L152.246 1071.13 L152.246 1077.01 L147.362 1077.01 L147.362 1071.13 Z\" fill=\"#000000\" fill-rule=\"nonzero\" fill-opacity=\"1\" /><path clip-path=\"url(#clip520)\" d=\"M166.459 1073.07 L182.778 1073.07 L182.778 1077.01 L160.834 1077.01 L160.834 1073.07 Q163.496 1070.32 168.079 1065.69 Q172.686 1061.03 173.866 1059.69 Q176.112 1057.17 176.991 1055.43 Q177.894 1053.67 177.894 1051.98 Q177.894 1049.23 175.95 1047.49 Q174.028 1045.76 170.927 1045.76 Q168.727 1045.76 166.274 1046.52 Q163.843 1047.28 161.065 1048.83 L161.065 1044.11 Q163.89 1042.98 166.343 1042.4 Q168.797 1041.82 170.834 1041.82 Q176.204 1041.82 179.399 1044.51 Q182.593 1047.19 182.593 1051.68 Q182.593 1053.81 181.783 1055.73 Q180.996 1057.63 178.889 1060.22 Q178.311 1060.89 175.209 1064.11 Q172.107 1067.31 166.459 1073.07 Z\" fill=\"#000000\" fill-rule=\"nonzero\" fill-opacity=\"1\" /><path clip-path=\"url(#clip520)\" d=\"M192.639 1042.45 L210.996 1042.45 L210.996 1046.38 L196.922 1046.38 L196.922 1054.85 Q197.94 1054.51 198.959 1054.34 Q199.977 1054.16 200.996 1054.16 Q206.783 1054.16 210.162 1057.33 Q213.542 1060.5 213.542 1065.92 Q213.542 1071.5 210.07 1074.6 Q206.598 1077.68 200.278 1077.68 Q198.102 1077.68 195.834 1077.31 Q193.588 1076.94 191.181 1076.19 L191.181 1071.5 Q193.264 1072.63 195.487 1073.19 Q197.709 1073.74 200.186 1073.74 Q204.19 1073.74 206.528 1071.63 Q208.866 1069.53 208.866 1065.92 Q208.866 1062.31 206.528 1060.2 Q204.19 1058.09 200.186 1058.09 Q198.311 1058.09 196.436 1058.51 Q194.584 1058.93 192.639 1059.81 L192.639 1042.45 Z\" fill=\"#000000\" fill-rule=\"nonzero\" fill-opacity=\"1\" /><path clip-path=\"url(#clip520)\" d=\"M126.205 721.011 Q122.593 721.011 120.765 724.575 Q118.959 728.117 118.959 735.247 Q118.959 742.353 120.765 745.918 Q122.593 749.46 126.205 749.46 Q129.839 749.46 131.644 745.918 Q133.473 742.353 133.473 735.247 Q133.473 728.117 131.644 724.575 Q129.839 721.011 126.205 721.011 M126.205 717.307 Q132.015 717.307 135.07 721.913 Q138.149 726.497 138.149 735.247 Q138.149 743.973 135.07 748.58 Q132.015 753.163 126.205 753.163 Q120.394 753.163 117.316 748.58 Q114.26 743.973 114.26 735.247 Q114.26 726.497 117.316 721.913 Q120.394 717.307 126.205 717.307 Z\" fill=\"#000000\" fill-rule=\"nonzero\" fill-opacity=\"1\" /><path clip-path=\"url(#clip520)\" d=\"M146.366 746.612 L151.251 746.612 L151.251 752.492 L146.366 752.492 L146.366 746.612 Z\" fill=\"#000000\" fill-rule=\"nonzero\" fill-opacity=\"1\" /><path clip-path=\"url(#clip520)\" d=\"M161.482 717.932 L179.839 717.932 L179.839 721.867 L165.765 721.867 L165.765 730.339 Q166.783 729.992 167.802 729.83 Q168.82 729.645 169.839 729.645 Q175.626 729.645 179.005 732.816 Q182.385 735.987 182.385 741.404 Q182.385 746.983 178.913 750.085 Q175.44 753.163 169.121 753.163 Q166.945 753.163 164.677 752.793 Q162.431 752.423 160.024 751.682 L160.024 746.983 Q162.107 748.117 164.329 748.673 Q166.552 749.228 169.028 749.228 Q173.033 749.228 175.371 747.122 Q177.709 745.015 177.709 741.404 Q177.709 737.793 175.371 735.687 Q173.033 733.58 169.028 733.58 Q167.153 733.58 165.278 733.997 Q163.427 734.413 161.482 735.293 L161.482 717.932 Z\" fill=\"#000000\" fill-rule=\"nonzero\" fill-opacity=\"1\" /><path clip-path=\"url(#clip520)\" d=\"M201.598 721.011 Q197.987 721.011 196.158 724.575 Q194.352 728.117 194.352 735.247 Q194.352 742.353 196.158 745.918 Q197.987 749.46 201.598 749.46 Q205.232 749.46 207.037 745.918 Q208.866 742.353 208.866 735.247 Q208.866 728.117 207.037 724.575 Q205.232 721.011 201.598 721.011 M201.598 717.307 Q207.408 717.307 210.463 721.913 Q213.542 726.497 213.542 735.247 Q213.542 743.973 210.463 748.58 Q207.408 753.163 201.598 753.163 Q195.787 753.163 192.709 748.58 Q189.653 743.973 189.653 735.247 Q189.653 726.497 192.709 721.913 Q195.787 717.307 201.598 717.307 Z\" fill=\"#000000\" fill-rule=\"nonzero\" fill-opacity=\"1\" /><path clip-path=\"url(#clip520)\" d=\"M127.2 396.498 Q123.589 396.498 121.76 400.062 Q119.955 403.604 119.955 410.734 Q119.955 417.84 121.76 421.405 Q123.589 424.946 127.2 424.946 Q130.834 424.946 132.64 421.405 Q134.468 417.84 134.468 410.734 Q134.468 403.604 132.64 400.062 Q130.834 396.498 127.2 396.498 M127.2 392.794 Q133.01 392.794 136.066 397.4 Q139.144 401.984 139.144 410.734 Q139.144 419.46 136.066 424.067 Q133.01 428.65 127.2 428.65 Q121.39 428.65 118.311 424.067 Q115.256 419.46 115.256 410.734 Q115.256 401.984 118.311 397.4 Q121.39 392.794 127.2 392.794 Z\" fill=\"#000000\" fill-rule=\"nonzero\" fill-opacity=\"1\" /><path clip-path=\"url(#clip520)\" d=\"M147.362 422.099 L152.246 422.099 L152.246 427.979 L147.362 427.979 L147.362 422.099 Z\" fill=\"#000000\" fill-rule=\"nonzero\" fill-opacity=\"1\" /><path clip-path=\"url(#clip520)\" d=\"M161.251 393.419 L183.473 393.419 L183.473 395.41 L170.927 427.979 L166.042 427.979 L177.848 397.354 L161.251 397.354 L161.251 393.419 Z\" fill=\"#000000\" fill-rule=\"nonzero\" fill-opacity=\"1\" /><path clip-path=\"url(#clip520)\" d=\"M192.639 393.419 L210.996 393.419 L210.996 397.354 L196.922 397.354 L196.922 405.826 Q197.94 405.479 198.959 405.317 Q199.977 405.132 200.996 405.132 Q206.783 405.132 210.162 408.303 Q213.542 411.474 213.542 416.891 Q213.542 422.47 210.07 425.571 Q206.598 428.65 200.278 428.65 Q198.102 428.65 195.834 428.28 Q193.588 427.909 191.181 427.169 L191.181 422.47 Q193.264 423.604 195.487 424.159 Q197.709 424.715 200.186 424.715 Q204.19 424.715 206.528 422.608 Q208.866 420.502 208.866 416.891 Q208.866 413.28 206.528 411.173 Q204.19 409.067 200.186 409.067 Q198.311 409.067 196.436 409.484 Q194.584 409.9 192.639 410.78 L192.639 393.419 Z\" fill=\"#000000\" fill-rule=\"nonzero\" fill-opacity=\"1\" /><path clip-path=\"url(#clip520)\" d=\"M117.015 99.5305 L124.654 99.5305 L124.654 73.1649 L116.343 74.8316 L116.343 70.5723 L124.607 68.9057 L129.283 68.9057 L129.283 99.5305 L136.922 99.5305 L136.922 103.466 L117.015 103.466 L117.015 99.5305 Z\" fill=\"#000000\" fill-rule=\"nonzero\" fill-opacity=\"1\" /><path clip-path=\"url(#clip520)\" d=\"M146.366 97.5861 L151.251 97.5861 L151.251 103.466 L146.366 103.466 L146.366 97.5861 Z\" fill=\"#000000\" fill-rule=\"nonzero\" fill-opacity=\"1\" /><path clip-path=\"url(#clip520)\" d=\"M171.436 71.9844 Q167.825 71.9844 165.996 75.5492 Q164.19 79.0908 164.19 86.2204 Q164.19 93.3268 165.996 96.8916 Q167.825 100.433 171.436 100.433 Q175.07 100.433 176.876 96.8916 Q178.704 93.3268 178.704 86.2204 Q178.704 79.0908 176.876 75.5492 Q175.07 71.9844 171.436 71.9844 M171.436 68.2807 Q177.246 68.2807 180.301 72.8871 Q183.38 77.4704 183.38 86.2204 Q183.38 94.9472 180.301 99.5537 Q177.246 104.137 171.436 104.137 Q165.626 104.137 162.547 99.5537 Q159.491 94.9472 159.491 86.2204 Q159.491 77.4704 162.547 72.8871 Q165.626 68.2807 171.436 68.2807 Z\" fill=\"#000000\" fill-rule=\"nonzero\" fill-opacity=\"1\" /><path clip-path=\"url(#clip520)\" d=\"M201.598 71.9844 Q197.987 71.9844 196.158 75.5492 Q194.352 79.0908 194.352 86.2204 Q194.352 93.3268 196.158 96.8916 Q197.987 100.433 201.598 100.433 Q205.232 100.433 207.037 96.8916 Q208.866 93.3268 208.866 86.2204 Q208.866 79.0908 207.037 75.5492 Q205.232 71.9844 201.598 71.9844 M201.598 68.2807 Q207.408 68.2807 210.463 72.8871 Q213.542 77.4704 213.542 86.2204 Q213.542 94.9472 210.463 99.5537 Q207.408 104.137 201.598 104.137 Q195.787 104.137 192.709 99.5537 Q189.653 94.9472 189.653 86.2204 Q189.653 77.4704 192.709 72.8871 Q195.787 68.2807 201.598 68.2807 Z\" fill=\"#000000\" fill-rule=\"nonzero\" fill-opacity=\"1\" /><path clip-path=\"url(#clip520)\" d=\"M21.7677 896.901 L39.6235 896.901 L39.6235 888.816 Q39.6235 884.329 37.3 881.878 Q34.9765 879.427 30.6797 879.427 Q26.4147 879.427 24.0912 881.878 Q21.7677 884.329 21.7677 888.816 L21.7677 896.901 M16.4842 903.33 L16.4842 888.816 Q16.4842 880.828 20.1126 876.753 Q23.7092 872.648 30.6797 872.648 Q37.7138 872.648 41.3104 876.753 Q44.907 880.828 44.907 888.816 L44.907 896.901 L64.0042 896.901 L64.0042 903.33 L16.4842 903.33 Z\" fill=\"#000000\" fill-rule=\"nonzero\" fill-opacity=\"1\" /><path clip-path=\"url(#clip520)\" d=\"M33.8307 844.766 Q33.2578 845.752 33.0032 846.93 Q32.7167 848.076 32.7167 849.476 Q32.7167 854.442 35.9632 857.115 Q39.1779 859.757 45.2253 859.757 L64.0042 859.757 L64.0042 865.645 L28.3562 865.645 L28.3562 859.757 L33.8944 859.757 Q30.6479 857.911 29.0883 854.951 Q27.4968 851.991 27.4968 847.758 Q27.4968 847.153 27.5923 846.421 Q27.656 845.689 27.8151 844.798 L33.8307 844.766 Z\" fill=\"#000000\" fill-rule=\"nonzero\" fill-opacity=\"1\" /><path clip-path=\"url(#clip520)\" d=\"M32.4621 826.242 Q32.4621 830.952 36.1542 833.689 Q39.8145 836.427 46.212 836.427 Q52.6095 836.427 56.3017 833.721 Q59.9619 830.984 59.9619 826.242 Q59.9619 821.563 56.2698 818.826 Q52.5777 816.088 46.212 816.088 Q39.8781 816.088 36.186 818.826 Q32.4621 821.563 32.4621 826.242 M27.4968 826.242 Q27.4968 818.603 32.4621 814.242 Q37.4273 809.882 46.212 809.882 Q54.9649 809.882 59.9619 814.242 Q64.9272 818.603 64.9272 826.242 Q64.9272 833.912 59.9619 838.273 Q54.9649 842.601 46.212 842.601 Q37.4273 842.601 32.4621 838.273 Q27.4968 833.912 27.4968 826.242 Z\" fill=\"#000000\" fill-rule=\"nonzero\" fill-opacity=\"1\" /><path clip-path=\"url(#clip520)\" d=\"M46.212 774.584 Q39.7508 774.584 36.0905 777.257 Q32.3984 779.899 32.3984 784.546 Q32.3984 789.193 36.0905 791.867 Q39.7508 794.509 46.212 794.509 Q52.6732 794.509 56.3653 791.867 Q60.0256 789.193 60.0256 784.546 Q60.0256 779.899 56.3653 777.257 Q52.6732 774.584 46.212 774.584 M33.7671 794.509 Q30.5842 792.662 29.0564 789.862 Q27.4968 787.029 27.4968 783.114 Q27.4968 776.621 32.6531 772.579 Q37.8093 768.505 46.212 768.505 Q54.6147 768.505 59.771 772.579 Q64.9272 776.621 64.9272 783.114 Q64.9272 787.029 63.3994 789.862 Q61.8398 792.662 58.657 794.509 L64.0042 794.509 L64.0042 800.397 L14.479 800.397 L14.479 794.509 L33.7671 794.509 Z\" fill=\"#000000\" fill-rule=\"nonzero\" fill-opacity=\"1\" /><path clip-path=\"url(#clip520)\" d=\"M46.0847 742.596 Q46.0847 749.694 47.7079 752.431 Q49.3312 755.168 53.2461 755.168 Q56.3653 755.168 58.2114 753.131 Q60.0256 751.063 60.0256 747.53 Q60.0256 742.66 56.5881 739.732 Q53.1188 736.772 47.3897 736.772 L46.0847 736.772 L46.0847 742.596 M43.6657 730.915 L64.0042 730.915 L64.0042 736.772 L58.5933 736.772 Q61.8398 738.777 63.3994 741.769 Q64.9272 744.761 64.9272 749.089 Q64.9272 754.564 61.8716 757.81 Q58.7843 761.025 53.6281 761.025 Q47.6125 761.025 44.5569 757.015 Q41.5014 752.972 41.5014 744.983 L41.5014 736.772 L40.9285 736.772 Q36.8862 736.772 34.6901 739.445 Q32.4621 742.087 32.4621 746.893 Q32.4621 749.949 33.1941 752.845 Q33.9262 755.741 35.3903 758.415 L29.9795 758.415 Q28.7381 755.2 28.1334 752.177 Q27.4968 749.153 27.4968 746.288 Q27.4968 738.554 31.5072 734.735 Q35.5176 730.915 43.6657 730.915 Z\" fill=\"#000000\" fill-rule=\"nonzero\" fill-opacity=\"1\" /><path clip-path=\"url(#clip520)\" d=\"M46.212 693.262 Q39.7508 693.262 36.0905 695.936 Q32.3984 698.577 32.3984 703.224 Q32.3984 707.871 36.0905 710.545 Q39.7508 713.187 46.212 713.187 Q52.6732 713.187 56.3653 710.545 Q60.0256 707.871 60.0256 703.224 Q60.0256 698.577 56.3653 695.936 Q52.6732 693.262 46.212 693.262 M33.7671 713.187 Q30.5842 711.341 29.0564 708.54 Q27.4968 705.707 27.4968 701.792 Q27.4968 695.299 32.6531 691.257 Q37.8093 687.183 46.212 687.183 Q54.6147 687.183 59.771 691.257 Q64.9272 695.299 64.9272 701.792 Q64.9272 705.707 63.3994 708.54 Q61.8398 711.341 58.657 713.187 L64.0042 713.187 L64.0042 719.075 L14.479 719.075 L14.479 713.187 L33.7671 713.187 Z\" fill=\"#000000\" fill-rule=\"nonzero\" fill-opacity=\"1\" /><path clip-path=\"url(#clip520)\" d=\"M28.3562 677.475 L28.3562 671.619 L64.0042 671.619 L64.0042 677.475 L28.3562 677.475 M14.479 677.475 L14.479 671.619 L21.895 671.619 L21.895 677.475 L14.479 677.475 Z\" fill=\"#000000\" fill-rule=\"nonzero\" fill-opacity=\"1\" /><path clip-path=\"url(#clip520)\" d=\"M14.479 659.365 L14.479 653.508 L64.0042 653.508 L64.0042 659.365 L14.479 659.365 Z\" fill=\"#000000\" fill-rule=\"nonzero\" fill-opacity=\"1\" /><path clip-path=\"url(#clip520)\" d=\"M28.3562 641.254 L28.3562 635.398 L64.0042 635.398 L64.0042 641.254 L28.3562 641.254 M14.479 641.254 L14.479 635.398 L21.895 635.398 L21.895 641.254 L14.479 641.254 Z\" fill=\"#000000\" fill-rule=\"nonzero\" fill-opacity=\"1\" /><path clip-path=\"url(#clip520)\" d=\"M18.2347 617.351 L28.3562 617.351 L28.3562 605.288 L32.9077 605.288 L32.9077 617.351 L52.2594 617.351 Q56.6199 617.351 57.8613 616.173 Q59.1026 614.964 59.1026 611.303 L59.1026 605.288 L64.0042 605.288 L64.0042 611.303 Q64.0042 618.083 61.4897 620.661 Q58.9434 623.239 52.2594 623.239 L32.9077 623.239 L32.9077 627.536 L28.3562 627.536 L28.3562 623.239 L18.2347 623.239 L18.2347 617.351 Z\" fill=\"#000000\" fill-rule=\"nonzero\" fill-opacity=\"1\" /><path clip-path=\"url(#clip520)\" d=\"M67.3143 582.753 Q73.68 585.236 75.6216 587.591 Q77.5631 589.947 77.5631 593.893 L77.5631 598.572 L72.6615 598.572 L72.6615 595.135 Q72.6615 592.716 71.5157 591.379 Q70.3699 590.042 66.1048 588.419 L63.4312 587.368 L28.3562 601.787 L28.3562 595.58 L56.238 584.44 L28.3562 573.3 L28.3562 567.094 L67.3143 582.753 Z\" fill=\"#000000\" fill-rule=\"nonzero\" fill-opacity=\"1\" /><polyline clip-path=\"url(#clip522)\" style=\"stroke:#000080; stroke-linecap:round; stroke-linejoin:round; stroke-width:12; stroke-opacity:1; fill:none\" points=\"309.067,1384.24 384.289,1384.24 461.179,1384.19 539.772,1384.08 620.108,1383.25 702.223,1380.24 786.158,1369.34 871.953,1341.09 959.65,1283.04 1049.29,1162.12 1140.92,997.107 1234.57,777.788 1330.31,562.259 1428.16,359.919 1528.18,224.195 1630.42,144.598 1734.93,104.41 1841.75,90.1837 1950.93,87.4318 2062.54,86.1857 2176.62,86.1857 2293.23,86.1857 \"/>\n",
       "<polyline clip-path=\"url(#clip522)\" style=\"stroke:#ff0000; stroke-linecap:round; stroke-linejoin:round; stroke-width:12; stroke-opacity:1; fill:none\" points=\"309.067,86.1857 384.289,86.1857 461.179,86.2376 539.772,86.3414 620.108,87.1722 702.223,90.1837 786.158,101.087 871.953,129.333 959.65,187.382 1049.29,308.308 1140.92,473.317 1234.57,692.636 1330.31,908.164 1428.16,1110.5 1528.18,1246.23 1630.42,1325.83 1734.93,1366.01 1841.75,1380.24 1950.93,1382.99 2062.54,1384.24 2176.62,1384.24 2293.23,1384.24 \"/>\n",
       "<circle clip-path=\"url(#clip522)\" cx=\"309.067\" cy=\"1384.24\" r=\"14.4\" fill=\"#ffffff\" fill-rule=\"evenodd\" fill-opacity=\"1\" stroke=\"#000000\" stroke-opacity=\"1\" stroke-width=\"3.2\"/>\n",
       "<circle clip-path=\"url(#clip522)\" cx=\"384.289\" cy=\"1384.24\" r=\"14.4\" fill=\"#ffffff\" fill-rule=\"evenodd\" fill-opacity=\"1\" stroke=\"#000000\" stroke-opacity=\"1\" stroke-width=\"3.2\"/>\n",
       "<circle clip-path=\"url(#clip522)\" cx=\"461.179\" cy=\"1384.19\" r=\"14.4\" fill=\"#ffffff\" fill-rule=\"evenodd\" fill-opacity=\"1\" stroke=\"#000000\" stroke-opacity=\"1\" stroke-width=\"3.2\"/>\n",
       "<circle clip-path=\"url(#clip522)\" cx=\"539.772\" cy=\"1384.08\" r=\"14.4\" fill=\"#ffffff\" fill-rule=\"evenodd\" fill-opacity=\"1\" stroke=\"#000000\" stroke-opacity=\"1\" stroke-width=\"3.2\"/>\n",
       "<circle clip-path=\"url(#clip522)\" cx=\"620.108\" cy=\"1383.25\" r=\"14.4\" fill=\"#ffffff\" fill-rule=\"evenodd\" fill-opacity=\"1\" stroke=\"#000000\" stroke-opacity=\"1\" stroke-width=\"3.2\"/>\n",
       "<circle clip-path=\"url(#clip522)\" cx=\"702.223\" cy=\"1380.24\" r=\"14.4\" fill=\"#ffffff\" fill-rule=\"evenodd\" fill-opacity=\"1\" stroke=\"#000000\" stroke-opacity=\"1\" stroke-width=\"3.2\"/>\n",
       "<circle clip-path=\"url(#clip522)\" cx=\"786.158\" cy=\"1369.34\" r=\"14.4\" fill=\"#ffffff\" fill-rule=\"evenodd\" fill-opacity=\"1\" stroke=\"#000000\" stroke-opacity=\"1\" stroke-width=\"3.2\"/>\n",
       "<circle clip-path=\"url(#clip522)\" cx=\"871.953\" cy=\"1341.09\" r=\"14.4\" fill=\"#ffffff\" fill-rule=\"evenodd\" fill-opacity=\"1\" stroke=\"#000000\" stroke-opacity=\"1\" stroke-width=\"3.2\"/>\n",
       "<circle clip-path=\"url(#clip522)\" cx=\"959.65\" cy=\"1283.04\" r=\"14.4\" fill=\"#ffffff\" fill-rule=\"evenodd\" fill-opacity=\"1\" stroke=\"#000000\" stroke-opacity=\"1\" stroke-width=\"3.2\"/>\n",
       "<circle clip-path=\"url(#clip522)\" cx=\"1049.29\" cy=\"1162.12\" r=\"14.4\" fill=\"#ffffff\" fill-rule=\"evenodd\" fill-opacity=\"1\" stroke=\"#000000\" stroke-opacity=\"1\" stroke-width=\"3.2\"/>\n",
       "<circle clip-path=\"url(#clip522)\" cx=\"1140.92\" cy=\"997.107\" r=\"14.4\" fill=\"#ffffff\" fill-rule=\"evenodd\" fill-opacity=\"1\" stroke=\"#000000\" stroke-opacity=\"1\" stroke-width=\"3.2\"/>\n",
       "<circle clip-path=\"url(#clip522)\" cx=\"1234.57\" cy=\"777.788\" r=\"14.4\" fill=\"#ffffff\" fill-rule=\"evenodd\" fill-opacity=\"1\" stroke=\"#000000\" stroke-opacity=\"1\" stroke-width=\"3.2\"/>\n",
       "<circle clip-path=\"url(#clip522)\" cx=\"1330.31\" cy=\"562.259\" r=\"14.4\" fill=\"#ffffff\" fill-rule=\"evenodd\" fill-opacity=\"1\" stroke=\"#000000\" stroke-opacity=\"1\" stroke-width=\"3.2\"/>\n",
       "<circle clip-path=\"url(#clip522)\" cx=\"1428.16\" cy=\"359.919\" r=\"14.4\" fill=\"#ffffff\" fill-rule=\"evenodd\" fill-opacity=\"1\" stroke=\"#000000\" stroke-opacity=\"1\" stroke-width=\"3.2\"/>\n",
       "<circle clip-path=\"url(#clip522)\" cx=\"1528.18\" cy=\"224.195\" r=\"14.4\" fill=\"#ffffff\" fill-rule=\"evenodd\" fill-opacity=\"1\" stroke=\"#000000\" stroke-opacity=\"1\" stroke-width=\"3.2\"/>\n",
       "<circle clip-path=\"url(#clip522)\" cx=\"1630.42\" cy=\"144.598\" r=\"14.4\" fill=\"#ffffff\" fill-rule=\"evenodd\" fill-opacity=\"1\" stroke=\"#000000\" stroke-opacity=\"1\" stroke-width=\"3.2\"/>\n",
       "<circle clip-path=\"url(#clip522)\" cx=\"1734.93\" cy=\"104.41\" r=\"14.4\" fill=\"#ffffff\" fill-rule=\"evenodd\" fill-opacity=\"1\" stroke=\"#000000\" stroke-opacity=\"1\" stroke-width=\"3.2\"/>\n",
       "<circle clip-path=\"url(#clip522)\" cx=\"1841.75\" cy=\"90.1837\" r=\"14.4\" fill=\"#ffffff\" fill-rule=\"evenodd\" fill-opacity=\"1\" stroke=\"#000000\" stroke-opacity=\"1\" stroke-width=\"3.2\"/>\n",
       "<circle clip-path=\"url(#clip522)\" cx=\"1950.93\" cy=\"87.4318\" r=\"14.4\" fill=\"#ffffff\" fill-rule=\"evenodd\" fill-opacity=\"1\" stroke=\"#000000\" stroke-opacity=\"1\" stroke-width=\"3.2\"/>\n",
       "<circle clip-path=\"url(#clip522)\" cx=\"2062.54\" cy=\"86.1857\" r=\"14.4\" fill=\"#ffffff\" fill-rule=\"evenodd\" fill-opacity=\"1\" stroke=\"#000000\" stroke-opacity=\"1\" stroke-width=\"3.2\"/>\n",
       "<circle clip-path=\"url(#clip522)\" cx=\"2176.62\" cy=\"86.1857\" r=\"14.4\" fill=\"#ffffff\" fill-rule=\"evenodd\" fill-opacity=\"1\" stroke=\"#000000\" stroke-opacity=\"1\" stroke-width=\"3.2\"/>\n",
       "<circle clip-path=\"url(#clip522)\" cx=\"2293.23\" cy=\"86.1857\" r=\"14.4\" fill=\"#ffffff\" fill-rule=\"evenodd\" fill-opacity=\"1\" stroke=\"#000000\" stroke-opacity=\"1\" stroke-width=\"3.2\"/>\n",
       "<circle clip-path=\"url(#clip522)\" cx=\"309.067\" cy=\"86.1857\" r=\"14.4\" fill=\"#ffffff\" fill-rule=\"evenodd\" fill-opacity=\"1\" stroke=\"#ff0000\" stroke-opacity=\"1\" stroke-width=\"3.2\"/>\n",
       "<circle clip-path=\"url(#clip522)\" cx=\"384.289\" cy=\"86.1857\" r=\"14.4\" fill=\"#ffffff\" fill-rule=\"evenodd\" fill-opacity=\"1\" stroke=\"#ff0000\" stroke-opacity=\"1\" stroke-width=\"3.2\"/>\n",
       "<circle clip-path=\"url(#clip522)\" cx=\"461.179\" cy=\"86.2376\" r=\"14.4\" fill=\"#ffffff\" fill-rule=\"evenodd\" fill-opacity=\"1\" stroke=\"#ff0000\" stroke-opacity=\"1\" stroke-width=\"3.2\"/>\n",
       "<circle clip-path=\"url(#clip522)\" cx=\"539.772\" cy=\"86.3414\" r=\"14.4\" fill=\"#ffffff\" fill-rule=\"evenodd\" fill-opacity=\"1\" stroke=\"#ff0000\" stroke-opacity=\"1\" stroke-width=\"3.2\"/>\n",
       "<circle clip-path=\"url(#clip522)\" cx=\"620.108\" cy=\"87.1722\" r=\"14.4\" fill=\"#ffffff\" fill-rule=\"evenodd\" fill-opacity=\"1\" stroke=\"#ff0000\" stroke-opacity=\"1\" stroke-width=\"3.2\"/>\n",
       "<circle clip-path=\"url(#clip522)\" cx=\"702.223\" cy=\"90.1837\" r=\"14.4\" fill=\"#ffffff\" fill-rule=\"evenodd\" fill-opacity=\"1\" stroke=\"#ff0000\" stroke-opacity=\"1\" stroke-width=\"3.2\"/>\n",
       "<circle clip-path=\"url(#clip522)\" cx=\"786.158\" cy=\"101.087\" r=\"14.4\" fill=\"#ffffff\" fill-rule=\"evenodd\" fill-opacity=\"1\" stroke=\"#ff0000\" stroke-opacity=\"1\" stroke-width=\"3.2\"/>\n",
       "<circle clip-path=\"url(#clip522)\" cx=\"871.953\" cy=\"129.333\" r=\"14.4\" fill=\"#ffffff\" fill-rule=\"evenodd\" fill-opacity=\"1\" stroke=\"#ff0000\" stroke-opacity=\"1\" stroke-width=\"3.2\"/>\n",
       "<circle clip-path=\"url(#clip522)\" cx=\"959.65\" cy=\"187.382\" r=\"14.4\" fill=\"#ffffff\" fill-rule=\"evenodd\" fill-opacity=\"1\" stroke=\"#ff0000\" stroke-opacity=\"1\" stroke-width=\"3.2\"/>\n",
       "<circle clip-path=\"url(#clip522)\" cx=\"1049.29\" cy=\"308.308\" r=\"14.4\" fill=\"#ffffff\" fill-rule=\"evenodd\" fill-opacity=\"1\" stroke=\"#ff0000\" stroke-opacity=\"1\" stroke-width=\"3.2\"/>\n",
       "<circle clip-path=\"url(#clip522)\" cx=\"1140.92\" cy=\"473.317\" r=\"14.4\" fill=\"#ffffff\" fill-rule=\"evenodd\" fill-opacity=\"1\" stroke=\"#ff0000\" stroke-opacity=\"1\" stroke-width=\"3.2\"/>\n",
       "<circle clip-path=\"url(#clip522)\" cx=\"1234.57\" cy=\"692.636\" r=\"14.4\" fill=\"#ffffff\" fill-rule=\"evenodd\" fill-opacity=\"1\" stroke=\"#ff0000\" stroke-opacity=\"1\" stroke-width=\"3.2\"/>\n",
       "<circle clip-path=\"url(#clip522)\" cx=\"1330.31\" cy=\"908.164\" r=\"14.4\" fill=\"#ffffff\" fill-rule=\"evenodd\" fill-opacity=\"1\" stroke=\"#ff0000\" stroke-opacity=\"1\" stroke-width=\"3.2\"/>\n",
       "<circle clip-path=\"url(#clip522)\" cx=\"1428.16\" cy=\"1110.5\" r=\"14.4\" fill=\"#ffffff\" fill-rule=\"evenodd\" fill-opacity=\"1\" stroke=\"#ff0000\" stroke-opacity=\"1\" stroke-width=\"3.2\"/>\n",
       "<circle clip-path=\"url(#clip522)\" cx=\"1528.18\" cy=\"1246.23\" r=\"14.4\" fill=\"#ffffff\" fill-rule=\"evenodd\" fill-opacity=\"1\" stroke=\"#ff0000\" stroke-opacity=\"1\" stroke-width=\"3.2\"/>\n",
       "<circle clip-path=\"url(#clip522)\" cx=\"1630.42\" cy=\"1325.83\" r=\"14.4\" fill=\"#ffffff\" fill-rule=\"evenodd\" fill-opacity=\"1\" stroke=\"#ff0000\" stroke-opacity=\"1\" stroke-width=\"3.2\"/>\n",
       "<circle clip-path=\"url(#clip522)\" cx=\"1734.93\" cy=\"1366.01\" r=\"14.4\" fill=\"#ffffff\" fill-rule=\"evenodd\" fill-opacity=\"1\" stroke=\"#ff0000\" stroke-opacity=\"1\" stroke-width=\"3.2\"/>\n",
       "<circle clip-path=\"url(#clip522)\" cx=\"1841.75\" cy=\"1380.24\" r=\"14.4\" fill=\"#ffffff\" fill-rule=\"evenodd\" fill-opacity=\"1\" stroke=\"#ff0000\" stroke-opacity=\"1\" stroke-width=\"3.2\"/>\n",
       "<circle clip-path=\"url(#clip522)\" cx=\"1950.93\" cy=\"1382.99\" r=\"14.4\" fill=\"#ffffff\" fill-rule=\"evenodd\" fill-opacity=\"1\" stroke=\"#ff0000\" stroke-opacity=\"1\" stroke-width=\"3.2\"/>\n",
       "<circle clip-path=\"url(#clip522)\" cx=\"2062.54\" cy=\"1384.24\" r=\"14.4\" fill=\"#ffffff\" fill-rule=\"evenodd\" fill-opacity=\"1\" stroke=\"#ff0000\" stroke-opacity=\"1\" stroke-width=\"3.2\"/>\n",
       "<circle clip-path=\"url(#clip522)\" cx=\"2176.62\" cy=\"1384.24\" r=\"14.4\" fill=\"#ffffff\" fill-rule=\"evenodd\" fill-opacity=\"1\" stroke=\"#ff0000\" stroke-opacity=\"1\" stroke-width=\"3.2\"/>\n",
       "<circle clip-path=\"url(#clip522)\" cx=\"2293.23\" cy=\"1384.24\" r=\"14.4\" fill=\"#ffffff\" fill-rule=\"evenodd\" fill-opacity=\"1\" stroke=\"#ff0000\" stroke-opacity=\"1\" stroke-width=\"3.2\"/>\n",
       "<path clip-path=\"url(#clip520)\" d=\"M1915.22 248.629 L2282.65 248.629 L2282.65 93.1086 L1915.22 93.1086  Z\" fill=\"#ffffff\" fill-rule=\"evenodd\" fill-opacity=\"1\"/>\n",
       "<polyline clip-path=\"url(#clip520)\" style=\"stroke:#000000; stroke-linecap:round; stroke-linejoin:round; stroke-width:4; stroke-opacity:1; fill:none\" points=\"1915.22,248.629 2282.65,248.629 2282.65,93.1086 1915.22,93.1086 1915.22,248.629 \"/>\n",
       "<polyline clip-path=\"url(#clip520)\" style=\"stroke:#000080; stroke-linecap:round; stroke-linejoin:round; stroke-width:12; stroke-opacity:1; fill:none\" points=\"1938.59,144.949 2078.81,144.949 \"/>\n",
       "<path clip-path=\"url(#clip520)\" d=\"M2106.85 131.511 L2106.85 144.497 L2112.73 144.497 Q2115.99 144.497 2117.78 142.807 Q2119.56 141.118 2119.56 137.993 Q2119.56 134.891 2117.78 133.201 Q2115.99 131.511 2112.73 131.511 L2106.85 131.511 M2102.17 127.669 L2112.73 127.669 Q2118.54 127.669 2121.5 130.307 Q2124.49 132.923 2124.49 137.993 Q2124.49 143.108 2121.5 145.724 Q2118.54 148.34 2112.73 148.34 L2106.85 148.34 L2106.85 162.229 L2102.17 162.229 L2102.17 127.669 Z\" fill=\"#000000\" fill-rule=\"nonzero\" fill-opacity=\"1\" /><path clip-path=\"url(#clip520)\" d=\"M2140.81 126.257 Q2137.71 131.581 2136.2 136.789 Q2134.7 141.997 2134.7 147.344 Q2134.7 152.692 2136.2 157.946 Q2137.73 163.178 2140.81 168.479 L2137.1 168.479 Q2133.63 163.039 2131.9 157.784 Q2130.18 152.53 2130.18 147.344 Q2130.18 142.182 2131.9 136.951 Q2133.61 131.72 2137.1 126.257 L2140.81 126.257 Z\" fill=\"#000000\" fill-rule=\"nonzero\" fill-opacity=\"1\" /><path clip-path=\"url(#clip520)\" d=\"M2147.59 127.669 L2152.61 127.669 L2161.2 140.516 L2169.84 127.669 L2174.86 127.669 L2163.75 144.266 L2175.6 162.229 L2170.58 162.229 L2160.85 147.53 L2151.06 162.229 L2146.02 162.229 L2158.35 143.78 L2147.59 127.669 Z\" fill=\"#000000\" fill-rule=\"nonzero\" fill-opacity=\"1\" /><path clip-path=\"url(#clip520)\" d=\"M2211.78 138.71 L2189.56 145.122 L2211.78 151.465 L2211.78 155.585 L2182.1 147.067 L2182.1 143.131 L2211.78 134.636 L2211.78 138.71 M2182.1 158.293 L2211.78 158.293 L2211.78 162.229 L2182.1 162.229 L2182.1 158.293 Z\" fill=\"#000000\" fill-rule=\"nonzero\" fill-opacity=\"1\" /><path clip-path=\"url(#clip520)\" d=\"M2242.82 136.303 L2233.45 148.919 L2243.31 162.229 L2238.28 162.229 L2230.74 152.043 L2223.19 162.229 L2218.17 162.229 L2228.24 148.664 L2219.03 136.303 L2224.05 136.303 L2230.92 145.539 L2237.8 136.303 L2242.82 136.303 Z\" fill=\"#000000\" fill-rule=\"nonzero\" fill-opacity=\"1\" /><path clip-path=\"url(#clip520)\" d=\"M2248.65 126.257 L2252.36 126.257 Q2255.83 131.72 2257.54 136.951 Q2259.28 142.182 2259.28 147.344 Q2259.28 152.53 2257.54 157.784 Q2255.83 163.039 2252.36 168.479 L2248.65 168.479 Q2251.73 163.178 2253.24 157.946 Q2254.77 152.692 2254.77 147.344 Q2254.77 141.997 2253.24 136.789 Q2251.73 131.581 2248.65 126.257 Z\" fill=\"#000000\" fill-rule=\"nonzero\" fill-opacity=\"1\" /><polyline clip-path=\"url(#clip520)\" style=\"stroke:#ff0000; stroke-linecap:round; stroke-linejoin:round; stroke-width:12; stroke-opacity:1; fill:none\" points=\"1938.59,196.789 2078.81,196.789 \"/>\n",
       "<path clip-path=\"url(#clip520)\" d=\"M2106.85 183.351 L2106.85 196.337 L2112.73 196.337 Q2115.99 196.337 2117.78 194.647 Q2119.56 192.958 2119.56 189.833 Q2119.56 186.731 2117.78 185.041 Q2115.99 183.351 2112.73 183.351 L2106.85 183.351 M2102.17 179.509 L2112.73 179.509 Q2118.54 179.509 2121.5 182.147 Q2124.49 184.763 2124.49 189.833 Q2124.49 194.948 2121.5 197.564 Q2118.54 200.18 2112.73 200.18 L2106.85 200.18 L2106.85 214.069 L2102.17 214.069 L2102.17 179.509 Z\" fill=\"#000000\" fill-rule=\"nonzero\" fill-opacity=\"1\" /><path clip-path=\"url(#clip520)\" d=\"M2140.81 178.097 Q2137.71 183.421 2136.2 188.629 Q2134.7 193.837 2134.7 199.184 Q2134.7 204.532 2136.2 209.786 Q2137.73 215.018 2140.81 220.319 L2137.1 220.319 Q2133.63 214.879 2131.9 209.624 Q2130.18 204.37 2130.18 199.184 Q2130.18 194.022 2131.9 188.791 Q2133.61 183.56 2137.1 178.097 L2140.81 178.097 Z\" fill=\"#000000\" fill-rule=\"nonzero\" fill-opacity=\"1\" /><path clip-path=\"url(#clip520)\" d=\"M2147.59 179.509 L2152.61 179.509 L2161.2 192.356 L2169.84 179.509 L2174.86 179.509 L2163.75 196.106 L2175.6 214.069 L2170.58 214.069 L2160.85 199.37 L2151.06 214.069 L2146.02 214.069 L2158.35 195.62 L2147.59 179.509 Z\" fill=\"#000000\" fill-rule=\"nonzero\" fill-opacity=\"1\" /><path clip-path=\"url(#clip520)\" d=\"M2182.1 190.735 L2182.1 186.522 L2211.78 197.286 L2211.78 201.129 L2182.1 211.893 L2182.1 207.68 L2205.95 199.231 L2182.1 190.735 Z\" fill=\"#000000\" fill-rule=\"nonzero\" fill-opacity=\"1\" /><path clip-path=\"url(#clip520)\" d=\"M2242.82 188.143 L2233.45 200.759 L2243.31 214.069 L2238.28 214.069 L2230.74 203.883 L2223.19 214.069 L2218.17 214.069 L2228.24 200.504 L2219.03 188.143 L2224.05 188.143 L2230.92 197.379 L2237.8 188.143 L2242.82 188.143 Z\" fill=\"#000000\" fill-rule=\"nonzero\" fill-opacity=\"1\" /><path clip-path=\"url(#clip520)\" d=\"M2248.65 178.097 L2252.36 178.097 Q2255.83 183.56 2257.54 188.791 Q2259.28 194.022 2259.28 199.184 Q2259.28 204.37 2257.54 209.624 Q2255.83 214.879 2252.36 220.319 L2248.65 220.319 Q2251.73 215.018 2253.24 209.786 Q2254.77 204.532 2254.77 199.184 Q2254.77 193.837 2253.24 188.629 Q2251.73 183.421 2248.65 178.097 Z\" fill=\"#000000\" fill-rule=\"nonzero\" fill-opacity=\"1\" /></svg>\n"
      ]
     },
     "execution_count": 47,
     "metadata": {},
     "output_type": "execute_result"
    }
   ],
   "source": [
    "let\n",
    "    plot(reverse(cumulative_distribution_array[:,1]), reverse(cumulative_distribution_array[:,2]), \n",
    "        lw=3, c=:navyblue, label=\"P(X≤x)\", xlabel=\"Fractional Return\", ylabel = \"Probability\")\n",
    "    plot!(reverse(cumulative_distribution_array[:,1]), 1 .- reverse(cumulative_distribution_array[:,2]), \n",
    "        lw=3, c=:red, label=\"P(X>x)\", xlabel=\"Fractional Return\", ylabel = \"Probability\")\n",
    "    scatter!(reverse(cumulative_distribution_array[:,1]), reverse(cumulative_distribution_array[:,2]),\n",
    "        lw=3, c=:white, mscc=:navyblue, label=\"\")\n",
    "    scatter!(reverse(cumulative_distribution_array[:,1]), 1 .- reverse(cumulative_distribution_array[:,2]),\n",
    "        lw=3, c=:white, msc=:red, label=\"\")\n",
    "end"
   ]
  },
  {
   "cell_type": "markdown",
   "id": "648d3e21-4d12-4ea7-a209-c86f86dc056a",
   "metadata": {},
   "source": [
    "### Compute the probability of a particular return\n",
    "Specify a fractional return value in the `desired_return_value` variable and compute the probability of the desired return by looking up the values in the `cumulative_distribution_array`; this gives an estimate for $P(X \\leq{x})$ \n",
    "* For example, let's suppose we wanted the probability that we would break even, i.e., we have a `desired_return_value = 0`"
   ]
  },
  {
   "cell_type": "code",
   "execution_count": 49,
   "id": "2b5bc3a7-a253-4ef7-8154-7ecb53a3bff9",
   "metadata": {},
   "outputs": [
    {
     "name": "stdout",
     "output_type": "stream",
     "text": [
      "The P(X ≤ 0.0) for MSFT equals: 0.29824\n"
     ]
    }
   ],
   "source": [
    "desired_return_value = 0.0; # default: 0.0, i.e., break even\n",
    "i = findfirst(x-> x ≤ desired_return_value, cumulative_distribution_array[:,1]); # check the first column of the array, which holds the return values\n",
    "p = cumulative_distribution_array[i,2];\n",
    "println(\"The P(X ≤ $(desired_return_value)) for $(my_ticker_interest) equals: $(p)\")"
   ]
  },
  {
   "cell_type": "markdown",
   "id": "2e812b26-483a-41cb-b4cc-d09330253106",
   "metadata": {},
   "source": [
    "#### Discussion questions\n",
    "1. How do values of $p$ influence the probability that the trade will break even in `t` days?\n",
    "2. If we extend the trade duration, i.e., to `t = 42` or `t = 63` days, do we improve the break-even probability?"
   ]
  },
  {
   "cell_type": "markdown",
   "id": "e1668469-c47d-44a1-9972-e398ae6a2224",
   "metadata": {},
   "source": [
    "## Final: Save data to disk\n",
    "We did a bunch of stuff in this example, and we don't want to have to recompute the lattice parameters, probability distributions, etc. So let's save it [in an HDF5 encoded binary file](https://en.wikipedia.org/wiki/Hierarchical_Data_Format). To start, specify a path:"
   ]
  },
  {
   "cell_type": "code",
   "execution_count": 52,
   "id": "ad766c22-6bd7-4c17-b049-21346be91a00",
   "metadata": {},
   "outputs": [],
   "source": [
    "path_to_save_file = joinpath(_PATH_TO_DATA, \"L5a-RealWorldRiskNeutral-SavedData.jld2\"); # JLD2 package encodes data"
   ]
  },
  {
   "cell_type": "markdown",
   "id": "74394959-b20a-4993-9f15-38b4b070f3f5",
   "metadata": {},
   "source": [
    "We'll write data to disk as a `jld2` (binary) saved file using [the `save(...)` method exported by the FileIO.jl package](https://github.com/JuliaIO/FileIO.jl). This will save the data as a [Julia `Dict` type](https://docs.julialang.org/en/v1/base/collections/#Base.Dict). The save file is [an HDF5 encoded file format](https://en.wikipedia.org/wiki/Hierarchical_Data_Format), which is small (compressed), which is excellent! "
   ]
  },
  {
   "cell_type": "code",
   "execution_count": 54,
   "id": "555afbc0-edb1-4321-9ef1-bdba3cd00357",
   "metadata": {},
   "outputs": [
    {
     "ename": "LoadError",
     "evalue": "UndefVarError: `number_of_records` not defined",
     "output_type": "error",
     "traceback": [
      "UndefVarError: `number_of_records` not defined",
      "",
      "Stacktrace:",
      " [1] top-level scope",
      "   @ In[54]:1"
     ]
    }
   ],
   "source": [
    "save(path_to_save_file, Dict(\"real_world_parameters\" => real_world_parameters, \"risk_neutral_parameters\" => risk_neutral_parameters,\n",
    "        \"number_of_records\" => number_of_records));"
   ]
  },
  {
   "cell_type": "markdown",
   "id": "a762ede1-4580-4481-bc4c-36b8a7b9a4ab",
   "metadata": {},
   "source": [
    "## Disclaimer and Risks\n",
    "__This content is offered solely for training and informational purposes__. No offer or solicitation to buy or sell securities or derivative products or any investment or trading advice or strategy is made, given, or endorsed by the teaching team. \n",
    "\n",
    "__Trading involves risk__. Carefully review your financial situation before investing in securities, futures contracts, options, or commodity interests. Past performance, whether actual or indicated by historical tests of strategies, is no guarantee of future performance or success. Trading is generally inappropriate for someone with limited resources, investment or trading experience, or a low-risk tolerance.  Only risk capital that is not required for living expenses.\n",
    "\n",
    "__You are fully responsible for any investment or trading decisions you make__. Such decisions should be based solely on evaluating your financial circumstances, investment or trading objectives, risk tolerance, and liquidity needs."
   ]
  },
  {
   "cell_type": "code",
   "execution_count": null,
   "id": "ab3febe6-22c3-4073-8364-6989343e7a03",
   "metadata": {},
   "outputs": [],
   "source": []
  }
 ],
 "metadata": {
  "kernelspec": {
   "display_name": "Julia 1.10.5",
   "language": "julia",
   "name": "julia-1.10"
  },
  "language_info": {
   "file_extension": ".jl",
   "mimetype": "application/julia",
   "name": "julia",
   "version": "1.10.5"
  }
 },
 "nbformat": 4,
 "nbformat_minor": 5
}
