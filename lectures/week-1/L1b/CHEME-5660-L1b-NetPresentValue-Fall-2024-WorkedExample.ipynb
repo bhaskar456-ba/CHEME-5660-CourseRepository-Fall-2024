{
 "cells": [
  {
   "cell_type": "markdown",
   "id": "66258683-cfa8-4a0d-9087-13e118c23240",
   "metadata": {},
   "source": [
    "# Example: Net Present Value for a Tesla Model S\n",
    "Fill me in"
   ]
  },
  {
   "cell_type": "markdown",
   "id": "132f2754-8f99-431b-b2fd-27d801ce6b41",
   "metadata": {},
   "source": [
    "## Setup\n",
    "Set up the computational environment using the `Include.jl` file. The `Include.jl` file loads external packages, various functions we will use in the exercise, and custom types to model the components of our example problem.\n",
    "* For additional information on functions and types used in this material, see the [Julia programming language documentation](https://docs.julialang.org/en/v1/) and the [VLQuantitativeFinancePackage.jl documentation](https://github.com/varnerlab/VLQuantitativeFinancePackage.jl). "
   ]
  },
  {
   "cell_type": "code",
   "execution_count": 3,
   "id": "f7283455-7b61-4e90-85cb-828cdd1c2fba",
   "metadata": {},
   "outputs": [
    {
     "name": "stderr",
     "output_type": "stream",
     "text": [
      "\u001b[32m\u001b[1m    Updating\u001b[22m\u001b[39m git-repo `https://github.com/varnerlab/VLQuantitativeFinancePackage.jl.git`\n",
      "\u001b[32m\u001b[1m   Resolving\u001b[22m\u001b[39m package versions...\n",
      "\u001b[32m\u001b[1m  No Changes\u001b[22m\u001b[39m to `~/Desktop/julia_work/CHEME-5660-CourseRepository-Fall-2024/lectures/week-1/L1b/Project.toml`\n",
      "\u001b[32m\u001b[1m  No Changes\u001b[22m\u001b[39m to `~/Desktop/julia_work/CHEME-5660-CourseRepository-Fall-2024/lectures/week-1/L1b/Manifest.toml`\n",
      "\u001b[32m\u001b[1m  Activating\u001b[22m\u001b[39m project at `~/Desktop/julia_work/CHEME-5660-CourseRepository-Fall-2024/lectures/week-1/L1b`\n",
      "\u001b[32m\u001b[1m  No Changes\u001b[22m\u001b[39m to `~/Desktop/julia_work/CHEME-5660-CourseRepository-Fall-2024/lectures/week-1/L1b/Project.toml`\n",
      "\u001b[32m\u001b[1m  No Changes\u001b[22m\u001b[39m to `~/Desktop/julia_work/CHEME-5660-CourseRepository-Fall-2024/lectures/week-1/L1b/Manifest.toml`\n",
      "\u001b[32m\u001b[1m    Updating\u001b[22m\u001b[39m registry at `~/.julia/registries/General.toml`\n",
      "\u001b[32m\u001b[1m    Updating\u001b[22m\u001b[39m git-repo `https://github.com/varnerlab/VLQuantitativeFinancePackage.jl.git`\n",
      "\u001b[32m\u001b[1m  No Changes\u001b[22m\u001b[39m to `~/Desktop/julia_work/CHEME-5660-CourseRepository-Fall-2024/lectures/week-1/L1b/Project.toml`\n",
      "\u001b[32m\u001b[1m  No Changes\u001b[22m\u001b[39m to `~/Desktop/julia_work/CHEME-5660-CourseRepository-Fall-2024/lectures/week-1/L1b/Manifest.toml`\n"
     ]
    }
   ],
   "source": [
    "include(\"Include.jl\")"
   ]
  },
  {
   "cell_type": "markdown",
   "id": "d9bb4c9e-553c-433d-b62f-da99bd868ba1",
   "metadata": {},
   "source": [
    "##  Prerequisite: Setup problem components and constants\n",
    "Fill me in"
   ]
  },
  {
   "cell_type": "code",
   "execution_count": 5,
   "id": "d927ad21-46c2-43be-b7ac-567325e72ce9",
   "metadata": {},
   "outputs": [],
   "source": [
    "discount_model = DiscreteCompoundingModel();"
   ]
  },
  {
   "cell_type": "markdown",
   "id": "827a3135-7eef-4822-9f32-c96e01a2826d",
   "metadata": {},
   "source": [
    "Fill me in"
   ]
  },
  {
   "cell_type": "code",
   "execution_count": 7,
   "id": "87cc1578-71c0-44dd-ac4b-0d0ff708c444",
   "metadata": {},
   "outputs": [],
   "source": [
    "T = 2.0;  # number of years\n",
    "λ = 2.0 |> Int;  # number of observations per year\n",
    "r̄ = 0.04; # discount rate per year\n",
    "depreciation = 0.03; # price decline per period\n",
    "N = λ*T |> Int;  # total number of observations "
   ]
  },
  {
   "cell_type": "markdown",
   "id": "8ebc2400-72b3-45d7-b597-8e9ff999c5a1",
   "metadata": {},
   "source": [
    "## Task 1: Setup the Cash Flow Dictionary\n",
    "Fill me in"
   ]
  },
  {
   "cell_type": "code",
   "execution_count": 9,
   "id": "677c9a3a-5a47-48d4-aae1-d2f1d627cecf",
   "metadata": {},
   "outputs": [],
   "source": [
    "insurance_costs = 1808.0;\n",
    "other_costs = 50.0;\n",
    "satisfaction = 0.0;\n",
    "purchase_price = 50000.0;\n",
    "sale_price = (1 - N*depreciation)*purchase_price;"
   ]
  },
  {
   "cell_type": "markdown",
   "id": "a69e3d19-3463-4927-8299-b118c56415be",
   "metadata": {},
   "source": [
    "Fill me in"
   ]
  },
  {
   "cell_type": "code",
   "execution_count": 11,
   "id": "13af979e-f67c-4f5f-9058-f2189677fcc4",
   "metadata": {},
   "outputs": [
    {
     "data": {
      "text/plain": [
       "Dict{Int64, Float64} with 5 entries:\n",
       "  0 => -50000.0\n",
       "  4 => 52142.0\n",
       "  2 => 8142.0\n",
       "  3 => 8142.0\n",
       "  1 => 8142.0"
      ]
     },
     "execution_count": 11,
     "metadata": {},
     "output_type": "execute_result"
    }
   ],
   "source": [
    "cash_flow_event_dictionary = Dict{Int64,Float64}();\n",
    "for i ∈ 0:N\n",
    "    if (i == 0)\n",
    "       cash_flow_event_dictionary[i] = -1*purchase_price;\n",
    "    elseif (i == N)\n",
    "        cash_flow_event_dictionary[i] = sale_price + satisfaction - (insurance_costs+other_costs)\n",
    "    else\n",
    "       cash_flow_event_dictionary[i] = satisfaction -(insurance_costs+other_costs);\n",
    "    end\n",
    "end\n",
    "cash_flow_event_dictionary"
   ]
  },
  {
   "cell_type": "markdown",
   "id": "dec4b8ec-2dca-407c-8adb-3c64f8ba8049",
   "metadata": {},
   "source": [
    "## Task 2: Compute the Discount Factor Dictionary\n",
    "Fill me in"
   ]
  },
  {
   "cell_type": "code",
   "execution_count": 13,
   "id": "e068d653-ee7f-4330-9869-55a7d587e3be",
   "metadata": {},
   "outputs": [
    {
     "data": {
      "text/plain": [
       "Dict{Int64, Float64} with 5 entries:\n",
       "  0 => 1.0\n",
       "  4 => 1.08243\n",
       "  2 => 1.0404\n",
       "  3 => 1.06121\n",
       "  1 => 1.02"
      ]
     },
     "execution_count": 13,
     "metadata": {},
     "output_type": "execute_result"
    }
   ],
   "source": [
    "discount_dictionary = discount(discount_model, r̄, N, λ = λ)"
   ]
  },
  {
   "cell_type": "markdown",
   "id": "ddf21815-4221-4e32-b96b-c504448af78d",
   "metadata": {},
   "source": [
    "### Check: Fractional return?\n",
    "Fill me in"
   ]
  },
  {
   "cell_type": "markdown",
   "id": "89d50698-2f49-42f2-abc7-9c7d2b8856d4",
   "metadata": {},
   "source": [
    "## Task 3: Compute the Net Present Value (NPV)\n",
    "Fill me in"
   ]
  },
  {
   "cell_type": "code",
   "execution_count": 16,
   "id": "b7255c60-26fb-4ed0-a540-1f8a3542fb6e",
   "metadata": {},
   "outputs": [],
   "source": [
    "𝒟 = Array{Float64,1}(undef, N+1);\n",
    "for i in 1:(N+1)\n",
    "    j = i - 1;\n",
    "    𝒟[i] = 1/discount_dictionary[j]\n",
    "end\n",
    "𝒟;"
   ]
  },
  {
   "cell_type": "markdown",
   "id": "9224398e-5f5f-40dd-9c7d-6d2dfd405599",
   "metadata": {},
   "source": [
    "Fill me in"
   ]
  },
  {
   "cell_type": "code",
   "execution_count": 18,
   "id": "6890d0b4-60ba-41ac-9e3d-cb3487299128",
   "metadata": {},
   "outputs": [
    {
     "data": {
      "text/plain": [
       "5-element Vector{Float64}:\n",
       " -50000.0\n",
       "   8142.0\n",
       "   8142.0\n",
       "   8142.0\n",
       "  52142.0"
      ]
     },
     "execution_count": 18,
     "metadata": {},
     "output_type": "execute_result"
    }
   ],
   "source": [
    "c̄ = Array{Float64,1}(undef, N+1);\n",
    "for i in 1:(N+1)\n",
    "    j = i - 1;\n",
    "    c̄[i] = cash_flow_event_dictionary[j]\n",
    "end\n",
    "c̄"
   ]
  },
  {
   "cell_type": "markdown",
   "id": "824e53cb-12f2-4b5b-b211-f6f62fc36212",
   "metadata": {},
   "source": [
    "Fill me in"
   ]
  },
  {
   "cell_type": "code",
   "execution_count": 20,
   "id": "ead1ed92-0207-4be2-b3e2-4d27f5a31cb2",
   "metadata": {},
   "outputs": [
    {
     "data": {
      "text/plain": [
       "21651.72580977269"
      ]
     },
     "execution_count": 20,
     "metadata": {},
     "output_type": "execute_result"
    }
   ],
   "source": [
    "NPV = dot(𝒟, c̄)"
   ]
  },
  {
   "cell_type": "markdown",
   "id": "d7f51c02-59a6-4196-9e6e-33aa8b157f25",
   "metadata": {},
   "source": [
    "## Disclaimer and Risks\n",
    "__This content is offered solely for training and informational purposes__. No offer or solicitation to buy or sell securities or derivative products or any investment or trading advice or strategy is made, given, or endorsed by the teaching team. \n",
    "\n",
    "__Trading involves risk__. Carefully review your financial situation before investing in securities, futures contracts, options, or commodity interests. Past performance, whether actual or indicated by historical tests of strategies, is no guarantee of future performance or success. Trading is generally inappropriate for someone with limited resources, investment or trading experience, or a low-risk tolerance.  Only risk capital that is not required for living expenses.\n",
    "\n",
    "__You are fully responsible for any investment or trading decisions you make__. Such decisions should be based solely on evaluating your financial circumstances, investment or trading objectives, risk tolerance, and liquidity needs."
   ]
  }
 ],
 "metadata": {
  "kernelspec": {
   "display_name": "Julia 1.10.4",
   "language": "julia",
   "name": "julia-1.10"
  },
  "language_info": {
   "file_extension": ".jl",
   "mimetype": "application/julia",
   "name": "julia",
   "version": "1.10.4"
  }
 },
 "nbformat": 4,
 "nbformat_minor": 5
}
